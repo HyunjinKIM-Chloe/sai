{
 "cells": [
  {
   "cell_type": "code",
   "execution_count": 1,
   "id": "221c469f",
   "metadata": {},
   "outputs": [
    {
     "data": {
      "text/html": [
       "        <script type=\"text/javascript\">\n",
       "        window.PlotlyConfig = {MathJaxConfig: 'local'};\n",
       "        if (window.MathJax) {MathJax.Hub.Config({SVG: {font: \"STIX-Web\"}});}\n",
       "        if (typeof require !== 'undefined') {\n",
       "        require.undef(\"plotly\");\n",
       "        requirejs.config({\n",
       "            paths: {\n",
       "                'plotly': ['https://cdn.plot.ly/plotly-latest.min']\n",
       "            }\n",
       "        });\n",
       "        require(['plotly'], function(Plotly) {\n",
       "            window._Plotly = Plotly;\n",
       "        });\n",
       "        }\n",
       "        </script>\n",
       "        "
      ]
     },
     "metadata": {},
     "output_type": "display_data"
    }
   ],
   "source": [
    "import pandas as pd\n",
    "import numpy as np\n",
    "import librosa\n",
    "import cv2\n",
    "import os\n",
    "import glob\n",
    "import seaborn as sns\n",
    "from tqdm import tqdm\n",
    "import IPython.display\n",
    "import matplotlib.pyplot as plt\n",
    "import plotly.express as px\n",
    "from plotly.offline import plot, iplot, init_notebook_mode\n",
    "import plotly.io as pio\n",
    "init_notebook_mode(connected=True)\n",
    "pio.renderers.default = \"notebook_connected\"\n",
    "import warnings\n",
    "warnings.simplefilter(\"ignore\")\n",
    "\n",
    "import cosine_similarity as cs\n",
    "import freq_dataset as fd\n",
    "cos = cs.CosineSimilarity()\n",
    "freq = fd.MakeFreqDataset()\n",
    "\n",
    "s_path = \"../../sounds/\""
   ]
  },
  {
   "cell_type": "code",
   "execution_count": 2,
   "id": "54df33fc",
   "metadata": {},
   "outputs": [],
   "source": [
    "# 한글 폰트 설정\n",
    "import platform\n",
    "from matplotlib import font_manager, rc\n",
    "import matplotlib.pyplot as plt\n",
    "\n",
    "# 한글 사용시 마이너스 폰트가 깨지는 문제가 발생할 수 있으므로 설정 변경\n",
    "plt.rcParams['axes.unicode_minus'] = False\n",
    "\n",
    "if platform.system() == 'Windows':\n",
    "    path = \"c:/Windows/Fonts/malgun.ttf\"\n",
    "    font_name = font_manager.FontProperties(fname=path).get_name()\n",
    "    rc('font', family=font_name)\n",
    "elif platform.system() == 'Darwin':\n",
    "    rc('font', family='AppleGothic')\n",
    "elif platform.system() == 'Linux':\n",
    "    rc('font', family='NanumBarunGothic')\n",
    "else:\n",
    "    print('Unknown system... sorry~')"
   ]
  },
  {
   "cell_type": "code",
   "execution_count": 3,
   "id": "9d236d95",
   "metadata": {},
   "outputs": [
    {
     "data": {
      "text/html": [
       "<div>\n",
       "<style scoped>\n",
       "    .dataframe tbody tr th:only-of-type {\n",
       "        vertical-align: middle;\n",
       "    }\n",
       "\n",
       "    .dataframe tbody tr th {\n",
       "        vertical-align: top;\n",
       "    }\n",
       "\n",
       "    .dataframe thead th {\n",
       "        text-align: right;\n",
       "    }\n",
       "</style>\n",
       "<table border=\"1\" class=\"dataframe\">\n",
       "  <thead>\n",
       "    <tr style=\"text-align: right;\">\n",
       "      <th></th>\n",
       "      <th>path</th>\n",
       "      <th>label</th>\n",
       "      <th>name</th>\n",
       "    </tr>\n",
       "  </thead>\n",
       "  <tbody>\n",
       "    <tr>\n",
       "      <th>0</th>\n",
       "      <td>../sounds/human_voice/read_men/bM32LJFpAus.021...</td>\n",
       "      <td>human_voice</td>\n",
       "      <td>bM32LJFpAus.0215</td>\n",
       "    </tr>\n",
       "    <tr>\n",
       "      <th>1</th>\n",
       "      <td>../sounds/human_voice/read_women/3_2197.wav</td>\n",
       "      <td>human_voice</td>\n",
       "      <td>3_2197</td>\n",
       "    </tr>\n",
       "    <tr>\n",
       "      <th>2</th>\n",
       "      <td>../sounds/human_voice/original_noise/n_130.mp3</td>\n",
       "      <td>human_voice</td>\n",
       "      <td>n_130</td>\n",
       "    </tr>\n",
       "    <tr>\n",
       "      <th>3</th>\n",
       "      <td>../sounds/human_voice/read_women/3_3970.wav</td>\n",
       "      <td>human_voice</td>\n",
       "      <td>3_3970</td>\n",
       "    </tr>\n",
       "    <tr>\n",
       "      <th>4</th>\n",
       "      <td>../sounds/human_voice/영어리딩/Voix 061.wav</td>\n",
       "      <td>human_voice</td>\n",
       "      <td>Voix 061</td>\n",
       "    </tr>\n",
       "    <tr>\n",
       "      <th>...</th>\n",
       "      <td>...</td>\n",
       "      <td>...</td>\n",
       "      <td>...</td>\n",
       "    </tr>\n",
       "    <tr>\n",
       "      <th>22482</th>\n",
       "      <td>../sounds/animal/말 소리/horse2.wav</td>\n",
       "      <td>animal</td>\n",
       "      <td>horse2</td>\n",
       "    </tr>\n",
       "    <tr>\n",
       "      <th>22483</th>\n",
       "      <td>../sounds/nature/물 소리/2-132157-B-11.wav</td>\n",
       "      <td>nature</td>\n",
       "      <td>2-132157-B-11</td>\n",
       "    </tr>\n",
       "    <tr>\n",
       "      <th>22484</th>\n",
       "      <td>../sounds/nature/천둥 소리/4-125071-A-19.wav</td>\n",
       "      <td>nature</td>\n",
       "      <td>4-125071-A-19</td>\n",
       "    </tr>\n",
       "    <tr>\n",
       "      <th>22485</th>\n",
       "      <td>../sounds/human_voice/read_women/3_0666.wav</td>\n",
       "      <td>human_voice</td>\n",
       "      <td>3_0666</td>\n",
       "    </tr>\n",
       "    <tr>\n",
       "      <th>22486</th>\n",
       "      <td>../sounds/human_voice/read_women/3_3934.wav</td>\n",
       "      <td>human_voice</td>\n",
       "      <td>3_3934</td>\n",
       "    </tr>\n",
       "  </tbody>\n",
       "</table>\n",
       "<p>22487 rows × 3 columns</p>\n",
       "</div>"
      ],
      "text/plain": [
       "                                                    path        label  \\\n",
       "0      ../sounds/human_voice/read_men/bM32LJFpAus.021...  human_voice   \n",
       "1            ../sounds/human_voice/read_women/3_2197.wav  human_voice   \n",
       "2         ../sounds/human_voice/original_noise/n_130.mp3  human_voice   \n",
       "3            ../sounds/human_voice/read_women/3_3970.wav  human_voice   \n",
       "4                ../sounds/human_voice/영어리딩/Voix 061.wav  human_voice   \n",
       "...                                                  ...          ...   \n",
       "22482                   ../sounds/animal/말 소리/horse2.wav       animal   \n",
       "22483            ../sounds/nature/물 소리/2-132157-B-11.wav       nature   \n",
       "22484           ../sounds/nature/천둥 소리/4-125071-A-19.wav       nature   \n",
       "22485        ../sounds/human_voice/read_women/3_0666.wav  human_voice   \n",
       "22486        ../sounds/human_voice/read_women/3_3934.wav  human_voice   \n",
       "\n",
       "                   name  \n",
       "0      bM32LJFpAus.0215  \n",
       "1                3_2197  \n",
       "2                 n_130  \n",
       "3                3_3970  \n",
       "4              Voix 061  \n",
       "...                 ...  \n",
       "22482            horse2  \n",
       "22483     2-132157-B-11  \n",
       "22484     4-125071-A-19  \n",
       "22485            3_0666  \n",
       "22486            3_3934  \n",
       "\n",
       "[22487 rows x 3 columns]"
      ]
     },
     "execution_count": 3,
     "metadata": {},
     "output_type": "execute_result"
    }
   ],
   "source": [
    "o_path = list(set(glob.glob(f'{s_path}*/*/*')))\n",
    "path_ls = [file[3:] for file in o_path if file.endswith(\".mp3\") or file.endswith(\".wav\")]\n",
    "name_ls = [name.split('/')[-1][:-4] for name in path_ls]\n",
    "label_ls = [name.split('/')[-3] for name in path_ls]\n",
    "info_df = pd.DataFrame()\n",
    "info_df['path'] = path_ls\n",
    "info_df['label'] = label_ls\n",
    "info_df['name'] = name_ls\n",
    "info_df"
   ]
  },
  {
   "cell_type": "code",
   "execution_count": 90,
   "id": "2e98016e",
   "metadata": {},
   "outputs": [
    {
     "data": {
      "text/plain": [
       "Int64Index([5707], dtype='int64')"
      ]
     },
     "execution_count": 90,
     "metadata": {},
     "output_type": "execute_result"
    }
   ],
   "source": [
    "o_df[o_df['name']=='2-76868-A-6'].index"
   ]
  },
  {
   "cell_type": "code",
   "execution_count": 94,
   "id": "65fda67e",
   "metadata": {},
   "outputs": [
    {
     "data": {
      "text/html": [
       "<div>\n",
       "<style scoped>\n",
       "    .dataframe tbody tr th:only-of-type {\n",
       "        vertical-align: middle;\n",
       "    }\n",
       "\n",
       "    .dataframe tbody tr th {\n",
       "        vertical-align: top;\n",
       "    }\n",
       "\n",
       "    .dataframe thead th {\n",
       "        text-align: right;\n",
       "    }\n",
       "</style>\n",
       "<table border=\"1\" class=\"dataframe\">\n",
       "  <thead>\n",
       "    <tr style=\"text-align: right;\">\n",
       "      <th></th>\n",
       "      <th>name</th>\n",
       "      <th>path</th>\n",
       "      <th>duration</th>\n",
       "      <th>chroma_stft_mean</th>\n",
       "      <th>chroma_stft_var</th>\n",
       "      <th>rms_mean</th>\n",
       "      <th>rms_var</th>\n",
       "      <th>spectral_centroid_mean</th>\n",
       "      <th>spectral_centroid_var</th>\n",
       "      <th>spectral_bandwidth_mean</th>\n",
       "      <th>...</th>\n",
       "      <th>mfcc17_mean</th>\n",
       "      <th>mfcc17_var</th>\n",
       "      <th>mfcc18_mean</th>\n",
       "      <th>mfcc18_var</th>\n",
       "      <th>mfcc19_mean</th>\n",
       "      <th>mfcc19_var</th>\n",
       "      <th>mfcc20_mean</th>\n",
       "      <th>mfcc20_var</th>\n",
       "      <th>cate1</th>\n",
       "      <th>cate2</th>\n",
       "    </tr>\n",
       "  </thead>\n",
       "  <tbody>\n",
       "    <tr>\n",
       "      <th>1</th>\n",
       "      <td>dr0shorse</td>\n",
       "      <td>../../sounds/animal/말 소리/dr0shorse.wav</td>\n",
       "      <td>1.353651</td>\n",
       "      <td>0.374280</td>\n",
       "      <td>0.095735</td>\n",
       "      <td>0.181595</td>\n",
       "      <td>0.006819</td>\n",
       "      <td>1492.603731</td>\n",
       "      <td>8.567513e+04</td>\n",
       "      <td>955.614463</td>\n",
       "      <td>...</td>\n",
       "      <td>12.378535</td>\n",
       "      <td>56.651711</td>\n",
       "      <td>-10.243791</td>\n",
       "      <td>28.035650</td>\n",
       "      <td>-3.035161</td>\n",
       "      <td>78.115898</td>\n",
       "      <td>1.781476</td>\n",
       "      <td>150.969696</td>\n",
       "      <td>animal</td>\n",
       "      <td>말</td>\n",
       "    </tr>\n",
       "    <tr>\n",
       "      <th>8</th>\n",
       "      <td>5-197446-A-7</td>\n",
       "      <td>../../sounds/animal/벌 소리/5-197446-A-7.wav</td>\n",
       "      <td>5.000000</td>\n",
       "      <td>0.459533</td>\n",
       "      <td>0.076533</td>\n",
       "      <td>0.055097</td>\n",
       "      <td>0.002021</td>\n",
       "      <td>2269.844202</td>\n",
       "      <td>1.710596e+05</td>\n",
       "      <td>2555.378258</td>\n",
       "      <td>...</td>\n",
       "      <td>-7.631099</td>\n",
       "      <td>15.183190</td>\n",
       "      <td>-3.202921</td>\n",
       "      <td>17.505238</td>\n",
       "      <td>-8.461825</td>\n",
       "      <td>13.419047</td>\n",
       "      <td>-3.178414</td>\n",
       "      <td>17.566444</td>\n",
       "      <td>animal</td>\n",
       "      <td>벌</td>\n",
       "    </tr>\n",
       "    <tr>\n",
       "      <th>38</th>\n",
       "      <td>dog_barking_108</td>\n",
       "      <td>../../sounds/animal/개 소리/dog_barking_108.wav</td>\n",
       "      <td>10.396689</td>\n",
       "      <td>0.659107</td>\n",
       "      <td>0.044288</td>\n",
       "      <td>0.041320</td>\n",
       "      <td>0.001408</td>\n",
       "      <td>3438.614128</td>\n",
       "      <td>9.251955e+05</td>\n",
       "      <td>2171.148015</td>\n",
       "      <td>...</td>\n",
       "      <td>11.429811</td>\n",
       "      <td>33.483120</td>\n",
       "      <td>-13.745112</td>\n",
       "      <td>28.966200</td>\n",
       "      <td>6.268610</td>\n",
       "      <td>26.215820</td>\n",
       "      <td>-7.755744</td>\n",
       "      <td>17.861032</td>\n",
       "      <td>animal</td>\n",
       "      <td>개</td>\n",
       "    </tr>\n",
       "    <tr>\n",
       "      <th>39</th>\n",
       "      <td>dog_barking_75</td>\n",
       "      <td>../../sounds/animal/cats_dogs/dog_barking_75.wav</td>\n",
       "      <td>2.593197</td>\n",
       "      <td>0.214954</td>\n",
       "      <td>0.096244</td>\n",
       "      <td>0.114834</td>\n",
       "      <td>0.006668</td>\n",
       "      <td>1103.800057</td>\n",
       "      <td>4.565354e+04</td>\n",
       "      <td>933.097892</td>\n",
       "      <td>...</td>\n",
       "      <td>-9.614342</td>\n",
       "      <td>409.729980</td>\n",
       "      <td>-9.015744</td>\n",
       "      <td>183.782593</td>\n",
       "      <td>0.607754</td>\n",
       "      <td>107.774826</td>\n",
       "      <td>1.981836</td>\n",
       "      <td>255.811737</td>\n",
       "      <td>animal</td>\n",
       "      <td>개</td>\n",
       "    </tr>\n",
       "    <tr>\n",
       "      <th>61</th>\n",
       "      <td>bird018</td>\n",
       "      <td>../../sounds/animal/새 소리/bird018.wav</td>\n",
       "      <td>3.007302</td>\n",
       "      <td>0.571848</td>\n",
       "      <td>0.057562</td>\n",
       "      <td>0.010360</td>\n",
       "      <td>0.000108</td>\n",
       "      <td>2694.216571</td>\n",
       "      <td>2.308462e+05</td>\n",
       "      <td>2418.067058</td>\n",
       "      <td>...</td>\n",
       "      <td>-8.622164</td>\n",
       "      <td>23.268013</td>\n",
       "      <td>-0.992545</td>\n",
       "      <td>24.511826</td>\n",
       "      <td>-5.178211</td>\n",
       "      <td>30.655552</td>\n",
       "      <td>-1.723059</td>\n",
       "      <td>18.721495</td>\n",
       "      <td>animal</td>\n",
       "      <td>새</td>\n",
       "    </tr>\n",
       "    <tr>\n",
       "      <th>...</th>\n",
       "      <td>...</td>\n",
       "      <td>...</td>\n",
       "      <td>...</td>\n",
       "      <td>...</td>\n",
       "      <td>...</td>\n",
       "      <td>...</td>\n",
       "      <td>...</td>\n",
       "      <td>...</td>\n",
       "      <td>...</td>\n",
       "      <td>...</td>\n",
       "      <td>...</td>\n",
       "      <td>...</td>\n",
       "      <td>...</td>\n",
       "      <td>...</td>\n",
       "      <td>...</td>\n",
       "      <td>...</td>\n",
       "      <td>...</td>\n",
       "      <td>...</td>\n",
       "      <td>...</td>\n",
       "      <td>...</td>\n",
       "      <td>...</td>\n",
       "    </tr>\n",
       "    <tr>\n",
       "      <th>22397</th>\n",
       "      <td>dog_barking_84</td>\n",
       "      <td>../../sounds/animal/cats_dogs/dog_barking_84.wav</td>\n",
       "      <td>2.332336</td>\n",
       "      <td>0.228779</td>\n",
       "      <td>0.104588</td>\n",
       "      <td>0.075584</td>\n",
       "      <td>0.004076</td>\n",
       "      <td>1115.638823</td>\n",
       "      <td>2.511080e+04</td>\n",
       "      <td>922.167618</td>\n",
       "      <td>...</td>\n",
       "      <td>-6.154753</td>\n",
       "      <td>359.127319</td>\n",
       "      <td>-3.362175</td>\n",
       "      <td>128.277130</td>\n",
       "      <td>-1.667079</td>\n",
       "      <td>201.910492</td>\n",
       "      <td>2.802570</td>\n",
       "      <td>284.567505</td>\n",
       "      <td>animal</td>\n",
       "      <td>개</td>\n",
       "    </tr>\n",
       "    <tr>\n",
       "      <th>22442</th>\n",
       "      <td>Haliaeetus_leucocephalus_V2134_12_short</td>\n",
       "      <td>../../sounds/animal/새 소리/Haliaeetus_leucocepha...</td>\n",
       "      <td>6.661224</td>\n",
       "      <td>0.457008</td>\n",
       "      <td>0.097233</td>\n",
       "      <td>0.028743</td>\n",
       "      <td>0.000523</td>\n",
       "      <td>3088.048622</td>\n",
       "      <td>1.189858e+06</td>\n",
       "      <td>2939.443878</td>\n",
       "      <td>...</td>\n",
       "      <td>0.185399</td>\n",
       "      <td>36.920399</td>\n",
       "      <td>0.961222</td>\n",
       "      <td>35.249889</td>\n",
       "      <td>-6.753345</td>\n",
       "      <td>58.879513</td>\n",
       "      <td>4.617588</td>\n",
       "      <td>88.005615</td>\n",
       "      <td>animal</td>\n",
       "      <td>새</td>\n",
       "    </tr>\n",
       "    <tr>\n",
       "      <th>22463</th>\n",
       "      <td>4-164064-B-1</td>\n",
       "      <td>../../sounds/animal/닭 소리/4-164064-B-1.wav</td>\n",
       "      <td>5.000000</td>\n",
       "      <td>0.271937</td>\n",
       "      <td>0.133009</td>\n",
       "      <td>0.043096</td>\n",
       "      <td>0.004502</td>\n",
       "      <td>995.322730</td>\n",
       "      <td>1.177301e+06</td>\n",
       "      <td>896.919297</td>\n",
       "      <td>...</td>\n",
       "      <td>1.023258</td>\n",
       "      <td>15.948661</td>\n",
       "      <td>2.904371</td>\n",
       "      <td>40.248821</td>\n",
       "      <td>-3.512716</td>\n",
       "      <td>52.817539</td>\n",
       "      <td>2.830628</td>\n",
       "      <td>44.999092</td>\n",
       "      <td>animal</td>\n",
       "      <td>닭</td>\n",
       "    </tr>\n",
       "    <tr>\n",
       "      <th>22466</th>\n",
       "      <td>dog_barking_91</td>\n",
       "      <td>../../sounds/animal/개 소리/dog_barking_91.wav</td>\n",
       "      <td>12.000000</td>\n",
       "      <td>0.378320</td>\n",
       "      <td>0.092914</td>\n",
       "      <td>0.057439</td>\n",
       "      <td>0.005793</td>\n",
       "      <td>1411.745911</td>\n",
       "      <td>1.771185e+05</td>\n",
       "      <td>1335.584895</td>\n",
       "      <td>...</td>\n",
       "      <td>-0.317317</td>\n",
       "      <td>63.718636</td>\n",
       "      <td>-1.498194</td>\n",
       "      <td>45.553402</td>\n",
       "      <td>-3.695013</td>\n",
       "      <td>40.773537</td>\n",
       "      <td>-5.202814</td>\n",
       "      <td>35.384460</td>\n",
       "      <td>animal</td>\n",
       "      <td>개</td>\n",
       "    </tr>\n",
       "    <tr>\n",
       "      <th>22467</th>\n",
       "      <td>dog_barking_19</td>\n",
       "      <td>../../sounds/animal/cats_dogs/dog_barking_19.wav</td>\n",
       "      <td>3.927982</td>\n",
       "      <td>0.190932</td>\n",
       "      <td>0.095774</td>\n",
       "      <td>0.288044</td>\n",
       "      <td>0.012751</td>\n",
       "      <td>975.331436</td>\n",
       "      <td>5.250963e+04</td>\n",
       "      <td>704.501720</td>\n",
       "      <td>...</td>\n",
       "      <td>-5.486220</td>\n",
       "      <td>95.986702</td>\n",
       "      <td>-6.034154</td>\n",
       "      <td>169.286209</td>\n",
       "      <td>-4.812666</td>\n",
       "      <td>229.784286</td>\n",
       "      <td>-8.275756</td>\n",
       "      <td>258.080322</td>\n",
       "      <td>animal</td>\n",
       "      <td>개</td>\n",
       "    </tr>\n",
       "  </tbody>\n",
       "</table>\n",
       "<p>1474 rows × 62 columns</p>\n",
       "</div>"
      ],
      "text/plain": [
       "                                          name  \\\n",
       "1                                    dr0shorse   \n",
       "8                                 5-197446-A-7   \n",
       "38                             dog_barking_108   \n",
       "39                              dog_barking_75   \n",
       "61                                     bird018   \n",
       "...                                        ...   \n",
       "22397                           dog_barking_84   \n",
       "22442  Haliaeetus_leucocephalus_V2134_12_short   \n",
       "22463                             4-164064-B-1   \n",
       "22466                           dog_barking_91   \n",
       "22467                           dog_barking_19   \n",
       "\n",
       "                                                    path   duration  \\\n",
       "1                 ../../sounds/animal/말 소리/dr0shorse.wav   1.353651   \n",
       "8              ../../sounds/animal/벌 소리/5-197446-A-7.wav   5.000000   \n",
       "38          ../../sounds/animal/개 소리/dog_barking_108.wav  10.396689   \n",
       "39      ../../sounds/animal/cats_dogs/dog_barking_75.wav   2.593197   \n",
       "61                  ../../sounds/animal/새 소리/bird018.wav   3.007302   \n",
       "...                                                  ...        ...   \n",
       "22397   ../../sounds/animal/cats_dogs/dog_barking_84.wav   2.332336   \n",
       "22442  ../../sounds/animal/새 소리/Haliaeetus_leucocepha...   6.661224   \n",
       "22463          ../../sounds/animal/닭 소리/4-164064-B-1.wav   5.000000   \n",
       "22466        ../../sounds/animal/개 소리/dog_barking_91.wav  12.000000   \n",
       "22467   ../../sounds/animal/cats_dogs/dog_barking_19.wav   3.927982   \n",
       "\n",
       "       chroma_stft_mean  chroma_stft_var  rms_mean   rms_var  \\\n",
       "1              0.374280         0.095735  0.181595  0.006819   \n",
       "8              0.459533         0.076533  0.055097  0.002021   \n",
       "38             0.659107         0.044288  0.041320  0.001408   \n",
       "39             0.214954         0.096244  0.114834  0.006668   \n",
       "61             0.571848         0.057562  0.010360  0.000108   \n",
       "...                 ...              ...       ...       ...   \n",
       "22397          0.228779         0.104588  0.075584  0.004076   \n",
       "22442          0.457008         0.097233  0.028743  0.000523   \n",
       "22463          0.271937         0.133009  0.043096  0.004502   \n",
       "22466          0.378320         0.092914  0.057439  0.005793   \n",
       "22467          0.190932         0.095774  0.288044  0.012751   \n",
       "\n",
       "       spectral_centroid_mean  spectral_centroid_var  spectral_bandwidth_mean  \\\n",
       "1                 1492.603731           8.567513e+04               955.614463   \n",
       "8                 2269.844202           1.710596e+05              2555.378258   \n",
       "38                3438.614128           9.251955e+05              2171.148015   \n",
       "39                1103.800057           4.565354e+04               933.097892   \n",
       "61                2694.216571           2.308462e+05              2418.067058   \n",
       "...                       ...                    ...                      ...   \n",
       "22397             1115.638823           2.511080e+04               922.167618   \n",
       "22442             3088.048622           1.189858e+06              2939.443878   \n",
       "22463              995.322730           1.177301e+06               896.919297   \n",
       "22466             1411.745911           1.771185e+05              1335.584895   \n",
       "22467              975.331436           5.250963e+04               704.501720   \n",
       "\n",
       "       ...  mfcc17_mean  mfcc17_var  mfcc18_mean  mfcc18_var  mfcc19_mean  \\\n",
       "1      ...    12.378535   56.651711   -10.243791   28.035650    -3.035161   \n",
       "8      ...    -7.631099   15.183190    -3.202921   17.505238    -8.461825   \n",
       "38     ...    11.429811   33.483120   -13.745112   28.966200     6.268610   \n",
       "39     ...    -9.614342  409.729980    -9.015744  183.782593     0.607754   \n",
       "61     ...    -8.622164   23.268013    -0.992545   24.511826    -5.178211   \n",
       "...    ...          ...         ...          ...         ...          ...   \n",
       "22397  ...    -6.154753  359.127319    -3.362175  128.277130    -1.667079   \n",
       "22442  ...     0.185399   36.920399     0.961222   35.249889    -6.753345   \n",
       "22463  ...     1.023258   15.948661     2.904371   40.248821    -3.512716   \n",
       "22466  ...    -0.317317   63.718636    -1.498194   45.553402    -3.695013   \n",
       "22467  ...    -5.486220   95.986702    -6.034154  169.286209    -4.812666   \n",
       "\n",
       "       mfcc19_var  mfcc20_mean  mfcc20_var   cate1  cate2  \n",
       "1       78.115898     1.781476  150.969696  animal      말  \n",
       "8       13.419047    -3.178414   17.566444  animal      벌  \n",
       "38      26.215820    -7.755744   17.861032  animal      개  \n",
       "39     107.774826     1.981836  255.811737  animal      개  \n",
       "61      30.655552    -1.723059   18.721495  animal      새  \n",
       "...           ...          ...         ...     ...    ...  \n",
       "22397  201.910492     2.802570  284.567505  animal      개  \n",
       "22442   58.879513     4.617588   88.005615  animal      새  \n",
       "22463   52.817539     2.830628   44.999092  animal      닭  \n",
       "22466   40.773537    -5.202814   35.384460  animal      개  \n",
       "22467  229.784286    -8.275756  258.080322  animal      개  \n",
       "\n",
       "[1474 rows x 62 columns]"
      ]
     },
     "execution_count": 94,
     "metadata": {},
     "output_type": "execute_result"
    }
   ],
   "source": [
    "o_df = pd.read_csv(\"../files/freq_dataset_1113.csv\", encoding='utf-8-sig')\n",
    "o_df.drop([\"Unnamed: 0\", \"label\"], axis=1, inplace=True)\n",
    "o_df['cate1'] = [p.split('/')[-3] for p in o_df['path']]\n",
    "o_df['cate2'] = [p.split('/')[-1][:3] if p.split('/')[-2] == 'cats_dogs' else p.split('/')[-2] for p in o_df['path']]\n",
    "o_df.drop(o_df[o_df['cate2']=='cats_dog_add_noise'].index, axis=0, inplace=True)\n",
    "o_df['cate2'] = [c.replace(\"cat\", \"고양이\") for c in o_df['cate2']]\n",
    "o_df['cate2'] = [c.replace(\"dog\", \"개\") for c in o_df['cate2']]\n",
    "# o_df['cate2'] = [c.replace(\"까마귀\", \"새\") for c in o_df['cate2']]\n",
    "o_df['cate2'] = [c.replace(\" \", \"\") for c in o_df['cate2']]\n",
    "o_df['cate2'] = [c.replace(\"소리\", \"\") for c in o_df['cate2']]\n",
    "o_df.drop(o_df[o_df['name']=='2-76868-A-6'].index, axis=0, inplace=True) # 닭 test 음원\n",
    "o_df.drop(o_df[o_df['name']=='2-95035-A-1'].index, axis=0, inplace=True) # 닭 test 음원\n",
    "o_df = o_df[o_df['cate1'] == 'animal'].copy()\n",
    "o_df"
   ]
  },
  {
   "cell_type": "code",
   "execution_count": 95,
   "id": "feb48476",
   "metadata": {},
   "outputs": [
    {
     "data": {
      "text/plain": [
       "<BarContainer object of 20 artists>"
      ]
     },
     "execution_count": 95,
     "metadata": {},
     "output_type": "execute_result"
    },
    {
     "data": {
      "image/png": "[encoded data removed]",
      "text/plain": [
       "<Figure size 864x576 with 1 Axes>"
      ]
     },
     "metadata": {
      "needs_background": "light"
     },
     "output_type": "display_data"
    }
   ],
   "source": [
    "count_df = o_df.groupby('cate2').count().sort_values(by='name', ascending=False)\n",
    "plt.figure(figsize=(12,8))\n",
    "plt.bar(count_df.index, height=count_df['name'])"
   ]
  },
  {
   "cell_type": "code",
   "execution_count": 138,
   "id": "f889dc64",
   "metadata": {},
   "outputs": [
    {
     "name": "stdout",
     "output_type": "stream",
     "text": [
      "['고양이', '개', '염소', '개구리']\n"
     ]
    },
    {
     "data": {
      "text/html": [
       "<div>\n",
       "<style scoped>\n",
       "    .dataframe tbody tr th:only-of-type {\n",
       "        vertical-align: middle;\n",
       "    }\n",
       "\n",
       "    .dataframe tbody tr th {\n",
       "        vertical-align: top;\n",
       "    }\n",
       "\n",
       "    .dataframe thead th {\n",
       "        text-align: right;\n",
       "    }\n",
       "</style>\n",
       "<table border=\"1\" class=\"dataframe\">\n",
       "  <thead>\n",
       "    <tr style=\"text-align: right;\">\n",
       "      <th></th>\n",
       "      <th>name</th>\n",
       "      <th>path</th>\n",
       "      <th>duration</th>\n",
       "      <th>chroma_stft_mean</th>\n",
       "      <th>chroma_stft_var</th>\n",
       "      <th>rms_mean</th>\n",
       "      <th>rms_var</th>\n",
       "      <th>spectral_centroid_mean</th>\n",
       "      <th>spectral_centroid_var</th>\n",
       "      <th>spectral_bandwidth_mean</th>\n",
       "      <th>...</th>\n",
       "      <th>mfcc17_mean</th>\n",
       "      <th>mfcc17_var</th>\n",
       "      <th>mfcc18_mean</th>\n",
       "      <th>mfcc18_var</th>\n",
       "      <th>mfcc19_mean</th>\n",
       "      <th>mfcc19_var</th>\n",
       "      <th>mfcc20_mean</th>\n",
       "      <th>mfcc20_var</th>\n",
       "      <th>cate1</th>\n",
       "      <th>cate2</th>\n",
       "    </tr>\n",
       "  </thead>\n",
       "  <tbody>\n",
       "    <tr>\n",
       "      <th>0</th>\n",
       "      <td>cat_35</td>\n",
       "      <td>../../sounds/animal/고양이 소리/cat_35.wav</td>\n",
       "      <td>11.000000</td>\n",
       "      <td>0.564131</td>\n",
       "      <td>0.067314</td>\n",
       "      <td>0.025919</td>\n",
       "      <td>0.001132</td>\n",
       "      <td>1429.288552</td>\n",
       "      <td>2.612002e+05</td>\n",
       "      <td>1612.312516</td>\n",
       "      <td>...</td>\n",
       "      <td>7.457832</td>\n",
       "      <td>35.269684</td>\n",
       "      <td>-2.501132</td>\n",
       "      <td>24.037781</td>\n",
       "      <td>1.829896</td>\n",
       "      <td>19.635115</td>\n",
       "      <td>1.710906</td>\n",
       "      <td>24.903175</td>\n",
       "      <td>animal</td>\n",
       "      <td>고양이</td>\n",
       "    </tr>\n",
       "    <tr>\n",
       "      <th>1</th>\n",
       "      <td>cat_141</td>\n",
       "      <td>../../sounds/animal/고양이 소리/cat_141.wav</td>\n",
       "      <td>0.941723</td>\n",
       "      <td>0.409352</td>\n",
       "      <td>0.080211</td>\n",
       "      <td>0.165388</td>\n",
       "      <td>0.006663</td>\n",
       "      <td>2596.732198</td>\n",
       "      <td>5.135426e+04</td>\n",
       "      <td>1524.065073</td>\n",
       "      <td>...</td>\n",
       "      <td>11.936614</td>\n",
       "      <td>40.342899</td>\n",
       "      <td>-8.426805</td>\n",
       "      <td>32.566399</td>\n",
       "      <td>6.773017</td>\n",
       "      <td>36.244740</td>\n",
       "      <td>-3.884769</td>\n",
       "      <td>35.042721</td>\n",
       "      <td>animal</td>\n",
       "      <td>고양이</td>\n",
       "    </tr>\n",
       "    <tr>\n",
       "      <th>2</th>\n",
       "      <td>1-47819-B-5</td>\n",
       "      <td>../../sounds/animal/고양이 소리/1-47819-B-5.wav</td>\n",
       "      <td>5.000000</td>\n",
       "      <td>0.438500</td>\n",
       "      <td>0.095735</td>\n",
       "      <td>0.005553</td>\n",
       "      <td>0.000041</td>\n",
       "      <td>2654.685243</td>\n",
       "      <td>1.751842e+05</td>\n",
       "      <td>2636.130122</td>\n",
       "      <td>...</td>\n",
       "      <td>-6.396316</td>\n",
       "      <td>33.586544</td>\n",
       "      <td>2.215581</td>\n",
       "      <td>33.081585</td>\n",
       "      <td>-8.530169</td>\n",
       "      <td>40.782906</td>\n",
       "      <td>-2.218924</td>\n",
       "      <td>86.056854</td>\n",
       "      <td>animal</td>\n",
       "      <td>고양이</td>\n",
       "    </tr>\n",
       "    <tr>\n",
       "      <th>3</th>\n",
       "      <td>cat_6</td>\n",
       "      <td>../../sounds/animal/cats_dogs/cat_6.wav</td>\n",
       "      <td>11.500000</td>\n",
       "      <td>0.675863</td>\n",
       "      <td>0.047439</td>\n",
       "      <td>0.028183</td>\n",
       "      <td>0.001136</td>\n",
       "      <td>1445.259695</td>\n",
       "      <td>5.188685e+05</td>\n",
       "      <td>1818.439417</td>\n",
       "      <td>...</td>\n",
       "      <td>0.885537</td>\n",
       "      <td>54.459682</td>\n",
       "      <td>8.594900</td>\n",
       "      <td>48.064693</td>\n",
       "      <td>6.021374</td>\n",
       "      <td>47.691811</td>\n",
       "      <td>2.553943</td>\n",
       "      <td>34.186470</td>\n",
       "      <td>animal</td>\n",
       "      <td>고양이</td>\n",
       "    </tr>\n",
       "    <tr>\n",
       "      <th>4</th>\n",
       "      <td>cat_110</td>\n",
       "      <td>../../sounds/animal/고양이 소리/cat_110.wav</td>\n",
       "      <td>1.272018</td>\n",
       "      <td>0.259342</td>\n",
       "      <td>0.095272</td>\n",
       "      <td>0.171115</td>\n",
       "      <td>0.010512</td>\n",
       "      <td>2171.597309</td>\n",
       "      <td>4.352366e+05</td>\n",
       "      <td>1793.060664</td>\n",
       "      <td>...</td>\n",
       "      <td>-13.009889</td>\n",
       "      <td>199.441040</td>\n",
       "      <td>-16.631609</td>\n",
       "      <td>92.513298</td>\n",
       "      <td>24.283859</td>\n",
       "      <td>269.449158</td>\n",
       "      <td>2.176965</td>\n",
       "      <td>76.417595</td>\n",
       "      <td>animal</td>\n",
       "      <td>고양이</td>\n",
       "    </tr>\n",
       "    <tr>\n",
       "      <th>...</th>\n",
       "      <td>...</td>\n",
       "      <td>...</td>\n",
       "      <td>...</td>\n",
       "      <td>...</td>\n",
       "      <td>...</td>\n",
       "      <td>...</td>\n",
       "      <td>...</td>\n",
       "      <td>...</td>\n",
       "      <td>...</td>\n",
       "      <td>...</td>\n",
       "      <td>...</td>\n",
       "      <td>...</td>\n",
       "      <td>...</td>\n",
       "      <td>...</td>\n",
       "      <td>...</td>\n",
       "      <td>...</td>\n",
       "      <td>...</td>\n",
       "      <td>...</td>\n",
       "      <td>...</td>\n",
       "      <td>...</td>\n",
       "      <td>...</td>\n",
       "    </tr>\n",
       "    <tr>\n",
       "      <th>816</th>\n",
       "      <td>frog (4)</td>\n",
       "      <td>../../sounds/animal/개구리 소리/frog (4).wav</td>\n",
       "      <td>0.221814</td>\n",
       "      <td>0.239548</td>\n",
       "      <td>0.108472</td>\n",
       "      <td>0.286975</td>\n",
       "      <td>0.003568</td>\n",
       "      <td>2360.992387</td>\n",
       "      <td>1.540590e+04</td>\n",
       "      <td>1680.204793</td>\n",
       "      <td>...</td>\n",
       "      <td>-5.758052</td>\n",
       "      <td>30.605602</td>\n",
       "      <td>-8.011441</td>\n",
       "      <td>35.232216</td>\n",
       "      <td>7.316998</td>\n",
       "      <td>51.364983</td>\n",
       "      <td>-0.118540</td>\n",
       "      <td>58.313728</td>\n",
       "      <td>animal</td>\n",
       "      <td>개구리</td>\n",
       "    </tr>\n",
       "    <tr>\n",
       "      <th>817</th>\n",
       "      <td>speahammondii01</td>\n",
       "      <td>../../sounds/animal/개구리 소리/speahammondii01.mp3</td>\n",
       "      <td>1.071020</td>\n",
       "      <td>0.374024</td>\n",
       "      <td>0.116177</td>\n",
       "      <td>0.126744</td>\n",
       "      <td>0.008538</td>\n",
       "      <td>2481.361244</td>\n",
       "      <td>1.052920e+06</td>\n",
       "      <td>1964.389362</td>\n",
       "      <td>...</td>\n",
       "      <td>-7.063848</td>\n",
       "      <td>19.593475</td>\n",
       "      <td>-1.543129</td>\n",
       "      <td>23.932978</td>\n",
       "      <td>-2.719296</td>\n",
       "      <td>14.471077</td>\n",
       "      <td>4.687849</td>\n",
       "      <td>13.614118</td>\n",
       "      <td>animal</td>\n",
       "      <td>개구리</td>\n",
       "    </tr>\n",
       "    <tr>\n",
       "      <th>818</th>\n",
       "      <td>05-Frog</td>\n",
       "      <td>../../sounds/animal/개구리 소리/05-Frog.wav</td>\n",
       "      <td>0.439002</td>\n",
       "      <td>0.236887</td>\n",
       "      <td>0.104424</td>\n",
       "      <td>0.171188</td>\n",
       "      <td>0.009741</td>\n",
       "      <td>1842.961496</td>\n",
       "      <td>1.529850e+04</td>\n",
       "      <td>1057.155313</td>\n",
       "      <td>...</td>\n",
       "      <td>7.185624</td>\n",
       "      <td>13.397743</td>\n",
       "      <td>-4.783830</td>\n",
       "      <td>36.171528</td>\n",
       "      <td>17.056562</td>\n",
       "      <td>39.189903</td>\n",
       "      <td>-5.154148</td>\n",
       "      <td>49.068840</td>\n",
       "      <td>animal</td>\n",
       "      <td>개구리</td>\n",
       "    </tr>\n",
       "    <tr>\n",
       "      <th>819</th>\n",
       "      <td>4-99644-C-4</td>\n",
       "      <td>../../sounds/animal/개구리 소리/4-99644-C-4.wav</td>\n",
       "      <td>5.000000</td>\n",
       "      <td>0.220504</td>\n",
       "      <td>0.105246</td>\n",
       "      <td>0.110958</td>\n",
       "      <td>0.002452</td>\n",
       "      <td>1924.224069</td>\n",
       "      <td>5.817782e+03</td>\n",
       "      <td>954.060591</td>\n",
       "      <td>...</td>\n",
       "      <td>18.250429</td>\n",
       "      <td>60.984940</td>\n",
       "      <td>-9.412504</td>\n",
       "      <td>31.751270</td>\n",
       "      <td>-1.178963</td>\n",
       "      <td>14.788594</td>\n",
       "      <td>7.491617</td>\n",
       "      <td>27.051998</td>\n",
       "      <td>animal</td>\n",
       "      <td>개구리</td>\n",
       "    </tr>\n",
       "    <tr>\n",
       "      <th>820</th>\n",
       "      <td>Golden_Bell_Frog</td>\n",
       "      <td>../../sounds/animal/개구리 소리/Golden_Bell_Frog.wav</td>\n",
       "      <td>9.286757</td>\n",
       "      <td>0.501507</td>\n",
       "      <td>0.087563</td>\n",
       "      <td>0.063615</td>\n",
       "      <td>0.003010</td>\n",
       "      <td>1212.958230</td>\n",
       "      <td>1.235477e+04</td>\n",
       "      <td>965.238618</td>\n",
       "      <td>...</td>\n",
       "      <td>-0.239257</td>\n",
       "      <td>22.684029</td>\n",
       "      <td>0.300831</td>\n",
       "      <td>31.667809</td>\n",
       "      <td>12.581221</td>\n",
       "      <td>20.311956</td>\n",
       "      <td>-5.592305</td>\n",
       "      <td>12.934476</td>\n",
       "      <td>animal</td>\n",
       "      <td>개구리</td>\n",
       "    </tr>\n",
       "  </tbody>\n",
       "</table>\n",
       "<p>821 rows × 62 columns</p>\n",
       "</div>"
      ],
      "text/plain": [
       "                 name                                             path  \\\n",
       "0              cat_35            ../../sounds/animal/고양이 소리/cat_35.wav   \n",
       "1             cat_141           ../../sounds/animal/고양이 소리/cat_141.wav   \n",
       "2         1-47819-B-5       ../../sounds/animal/고양이 소리/1-47819-B-5.wav   \n",
       "3               cat_6          ../../sounds/animal/cats_dogs/cat_6.wav   \n",
       "4             cat_110           ../../sounds/animal/고양이 소리/cat_110.wav   \n",
       "..                ...                                              ...   \n",
       "816          frog (4)          ../../sounds/animal/개구리 소리/frog (4).wav   \n",
       "817   speahammondii01   ../../sounds/animal/개구리 소리/speahammondii01.mp3   \n",
       "818           05-Frog           ../../sounds/animal/개구리 소리/05-Frog.wav   \n",
       "819       4-99644-C-4       ../../sounds/animal/개구리 소리/4-99644-C-4.wav   \n",
       "820  Golden_Bell_Frog  ../../sounds/animal/개구리 소리/Golden_Bell_Frog.wav   \n",
       "\n",
       "      duration  chroma_stft_mean  chroma_stft_var  rms_mean   rms_var  \\\n",
       "0    11.000000          0.564131         0.067314  0.025919  0.001132   \n",
       "1     0.941723          0.409352         0.080211  0.165388  0.006663   \n",
       "2     5.000000          0.438500         0.095735  0.005553  0.000041   \n",
       "3    11.500000          0.675863         0.047439  0.028183  0.001136   \n",
       "4     1.272018          0.259342         0.095272  0.171115  0.010512   \n",
       "..         ...               ...              ...       ...       ...   \n",
       "816   0.221814          0.239548         0.108472  0.286975  0.003568   \n",
       "817   1.071020          0.374024         0.116177  0.126744  0.008538   \n",
       "818   0.439002          0.236887         0.104424  0.171188  0.009741   \n",
       "819   5.000000          0.220504         0.105246  0.110958  0.002452   \n",
       "820   9.286757          0.501507         0.087563  0.063615  0.003010   \n",
       "\n",
       "     spectral_centroid_mean  spectral_centroid_var  spectral_bandwidth_mean  \\\n",
       "0               1429.288552           2.612002e+05              1612.312516   \n",
       "1               2596.732198           5.135426e+04              1524.065073   \n",
       "2               2654.685243           1.751842e+05              2636.130122   \n",
       "3               1445.259695           5.188685e+05              1818.439417   \n",
       "4               2171.597309           4.352366e+05              1793.060664   \n",
       "..                      ...                    ...                      ...   \n",
       "816             2360.992387           1.540590e+04              1680.204793   \n",
       "817             2481.361244           1.052920e+06              1964.389362   \n",
       "818             1842.961496           1.529850e+04              1057.155313   \n",
       "819             1924.224069           5.817782e+03               954.060591   \n",
       "820             1212.958230           1.235477e+04               965.238618   \n",
       "\n",
       "     ...  mfcc17_mean  mfcc17_var  mfcc18_mean  mfcc18_var  mfcc19_mean  \\\n",
       "0    ...     7.457832   35.269684    -2.501132   24.037781     1.829896   \n",
       "1    ...    11.936614   40.342899    -8.426805   32.566399     6.773017   \n",
       "2    ...    -6.396316   33.586544     2.215581   33.081585    -8.530169   \n",
       "3    ...     0.885537   54.459682     8.594900   48.064693     6.021374   \n",
       "4    ...   -13.009889  199.441040   -16.631609   92.513298    24.283859   \n",
       "..   ...          ...         ...          ...         ...          ...   \n",
       "816  ...    -5.758052   30.605602    -8.011441   35.232216     7.316998   \n",
       "817  ...    -7.063848   19.593475    -1.543129   23.932978    -2.719296   \n",
       "818  ...     7.185624   13.397743    -4.783830   36.171528    17.056562   \n",
       "819  ...    18.250429   60.984940    -9.412504   31.751270    -1.178963   \n",
       "820  ...    -0.239257   22.684029     0.300831   31.667809    12.581221   \n",
       "\n",
       "     mfcc19_var  mfcc20_mean  mfcc20_var   cate1  cate2  \n",
       "0     19.635115     1.710906   24.903175  animal    고양이  \n",
       "1     36.244740    -3.884769   35.042721  animal    고양이  \n",
       "2     40.782906    -2.218924   86.056854  animal    고양이  \n",
       "3     47.691811     2.553943   34.186470  animal    고양이  \n",
       "4    269.449158     2.176965   76.417595  animal    고양이  \n",
       "..          ...          ...         ...     ...    ...  \n",
       "816   51.364983    -0.118540   58.313728  animal    개구리  \n",
       "817   14.471077     4.687849   13.614118  animal    개구리  \n",
       "818   39.189903    -5.154148   49.068840  animal    개구리  \n",
       "819   14.788594     7.491617   27.051998  animal    개구리  \n",
       "820   20.311956    -5.592305   12.934476  animal    개구리  \n",
       "\n",
       "[821 rows x 62 columns]"
      ]
     },
     "execution_count": 138,
     "metadata": {},
     "output_type": "execute_result"
    }
   ],
   "source": [
    "target_animals = ['고양이', '개', '염소','개구리'] \n",
    "print(target_animals)\n",
    "result_df = pd.DataFrame()\n",
    "for a in target_animals:\n",
    "    temp = o_df[o_df['cate2']== a].copy()\n",
    "    result_df = pd.concat([result_df, temp])\n",
    "result_df.reset_index(inplace=True, drop=True)\n",
    "result_df"
   ]
  },
  {
   "cell_type": "code",
   "execution_count": 139,
   "id": "9c8a85e1",
   "metadata": {},
   "outputs": [
    {
     "data": {
      "text/plain": [
       "count    821.000000\n",
       "mean       6.357141\n",
       "std        4.902613\n",
       "min        0.221814\n",
       "25%        2.560000\n",
       "50%        5.000000\n",
       "75%       10.538458\n",
       "max       47.564354\n",
       "Name: duration, dtype: float64"
      ]
     },
     "execution_count": 139,
     "metadata": {},
     "output_type": "execute_result"
    }
   ],
   "source": [
    "result_df['duration'].describe()"
   ]
  },
  {
   "cell_type": "code",
   "execution_count": 140,
   "id": "bd833819",
   "metadata": {
    "scrolled": true
   },
   "outputs": [
    {
     "data": {
      "text/html": [
       "<div>\n",
       "<style scoped>\n",
       "    .dataframe tbody tr th:only-of-type {\n",
       "        vertical-align: middle;\n",
       "    }\n",
       "\n",
       "    .dataframe tbody tr th {\n",
       "        vertical-align: top;\n",
       "    }\n",
       "\n",
       "    .dataframe thead th {\n",
       "        text-align: right;\n",
       "    }\n",
       "</style>\n",
       "<table border=\"1\" class=\"dataframe\">\n",
       "  <thead>\n",
       "    <tr style=\"text-align: right;\">\n",
       "      <th></th>\n",
       "      <th>name</th>\n",
       "      <th>path</th>\n",
       "      <th>duration</th>\n",
       "      <th>chroma_stft_mean</th>\n",
       "      <th>chroma_stft_var</th>\n",
       "      <th>rms_mean</th>\n",
       "      <th>rms_var</th>\n",
       "      <th>spectral_centroid_mean</th>\n",
       "      <th>spectral_centroid_var</th>\n",
       "      <th>spectral_bandwidth_mean</th>\n",
       "      <th>...</th>\n",
       "      <th>mfcc16_var</th>\n",
       "      <th>mfcc17_mean</th>\n",
       "      <th>mfcc17_var</th>\n",
       "      <th>mfcc18_mean</th>\n",
       "      <th>mfcc18_var</th>\n",
       "      <th>mfcc19_mean</th>\n",
       "      <th>mfcc19_var</th>\n",
       "      <th>mfcc20_mean</th>\n",
       "      <th>mfcc20_var</th>\n",
       "      <th>cate1</th>\n",
       "    </tr>\n",
       "    <tr>\n",
       "      <th>cate2</th>\n",
       "      <th></th>\n",
       "      <th></th>\n",
       "      <th></th>\n",
       "      <th></th>\n",
       "      <th></th>\n",
       "      <th></th>\n",
       "      <th></th>\n",
       "      <th></th>\n",
       "      <th></th>\n",
       "      <th></th>\n",
       "      <th></th>\n",
       "      <th></th>\n",
       "      <th></th>\n",
       "      <th></th>\n",
       "      <th></th>\n",
       "      <th></th>\n",
       "      <th></th>\n",
       "      <th></th>\n",
       "      <th></th>\n",
       "      <th></th>\n",
       "      <th></th>\n",
       "    </tr>\n",
       "  </thead>\n",
       "  <tbody>\n",
       "    <tr>\n",
       "      <th>고양이</th>\n",
       "      <td>398</td>\n",
       "      <td>398</td>\n",
       "      <td>398</td>\n",
       "      <td>398</td>\n",
       "      <td>398</td>\n",
       "      <td>398</td>\n",
       "      <td>398</td>\n",
       "      <td>398</td>\n",
       "      <td>398</td>\n",
       "      <td>398</td>\n",
       "      <td>...</td>\n",
       "      <td>398</td>\n",
       "      <td>398</td>\n",
       "      <td>398</td>\n",
       "      <td>398</td>\n",
       "      <td>398</td>\n",
       "      <td>398</td>\n",
       "      <td>398</td>\n",
       "      <td>398</td>\n",
       "      <td>398</td>\n",
       "      <td>398</td>\n",
       "    </tr>\n",
       "    <tr>\n",
       "      <th>개</th>\n",
       "      <td>281</td>\n",
       "      <td>281</td>\n",
       "      <td>281</td>\n",
       "      <td>281</td>\n",
       "      <td>281</td>\n",
       "      <td>281</td>\n",
       "      <td>281</td>\n",
       "      <td>281</td>\n",
       "      <td>281</td>\n",
       "      <td>281</td>\n",
       "      <td>...</td>\n",
       "      <td>281</td>\n",
       "      <td>281</td>\n",
       "      <td>281</td>\n",
       "      <td>281</td>\n",
       "      <td>281</td>\n",
       "      <td>281</td>\n",
       "      <td>281</td>\n",
       "      <td>281</td>\n",
       "      <td>281</td>\n",
       "      <td>281</td>\n",
       "    </tr>\n",
       "    <tr>\n",
       "      <th>염소</th>\n",
       "      <td>70</td>\n",
       "      <td>70</td>\n",
       "      <td>70</td>\n",
       "      <td>70</td>\n",
       "      <td>70</td>\n",
       "      <td>70</td>\n",
       "      <td>70</td>\n",
       "      <td>70</td>\n",
       "      <td>70</td>\n",
       "      <td>70</td>\n",
       "      <td>...</td>\n",
       "      <td>70</td>\n",
       "      <td>70</td>\n",
       "      <td>70</td>\n",
       "      <td>70</td>\n",
       "      <td>70</td>\n",
       "      <td>70</td>\n",
       "      <td>70</td>\n",
       "      <td>70</td>\n",
       "      <td>70</td>\n",
       "      <td>70</td>\n",
       "    </tr>\n",
       "    <tr>\n",
       "      <th>개구리</th>\n",
       "      <td>65</td>\n",
       "      <td>65</td>\n",
       "      <td>65</td>\n",
       "      <td>65</td>\n",
       "      <td>65</td>\n",
       "      <td>65</td>\n",
       "      <td>65</td>\n",
       "      <td>65</td>\n",
       "      <td>65</td>\n",
       "      <td>65</td>\n",
       "      <td>...</td>\n",
       "      <td>65</td>\n",
       "      <td>65</td>\n",
       "      <td>65</td>\n",
       "      <td>65</td>\n",
       "      <td>65</td>\n",
       "      <td>65</td>\n",
       "      <td>65</td>\n",
       "      <td>65</td>\n",
       "      <td>65</td>\n",
       "      <td>65</td>\n",
       "    </tr>\n",
       "  </tbody>\n",
       "</table>\n",
       "<p>4 rows × 61 columns</p>\n",
       "</div>"
      ],
      "text/plain": [
       "       name  path  duration  chroma_stft_mean  chroma_stft_var  rms_mean  \\\n",
       "cate2                                                                      \n",
       "고양이     398   398       398               398              398       398   \n",
       "개       281   281       281               281              281       281   \n",
       "염소       70    70        70                70               70        70   \n",
       "개구리      65    65        65                65               65        65   \n",
       "\n",
       "       rms_var  spectral_centroid_mean  spectral_centroid_var  \\\n",
       "cate2                                                           \n",
       "고양이        398                     398                    398   \n",
       "개          281                     281                    281   \n",
       "염소          70                      70                     70   \n",
       "개구리         65                      65                     65   \n",
       "\n",
       "       spectral_bandwidth_mean  ...  mfcc16_var  mfcc17_mean  mfcc17_var  \\\n",
       "cate2                           ...                                        \n",
       "고양이                        398  ...         398          398         398   \n",
       "개                          281  ...         281          281         281   \n",
       "염소                          70  ...          70           70          70   \n",
       "개구리                         65  ...          65           65          65   \n",
       "\n",
       "       mfcc18_mean  mfcc18_var  mfcc19_mean  mfcc19_var  mfcc20_mean  \\\n",
       "cate2                                                                  \n",
       "고양이            398         398          398         398          398   \n",
       "개              281         281          281         281          281   \n",
       "염소              70          70           70          70           70   \n",
       "개구리             65          65           65          65           65   \n",
       "\n",
       "       mfcc20_var  cate1  \n",
       "cate2                     \n",
       "고양이           398    398  \n",
       "개             281    281  \n",
       "염소             70     70  \n",
       "개구리            65     65  \n",
       "\n",
       "[4 rows x 61 columns]"
      ]
     },
     "execution_count": 140,
     "metadata": {},
     "output_type": "execute_result"
    }
   ],
   "source": [
    "result_df[result_df['duration']<20].groupby('cate2').count().sort_values(by='name', ascending=False)"
   ]
  },
  {
   "cell_type": "code",
   "execution_count": 141,
   "id": "52326f01",
   "metadata": {},
   "outputs": [
    {
     "data": {
      "image/png": "[encoded data removed]",
      "text/plain": [
       "<Figure size 864x576 with 1 Axes>"
      ]
     },
     "metadata": {
      "needs_background": "light"
     },
     "output_type": "display_data"
    }
   ],
   "source": [
    "plt.figure(figsize=(12,8))\n",
    "sns.boxplot(data=result_df, x='cate2', y='duration');"
   ]
  },
  {
   "cell_type": "code",
   "execution_count": 142,
   "id": "123e568e",
   "metadata": {},
   "outputs": [
    {
     "data": {
      "image/png": "[encoded data removed]",
      "text/plain": [
       "<Figure size 864x576 with 1 Axes>"
      ]
     },
     "metadata": {
      "needs_background": "light"
     },
     "output_type": "display_data"
    }
   ],
   "source": [
    "plt.figure(figsize=(12,8))\n",
    "sns.boxplot(data=result_df[result_df['duration']<20][result_df['duration']>0.7], x='cate2', y='duration');"
   ]
  },
  {
   "cell_type": "code",
   "execution_count": 143,
   "id": "371aca00",
   "metadata": {},
   "outputs": [
    {
     "data": {
      "text/html": [
       "<div>\n",
       "<style scoped>\n",
       "    .dataframe tbody tr th:only-of-type {\n",
       "        vertical-align: middle;\n",
       "    }\n",
       "\n",
       "    .dataframe tbody tr th {\n",
       "        vertical-align: top;\n",
       "    }\n",
       "\n",
       "    .dataframe thead th {\n",
       "        text-align: right;\n",
       "    }\n",
       "</style>\n",
       "<table border=\"1\" class=\"dataframe\">\n",
       "  <thead>\n",
       "    <tr style=\"text-align: right;\">\n",
       "      <th></th>\n",
       "      <th>name</th>\n",
       "      <th>path</th>\n",
       "      <th>duration</th>\n",
       "      <th>chroma_stft_mean</th>\n",
       "      <th>chroma_stft_var</th>\n",
       "      <th>rms_mean</th>\n",
       "      <th>rms_var</th>\n",
       "      <th>spectral_centroid_mean</th>\n",
       "      <th>spectral_centroid_var</th>\n",
       "      <th>spectral_bandwidth_mean</th>\n",
       "      <th>...</th>\n",
       "      <th>mfcc16_var</th>\n",
       "      <th>mfcc17_mean</th>\n",
       "      <th>mfcc17_var</th>\n",
       "      <th>mfcc18_mean</th>\n",
       "      <th>mfcc18_var</th>\n",
       "      <th>mfcc19_mean</th>\n",
       "      <th>mfcc19_var</th>\n",
       "      <th>mfcc20_mean</th>\n",
       "      <th>mfcc20_var</th>\n",
       "      <th>cate1</th>\n",
       "    </tr>\n",
       "    <tr>\n",
       "      <th>cate2</th>\n",
       "      <th></th>\n",
       "      <th></th>\n",
       "      <th></th>\n",
       "      <th></th>\n",
       "      <th></th>\n",
       "      <th></th>\n",
       "      <th></th>\n",
       "      <th></th>\n",
       "      <th></th>\n",
       "      <th></th>\n",
       "      <th></th>\n",
       "      <th></th>\n",
       "      <th></th>\n",
       "      <th></th>\n",
       "      <th></th>\n",
       "      <th></th>\n",
       "      <th></th>\n",
       "      <th></th>\n",
       "      <th></th>\n",
       "      <th></th>\n",
       "      <th></th>\n",
       "    </tr>\n",
       "  </thead>\n",
       "  <tbody>\n",
       "    <tr>\n",
       "      <th>개</th>\n",
       "      <td>283</td>\n",
       "      <td>283</td>\n",
       "      <td>283</td>\n",
       "      <td>283</td>\n",
       "      <td>283</td>\n",
       "      <td>283</td>\n",
       "      <td>283</td>\n",
       "      <td>283</td>\n",
       "      <td>283</td>\n",
       "      <td>283</td>\n",
       "      <td>...</td>\n",
       "      <td>283</td>\n",
       "      <td>283</td>\n",
       "      <td>283</td>\n",
       "      <td>283</td>\n",
       "      <td>283</td>\n",
       "      <td>283</td>\n",
       "      <td>283</td>\n",
       "      <td>283</td>\n",
       "      <td>283</td>\n",
       "      <td>283</td>\n",
       "    </tr>\n",
       "    <tr>\n",
       "      <th>개구리</th>\n",
       "      <td>65</td>\n",
       "      <td>65</td>\n",
       "      <td>65</td>\n",
       "      <td>65</td>\n",
       "      <td>65</td>\n",
       "      <td>65</td>\n",
       "      <td>65</td>\n",
       "      <td>65</td>\n",
       "      <td>65</td>\n",
       "      <td>65</td>\n",
       "      <td>...</td>\n",
       "      <td>65</td>\n",
       "      <td>65</td>\n",
       "      <td>65</td>\n",
       "      <td>65</td>\n",
       "      <td>65</td>\n",
       "      <td>65</td>\n",
       "      <td>65</td>\n",
       "      <td>65</td>\n",
       "      <td>65</td>\n",
       "      <td>65</td>\n",
       "    </tr>\n",
       "    <tr>\n",
       "      <th>고양이</th>\n",
       "      <td>403</td>\n",
       "      <td>403</td>\n",
       "      <td>403</td>\n",
       "      <td>403</td>\n",
       "      <td>403</td>\n",
       "      <td>403</td>\n",
       "      <td>403</td>\n",
       "      <td>403</td>\n",
       "      <td>403</td>\n",
       "      <td>403</td>\n",
       "      <td>...</td>\n",
       "      <td>403</td>\n",
       "      <td>403</td>\n",
       "      <td>403</td>\n",
       "      <td>403</td>\n",
       "      <td>403</td>\n",
       "      <td>403</td>\n",
       "      <td>403</td>\n",
       "      <td>403</td>\n",
       "      <td>403</td>\n",
       "      <td>403</td>\n",
       "    </tr>\n",
       "    <tr>\n",
       "      <th>염소</th>\n",
       "      <td>70</td>\n",
       "      <td>70</td>\n",
       "      <td>70</td>\n",
       "      <td>70</td>\n",
       "      <td>70</td>\n",
       "      <td>70</td>\n",
       "      <td>70</td>\n",
       "      <td>70</td>\n",
       "      <td>70</td>\n",
       "      <td>70</td>\n",
       "      <td>...</td>\n",
       "      <td>70</td>\n",
       "      <td>70</td>\n",
       "      <td>70</td>\n",
       "      <td>70</td>\n",
       "      <td>70</td>\n",
       "      <td>70</td>\n",
       "      <td>70</td>\n",
       "      <td>70</td>\n",
       "      <td>70</td>\n",
       "      <td>70</td>\n",
       "    </tr>\n",
       "  </tbody>\n",
       "</table>\n",
       "<p>4 rows × 61 columns</p>\n",
       "</div>"
      ],
      "text/plain": [
       "       name  path  duration  chroma_stft_mean  chroma_stft_var  rms_mean  \\\n",
       "cate2                                                                      \n",
       "개       283   283       283               283              283       283   \n",
       "개구리      65    65        65                65               65        65   \n",
       "고양이     403   403       403               403              403       403   \n",
       "염소       70    70        70                70               70        70   \n",
       "\n",
       "       rms_var  spectral_centroid_mean  spectral_centroid_var  \\\n",
       "cate2                                                           \n",
       "개          283                     283                    283   \n",
       "개구리         65                      65                     65   \n",
       "고양이        403                     403                    403   \n",
       "염소          70                      70                     70   \n",
       "\n",
       "       spectral_bandwidth_mean  ...  mfcc16_var  mfcc17_mean  mfcc17_var  \\\n",
       "cate2                           ...                                        \n",
       "개                          283  ...         283          283         283   \n",
       "개구리                         65  ...          65           65          65   \n",
       "고양이                        403  ...         403          403         403   \n",
       "염소                          70  ...          70           70          70   \n",
       "\n",
       "       mfcc18_mean  mfcc18_var  mfcc19_mean  mfcc19_var  mfcc20_mean  \\\n",
       "cate2                                                                  \n",
       "개              283         283          283         283          283   \n",
       "개구리             65          65           65          65           65   \n",
       "고양이            403         403          403         403          403   \n",
       "염소              70          70           70          70           70   \n",
       "\n",
       "       mfcc20_var  cate1  \n",
       "cate2                     \n",
       "개             283    283  \n",
       "개구리            65     65  \n",
       "고양이           403    403  \n",
       "염소             70     70  \n",
       "\n",
       "[4 rows x 61 columns]"
      ]
     },
     "execution_count": 143,
     "metadata": {},
     "output_type": "execute_result"
    }
   ],
   "source": [
    "result_df.groupby('cate2').count()"
   ]
  },
  {
   "cell_type": "code",
   "execution_count": 144,
   "id": "68d7a0d0",
   "metadata": {},
   "outputs": [
    {
     "name": "stdout",
     "output_type": "stream",
     "text": [
      "너무 긴 outlier 제외:  7\n",
      "너무 짧은 outlier 제외:  18\n"
     ]
    }
   ],
   "source": [
    "long_out = result_df[result_df['duration']>20].index.tolist()\n",
    "short_out = result_df[result_df['duration']<0.7].index.tolist()\n",
    "print(\"너무 긴 outlier 제외: \", len(long_out))\n",
    "print(\"너무 짧은 outlier 제외: \", len(short_out))"
   ]
  },
  {
   "cell_type": "code",
   "execution_count": 145,
   "id": "bf5f2580",
   "metadata": {},
   "outputs": [
    {
     "data": {
      "text/html": [
       "<div>\n",
       "<style scoped>\n",
       "    .dataframe tbody tr th:only-of-type {\n",
       "        vertical-align: middle;\n",
       "    }\n",
       "\n",
       "    .dataframe tbody tr th {\n",
       "        vertical-align: top;\n",
       "    }\n",
       "\n",
       "    .dataframe thead th {\n",
       "        text-align: right;\n",
       "    }\n",
       "</style>\n",
       "<table border=\"1\" class=\"dataframe\">\n",
       "  <thead>\n",
       "    <tr style=\"text-align: right;\">\n",
       "      <th></th>\n",
       "      <th>name</th>\n",
       "      <th>path</th>\n",
       "      <th>duration</th>\n",
       "      <th>chroma_stft_mean</th>\n",
       "      <th>chroma_stft_var</th>\n",
       "      <th>rms_mean</th>\n",
       "      <th>rms_var</th>\n",
       "      <th>spectral_centroid_mean</th>\n",
       "      <th>spectral_centroid_var</th>\n",
       "      <th>spectral_bandwidth_mean</th>\n",
       "      <th>...</th>\n",
       "      <th>mfcc17_mean</th>\n",
       "      <th>mfcc17_var</th>\n",
       "      <th>mfcc18_mean</th>\n",
       "      <th>mfcc18_var</th>\n",
       "      <th>mfcc19_mean</th>\n",
       "      <th>mfcc19_var</th>\n",
       "      <th>mfcc20_mean</th>\n",
       "      <th>mfcc20_var</th>\n",
       "      <th>cate1</th>\n",
       "      <th>cate2</th>\n",
       "    </tr>\n",
       "  </thead>\n",
       "  <tbody>\n",
       "    <tr>\n",
       "      <th>0</th>\n",
       "      <td>cat_35</td>\n",
       "      <td>../../sounds/animal/고양이 소리/cat_35.wav</td>\n",
       "      <td>11.000000</td>\n",
       "      <td>0.564131</td>\n",
       "      <td>0.067314</td>\n",
       "      <td>0.025919</td>\n",
       "      <td>0.001132</td>\n",
       "      <td>1429.288552</td>\n",
       "      <td>2.612002e+05</td>\n",
       "      <td>1612.312516</td>\n",
       "      <td>...</td>\n",
       "      <td>7.457832</td>\n",
       "      <td>35.269684</td>\n",
       "      <td>-2.501132</td>\n",
       "      <td>24.037781</td>\n",
       "      <td>1.829896</td>\n",
       "      <td>19.635115</td>\n",
       "      <td>1.710906</td>\n",
       "      <td>24.903175</td>\n",
       "      <td>animal</td>\n",
       "      <td>고양이</td>\n",
       "    </tr>\n",
       "    <tr>\n",
       "      <th>1</th>\n",
       "      <td>cat_141</td>\n",
       "      <td>../../sounds/animal/고양이 소리/cat_141.wav</td>\n",
       "      <td>0.941723</td>\n",
       "      <td>0.409352</td>\n",
       "      <td>0.080211</td>\n",
       "      <td>0.165388</td>\n",
       "      <td>0.006663</td>\n",
       "      <td>2596.732198</td>\n",
       "      <td>5.135426e+04</td>\n",
       "      <td>1524.065073</td>\n",
       "      <td>...</td>\n",
       "      <td>11.936614</td>\n",
       "      <td>40.342899</td>\n",
       "      <td>-8.426805</td>\n",
       "      <td>32.566399</td>\n",
       "      <td>6.773017</td>\n",
       "      <td>36.244740</td>\n",
       "      <td>-3.884769</td>\n",
       "      <td>35.042721</td>\n",
       "      <td>animal</td>\n",
       "      <td>고양이</td>\n",
       "    </tr>\n",
       "    <tr>\n",
       "      <th>2</th>\n",
       "      <td>1-47819-B-5</td>\n",
       "      <td>../../sounds/animal/고양이 소리/1-47819-B-5.wav</td>\n",
       "      <td>5.000000</td>\n",
       "      <td>0.438500</td>\n",
       "      <td>0.095735</td>\n",
       "      <td>0.005553</td>\n",
       "      <td>0.000041</td>\n",
       "      <td>2654.685243</td>\n",
       "      <td>1.751842e+05</td>\n",
       "      <td>2636.130122</td>\n",
       "      <td>...</td>\n",
       "      <td>-6.396316</td>\n",
       "      <td>33.586544</td>\n",
       "      <td>2.215581</td>\n",
       "      <td>33.081585</td>\n",
       "      <td>-8.530169</td>\n",
       "      <td>40.782906</td>\n",
       "      <td>-2.218924</td>\n",
       "      <td>86.056854</td>\n",
       "      <td>animal</td>\n",
       "      <td>고양이</td>\n",
       "    </tr>\n",
       "    <tr>\n",
       "      <th>3</th>\n",
       "      <td>cat_6</td>\n",
       "      <td>../../sounds/animal/cats_dogs/cat_6.wav</td>\n",
       "      <td>11.500000</td>\n",
       "      <td>0.675863</td>\n",
       "      <td>0.047439</td>\n",
       "      <td>0.028183</td>\n",
       "      <td>0.001136</td>\n",
       "      <td>1445.259695</td>\n",
       "      <td>5.188685e+05</td>\n",
       "      <td>1818.439417</td>\n",
       "      <td>...</td>\n",
       "      <td>0.885537</td>\n",
       "      <td>54.459682</td>\n",
       "      <td>8.594900</td>\n",
       "      <td>48.064693</td>\n",
       "      <td>6.021374</td>\n",
       "      <td>47.691811</td>\n",
       "      <td>2.553943</td>\n",
       "      <td>34.186470</td>\n",
       "      <td>animal</td>\n",
       "      <td>고양이</td>\n",
       "    </tr>\n",
       "    <tr>\n",
       "      <th>4</th>\n",
       "      <td>cat_110</td>\n",
       "      <td>../../sounds/animal/고양이 소리/cat_110.wav</td>\n",
       "      <td>1.272018</td>\n",
       "      <td>0.259342</td>\n",
       "      <td>0.095272</td>\n",
       "      <td>0.171115</td>\n",
       "      <td>0.010512</td>\n",
       "      <td>2171.597309</td>\n",
       "      <td>4.352366e+05</td>\n",
       "      <td>1793.060664</td>\n",
       "      <td>...</td>\n",
       "      <td>-13.009889</td>\n",
       "      <td>199.441040</td>\n",
       "      <td>-16.631609</td>\n",
       "      <td>92.513298</td>\n",
       "      <td>24.283859</td>\n",
       "      <td>269.449158</td>\n",
       "      <td>2.176965</td>\n",
       "      <td>76.417595</td>\n",
       "      <td>animal</td>\n",
       "      <td>고양이</td>\n",
       "    </tr>\n",
       "    <tr>\n",
       "      <th>...</th>\n",
       "      <td>...</td>\n",
       "      <td>...</td>\n",
       "      <td>...</td>\n",
       "      <td>...</td>\n",
       "      <td>...</td>\n",
       "      <td>...</td>\n",
       "      <td>...</td>\n",
       "      <td>...</td>\n",
       "      <td>...</td>\n",
       "      <td>...</td>\n",
       "      <td>...</td>\n",
       "      <td>...</td>\n",
       "      <td>...</td>\n",
       "      <td>...</td>\n",
       "      <td>...</td>\n",
       "      <td>...</td>\n",
       "      <td>...</td>\n",
       "      <td>...</td>\n",
       "      <td>...</td>\n",
       "      <td>...</td>\n",
       "      <td>...</td>\n",
       "    </tr>\n",
       "    <tr>\n",
       "      <th>813</th>\n",
       "      <td>frog006</td>\n",
       "      <td>../../sounds/animal/개구리 소리/frog006.wav</td>\n",
       "      <td>5.000000</td>\n",
       "      <td>0.408294</td>\n",
       "      <td>0.107116</td>\n",
       "      <td>0.035385</td>\n",
       "      <td>0.003208</td>\n",
       "      <td>1722.201022</td>\n",
       "      <td>1.330839e+05</td>\n",
       "      <td>1926.415738</td>\n",
       "      <td>...</td>\n",
       "      <td>2.691147</td>\n",
       "      <td>41.597404</td>\n",
       "      <td>1.630553</td>\n",
       "      <td>50.648899</td>\n",
       "      <td>0.742653</td>\n",
       "      <td>48.881790</td>\n",
       "      <td>7.776286</td>\n",
       "      <td>46.224396</td>\n",
       "      <td>animal</td>\n",
       "      <td>개구리</td>\n",
       "    </tr>\n",
       "    <tr>\n",
       "      <th>814</th>\n",
       "      <td>frog (3)</td>\n",
       "      <td>../../sounds/animal/개구리 소리/frog (3).wav</td>\n",
       "      <td>4.851655</td>\n",
       "      <td>0.337052</td>\n",
       "      <td>0.100882</td>\n",
       "      <td>0.127789</td>\n",
       "      <td>0.011256</td>\n",
       "      <td>1963.563587</td>\n",
       "      <td>1.887272e+05</td>\n",
       "      <td>1566.984195</td>\n",
       "      <td>...</td>\n",
       "      <td>13.518247</td>\n",
       "      <td>78.207031</td>\n",
       "      <td>1.010733</td>\n",
       "      <td>36.948193</td>\n",
       "      <td>-2.086380</td>\n",
       "      <td>16.658587</td>\n",
       "      <td>7.775502</td>\n",
       "      <td>70.480675</td>\n",
       "      <td>animal</td>\n",
       "      <td>개구리</td>\n",
       "    </tr>\n",
       "    <tr>\n",
       "      <th>817</th>\n",
       "      <td>speahammondii01</td>\n",
       "      <td>../../sounds/animal/개구리 소리/speahammondii01.mp3</td>\n",
       "      <td>1.071020</td>\n",
       "      <td>0.374024</td>\n",
       "      <td>0.116177</td>\n",
       "      <td>0.126744</td>\n",
       "      <td>0.008538</td>\n",
       "      <td>2481.361244</td>\n",
       "      <td>1.052920e+06</td>\n",
       "      <td>1964.389362</td>\n",
       "      <td>...</td>\n",
       "      <td>-7.063848</td>\n",
       "      <td>19.593475</td>\n",
       "      <td>-1.543129</td>\n",
       "      <td>23.932978</td>\n",
       "      <td>-2.719296</td>\n",
       "      <td>14.471077</td>\n",
       "      <td>4.687849</td>\n",
       "      <td>13.614118</td>\n",
       "      <td>animal</td>\n",
       "      <td>개구리</td>\n",
       "    </tr>\n",
       "    <tr>\n",
       "      <th>819</th>\n",
       "      <td>4-99644-C-4</td>\n",
       "      <td>../../sounds/animal/개구리 소리/4-99644-C-4.wav</td>\n",
       "      <td>5.000000</td>\n",
       "      <td>0.220504</td>\n",
       "      <td>0.105246</td>\n",
       "      <td>0.110958</td>\n",
       "      <td>0.002452</td>\n",
       "      <td>1924.224069</td>\n",
       "      <td>5.817782e+03</td>\n",
       "      <td>954.060591</td>\n",
       "      <td>...</td>\n",
       "      <td>18.250429</td>\n",
       "      <td>60.984940</td>\n",
       "      <td>-9.412504</td>\n",
       "      <td>31.751270</td>\n",
       "      <td>-1.178963</td>\n",
       "      <td>14.788594</td>\n",
       "      <td>7.491617</td>\n",
       "      <td>27.051998</td>\n",
       "      <td>animal</td>\n",
       "      <td>개구리</td>\n",
       "    </tr>\n",
       "    <tr>\n",
       "      <th>820</th>\n",
       "      <td>Golden_Bell_Frog</td>\n",
       "      <td>../../sounds/animal/개구리 소리/Golden_Bell_Frog.wav</td>\n",
       "      <td>9.286757</td>\n",
       "      <td>0.501507</td>\n",
       "      <td>0.087563</td>\n",
       "      <td>0.063615</td>\n",
       "      <td>0.003010</td>\n",
       "      <td>1212.958230</td>\n",
       "      <td>1.235477e+04</td>\n",
       "      <td>965.238618</td>\n",
       "      <td>...</td>\n",
       "      <td>-0.239257</td>\n",
       "      <td>22.684029</td>\n",
       "      <td>0.300831</td>\n",
       "      <td>31.667809</td>\n",
       "      <td>12.581221</td>\n",
       "      <td>20.311956</td>\n",
       "      <td>-5.592305</td>\n",
       "      <td>12.934476</td>\n",
       "      <td>animal</td>\n",
       "      <td>개구리</td>\n",
       "    </tr>\n",
       "  </tbody>\n",
       "</table>\n",
       "<p>796 rows × 62 columns</p>\n",
       "</div>"
      ],
      "text/plain": [
       "                 name                                             path  \\\n",
       "0              cat_35            ../../sounds/animal/고양이 소리/cat_35.wav   \n",
       "1             cat_141           ../../sounds/animal/고양이 소리/cat_141.wav   \n",
       "2         1-47819-B-5       ../../sounds/animal/고양이 소리/1-47819-B-5.wav   \n",
       "3               cat_6          ../../sounds/animal/cats_dogs/cat_6.wav   \n",
       "4             cat_110           ../../sounds/animal/고양이 소리/cat_110.wav   \n",
       "..                ...                                              ...   \n",
       "813           frog006           ../../sounds/animal/개구리 소리/frog006.wav   \n",
       "814          frog (3)          ../../sounds/animal/개구리 소리/frog (3).wav   \n",
       "817   speahammondii01   ../../sounds/animal/개구리 소리/speahammondii01.mp3   \n",
       "819       4-99644-C-4       ../../sounds/animal/개구리 소리/4-99644-C-4.wav   \n",
       "820  Golden_Bell_Frog  ../../sounds/animal/개구리 소리/Golden_Bell_Frog.wav   \n",
       "\n",
       "      duration  chroma_stft_mean  chroma_stft_var  rms_mean   rms_var  \\\n",
       "0    11.000000          0.564131         0.067314  0.025919  0.001132   \n",
       "1     0.941723          0.409352         0.080211  0.165388  0.006663   \n",
       "2     5.000000          0.438500         0.095735  0.005553  0.000041   \n",
       "3    11.500000          0.675863         0.047439  0.028183  0.001136   \n",
       "4     1.272018          0.259342         0.095272  0.171115  0.010512   \n",
       "..         ...               ...              ...       ...       ...   \n",
       "813   5.000000          0.408294         0.107116  0.035385  0.003208   \n",
       "814   4.851655          0.337052         0.100882  0.127789  0.011256   \n",
       "817   1.071020          0.374024         0.116177  0.126744  0.008538   \n",
       "819   5.000000          0.220504         0.105246  0.110958  0.002452   \n",
       "820   9.286757          0.501507         0.087563  0.063615  0.003010   \n",
       "\n",
       "     spectral_centroid_mean  spectral_centroid_var  spectral_bandwidth_mean  \\\n",
       "0               1429.288552           2.612002e+05              1612.312516   \n",
       "1               2596.732198           5.135426e+04              1524.065073   \n",
       "2               2654.685243           1.751842e+05              2636.130122   \n",
       "3               1445.259695           5.188685e+05              1818.439417   \n",
       "4               2171.597309           4.352366e+05              1793.060664   \n",
       "..                      ...                    ...                      ...   \n",
       "813             1722.201022           1.330839e+05              1926.415738   \n",
       "814             1963.563587           1.887272e+05              1566.984195   \n",
       "817             2481.361244           1.052920e+06              1964.389362   \n",
       "819             1924.224069           5.817782e+03               954.060591   \n",
       "820             1212.958230           1.235477e+04               965.238618   \n",
       "\n",
       "     ...  mfcc17_mean  mfcc17_var  mfcc18_mean  mfcc18_var  mfcc19_mean  \\\n",
       "0    ...     7.457832   35.269684    -2.501132   24.037781     1.829896   \n",
       "1    ...    11.936614   40.342899    -8.426805   32.566399     6.773017   \n",
       "2    ...    -6.396316   33.586544     2.215581   33.081585    -8.530169   \n",
       "3    ...     0.885537   54.459682     8.594900   48.064693     6.021374   \n",
       "4    ...   -13.009889  199.441040   -16.631609   92.513298    24.283859   \n",
       "..   ...          ...         ...          ...         ...          ...   \n",
       "813  ...     2.691147   41.597404     1.630553   50.648899     0.742653   \n",
       "814  ...    13.518247   78.207031     1.010733   36.948193    -2.086380   \n",
       "817  ...    -7.063848   19.593475    -1.543129   23.932978    -2.719296   \n",
       "819  ...    18.250429   60.984940    -9.412504   31.751270    -1.178963   \n",
       "820  ...    -0.239257   22.684029     0.300831   31.667809    12.581221   \n",
       "\n",
       "     mfcc19_var  mfcc20_mean  mfcc20_var   cate1  cate2  \n",
       "0     19.635115     1.710906   24.903175  animal    고양이  \n",
       "1     36.244740    -3.884769   35.042721  animal    고양이  \n",
       "2     40.782906    -2.218924   86.056854  animal    고양이  \n",
       "3     47.691811     2.553943   34.186470  animal    고양이  \n",
       "4    269.449158     2.176965   76.417595  animal    고양이  \n",
       "..          ...          ...         ...     ...    ...  \n",
       "813   48.881790     7.776286   46.224396  animal    개구리  \n",
       "814   16.658587     7.775502   70.480675  animal    개구리  \n",
       "817   14.471077     4.687849   13.614118  animal    개구리  \n",
       "819   14.788594     7.491617   27.051998  animal    개구리  \n",
       "820   20.311956    -5.592305   12.934476  animal    개구리  \n",
       "\n",
       "[796 rows x 62 columns]"
      ]
     },
     "execution_count": 145,
     "metadata": {},
     "output_type": "execute_result"
    }
   ],
   "source": [
    "final_df = result_df.drop(long_out+short_out, axis=0)\n",
    "final_df"
   ]
  },
  {
   "cell_type": "code",
   "execution_count": 146,
   "id": "64bdc8a3",
   "metadata": {},
   "outputs": [
    {
     "name": "stdout",
     "output_type": "stream",
     "text": [
      "cate2\n",
      "개      281\n",
      "개구리     51\n",
      "고양이    396\n",
      "염소      68\n",
      "Name: name, dtype: int64\n"
     ]
    },
    {
     "data": {
      "image/png": "[encoded data removed]",
      "text/plain": [
       "<Figure size 432x288 with 1 Axes>"
      ]
     },
     "metadata": {
      "needs_background": "light"
     },
     "output_type": "display_data"
    }
   ],
   "source": [
    "print(final_df.groupby('cate2').count()['name'])\n",
    "sns.boxplot(data=final_df, x='cate2', y='duration');"
   ]
  },
  {
   "cell_type": "markdown",
   "id": "383b94c1",
   "metadata": {},
   "source": [
    "---\n",
    "# 분류"
   ]
  },
  {
   "cell_type": "code",
   "execution_count": 147,
   "id": "9432def0",
   "metadata": {},
   "outputs": [],
   "source": [
    "from sklearn.model_selection import train_test_split, StratifiedKFold, KFold, RepeatedStratifiedKFold, cross_val_score \n",
    "from sklearn.metrics import accuracy_score, confusion_matrix, ConfusionMatrixDisplay, plot_confusion_matrix, precision_score, recall_score, f1_score\n",
    "from sklearn.linear_model import LogisticRegression\n",
    "from sklearn.svm import LinearSVC\n",
    "from sklearn.ensemble import RandomForestClassifier\n",
    "from sklearn.tree import DecisionTreeClassifier\n",
    "from xgboost import XGBClassifier\n",
    "from imblearn.over_sampling import RandomOverSampler, SMOTE, ADASYN\n",
    "from imblearn.under_sampling import RandomUnderSampler\n",
    "import pickle\n",
    "import joblib\n",
    "import seaborn as sns"
   ]
  },
  {
   "cell_type": "code",
   "execution_count": 148,
   "id": "59c3fb12",
   "metadata": {},
   "outputs": [],
   "source": [
    "def play_song(path):\n",
    "    (file_dir, file_id) = os.path.split(path)\n",
    "    print(file_id[:-4])\n",
    "    print(IPython.display.display(IPython.display.Audio(path)))\n",
    "def play_song_ls(cm_lr_df):\n",
    "    for idx, path in enumerate(cm_lr_df['path']):\n",
    "        print(cm_lr_df['pred'].iloc[idx])\n",
    "        play_song(path)"
   ]
  },
  {
   "cell_type": "code",
   "execution_count": 149,
   "id": "3fbb1865",
   "metadata": {},
   "outputs": [],
   "source": [
    "def make_train_test(df):\n",
    "    df = df.sample(frac=1)\n",
    "    X = df.set_index('path').drop(['name','cate1','cate2','duration'], axis=1)\n",
    "    y = df.set_index('path')[['cate2']].copy()\n",
    "    print(f\"X 개수:{len(X)}, y 개수:{len(y)}\")\n",
    "    print(df.groupby('cate2').count().sort_values('name')[['name']])\n",
    "    return X, y"
   ]
  },
  {
   "cell_type": "code",
   "execution_count": 150,
   "id": "43ef2ba8",
   "metadata": {},
   "outputs": [],
   "source": [
    "def model_fit_kfold(model):\n",
    "    model.fit(X_train, y_train)\n",
    "    y_pred = model.predict(X_test)\n",
    "    cf = confusion_matrix(y_test, y_pred)\n",
    "    kfold = StratifiedKFold(n_splits=5, shuffle=True, random_state=13)\n",
    "    print(\"accuracy:\", round(accuracy_score(y_test, y_pred),6))\n",
    "    print(\"recall:\", round(recall_score(y_test, y_pred, labels=np.unique(y_test), average='macro'),6))\n",
    "    print(\"f1 score:\", round(f1_score(y_test, y_pred, labels=np.unique(y_test), average='macro'),6))\n",
    "#     print(\"Cross Validation Score:\", cross_val_score(model, pd.concat([X_train, X_test]), pd.concat([y_train, y_test]), cv=kfold))\n",
    "    ax = sns.heatmap(cf, annot=True, xticklabels=np.unique(y_test), yticklabels=np.unique(y_test), fmt=\"d\", cmap=\"Blues\")\n",
    "    plt.title(str(model).split('(')[0])\n",
    "    plt.show()\n",
    "    return model, y_pred"
   ]
  },
  {
   "cell_type": "code",
   "execution_count": 151,
   "id": "26c46e01",
   "metadata": {},
   "outputs": [],
   "source": [
    "def check_false_pred(y_pred):\n",
    "    cm_lr_df = pd.DataFrame()\n",
    "    cm_lr_df['answer'] = y_test['cate1'].tolist()\n",
    "    cm_lr_df['pred'] = y_pred\n",
    "    cm_lr_df['result'] = cm_lr_df['answer'] == cm_lr_df['pred']\n",
    "    cm_lr_df['path'] = X_test.index\n",
    "    cm_lr_df['cate2'] = [result_df[result_df['path']== p]['cate2'].iloc[0] for p in cm_lr_df['path']]\n",
    "#     cm_lr_df['noise'] = [result_df[result_df['path']== p]['noise'].iloc[0] for p in cm_lr_df['path']]\n",
    "#     cm_lr_df['name'] = [f\"{p.split('/')[-2]}__{p.split('/')[-1][:-4]}\" for p in cm_lr_df['path']]\n",
    "#     [l.split('/')[-1]for l in cm_lr_df['path']]\n",
    "    cm_lr_df = cm_lr_df[cm_lr_df['result']==False].sort_values(['answer', 'cate2'])\n",
    "    return cm_lr_df"
   ]
  },
  {
   "cell_type": "markdown",
   "id": "d6c7ee64",
   "metadata": {},
   "source": [
    "---\n",
    "# Total songs"
   ]
  },
  {
   "cell_type": "markdown",
   "id": "560b183f",
   "metadata": {},
   "source": [
    "### Test dataset 만들기"
   ]
  },
  {
   "cell_type": "code",
   "execution_count": 152,
   "id": "b413f2c8",
   "metadata": {},
   "outputs": [
    {
     "data": {
      "text/plain": [
       "cate2\n",
       "고양이    396\n",
       "개      281\n",
       "염소      68\n",
       "개구리     51\n",
       "Name: name, dtype: int64"
      ]
     },
     "execution_count": 152,
     "metadata": {},
     "output_type": "execute_result"
    }
   ],
   "source": [
    "count_df = final_df.groupby('cate2').count().sort_values(by='name', ascending=False)['name']\n",
    "count_df"
   ]
  },
  {
   "cell_type": "code",
   "execution_count": 153,
   "id": "0b329729",
   "metadata": {},
   "outputs": [
    {
     "data": {
      "text/plain": [
       "<BarContainer object of 4 artists>"
      ]
     },
     "execution_count": 153,
     "metadata": {},
     "output_type": "execute_result"
    },
    {
     "data": {
      "image/png": "[encoded data removed]",
      "text/plain": [
       "<Figure size 432x288 with 1 Axes>"
      ]
     },
     "metadata": {
      "needs_background": "light"
     },
     "output_type": "display_data"
    }
   ],
   "source": [
    "plt.bar(count_df.index, height=count_df)"
   ]
  },
  {
   "cell_type": "code",
   "execution_count": 162,
   "id": "40133771",
   "metadata": {},
   "outputs": [
    {
     "data": {
      "text/html": [
       "<div>\n",
       "<style scoped>\n",
       "    .dataframe tbody tr th:only-of-type {\n",
       "        vertical-align: middle;\n",
       "    }\n",
       "\n",
       "    .dataframe tbody tr th {\n",
       "        vertical-align: top;\n",
       "    }\n",
       "\n",
       "    .dataframe thead th {\n",
       "        text-align: right;\n",
       "    }\n",
       "</style>\n",
       "<table border=\"1\" class=\"dataframe\">\n",
       "  <thead>\n",
       "    <tr style=\"text-align: right;\">\n",
       "      <th></th>\n",
       "      <th>name</th>\n",
       "    </tr>\n",
       "    <tr>\n",
       "      <th>cate2</th>\n",
       "      <th></th>\n",
       "    </tr>\n",
       "  </thead>\n",
       "  <tbody>\n",
       "    <tr>\n",
       "      <th>개구리</th>\n",
       "      <td>15</td>\n",
       "    </tr>\n",
       "    <tr>\n",
       "      <th>염소</th>\n",
       "      <td>18</td>\n",
       "    </tr>\n",
       "    <tr>\n",
       "      <th>개</th>\n",
       "      <td>50</td>\n",
       "    </tr>\n",
       "    <tr>\n",
       "      <th>고양이</th>\n",
       "      <td>150</td>\n",
       "    </tr>\n",
       "  </tbody>\n",
       "</table>\n",
       "</div>"
      ],
      "text/plain": [
       "       name\n",
       "cate2      \n",
       "개구리      15\n",
       "염소       18\n",
       "개        50\n",
       "고양이     150"
      ]
     },
     "execution_count": 162,
     "metadata": {},
     "output_type": "execute_result"
    }
   ],
   "source": [
    "### random samping으로 라벨별 test 데이터 뽑아두기\n",
    "test_df = final_df.copy()\n",
    "test_cat = test_df[test_df['cate2']=='고양이'].sample(n=150, random_state=13)\n",
    "test_dog = test_df[test_df['cate2']=='개'].sample(n=50, random_state=13)\n",
    "# test_bird = test_df[test_df['cate2']=='새'].sample(n=30, random_state=13)\n",
    "# test_chicken = test_df[test_df['cate2']=='닭'].sample(n=28, random_state=13)\n",
    "test_goat = test_df[test_df['cate2']=='염소'].sample(n=18, random_state=13)\n",
    "test_frog = test_df[test_df['cate2']=='개구리'].sample(n=15, random_state=13)\n",
    "# # test_pig = test_df[test_df['cate2']=='돼지'].sample(n=15, random_state=13)\n",
    "test_df = pd.concat([test_cat, test_dog, test_goat, test_frog])\n",
    "test_df.groupby('cate2').count().sort_values('name')[['name']]"
   ]
  },
  {
   "cell_type": "code",
   "execution_count": 163,
   "id": "45b488c1",
   "metadata": {},
   "outputs": [
    {
     "name": "stdout",
     "output_type": "stream",
     "text": [
      "X 개수:233, y 개수:233\n",
      "       name\n",
      "cate2      \n",
      "개구리      15\n",
      "염소       18\n",
      "개        50\n",
      "고양이     150\n"
     ]
    }
   ],
   "source": [
    "X_test, y_test = make_train_test(test_df)"
   ]
  },
  {
   "cell_type": "code",
   "execution_count": 164,
   "id": "cb5bee3d",
   "metadata": {},
   "outputs": [
    {
     "data": {
      "text/html": [
       "<div>\n",
       "<style scoped>\n",
       "    .dataframe tbody tr th:only-of-type {\n",
       "        vertical-align: middle;\n",
       "    }\n",
       "\n",
       "    .dataframe tbody tr th {\n",
       "        vertical-align: top;\n",
       "    }\n",
       "\n",
       "    .dataframe thead th {\n",
       "        text-align: right;\n",
       "    }\n",
       "</style>\n",
       "<table border=\"1\" class=\"dataframe\">\n",
       "  <thead>\n",
       "    <tr style=\"text-align: right;\">\n",
       "      <th></th>\n",
       "      <th>name</th>\n",
       "    </tr>\n",
       "    <tr>\n",
       "      <th>cate2</th>\n",
       "      <th></th>\n",
       "    </tr>\n",
       "  </thead>\n",
       "  <tbody>\n",
       "    <tr>\n",
       "      <th>개구리</th>\n",
       "      <td>50</td>\n",
       "    </tr>\n",
       "    <tr>\n",
       "      <th>염소</th>\n",
       "      <td>52</td>\n",
       "    </tr>\n",
       "    <tr>\n",
       "      <th>개</th>\n",
       "      <td>233</td>\n",
       "    </tr>\n",
       "    <tr>\n",
       "      <th>고양이</th>\n",
       "      <td>253</td>\n",
       "    </tr>\n",
       "  </tbody>\n",
       "</table>\n",
       "</div>"
      ],
      "text/plain": [
       "       name\n",
       "cate2      \n",
       "개구리      50\n",
       "염소       52\n",
       "개       233\n",
       "고양이     253"
      ]
     },
     "execution_count": 164,
     "metadata": {},
     "output_type": "execute_result"
    }
   ],
   "source": [
    "train_df = result_df.drop(test_df.index, axis=0)\n",
    "train_df.groupby('cate2').count().sort_values('name')[['name']]"
   ]
  },
  {
   "cell_type": "code",
   "execution_count": 165,
   "id": "7be392c5",
   "metadata": {},
   "outputs": [
    {
     "name": "stdout",
     "output_type": "stream",
     "text": [
      "X 개수:588, y 개수:588\n",
      "       name\n",
      "cate2      \n",
      "개구리      50\n",
      "염소       52\n",
      "개       233\n",
      "고양이     253\n",
      "---------DecisionTreeClassifier---------------\n",
      "accuracy: 0.811159\n",
      "recall: 0.688889\n",
      "f1 score: 0.672445\n"
     ]
    },
    {
     "data": {
      "image/png": "[encoded data removed]",
      "text/plain": [
       "<Figure size 432x288 with 2 Axes>"
      ]
     },
     "metadata": {
      "needs_background": "light"
     },
     "output_type": "display_data"
    },
    {
     "name": "stdout",
     "output_type": "stream",
     "text": [
      "---------XGBClassifier---------------\n",
      "accuracy: 0.905579\n",
      "recall: 0.78\n",
      "f1 score: 0.80678\n"
     ]
    },
    {
     "data": {
      "image/png": "[encoded data removed]",
      "text/plain": [
       "<Figure size 432x288 with 2 Axes>"
      ]
     },
     "metadata": {
      "needs_background": "light"
     },
     "output_type": "display_data"
    },
    {
     "name": "stdout",
     "output_type": "stream",
     "text": [
      "---------RandomForestClassifier---------------\n",
      "accuracy: 0.866953\n",
      "recall: 0.759444\n",
      "f1 score: 0.777034\n"
     ]
    },
    {
     "data": {
      "image/png": "[encoded data removed]",
      "text/plain": [
       "<Figure size 432x288 with 2 Axes>"
      ]
     },
     "metadata": {
      "needs_background": "light"
     },
     "output_type": "display_data"
    }
   ],
   "source": [
    "X_train, y_train = make_train_test(train_df)\n",
    "# print(\"---------LogisticRegression---------------\")\n",
    "# lr_model, lr_y_pred = model_fit_kfold(LogisticRegression())\n",
    "print(\"---------DecisionTreeClassifier---------------\")\n",
    "dt_model, dt_y_pred = model_fit_kfold(DecisionTreeClassifier())\n",
    "print(\"---------XGBClassifier---------------\")\n",
    "xgb_model, xgb_y_pred = model_fit_kfold(XGBClassifier(num_class=5,\n",
    "                                           learning_rate=0.1,\n",
    "                                           eval_metric='mlogloss'))\n",
    "print(\"---------RandomForestClassifier---------------\")\n",
    "rf_model, rf_y_pred = model_fit_kfold(RandomForestClassifier(n_estimators=10, random_state=13, oob_score=True))"
   ]
  },
  {
   "cell_type": "code",
   "execution_count": 124,
   "id": "0e494005",
   "metadata": {
    "scrolled": true
   },
   "outputs": [
    {
     "name": "stdout",
     "output_type": "stream",
     "text": [
      "---------RandomForestClassifier---------------\n",
      "accuracy: 0.838174\n",
      "recall: 0.725152\n",
      "f1 score: 0.727887\n"
     ]
    },
    {
     "data": {
      "image/png": "[encoded data removed]",
      "text/plain": [
       "<Figure size 432x288 with 2 Axes>"
      ]
     },
     "metadata": {
      "needs_background": "light"
     },
     "output_type": "display_data"
    },
    {
     "name": "stdout",
     "output_type": "stream",
     "text": [
      "---------XGBClassifier---------------\n",
      "accuracy: 0.86722\n",
      "recall: 0.735758\n",
      "f1 score: 0.756916\n"
     ]
    },
    {
     "data": {
      "image/png": "[encoded data removed]",
      "text/plain": [
       "<Figure size 432x288 with 2 Axes>"
      ]
     },
     "metadata": {
      "needs_background": "light"
     },
     "output_type": "display_data"
    },
    {
     "data": {
      "text/plain": [
       "['models/XGB_animal4_1.pkl']"
      ]
     },
     "execution_count": 124,
     "metadata": {},
     "output_type": "execute_result"
    }
   ],
   "source": [
    "# print(\"---------DecisionTreeClassifier---------------\")\n",
    "# dt_model, dt_y_pred = model_fit_kfold(DecisionTreeClassifier())\n",
    "# # 모델 저장\n",
    "# joblib.dump(xgb_model, 'models/DTC_animal4_85.pkl')\n",
    "print(\"---------RandomForestClassifier---------------\")\n",
    "rf_model, rf_y_pred = model_fit_kfold(RandomForestClassifier(n_estimators=10, random_state=13, oob_score=True))\n",
    "# 모델 저장\n",
    "joblib.dump(rf_model, 'models/RF_animal4_1.pkl')\n",
    "\n",
    "print(\"---------XGBClassifier---------------\")\n",
    "xgb_model, xgb_y_pred = model_fit_kfold(XGBClassifier(num_class=5,\n",
    "                                           learning_rate=0.1,\n",
    "                                           eval_metric='mlogloss'))\n",
    "# 모델 저장\n",
    "joblib.dump(xgb_model, 'models/XGB_animal4_1.pkl')"
   ]
  },
  {
   "cell_type": "markdown",
   "id": "20da7194",
   "metadata": {},
   "source": [
    "### 2. oversamping - imblearn.ADASYN\n",
    "- SMOTE에 비해 ADASYN이 조금 더 사실적으로 데이터 간의 분산을 넣어 오버샘플링해준다 함"
   ]
  },
  {
   "cell_type": "code",
   "execution_count": 166,
   "id": "e3da84fb",
   "metadata": {},
   "outputs": [
    {
     "name": "stdout",
     "output_type": "stream",
     "text": [
      "X 개수:233, y 개수:233\n",
      "       name\n",
      "cate2      \n",
      "개구리      15\n",
      "염소       18\n",
      "개        50\n",
      "고양이     150\n",
      "X 개수:588, y 개수:588\n",
      "       name\n",
      "cate2      \n",
      "개구리      50\n",
      "염소       52\n",
      "개       233\n",
      "고양이     253\n"
     ]
    },
    {
     "data": {
      "text/html": [
       "<div>\n",
       "<style scoped>\n",
       "    .dataframe tbody tr th:only-of-type {\n",
       "        vertical-align: middle;\n",
       "    }\n",
       "\n",
       "    .dataframe tbody tr th {\n",
       "        vertical-align: top;\n",
       "    }\n",
       "\n",
       "    .dataframe thead th {\n",
       "        text-align: right;\n",
       "    }\n",
       "</style>\n",
       "<table border=\"1\" class=\"dataframe\">\n",
       "  <thead>\n",
       "    <tr style=\"text-align: right;\">\n",
       "      <th></th>\n",
       "      <th>index</th>\n",
       "    </tr>\n",
       "    <tr>\n",
       "      <th>cate2</th>\n",
       "      <th></th>\n",
       "    </tr>\n",
       "  </thead>\n",
       "  <tbody>\n",
       "    <tr>\n",
       "      <th>개</th>\n",
       "      <td>233</td>\n",
       "    </tr>\n",
       "    <tr>\n",
       "      <th>개구리</th>\n",
       "      <td>248</td>\n",
       "    </tr>\n",
       "    <tr>\n",
       "      <th>고양이</th>\n",
       "      <td>253</td>\n",
       "    </tr>\n",
       "    <tr>\n",
       "      <th>염소</th>\n",
       "      <td>52</td>\n",
       "    </tr>\n",
       "  </tbody>\n",
       "</table>\n",
       "</div>"
      ],
      "text/plain": [
       "       index\n",
       "cate2       \n",
       "개        233\n",
       "개구리      248\n",
       "고양이      253\n",
       "염소        52"
      ]
     },
     "execution_count": 166,
     "metadata": {},
     "output_type": "execute_result"
    }
   ],
   "source": [
    "X_test, y_test = make_train_test(test_df)\n",
    "train_df = result_df.drop(test_df.index, axis=0)\n",
    "X_train, y_train = make_train_test(train_df)\n",
    "X_train, y_train = ADASYN(sampling_strategy='minority', random_state=13).fit_resample(X_train, y_train) # oversamping\n",
    "y_train.reset_index().groupby('cate2').count()"
   ]
  },
  {
   "cell_type": "code",
   "execution_count": 167,
   "id": "b7ee6192",
   "metadata": {
    "scrolled": false
   },
   "outputs": [
    {
     "name": "stdout",
     "output_type": "stream",
     "text": [
      "---------DecisionTreeClassifier---------------\n",
      "accuracy: 0.802575\n",
      "recall: 0.735556\n",
      "f1 score: 0.699135\n"
     ]
    },
    {
     "data": {
      "image/png": "[encoded data removed]",
      "text/plain": [
       "<Figure size 432x288 with 2 Axes>"
      ]
     },
     "metadata": {
      "needs_background": "light"
     },
     "output_type": "display_data"
    },
    {
     "name": "stdout",
     "output_type": "stream",
     "text": [
      "---------XGBClassifier---------------\n",
      "accuracy: 0.901288\n",
      "recall: 0.772222\n",
      "f1 score: 0.786404\n"
     ]
    },
    {
     "data": {
      "image/png": "[encoded data removed]",
      "text/plain": [
       "<Figure size 432x288 with 2 Axes>"
      ]
     },
     "metadata": {
      "needs_background": "light"
     },
     "output_type": "display_data"
    },
    {
     "name": "stdout",
     "output_type": "stream",
     "text": [
      "---------RandomForestClassifier---------------\n",
      "accuracy: 0.866953\n",
      "recall: 0.748889\n",
      "f1 score: 0.750548\n"
     ]
    },
    {
     "data": {
      "image/png": "[encoded data removed]",
      "text/plain": [
       "<Figure size 432x288 with 2 Axes>"
      ]
     },
     "metadata": {
      "needs_background": "light"
     },
     "output_type": "display_data"
    }
   ],
   "source": [
    "# print(\"---------LogisticRegression---------------\")\n",
    "# lr_model, lr_y_pred = model_fit_kfold(LogisticRegression())\n",
    "print(\"---------DecisionTreeClassifier---------------\")\n",
    "dt_model, dt_y_pred = model_fit_kfold(DecisionTreeClassifier())\n",
    "print(\"---------XGBClassifier---------------\")\n",
    "xgb_model, xgb_y_pred = model_fit_kfold(XGBClassifier(num_class=5,\n",
    "                                           learning_rate=0.1,\n",
    "                                           eval_metric='mlogloss'))\n",
    "print(\"---------RandomForestClassifier---------------\")\n",
    "rf_model, rf_y_pred = model_fit_kfold(RandomForestClassifier(n_estimators=10, random_state=13, oob_score=True))"
   ]
  },
  {
   "cell_type": "code",
   "execution_count": 137,
   "id": "2be55e7d",
   "metadata": {},
   "outputs": [
    {
     "name": "stdout",
     "output_type": "stream",
     "text": [
      "---------DecisionTreeClassifier---------------\n",
      "accuracy: 0.781893\n",
      "recall: 0.697738\n",
      "f1 score: 0.675285\n"
     ]
    },
    {
     "data": {
      "image/png": "[encoded data removed]",
      "text/plain": [
       "<Figure size 432x288 with 2 Axes>"
      ]
     },
     "metadata": {
      "needs_background": "light"
     },
     "output_type": "display_data"
    },
    {
     "name": "stdout",
     "output_type": "stream",
     "text": [
      "---------RandomForestClassifier---------------\n",
      "accuracy: 0.855967\n",
      "recall: 0.704286\n",
      "f1 score: 0.726952\n"
     ]
    },
    {
     "data": {
      "image/png": "[encoded data removed]",
      "text/plain": [
       "<Figure size 432x288 with 2 Axes>"
      ]
     },
     "metadata": {
      "needs_background": "light"
     },
     "output_type": "display_data"
    },
    {
     "name": "stdout",
     "output_type": "stream",
     "text": [
      "---------XGBClassifier---------------\n",
      "accuracy: 0.880658\n",
      "recall: 0.761667\n",
      "f1 score: 0.770684\n"
     ]
    },
    {
     "data": {
      "image/png": "[encoded data removed]",
      "text/plain": [
       "<Figure size 432x288 with 2 Axes>"
      ]
     },
     "metadata": {
      "needs_background": "light"
     },
     "output_type": "display_data"
    },
    {
     "data": {
      "text/plain": [
       "['models/XGB_animal4_1_oversampling.pkl']"
      ]
     },
     "execution_count": 137,
     "metadata": {},
     "output_type": "execute_result"
    }
   ],
   "source": [
    "print(\"---------DecisionTreeClassifier---------------\")\n",
    "dt_model, dt_y_pred = model_fit_kfold(DecisionTreeClassifier())\n",
    "# 모델 저장\n",
    "joblib.dump(xgb_model, 'models/DTC_animal4_1.pkl')\n",
    "\n",
    "print(\"---------RandomForestClassifier---------------\")\n",
    "rf_model, rf_y_pred = model_fit_kfold(RandomForestClassifier(n_estimators=10, random_state=13, oob_score=True))\n",
    "# 모델 저장\n",
    "joblib.dump(rf_model, 'models/RF_animal4_1_oversampling.pkl')\n",
    "\n",
    "print(\"---------XGBClassifier---------------\")\n",
    "xgb_model, xgb_y_pred = model_fit_kfold(XGBClassifier(num_class=5,\n",
    "                                           learning_rate=0.1,\n",
    "                                           eval_metric='mlogloss'))\n",
    "# 모델 저장\n",
    "joblib.dump(xgb_model, 'models/XGB_animal4_1_oversampling.pkl')"
   ]
  },
  {
   "cell_type": "markdown",
   "id": "4c6ba456",
   "metadata": {},
   "source": [
    "---\n",
    "# short_df\n",
    "- 노래 길이 백분위 55% 미만 데이터 기준"
   ]
  },
  {
   "cell_type": "code",
   "execution_count": 88,
   "id": "2e6f4253",
   "metadata": {},
   "outputs": [
    {
     "name": "stdout",
     "output_type": "stream",
     "text": [
      "409\n",
      "cate2\n",
      "개      200\n",
      "고양이    150\n",
      "새       59\n",
      "Name: duration, dtype: int64\n",
      "count    409.000000\n",
      "mean       3.448443\n",
      "std        1.396911\n",
      "min        1.015692\n",
      "25%        2.108027\n",
      "50%        3.622449\n",
      "75%        5.000000\n",
      "max        5.120000\n",
      "Name: duration, dtype: float64\n"
     ]
    },
    {
     "data": {
      "image/png": "[encoded data removed]",
      "text/plain": [
       "<Figure size 432x288 with 1 Axes>"
      ]
     },
     "metadata": {
      "needs_background": "light"
     },
     "output_type": "display_data"
    }
   ],
   "source": [
    "short_df = final_df[final_df['duration']<np.percentile(final_df['duration'], 53)]#[final_df['duration']>np.percentile(final_df['duration'], 25)]\n",
    "print(len(short_df))\n",
    "print(short_df.groupby('cate2')['duration'].count())\n",
    "print(short_df['duration'].describe())\n",
    "sns.boxplot(data=short_df, x='cate2', y='duration');"
   ]
  },
  {
   "cell_type": "markdown",
   "id": "372bdd2a",
   "metadata": {},
   "source": [
    "## Test dataset 만들기"
   ]
  },
  {
   "cell_type": "code",
   "execution_count": 99,
   "id": "0981dd9e",
   "metadata": {},
   "outputs": [
    {
     "data": {
      "text/html": [
       "<div>\n",
       "<style scoped>\n",
       "    .dataframe tbody tr th:only-of-type {\n",
       "        vertical-align: middle;\n",
       "    }\n",
       "\n",
       "    .dataframe tbody tr th {\n",
       "        vertical-align: top;\n",
       "    }\n",
       "\n",
       "    .dataframe thead th {\n",
       "        text-align: right;\n",
       "    }\n",
       "</style>\n",
       "<table border=\"1\" class=\"dataframe\">\n",
       "  <thead>\n",
       "    <tr style=\"text-align: right;\">\n",
       "      <th></th>\n",
       "      <th>name</th>\n",
       "    </tr>\n",
       "    <tr>\n",
       "      <th>cate2</th>\n",
       "      <th></th>\n",
       "    </tr>\n",
       "  </thead>\n",
       "  <tbody>\n",
       "    <tr>\n",
       "      <th>새</th>\n",
       "      <td>9</td>\n",
       "    </tr>\n",
       "    <tr>\n",
       "      <th>개</th>\n",
       "      <td>100</td>\n",
       "    </tr>\n",
       "    <tr>\n",
       "      <th>고양이</th>\n",
       "      <td>100</td>\n",
       "    </tr>\n",
       "  </tbody>\n",
       "</table>\n",
       "</div>"
      ],
      "text/plain": [
       "       name\n",
       "cate2      \n",
       "새         9\n",
       "개       100\n",
       "고양이     100"
      ]
     },
     "execution_count": 99,
     "metadata": {},
     "output_type": "execute_result"
    }
   ],
   "source": [
    "### random samping으로 라벨별 test 데이터 뽑아두기\n",
    "test_df = short_df.copy()\n",
    "test_cat = test_df[test_df['cate2']=='고양이'].sample(n=100, random_state=1)\n",
    "test_dog = test_df[test_df['cate2']=='개'].sample(n=100, random_state=13)\n",
    "test_bird = test_df[test_df['cate2']=='새'].sample(n=9, random_state=13)\n",
    "# test_chicken = test_df[test_df['cate2']=='닭'].sample(n=30, random_state=13)\n",
    "# test_goat = test_df[test_df['cate2']=='염소'].sample(n=7, random_state=13)\n",
    "# test_frog = test_df[test_df['cate2']=='개구리'].sample(n=10, random_state=13)\n",
    "# test_pig = test_df[test_df['cate2']=='돼지'].sample(n=7, random_state=13)\n",
    "test_df = pd.concat([test_cat, test_dog, test_bird])\n",
    "test_df.groupby('cate2').count().sort_values('name')[['name']]"
   ]
  },
  {
   "cell_type": "code",
   "execution_count": 100,
   "id": "7cb536bc",
   "metadata": {},
   "outputs": [
    {
     "name": "stdout",
     "output_type": "stream",
     "text": [
      "X 개수:209, y 개수:209\n",
      "       name\n",
      "cate2      \n",
      "새         9\n",
      "개       100\n",
      "고양이     100\n"
     ]
    }
   ],
   "source": [
    "X_test, y_test = make_train_test(test_df)"
   ]
  },
  {
   "cell_type": "code",
   "execution_count": 101,
   "id": "155edad2",
   "metadata": {},
   "outputs": [
    {
     "data": {
      "text/html": [
       "<div>\n",
       "<style scoped>\n",
       "    .dataframe tbody tr th:only-of-type {\n",
       "        vertical-align: middle;\n",
       "    }\n",
       "\n",
       "    .dataframe tbody tr th {\n",
       "        vertical-align: top;\n",
       "    }\n",
       "\n",
       "    .dataframe thead th {\n",
       "        text-align: right;\n",
       "    }\n",
       "</style>\n",
       "<table border=\"1\" class=\"dataframe\">\n",
       "  <thead>\n",
       "    <tr style=\"text-align: right;\">\n",
       "      <th></th>\n",
       "      <th>name</th>\n",
       "    </tr>\n",
       "    <tr>\n",
       "      <th>cate2</th>\n",
       "      <th></th>\n",
       "    </tr>\n",
       "  </thead>\n",
       "  <tbody>\n",
       "    <tr>\n",
       "      <th>고양이</th>\n",
       "      <td>50</td>\n",
       "    </tr>\n",
       "    <tr>\n",
       "      <th>새</th>\n",
       "      <td>50</td>\n",
       "    </tr>\n",
       "    <tr>\n",
       "      <th>개</th>\n",
       "      <td>100</td>\n",
       "    </tr>\n",
       "  </tbody>\n",
       "</table>\n",
       "</div>"
      ],
      "text/plain": [
       "       name\n",
       "cate2      \n",
       "고양이      50\n",
       "새        50\n",
       "개       100"
      ]
     },
     "execution_count": 101,
     "metadata": {},
     "output_type": "execute_result"
    }
   ],
   "source": [
    "train_df = short_df.drop(test_df.index, axis=0)\n",
    "train_df.groupby('cate2').count().sort_values('name')[['name']]"
   ]
  },
  {
   "cell_type": "markdown",
   "id": "904219b3",
   "metadata": {},
   "source": [
    "### 0. 그대로 테스트"
   ]
  },
  {
   "cell_type": "code",
   "execution_count": 103,
   "id": "bc0cc797",
   "metadata": {},
   "outputs": [
    {
     "name": "stdout",
     "output_type": "stream",
     "text": [
      "X 개수:200, y 개수:200\n",
      "       name\n",
      "cate2      \n",
      "고양이      50\n",
      "새        50\n",
      "개       100\n",
      "---------DecisionTreeClassifier---------------\n",
      "accuracy: 0.827751\n",
      "recall: 0.812593\n",
      "f1 score: 0.711507\n"
     ]
    },
    {
     "data": {
      "image/png": "[encoded data removed]",
      "text/plain": [
       "<Figure size 432x288 with 2 Axes>"
      ]
     },
     "metadata": {
      "needs_background": "light"
     },
     "output_type": "display_data"
    },
    {
     "name": "stdout",
     "output_type": "stream",
     "text": [
      "---------XGBClassifier---------------\n",
      "accuracy: 0.866029\n",
      "recall: 0.872963\n",
      "f1 score: 0.782078\n"
     ]
    },
    {
     "data": {
      "image/png": "[encoded data removed]",
      "text/plain": [
       "<Figure size 432x288 with 2 Axes>"
      ]
     },
     "metadata": {
      "needs_background": "light"
     },
     "output_type": "display_data"
    },
    {
     "name": "stdout",
     "output_type": "stream",
     "text": [
      "---------RandomForestClassifier---------------\n",
      "accuracy: 0.818182\n",
      "recall: 0.83963\n",
      "f1 score: 0.721935\n"
     ]
    },
    {
     "data": {
      "image/png": "[encoded data removed]",
      "text/plain": [
       "<Figure size 432x288 with 2 Axes>"
      ]
     },
     "metadata": {
      "needs_background": "light"
     },
     "output_type": "display_data"
    }
   ],
   "source": [
    "X_train, y_train = make_train_test(train_df)\n",
    "# print(\"---------LogisticRegression---------------\")\n",
    "# lr_model, lr_y_pred = model_fit_kfold(LogisticRegression())\n",
    "print(\"---------DecisionTreeClassifier---------------\")\n",
    "dt_model, dt_y_pred = model_fit_kfold(DecisionTreeClassifier())\n",
    "print(\"---------XGBClassifier---------------\")\n",
    "xgb_model, xgb_y_pred = model_fit_kfold(XGBClassifier(num_class=5,\n",
    "                                           learning_rate=0.1,\n",
    "                                           eval_metric='mlogloss'))\n",
    "print(\"---------RandomForestClassifier---------------\")\n",
    "rf_model, rf_y_pred = model_fit_kfold(RandomForestClassifier(n_estimators=10, random_state=13, oob_score=True))"
   ]
  },
  {
   "cell_type": "code",
   "execution_count": 102,
   "id": "b10e049b",
   "metadata": {},
   "outputs": [
    {
     "name": "stdout",
     "output_type": "stream",
     "text": [
      "---------RandomForestClassifier---------------\n",
      "accuracy: 0.889952\n",
      "recall: 0.923333\n",
      "f1 score: 0.880133\n"
     ]
    },
    {
     "data": {
      "image/png": "[encoded data removed]",
      "text/plain": [
       "<Figure size 432x288 with 2 Axes>"
      ]
     },
     "metadata": {
      "needs_background": "light"
     },
     "output_type": "display_data"
    },
    {
     "name": "stdout",
     "output_type": "stream",
     "text": [
      "---------XGBClassifier---------------\n",
      "accuracy: 0.84689\n",
      "recall: 0.825926\n",
      "f1 score: 0.7442\n"
     ]
    },
    {
     "data": {
      "image/png": "[encoded data removed]",
      "text/plain": [
       "<Figure size 432x288 with 2 Axes>"
      ]
     },
     "metadata": {
      "needs_background": "light"
     },
     "output_type": "display_data"
    },
    {
     "data": {
      "text/plain": [
       "['models/XGB_animal3_under3s_86.pkl']"
      ]
     },
     "execution_count": 102,
     "metadata": {},
     "output_type": "execute_result"
    }
   ],
   "source": [
    "print(\"---------RandomForestClassifier---------------\")\n",
    "rf_model, rf_y_pred = model_fit_kfold(RandomForestClassifier(n_estimators=10, random_state=13, oob_score=True))\n",
    "# 모델 저장\n",
    "joblib.dump(rf_model, 'models/RF_animal3_under3s_85.pkl')\n",
    "\n",
    "print(\"---------XGBClassifier---------------\")\n",
    "xgb_model, xgb_y_pred = model_fit_kfold(XGBClassifier(num_class=5,\n",
    "                                           learning_rate=0.1,\n",
    "                                           eval_metric='mlogloss'))\n",
    "# 모델 저장\n",
    "joblib.dump(rf_model, 'models/XGB_animal3_under3s_86.pkl')"
   ]
  },
  {
   "cell_type": "markdown",
   "id": "abb553eb",
   "metadata": {},
   "source": [
    "### 2. oversamping - imblearn.ADASYN\n",
    "- SMOTE에 비해 ADASYN이 조금 더 사실적으로 데이터 간의 분산을 넣어 오버샘플링해준다 함"
   ]
  },
  {
   "cell_type": "code",
   "execution_count": 96,
   "id": "dfdd1196",
   "metadata": {},
   "outputs": [
    {
     "name": "stdout",
     "output_type": "stream",
     "text": [
      "X 개수:209, y 개수:209\n",
      "       name\n",
      "cate2      \n",
      "새         9\n",
      "개       100\n",
      "고양이     100\n",
      "X 개수:200, y 개수:200\n",
      "       name\n",
      "cate2      \n",
      "고양이      50\n",
      "새        50\n",
      "개       100\n"
     ]
    },
    {
     "data": {
      "text/html": [
       "<div>\n",
       "<style scoped>\n",
       "    .dataframe tbody tr th:only-of-type {\n",
       "        vertical-align: middle;\n",
       "    }\n",
       "\n",
       "    .dataframe tbody tr th {\n",
       "        vertical-align: top;\n",
       "    }\n",
       "\n",
       "    .dataframe thead th {\n",
       "        text-align: right;\n",
       "    }\n",
       "</style>\n",
       "<table border=\"1\" class=\"dataframe\">\n",
       "  <thead>\n",
       "    <tr style=\"text-align: right;\">\n",
       "      <th></th>\n",
       "      <th>index</th>\n",
       "    </tr>\n",
       "    <tr>\n",
       "      <th>cate2</th>\n",
       "      <th></th>\n",
       "    </tr>\n",
       "  </thead>\n",
       "  <tbody>\n",
       "    <tr>\n",
       "      <th>개</th>\n",
       "      <td>100</td>\n",
       "    </tr>\n",
       "    <tr>\n",
       "      <th>고양이</th>\n",
       "      <td>100</td>\n",
       "    </tr>\n",
       "    <tr>\n",
       "      <th>새</th>\n",
       "      <td>97</td>\n",
       "    </tr>\n",
       "  </tbody>\n",
       "</table>\n",
       "</div>"
      ],
      "text/plain": [
       "       index\n",
       "cate2       \n",
       "개        100\n",
       "고양이      100\n",
       "새         97"
      ]
     },
     "execution_count": 96,
     "metadata": {},
     "output_type": "execute_result"
    }
   ],
   "source": [
    "X_test, y_test = make_train_test(test_df)\n",
    "train_df = short_df.drop(test_df.index, axis=0)\n",
    "X_train, y_train = make_train_test(train_df)\n",
    "X_train, y_train = ADASYN(random_state=1).fit_resample(X_train, y_train) # oversamping\n",
    "y_train.reset_index().groupby('cate2').count()"
   ]
  },
  {
   "cell_type": "code",
   "execution_count": 97,
   "id": "e97554e8",
   "metadata": {
    "scrolled": false
   },
   "outputs": [
    {
     "name": "stdout",
     "output_type": "stream",
     "text": [
      "---------DecisionTreeClassifier---------------\n",
      "accuracy: 0.803828\n",
      "recall: 0.795926\n",
      "f1 score: 0.704938\n"
     ]
    },
    {
     "data": {
      "image/png": "[encoded data removed]",
      "text/plain": [
       "<Figure size 432x288 with 2 Axes>"
      ]
     },
     "metadata": {
      "needs_background": "light"
     },
     "output_type": "display_data"
    },
    {
     "name": "stdout",
     "output_type": "stream",
     "text": [
      "---------XGBClassifier---------------\n",
      "accuracy: 0.84689\n",
      "recall: 0.825926\n",
      "f1 score: 0.7442\n"
     ]
    },
    {
     "data": {
      "image/png": "[encoded data removed]",
      "text/plain": [
       "<Figure size 432x288 with 2 Axes>"
      ]
     },
     "metadata": {
      "needs_background": "light"
     },
     "output_type": "display_data"
    },
    {
     "name": "stdout",
     "output_type": "stream",
     "text": [
      "---------RandomForestClassifier---------------\n",
      "accuracy: 0.889952\n",
      "recall: 0.923333\n",
      "f1 score: 0.880133\n"
     ]
    },
    {
     "data": {
      "image/png": "[encoded data removed]",
      "text/plain": [
       "<Figure size 432x288 with 2 Axes>"
      ]
     },
     "metadata": {
      "needs_background": "light"
     },
     "output_type": "display_data"
    }
   ],
   "source": [
    "# print(\"---------LogisticRegression---------------\")\n",
    "# lr_model, lr_y_pred = model_fit_kfold(LogisticRegression())\n",
    "print(\"---------DecisionTreeClassifier---------------\")\n",
    "dt_model, dt_y_pred = model_fit_kfold(DecisionTreeClassifier())\n",
    "print(\"---------XGBClassifier---------------\")\n",
    "xgb_model, xgb_y_pred = model_fit_kfold(XGBClassifier(num_class=5,\n",
    "                                           learning_rate=0.1,\n",
    "                                           eval_metric='mlogloss'))\n",
    "print(\"---------RandomForestClassifier---------------\")\n",
    "rf_model, rf_y_pred = model_fit_kfold(RandomForestClassifier(n_estimators=10, random_state=13, oob_score=True))"
   ]
  },
  {
   "cell_type": "code",
   "execution_count": 98,
   "id": "7e2f4c19",
   "metadata": {},
   "outputs": [
    {
     "name": "stdout",
     "output_type": "stream",
     "text": [
      "---------RandomForestClassifier---------------\n",
      "accuracy: 0.889952\n",
      "recall: 0.923333\n",
      "f1 score: 0.880133\n"
     ]
    },
    {
     "data": {
      "image/png": "[encoded data removed]",
      "text/plain": [
       "<Figure size 432x288 with 2 Axes>"
      ]
     },
     "metadata": {
      "needs_background": "light"
     },
     "output_type": "display_data"
    },
    {
     "data": {
      "text/plain": [
       "['models/RF_animal3_under3s_oversampling_89.pkl']"
      ]
     },
     "execution_count": 98,
     "metadata": {},
     "output_type": "execute_result"
    }
   ],
   "source": [
    "print(\"---------RandomForestClassifier---------------\")\n",
    "rf_model, rf_y_pred = model_fit_kfold(RandomForestClassifier(n_estimators=10, random_state=13, oob_score=True))\n",
    "# 모델 저장\n",
    "joblib.dump(rf_model, 'models/RF_animal3_under3s_oversampling_89.pkl')\n",
    "\n",
    "# print(\"---------XGBClassifier---------------\")\n",
    "# xgb_model, xgb_y_pred = model_fit_kfold(XGBClassifier(num_class=5,\n",
    "#                                            learning_rate=0.1,\n",
    "#                                            eval_metric='mlogloss'))\n",
    "# # 모델 저장\n",
    "# joblib.dump(rf_model, 'models/XGB_animal6_under3s_oversampling_90.pkl')"
   ]
  },
  {
   "cell_type": "markdown",
   "id": "642f49d8",
   "metadata": {},
   "source": [
    "---\n",
    "# long_df\n",
    "- 노래 길이 백분위 50% 이상 데이터 기준"
   ]
  },
  {
   "cell_type": "code",
   "execution_count": 104,
   "id": "3fec0cfd",
   "metadata": {},
   "outputs": [
    {
     "name": "stdout",
     "output_type": "stream",
     "text": [
      "363\n",
      "cate1\n",
      "animal    363\n",
      "Name: duration, dtype: int64\n",
      "count    363.000000\n",
      "mean      11.102882\n",
      "std        3.231435\n",
      "min        5.165986\n",
      "25%        8.930590\n",
      "50%       11.700000\n",
      "75%       12.000000\n",
      "max       19.957551\n",
      "Name: duration, dtype: float64\n"
     ]
    },
    {
     "data": {
      "image/png": "[encoded data removed]",
      "text/plain": [
       "<Figure size 432x288 with 1 Axes>"
      ]
     },
     "metadata": {
      "needs_background": "light"
     },
     "output_type": "display_data"
    }
   ],
   "source": [
    "long_df = final_df[final_df['duration']>=np.percentile(final_df['duration'], 53)]#[final_df['duration']<=np.percentile(final_df['duration'], 75)]\n",
    "print(len(long_df))\n",
    "print(long_df.groupby('cate1')['duration'].count())\n",
    "print(long_df['duration'].describe())\n",
    "sns.boxplot(data=long_df, x='cate2', y='duration');"
   ]
  },
  {
   "cell_type": "code",
   "execution_count": 105,
   "id": "902f3af6",
   "metadata": {
    "scrolled": true
   },
   "outputs": [
    {
     "name": "stdout",
     "output_type": "stream",
     "text": [
      "X 개수:363, y 개수:363\n",
      "       name\n",
      "cate2      \n",
      "새        55\n",
      "개        79\n",
      "고양이     229\n"
     ]
    }
   ],
   "source": [
    "X, y = make_train_test(long_df)"
   ]
  },
  {
   "cell_type": "markdown",
   "id": "e503cf82",
   "metadata": {},
   "source": [
    "## Test dataset 만들기"
   ]
  },
  {
   "cell_type": "code",
   "execution_count": 116,
   "id": "e250e939",
   "metadata": {},
   "outputs": [
    {
     "data": {
      "text/html": [
       "<div>\n",
       "<style scoped>\n",
       "    .dataframe tbody tr th:only-of-type {\n",
       "        vertical-align: middle;\n",
       "    }\n",
       "\n",
       "    .dataframe tbody tr th {\n",
       "        vertical-align: top;\n",
       "    }\n",
       "\n",
       "    .dataframe thead th {\n",
       "        text-align: right;\n",
       "    }\n",
       "</style>\n",
       "<table border=\"1\" class=\"dataframe\">\n",
       "  <thead>\n",
       "    <tr style=\"text-align: right;\">\n",
       "      <th></th>\n",
       "      <th>name</th>\n",
       "    </tr>\n",
       "    <tr>\n",
       "      <th>cate2</th>\n",
       "      <th></th>\n",
       "    </tr>\n",
       "  </thead>\n",
       "  <tbody>\n",
       "    <tr>\n",
       "      <th>새</th>\n",
       "      <td>15</td>\n",
       "    </tr>\n",
       "    <tr>\n",
       "      <th>개</th>\n",
       "      <td>19</td>\n",
       "    </tr>\n",
       "    <tr>\n",
       "      <th>고양이</th>\n",
       "      <td>100</td>\n",
       "    </tr>\n",
       "  </tbody>\n",
       "</table>\n",
       "</div>"
      ],
      "text/plain": [
       "       name\n",
       "cate2      \n",
       "새        15\n",
       "개        19\n",
       "고양이     100"
      ]
     },
     "execution_count": 116,
     "metadata": {},
     "output_type": "execute_result"
    }
   ],
   "source": [
    "### random samping으로 라벨별 test 데이터 뽑아두기\n",
    "test_df = long_df.copy()\n",
    "test_cat = test_df[test_df['cate2']=='고양이'].sample(n=100, random_state=1)\n",
    "test_dog = test_df[test_df['cate2']=='개'].sample(n=19, random_state=13)\n",
    "test_bird = test_df[test_df['cate2']=='새'].sample(n=15, random_state=13)\n",
    "# test_chicken = test_df[test_df['cate2']=='닭'].sample(n=30, random_state=13)\n",
    "# test_goat = test_df[test_df['cate2']=='염소'].sample(n=15, random_state=13)\n",
    "# test_frog = test_df[test_df['cate2']=='개구리'].sample(n=9, random_state=13)\n",
    "# test_pig = test_df[test_df['cate2']=='돼지'].sample(n=8, random_state=13)\n",
    "test_df = pd.concat([test_cat, test_dog, test_bird])\n",
    "test_df.groupby('cate2').count().sort_values('name')[['name']]"
   ]
  },
  {
   "cell_type": "code",
   "execution_count": 117,
   "id": "3e30cd37",
   "metadata": {},
   "outputs": [
    {
     "name": "stdout",
     "output_type": "stream",
     "text": [
      "X 개수:134, y 개수:134\n",
      "       name\n",
      "cate2      \n",
      "새        15\n",
      "개        19\n",
      "고양이     100\n"
     ]
    }
   ],
   "source": [
    "X_test, y_test = make_train_test(test_df)"
   ]
  },
  {
   "cell_type": "code",
   "execution_count": 118,
   "id": "60aa0fdb",
   "metadata": {},
   "outputs": [
    {
     "data": {
      "text/html": [
       "<div>\n",
       "<style scoped>\n",
       "    .dataframe tbody tr th:only-of-type {\n",
       "        vertical-align: middle;\n",
       "    }\n",
       "\n",
       "    .dataframe tbody tr th {\n",
       "        vertical-align: top;\n",
       "    }\n",
       "\n",
       "    .dataframe thead th {\n",
       "        text-align: right;\n",
       "    }\n",
       "</style>\n",
       "<table border=\"1\" class=\"dataframe\">\n",
       "  <thead>\n",
       "    <tr style=\"text-align: right;\">\n",
       "      <th></th>\n",
       "      <th>name</th>\n",
       "    </tr>\n",
       "    <tr>\n",
       "      <th>cate2</th>\n",
       "      <th></th>\n",
       "    </tr>\n",
       "  </thead>\n",
       "  <tbody>\n",
       "    <tr>\n",
       "      <th>새</th>\n",
       "      <td>40</td>\n",
       "    </tr>\n",
       "    <tr>\n",
       "      <th>개</th>\n",
       "      <td>60</td>\n",
       "    </tr>\n",
       "    <tr>\n",
       "      <th>고양이</th>\n",
       "      <td>129</td>\n",
       "    </tr>\n",
       "  </tbody>\n",
       "</table>\n",
       "</div>"
      ],
      "text/plain": [
       "       name\n",
       "cate2      \n",
       "새        40\n",
       "개        60\n",
       "고양이     129"
      ]
     },
     "execution_count": 118,
     "metadata": {},
     "output_type": "execute_result"
    }
   ],
   "source": [
    "train_df = long_df.drop(test_df.index, axis=0)\n",
    "train_df.groupby('cate2').count().sort_values('name')[['name']]"
   ]
  },
  {
   "cell_type": "markdown",
   "id": "6a579f1a",
   "metadata": {},
   "source": [
    "### 0. 그대로 테스트"
   ]
  },
  {
   "cell_type": "code",
   "execution_count": 119,
   "id": "ed7ec2ad",
   "metadata": {},
   "outputs": [
    {
     "name": "stdout",
     "output_type": "stream",
     "text": [
      "X 개수:229, y 개수:229\n",
      "       name\n",
      "cate2      \n",
      "새        40\n",
      "개        60\n",
      "고양이     129\n",
      "---------DecisionTreeClassifier---------------\n",
      "accuracy: 0.895522\n",
      "recall: 0.816257\n",
      "f1 score: 0.822361\n"
     ]
    },
    {
     "data": {
      "image/png": "[encoded data removed]",
      "text/plain": [
       "<Figure size 432x288 with 2 Axes>"
      ]
     },
     "metadata": {
      "needs_background": "light"
     },
     "output_type": "display_data"
    },
    {
     "name": "stdout",
     "output_type": "stream",
     "text": [
      "---------XGBClassifier---------------\n",
      "accuracy: 0.91791\n",
      "recall: 0.807368\n",
      "f1 score: 0.830772\n"
     ]
    },
    {
     "data": {
      "image/png": "[encoded data removed]",
      "text/plain": [
       "<Figure size 432x288 with 2 Axes>"
      ]
     },
     "metadata": {
      "needs_background": "light"
     },
     "output_type": "display_data"
    },
    {
     "name": "stdout",
     "output_type": "stream",
     "text": [
      "---------RandomForestClassifier---------------\n",
      "accuracy: 0.895522\n",
      "recall: 0.77848\n",
      "f1 score: 0.800563\n"
     ]
    },
    {
     "data": {
      "image/png": "[encoded data removed]",
      "text/plain": [
       "<Figure size 432x288 with 2 Axes>"
      ]
     },
     "metadata": {
      "needs_background": "light"
     },
     "output_type": "display_data"
    }
   ],
   "source": [
    "X_train, y_train = make_train_test(train_df)\n",
    "# print(\"---------LogisticRegression---------------\")\n",
    "# lr_model, lr_y_pred = model_fit_kfold(LogisticRegression())\n",
    "print(\"---------DecisionTreeClassifier---------------\")\n",
    "dt_model, dt_y_pred = model_fit_kfold(DecisionTreeClassifier())\n",
    "print(\"---------XGBClassifier---------------\")\n",
    "xgb_model, xgb_y_pred = model_fit_kfold(XGBClassifier(num_class=5,\n",
    "                                           learning_rate=0.1,\n",
    "                                           eval_metric='mlogloss'))\n",
    "print(\"---------RandomForestClassifier---------------\")\n",
    "rf_model, rf_y_pred = model_fit_kfold(RandomForestClassifier(n_estimators=10, random_state=13, oob_score=True))"
   ]
  },
  {
   "cell_type": "code",
   "execution_count": 120,
   "id": "cdd31f04",
   "metadata": {
    "collapsed": true
   },
   "outputs": [
    {
     "name": "stdout",
     "output_type": "stream",
     "text": [
      "---------RandomForestClassifier---------------\n",
      "accuracy: 0.895522\n",
      "recall: 0.77848\n",
      "f1 score: 0.800563\n"
     ]
    },
    {
     "data": {
      "image/png": "[encoded data removed]",
      "text/plain": [
       "<Figure size 432x288 with 2 Axes>"
      ]
     },
     "metadata": {
      "needs_background": "light"
     },
     "output_type": "display_data"
    },
    {
     "name": "stdout",
     "output_type": "stream",
     "text": [
      "---------XGBClassifier---------------\n",
      "accuracy: 0.91791\n",
      "recall: 0.807368\n",
      "f1 score: 0.830772\n"
     ]
    },
    {
     "data": {
      "image/png": "[encoded data removed]",
      "text/plain": [
       "<Figure size 432x288 with 2 Axes>"
      ]
     },
     "metadata": {
      "needs_background": "light"
     },
     "output_type": "display_data"
    },
    {
     "data": {
      "text/plain": [
       "['models/XGB_animal6_over3s_92.pkl']"
      ]
     },
     "execution_count": 120,
     "metadata": {},
     "output_type": "execute_result"
    }
   ],
   "source": [
    "print(\"---------RandomForestClassifier---------------\")\n",
    "rf_model, rf_y_pred = model_fit_kfold(RandomForestClassifier(n_estimators=10, random_state=13, oob_score=True))\n",
    "# 모델 저장: 정확도 75\n",
    "joblib.dump(rf_model, 'models/RF_animal3_over3s_89.pkl')\n",
    "\n",
    "print(\"---------XGBClassifier---------------\")\n",
    "xgb_model, xgb_y_pred = model_fit_kfold(XGBClassifier(num_class=5,\n",
    "                                           learning_rate=0.1,\n",
    "                                           eval_metric='mlogloss'))\n",
    "# 모델 저장: 정확도 75\n",
    "joblib.dump(rf_model, 'models/XGB_animal6_over3s_92.pkl')"
   ]
  },
  {
   "cell_type": "markdown",
   "id": "bca3a99e",
   "metadata": {},
   "source": [
    "### 2. oversamping - imblearn.ADASYN\n",
    "- SMOTE에 비해 ADASYN이 조금 더 사실적으로 데이터 간의 분산을 넣어 오버샘플링해준다 함"
   ]
  },
  {
   "cell_type": "code",
   "execution_count": 113,
   "id": "a8275cc6",
   "metadata": {},
   "outputs": [
    {
     "name": "stdout",
     "output_type": "stream",
     "text": [
      "X 개수:134, y 개수:134\n",
      "       name\n",
      "cate2      \n",
      "새        15\n",
      "개        19\n",
      "고양이     100\n",
      "X 개수:229, y 개수:229\n",
      "       name\n",
      "cate2      \n",
      "새        40\n",
      "개        60\n",
      "고양이     129\n"
     ]
    },
    {
     "data": {
      "text/html": [
       "<div>\n",
       "<style scoped>\n",
       "    .dataframe tbody tr th:only-of-type {\n",
       "        vertical-align: middle;\n",
       "    }\n",
       "\n",
       "    .dataframe tbody tr th {\n",
       "        vertical-align: top;\n",
       "    }\n",
       "\n",
       "    .dataframe thead th {\n",
       "        text-align: right;\n",
       "    }\n",
       "</style>\n",
       "<table border=\"1\" class=\"dataframe\">\n",
       "  <thead>\n",
       "    <tr style=\"text-align: right;\">\n",
       "      <th></th>\n",
       "      <th>index</th>\n",
       "    </tr>\n",
       "    <tr>\n",
       "      <th>cate2</th>\n",
       "      <th></th>\n",
       "    </tr>\n",
       "  </thead>\n",
       "  <tbody>\n",
       "    <tr>\n",
       "      <th>개</th>\n",
       "      <td>141</td>\n",
       "    </tr>\n",
       "    <tr>\n",
       "      <th>고양이</th>\n",
       "      <td>129</td>\n",
       "    </tr>\n",
       "    <tr>\n",
       "      <th>새</th>\n",
       "      <td>126</td>\n",
       "    </tr>\n",
       "  </tbody>\n",
       "</table>\n",
       "</div>"
      ],
      "text/plain": [
       "       index\n",
       "cate2       \n",
       "개        141\n",
       "고양이      129\n",
       "새        126"
      ]
     },
     "execution_count": 113,
     "metadata": {},
     "output_type": "execute_result"
    }
   ],
   "source": [
    "X_test, y_test = make_train_test(test_df)\n",
    "train_df = long_df.drop(test_df.index, axis=0)\n",
    "X_train, y_train = make_train_test(train_df)\n",
    "X_train, y_train = ADASYN(random_state=13).fit_resample(X_train, y_train) # oversamping\n",
    "y_train.reset_index().groupby('cate2').count()"
   ]
  },
  {
   "cell_type": "code",
   "execution_count": 114,
   "id": "68a5d5d7",
   "metadata": {
    "scrolled": false
   },
   "outputs": [
    {
     "name": "stdout",
     "output_type": "stream",
     "text": [
      "---------DecisionTreeClassifier---------------\n",
      "accuracy: 0.843284\n",
      "recall: 0.717368\n",
      "f1 score: 0.707282\n"
     ]
    },
    {
     "data": {
      "image/png": "[encoded data removed]",
      "text/plain": [
       "<Figure size 432x288 with 2 Axes>"
      ]
     },
     "metadata": {
      "needs_background": "light"
     },
     "output_type": "display_data"
    },
    {
     "name": "stdout",
     "output_type": "stream",
     "text": [
      "---------XGBClassifier---------------\n",
      "accuracy: 0.895522\n",
      "recall: 0.816257\n",
      "f1 score: 0.805533\n"
     ]
    },
    {
     "data": {
      "image/png": "[encoded data removed]",
      "text/plain": [
       "<Figure size 432x288 with 2 Axes>"
      ]
     },
     "metadata": {
      "needs_background": "light"
     },
     "output_type": "display_data"
    },
    {
     "name": "stdout",
     "output_type": "stream",
     "text": [
      "---------RandomForestClassifier---------------\n",
      "accuracy: 0.902985\n",
      "recall: 0.814912\n",
      "f1 score: 0.826352\n"
     ]
    },
    {
     "data": {
      "image/png": "[encoded data removed]",
      "text/plain": [
       "<Figure size 432x288 with 2 Axes>"
      ]
     },
     "metadata": {
      "needs_background": "light"
     },
     "output_type": "display_data"
    }
   ],
   "source": [
    "# print(\"---------LogisticRegression---------------\")\n",
    "# lr_model, lr_y_pred = model_fit_kfold(LogisticRegression())\n",
    "print(\"---------DecisionTreeClassifier---------------\")\n",
    "dt_model, dt_y_pred = model_fit_kfold(DecisionTreeClassifier())\n",
    "print(\"---------XGBClassifier---------------\")\n",
    "xgb_model, xgb_y_pred = model_fit_kfold(XGBClassifier(num_class=5,\n",
    "                                           learning_rate=0.1,\n",
    "                                           eval_metric='mlogloss'))\n",
    "print(\"---------RandomForestClassifier---------------\")\n",
    "rf_model, rf_y_pred = model_fit_kfold(RandomForestClassifier(n_estimators=10, random_state=13, oob_score=True))"
   ]
  },
  {
   "cell_type": "code",
   "execution_count": 115,
   "id": "1c743e77",
   "metadata": {},
   "outputs": [
    {
     "name": "stdout",
     "output_type": "stream",
     "text": [
      "---------RandomForestClassifier---------------\n",
      "accuracy: 0.902985\n",
      "recall: 0.814912\n",
      "f1 score: 0.826352\n"
     ]
    },
    {
     "data": {
      "image/png": "[encoded data removed]",
      "text/plain": [
       "<Figure size 432x288 with 2 Axes>"
      ]
     },
     "metadata": {
      "needs_background": "light"
     },
     "output_type": "display_data"
    },
    {
     "data": {
      "text/plain": [
       "['models/RF_animal3_over3s_oversampling_90.pkl']"
      ]
     },
     "execution_count": 115,
     "metadata": {},
     "output_type": "execute_result"
    }
   ],
   "source": [
    "print(\"---------RandomForestClassifier---------------\")\n",
    "rf_model, rf_y_pred = model_fit_kfold(RandomForestClassifier(n_estimators=10, random_state=13, oob_score=True))\n",
    "# 모델 저장: 정확도 75\n",
    "joblib.dump(rf_model, 'models/RF_animal3_over3s_oversampling_90.pkl')\n",
    "\n",
    "# print(\"---------XGBClassifier---------------\")\n",
    "# xgb_model, xgb_y_pred = model_fit_kfold(XGBClassifier(num_class=5,\n",
    "#                                            learning_rate=0.1,\n",
    "#                                            eval_metric='mlogloss'))\n",
    "# # 모델 저장: 정확도 75\n",
    "# joblib.dump(rf_model, 'models/XGB_animal6_over3s_oversampling_79.pkl')"
   ]
  },
  {
   "cell_type": "markdown",
   "id": "2126a13a",
   "metadata": {},
   "source": [
    "---\n",
    "## 모델 저장하기\n",
    "- short song\n",
    "- long song"
   ]
  },
  {
   "cell_type": "code",
   "execution_count": 188,
   "id": "f23d8180",
   "metadata": {},
   "outputs": [
    {
     "data": {
      "text/plain": [
       "['models/RF_animal6_under3s_oversampling_83.pkl',\n",
       " 'models/RF_animal6_over3s_oversampling_75.pkl',\n",
       " 'models/RF_animal6_80.pkl',\n",
       " 'models/RF_animal6_under3s_69.pkl']"
      ]
     },
     "execution_count": 188,
     "metadata": {},
     "output_type": "execute_result"
    }
   ],
   "source": [
    "list(set(glob.glob(f'models/RF_animal6*')))"
   ]
  }
 ],
 "metadata": {
  "kernelspec": {
   "display_name": "nlp",
   "language": "python",
   "name": "nlp"
  },
  "language_info": {
   "codemirror_mode": {
    "name": "ipython",
    "version": 3
   },
   "file_extension": ".py",
   "mimetype": "text/x-python",
   "name": "python",
   "nbconvert_exporter": "python",
   "pygments_lexer": "ipython3",
   "version": "3.8.8"
  }
 },
 "nbformat": 4,
 "nbformat_minor": 5
}
