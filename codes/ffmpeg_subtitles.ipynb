{
 "cells": [
  {
   "cell_type": "markdown",
   "id": "3ec3da0e",
   "metadata": {},
   "source": [
    "## ffmpeg drawtext\n",
    "- 이미지 혹은 영상 특정 위치에 고정된 글자를 삽입"
   ]
  },
  {
   "cell_type": "code",
   "execution_count": 1,
   "id": "dc10e808",
   "metadata": {},
   "outputs": [],
   "source": [
    "import os\n",
    "\n",
    "def text(mp4_file, text, output_mp4_path, x=\"center\"):\n",
    "    if x == \"center\":\n",
    "        w = \"(w-text_w)/2\"\n",
    "        h = \"(h-text_h)/2\"\n",
    "    elif x == \"left\":\n",
    "        w = \"10\"\n",
    "        h = \"h - 30\"\n",
    "    else:\n",
    "        w = \"0\"\n",
    "        y = \"0\"\n",
    "    os.system(f\"\"\"ffmpeg -i {mp4_file}.mp4 -vf drawtext=\"text={text}: \\\n",
    "    fontcolor=white: fontsize=24: box=1: boxcolor=black@0.5: \\\n",
    "    boxborderw=5: x={w}: y={h}\" -codec:a copy {output_mp4_path}.mp4\"\"\")\n",
    "\n",
    "    \n",
    "def text_bottom_left(mp4_file, text, output_mp4_path, fontsize):\n",
    "    os.system(f\"\"\"ffmpeg -i {mp4_file}.mp4 -vf drawtext=\"font=NanumBarunGothic: basetime=1: \\\n",
    "    text={text}: fontcolor=white: fontsize={fontsize}: box=1: boxcolor=black@0.5: \\\n",
    "    boxborderw=5: x=(w-text_w)/10*8: y=(h-text_h)/4*3\" -codec:a copy {output_mp4_path}.mp4 -y\"\"\")"
   ]
  },
  {
   "cell_type": "code",
   "execution_count": null,
   "id": "16f39353",
   "metadata": {},
   "outputs": [],
   "source": [
    "# 테스트용 영상 3초짜리로 잘라 만들기\n",
    "os.system(f\"\"\"ffmpeg -i {input_mp4_path}.mp4 -acodec copy -vcodec copy -ss 0 -t 3 {output_mp4_path}.mp4\"\"\")"
   ]
  },
  {
   "cell_type": "code",
   "execution_count": 43,
   "id": "c0dd5a11",
   "metadata": {},
   "outputs": [],
   "source": [
    "mp4_file = '../sound_files/충무로_3s'\n",
    "text_bottom_left(mp4_file, \"한국어도 되나???\",50)"
   ]
  },
  {
   "cell_type": "markdown",
   "id": "68f2bae6",
   "metadata": {},
   "source": [
    "## 동영상에 SRT자막 파일 만들어 입히기\n",
    "- 타임라인과 자막이 함께 들어가는 파일, 확장자 srt"
   ]
  },
  {
   "cell_type": "code",
   "execution_count": 2,
   "id": "85444aa8",
   "metadata": {},
   "outputs": [],
   "source": [
    "import datetime\n",
    "import pandas as pd"
   ]
  },
  {
   "cell_type": "markdown",
   "id": "b3fb2332",
   "metadata": {},
   "source": [
    "### 예시로 보여주기 위해 타임라인을 임의로 만들기"
   ]
  },
  {
   "cell_type": "code",
   "execution_count": 8,
   "id": "5897ff27",
   "metadata": {},
   "outputs": [
    {
     "data": {
      "text/plain": [
       "TimedeltaIndex([       '0 days 00:00:00', '0 days 00:00:00.100000',\n",
       "                '0 days 00:00:00.200000', '0 days 00:00:00.300000',\n",
       "                '0 days 00:00:00.400000', '0 days 00:00:00.500000',\n",
       "                '0 days 00:00:00.600000', '0 days 00:00:00.700000',\n",
       "                '0 days 00:00:00.800000', '0 days 00:00:00.900000',\n",
       "                ...\n",
       "                '0 days 00:00:59.100000', '0 days 00:00:59.200000',\n",
       "                '0 days 00:00:59.300000', '0 days 00:00:59.400000',\n",
       "                '0 days 00:00:59.500000', '0 days 00:00:59.600000',\n",
       "                '0 days 00:00:59.700000', '0 days 00:00:59.800000',\n",
       "                '0 days 00:00:59.900000',        '0 days 00:01:00'],\n",
       "               dtype='timedelta64[ns]', length=601, freq='100L')"
      ]
     },
     "execution_count": 8,
     "metadata": {},
     "output_type": "execute_result"
    }
   ],
   "source": [
    "pd.timedelta_range(start = datetime.timedelta(seconds=0.0),end=datetime.timedelta(seconds=60.0),freq='0.1S')"
   ]
  },
  {
   "cell_type": "code",
   "execution_count": 9,
   "id": "153cdacd",
   "metadata": {},
   "outputs": [],
   "source": [
    "one_m_ls = pd.timedelta_range(start = datetime.timedelta(seconds=0.0),end=datetime.timedelta(seconds=60.0),freq='0.1S')\n",
    "one_m_ls = [str(n)[7:] for n in one_m_ls]"
   ]
  },
  {
   "cell_type": "code",
   "execution_count": 10,
   "id": "3c608fa3",
   "metadata": {},
   "outputs": [
    {
     "data": {
      "text/html": [
       "<div>\n",
       "<style scoped>\n",
       "    .dataframe tbody tr th:only-of-type {\n",
       "        vertical-align: middle;\n",
       "    }\n",
       "\n",
       "    .dataframe tbody tr th {\n",
       "        vertical-align: top;\n",
       "    }\n",
       "\n",
       "    .dataframe thead th {\n",
       "        text-align: right;\n",
       "    }\n",
       "</style>\n",
       "<table border=\"1\" class=\"dataframe\">\n",
       "  <thead>\n",
       "    <tr style=\"text-align: right;\">\n",
       "      <th></th>\n",
       "      <th>start_time</th>\n",
       "      <th>end_time</th>\n",
       "      <th>seq_num</th>\n",
       "    </tr>\n",
       "  </thead>\n",
       "  <tbody>\n",
       "    <tr>\n",
       "      <th>0</th>\n",
       "      <td>00:00:00:000000</td>\n",
       "      <td>00:00:00.100000</td>\n",
       "      <td>1</td>\n",
       "    </tr>\n",
       "    <tr>\n",
       "      <th>1</th>\n",
       "      <td>00:00:00.100000</td>\n",
       "      <td>00:00:00.200000</td>\n",
       "      <td>2</td>\n",
       "    </tr>\n",
       "    <tr>\n",
       "      <th>2</th>\n",
       "      <td>00:00:00.200000</td>\n",
       "      <td>00:00:00.300000</td>\n",
       "      <td>3</td>\n",
       "    </tr>\n",
       "    <tr>\n",
       "      <th>3</th>\n",
       "      <td>00:00:00.300000</td>\n",
       "      <td>00:00:00.400000</td>\n",
       "      <td>4</td>\n",
       "    </tr>\n",
       "    <tr>\n",
       "      <th>4</th>\n",
       "      <td>00:00:00.400000</td>\n",
       "      <td>00:00:00.500000</td>\n",
       "      <td>5</td>\n",
       "    </tr>\n",
       "    <tr>\n",
       "      <th>...</th>\n",
       "      <td>...</td>\n",
       "      <td>...</td>\n",
       "      <td>...</td>\n",
       "    </tr>\n",
       "    <tr>\n",
       "      <th>595</th>\n",
       "      <td>00:00:59.500000</td>\n",
       "      <td>00:00:59.600000</td>\n",
       "      <td>596</td>\n",
       "    </tr>\n",
       "    <tr>\n",
       "      <th>596</th>\n",
       "      <td>00:00:59.600000</td>\n",
       "      <td>00:00:59.700000</td>\n",
       "      <td>597</td>\n",
       "    </tr>\n",
       "    <tr>\n",
       "      <th>597</th>\n",
       "      <td>00:00:59.700000</td>\n",
       "      <td>00:00:59.800000</td>\n",
       "      <td>598</td>\n",
       "    </tr>\n",
       "    <tr>\n",
       "      <th>598</th>\n",
       "      <td>00:00:59.800000</td>\n",
       "      <td>00:00:59.900000</td>\n",
       "      <td>599</td>\n",
       "    </tr>\n",
       "    <tr>\n",
       "      <th>599</th>\n",
       "      <td>00:00:59.900000</td>\n",
       "      <td>00:01:00:000000</td>\n",
       "      <td>600</td>\n",
       "    </tr>\n",
       "  </tbody>\n",
       "</table>\n",
       "<p>600 rows × 3 columns</p>\n",
       "</div>"
      ],
      "text/plain": [
       "          start_time         end_time seq_num\n",
       "0    00:00:00:000000  00:00:00.100000       1\n",
       "1    00:00:00.100000  00:00:00.200000       2\n",
       "2    00:00:00.200000  00:00:00.300000       3\n",
       "3    00:00:00.300000  00:00:00.400000       4\n",
       "4    00:00:00.400000  00:00:00.500000       5\n",
       "..               ...              ...     ...\n",
       "595  00:00:59.500000  00:00:59.600000     596\n",
       "596  00:00:59.600000  00:00:59.700000     597\n",
       "597  00:00:59.700000  00:00:59.800000     598\n",
       "598  00:00:59.800000  00:00:59.900000     599\n",
       "599  00:00:59.900000  00:01:00:000000     600\n",
       "\n",
       "[600 rows x 3 columns]"
      ]
     },
     "execution_count": 10,
     "metadata": {},
     "output_type": "execute_result"
    }
   ],
   "source": [
    "time_df = pd.DataFrame(one_m_ls, columns=['start_time'])\n",
    "time_df['end_time']= time_df.start_time.shift(-1).fillna(0)\n",
    "time_df = time_df.iloc[:-1]\n",
    "time_df['start_time'] = [t+':000000' if len(t)==8 else t for t in time_df['start_time']]\n",
    "time_df['end_time'] = [t+':000000' if len(t)==8 else t for t in time_df['end_time']]\n",
    "time_df[\"seq_num\"] = time_df.index.astype(int) + 1\n",
    "time_df.seq_num = time_df.seq_num.astype('str')\n",
    "time_df"
   ]
  },
  {
   "cell_type": "code",
   "execution_count": 11,
   "id": "7768dea2",
   "metadata": {},
   "outputs": [
    {
     "data": {
      "text/html": [
       "<div>\n",
       "<style scoped>\n",
       "    .dataframe tbody tr th:only-of-type {\n",
       "        vertical-align: middle;\n",
       "    }\n",
       "\n",
       "    .dataframe tbody tr th {\n",
       "        vertical-align: top;\n",
       "    }\n",
       "\n",
       "    .dataframe thead th {\n",
       "        text-align: right;\n",
       "    }\n",
       "</style>\n",
       "<table border=\"1\" class=\"dataframe\">\n",
       "  <thead>\n",
       "    <tr style=\"text-align: right;\">\n",
       "      <th></th>\n",
       "      <th>start_time</th>\n",
       "      <th>end_time</th>\n",
       "      <th>seq_num</th>\n",
       "      <th>srt_time</th>\n",
       "      <th>subtitle</th>\n",
       "      <th>srt</th>\n",
       "    </tr>\n",
       "  </thead>\n",
       "  <tbody>\n",
       "    <tr>\n",
       "      <th>0</th>\n",
       "      <td>00:00:00:000000</td>\n",
       "      <td>00:00:00.100000</td>\n",
       "      <td>1</td>\n",
       "      <td>00:00:00,000 --&gt; 00:00:00,100</td>\n",
       "      <td>sub1</td>\n",
       "      <td>1\\n00:00:00,000 --&gt; 00:00:00,100\\nsub1\\n\\n</td>\n",
       "    </tr>\n",
       "    <tr>\n",
       "      <th>1</th>\n",
       "      <td>00:00:00.100000</td>\n",
       "      <td>00:00:00.200000</td>\n",
       "      <td>2</td>\n",
       "      <td>00:00:00,100 --&gt; 00:00:00,200</td>\n",
       "      <td>sub2</td>\n",
       "      <td>2\\n00:00:00,100 --&gt; 00:00:00,200\\nsub2\\n\\n</td>\n",
       "    </tr>\n",
       "    <tr>\n",
       "      <th>2</th>\n",
       "      <td>00:00:00.200000</td>\n",
       "      <td>00:00:00.300000</td>\n",
       "      <td>3</td>\n",
       "      <td>00:00:00,200 --&gt; 00:00:00,300</td>\n",
       "      <td>sub3</td>\n",
       "      <td>3\\n00:00:00,200 --&gt; 00:00:00,300\\nsub3\\n\\n</td>\n",
       "    </tr>\n",
       "    <tr>\n",
       "      <th>3</th>\n",
       "      <td>00:00:00.300000</td>\n",
       "      <td>00:00:00.400000</td>\n",
       "      <td>4</td>\n",
       "      <td>00:00:00,300 --&gt; 00:00:00,400</td>\n",
       "      <td>sub4</td>\n",
       "      <td>4\\n00:00:00,300 --&gt; 00:00:00,400\\nsub4\\n\\n</td>\n",
       "    </tr>\n",
       "    <tr>\n",
       "      <th>4</th>\n",
       "      <td>00:00:00.400000</td>\n",
       "      <td>00:00:00.500000</td>\n",
       "      <td>5</td>\n",
       "      <td>00:00:00,400 --&gt; 00:00:00,500</td>\n",
       "      <td>sub5</td>\n",
       "      <td>5\\n00:00:00,400 --&gt; 00:00:00,500\\nsub5\\n\\n</td>\n",
       "    </tr>\n",
       "    <tr>\n",
       "      <th>...</th>\n",
       "      <td>...</td>\n",
       "      <td>...</td>\n",
       "      <td>...</td>\n",
       "      <td>...</td>\n",
       "      <td>...</td>\n",
       "      <td>...</td>\n",
       "    </tr>\n",
       "    <tr>\n",
       "      <th>595</th>\n",
       "      <td>00:00:59.500000</td>\n",
       "      <td>00:00:59.600000</td>\n",
       "      <td>596</td>\n",
       "      <td>00:00:59,500 --&gt; 00:00:59,600</td>\n",
       "      <td>sub596</td>\n",
       "      <td>596\\n00:00:59,500 --&gt; 00:00:59,600\\nsub596\\n\\n</td>\n",
       "    </tr>\n",
       "    <tr>\n",
       "      <th>596</th>\n",
       "      <td>00:00:59.600000</td>\n",
       "      <td>00:00:59.700000</td>\n",
       "      <td>597</td>\n",
       "      <td>00:00:59,600 --&gt; 00:00:59,700</td>\n",
       "      <td>sub597</td>\n",
       "      <td>597\\n00:00:59,600 --&gt; 00:00:59,700\\nsub597\\n\\n</td>\n",
       "    </tr>\n",
       "    <tr>\n",
       "      <th>597</th>\n",
       "      <td>00:00:59.700000</td>\n",
       "      <td>00:00:59.800000</td>\n",
       "      <td>598</td>\n",
       "      <td>00:00:59,700 --&gt; 00:00:59,800</td>\n",
       "      <td>sub598</td>\n",
       "      <td>598\\n00:00:59,700 --&gt; 00:00:59,800\\nsub598\\n\\n</td>\n",
       "    </tr>\n",
       "    <tr>\n",
       "      <th>598</th>\n",
       "      <td>00:00:59.800000</td>\n",
       "      <td>00:00:59.900000</td>\n",
       "      <td>599</td>\n",
       "      <td>00:00:59,800 --&gt; 00:00:59,900</td>\n",
       "      <td>sub599</td>\n",
       "      <td>599\\n00:00:59,800 --&gt; 00:00:59,900\\nsub599\\n\\n</td>\n",
       "    </tr>\n",
       "    <tr>\n",
       "      <th>599</th>\n",
       "      <td>00:00:59.900000</td>\n",
       "      <td>00:01:00:000000</td>\n",
       "      <td>600</td>\n",
       "      <td>00:00:59,900 --&gt; 00:01:00,000</td>\n",
       "      <td>sub600</td>\n",
       "      <td>600\\n00:00:59,900 --&gt; 00:01:00,000\\nsub600\\n\\n</td>\n",
       "    </tr>\n",
       "  </tbody>\n",
       "</table>\n",
       "<p>600 rows × 6 columns</p>\n",
       "</div>"
      ],
      "text/plain": [
       "          start_time         end_time seq_num                       srt_time  \\\n",
       "0    00:00:00:000000  00:00:00.100000       1  00:00:00,000 --> 00:00:00,100   \n",
       "1    00:00:00.100000  00:00:00.200000       2  00:00:00,100 --> 00:00:00,200   \n",
       "2    00:00:00.200000  00:00:00.300000       3  00:00:00,200 --> 00:00:00,300   \n",
       "3    00:00:00.300000  00:00:00.400000       4  00:00:00,300 --> 00:00:00,400   \n",
       "4    00:00:00.400000  00:00:00.500000       5  00:00:00,400 --> 00:00:00,500   \n",
       "..               ...              ...     ...                            ...   \n",
       "595  00:00:59.500000  00:00:59.600000     596  00:00:59,500 --> 00:00:59,600   \n",
       "596  00:00:59.600000  00:00:59.700000     597  00:00:59,600 --> 00:00:59,700   \n",
       "597  00:00:59.700000  00:00:59.800000     598  00:00:59,700 --> 00:00:59,800   \n",
       "598  00:00:59.800000  00:00:59.900000     599  00:00:59,800 --> 00:00:59,900   \n",
       "599  00:00:59.900000  00:01:00:000000     600  00:00:59,900 --> 00:01:00,000   \n",
       "\n",
       "    subtitle                                             srt  \n",
       "0       sub1      1\\n00:00:00,000 --> 00:00:00,100\\nsub1\\n\\n  \n",
       "1       sub2      2\\n00:00:00,100 --> 00:00:00,200\\nsub2\\n\\n  \n",
       "2       sub3      3\\n00:00:00,200 --> 00:00:00,300\\nsub3\\n\\n  \n",
       "3       sub4      4\\n00:00:00,300 --> 00:00:00,400\\nsub4\\n\\n  \n",
       "4       sub5      5\\n00:00:00,400 --> 00:00:00,500\\nsub5\\n\\n  \n",
       "..       ...                                             ...  \n",
       "595   sub596  596\\n00:00:59,500 --> 00:00:59,600\\nsub596\\n\\n  \n",
       "596   sub597  597\\n00:00:59,600 --> 00:00:59,700\\nsub597\\n\\n  \n",
       "597   sub598  598\\n00:00:59,700 --> 00:00:59,800\\nsub598\\n\\n  \n",
       "598   sub599  599\\n00:00:59,800 --> 00:00:59,900\\nsub599\\n\\n  \n",
       "599   sub600  600\\n00:00:59,900 --> 00:01:00,000\\nsub600\\n\\n  \n",
       "\n",
       "[600 rows x 6 columns]"
      ]
     },
     "execution_count": 11,
     "metadata": {},
     "output_type": "execute_result"
    }
   ],
   "source": [
    "# make start string\n",
    "time_df['srt_time'] = time_df['start_time'].str[:8] + \",\" +  time_df['start_time'].str[9:12]+ \" --> \"\n",
    "# make stop string\n",
    "time_df['srt_time'] = time_df['srt_time'] + time_df['end_time'].str[:8] + \",\" + time_df['end_time'].str[9:12]\n",
    "time_df['subtitle'] = [f\"sub{i+1}\" for i in range(len(time_df))]\n",
    "time_df[\"srt\"] = time_df['seq_num'].str[:] + \"\\n\" \\\n",
    "                    + time_df['srt_time'].str[:] + \"\\n\" \\\n",
    "                    + time_df['subtitle'] \\\n",
    "                    + \"\\n\\n\"\n",
    "time_df"
   ]
  },
  {
   "cell_type": "code",
   "execution_count": 121,
   "id": "daa99da7",
   "metadata": {},
   "outputs": [],
   "source": [
    "srt = time_df.srt.copy()\n",
    "srt.to_csv('subtitle.srt', header=None, mode='w', index=False)"
   ]
  },
  {
   "cell_type": "code",
   "execution_count": 122,
   "id": "03b0a452",
   "metadata": {},
   "outputs": [
    {
     "name": "stdout",
     "output_type": "stream",
     "text": [
      "1\r\n",
      "00:00:00,000 --> 00:00:00,100\r\n",
      "sub1\r\n",
      "\r\n",
      "\r\n",
      "2\r\n",
      "00:00:00,100 --> 00:00:00,200\r\n",
      "sub2\r\n",
      "\r\n",
      "\r\n"
     ]
    }
   ],
   "source": [
    "# srt자막에서 불필요한 쌍따옴표 제거하기\n",
    "\n",
    "# Read in the file\n",
    "with open('subtitle.srt', 'r') as file :\n",
    "    filedata = file.read()\n",
    "\n",
    "# Replace the target string\n",
    "filedata = filedata.replace('\"', '')\n",
    "\n",
    "# Write the file out again\n",
    "with open('subtitle.srt', 'w') as file:\n",
    "    file.write(filedata)\n",
    "  \n",
    "!head subtitle.srt"
   ]
  },
  {
   "cell_type": "code",
   "execution_count": 123,
   "id": "2af49cca",
   "metadata": {},
   "outputs": [
    {
     "data": {
      "text/plain": [
       "0"
      ]
     },
     "execution_count": 123,
     "metadata": {},
     "output_type": "execute_result"
    }
   ],
   "source": [
    "# 동영상에 srt자막파일 입히기\n",
    "os.system(f\"\"\"ffmpeg -i ../sound_files/충무로_1m.mp4 -vf \"subtitles=subtitle.srt\" -c:a aac ../sound_files/충무로_1m_sub.mp4 -y\"\"\")"
   ]
  },
  {
   "cell_type": "markdown",
   "id": "f99f49a1",
   "metadata": {},
   "source": [
    "### 시연용 영상 추출하기\n",
    "- -ss: 시작시점(초), -t: 영상길이(초) "
   ]
  },
  {
   "cell_type": "code",
   "execution_count": 12,
   "id": "c125a5d4",
   "metadata": {},
   "outputs": [
    {
     "data": {
      "text/plain": [
       "0"
      ]
     },
     "execution_count": 12,
     "metadata": {},
     "output_type": "execute_result"
    }
   ],
   "source": [
    "os.system(f\"\"\"ffmpeg -i ../sound_files/mp4_sub/충무로_1024_voice.mp4 -ss 0 -t 15 ../sound_files/mp4_sub/충무로_목소리분류_1.mp4 -y\"\"\")\n",
    "os.system(f\"\"\"ffmpeg -i ../sound_files/mp4_sub/충무로_1024_voice.mp4 -ss 117 -t 20 ../sound_files/mp4_sub/충무로_목소리분류_2.mp4 -y\"\"\")"
   ]
  },
  {
   "cell_type": "code",
   "execution_count": 11,
   "id": "5f458b9f",
   "metadata": {},
   "outputs": [
    {
     "data": {
      "text/plain": [
       "0"
      ]
     },
     "execution_count": 11,
     "metadata": {},
     "output_type": "execute_result"
    }
   ],
   "source": [
    "os.system(f\"\"\"ffmpeg -i ../sound_files/mp4_sub/충무로_512_gender.mp4 -ss 628 -t 15 ../sound_files/mp4_sub/충무로_성별분류_1.mp4 -y\"\"\")\n",
    "os.system(f\"\"\"ffmpeg -i ../sound_files/mp4_sub/충무로_512_gender.mp4 -ss 1098 -t 18 ../sound_files/mp4_sub/충무로_성별분류_2.mp4 -y\"\"\")"
   ]
  }
 ],
 "metadata": {
  "kernelspec": {
   "display_name": "nlp",
   "language": "python",
   "name": "nlp"
  },
  "language_info": {
   "codemirror_mode": {
    "name": "ipython",
    "version": 3
   },
   "file_extension": ".py",
   "mimetype": "text/x-python",
   "name": "python",
   "nbconvert_exporter": "python",
   "pygments_lexer": "ipython3",
   "version": "3.8.8"
  }
 },
 "nbformat": 4,
 "nbformat_minor": 5
}
