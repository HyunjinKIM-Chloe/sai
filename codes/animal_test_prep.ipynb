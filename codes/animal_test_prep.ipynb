{
 "cells": [
  {
   "cell_type": "code",
   "execution_count": 1,
   "id": "9c93b618",
   "metadata": {},
   "outputs": [
    {
     "name": "stdout",
     "output_type": "stream",
     "text": [
      "총 2 개의 모델이 있습니다.\n",
      "['models/1213_8_RF_87.pkl', 'models/1213_8_RF_oversampling_92.pkl']\n"
     ]
    }
   ],
   "source": [
    "import model_predict as mp\n",
    "mmp = mp.ModelPredict()"
   ]
  },
  {
   "cell_type": "code",
   "execution_count": 2,
   "id": "01fa900d",
   "metadata": {},
   "outputs": [
    {
     "data": {
      "text/html": [
       "<div>\n",
       "<style scoped>\n",
       "    .dataframe tbody tr th:only-of-type {\n",
       "        vertical-align: middle;\n",
       "    }\n",
       "\n",
       "    .dataframe tbody tr th {\n",
       "        vertical-align: top;\n",
       "    }\n",
       "\n",
       "    .dataframe thead th {\n",
       "        text-align: right;\n",
       "    }\n",
       "</style>\n",
       "<table border=\"1\" class=\"dataframe\">\n",
       "  <thead>\n",
       "    <tr style=\"text-align: right;\">\n",
       "      <th></th>\n",
       "      <th>path</th>\n",
       "      <th>name</th>\n",
       "    </tr>\n",
       "  </thead>\n",
       "  <tbody>\n",
       "    <tr>\n",
       "      <th>0</th>\n",
       "      <td>../sound_files/dog/2-122104-B-0.wav</td>\n",
       "      <td>2-122104-B-0</td>\n",
       "    </tr>\n",
       "    <tr>\n",
       "      <th>1</th>\n",
       "      <td>../sound_files/bird/2-72547-C-14.wav</td>\n",
       "      <td>2-72547-C-14</td>\n",
       "    </tr>\n",
       "    <tr>\n",
       "      <th>2</th>\n",
       "      <td>../sound_files/bird/3-181132-A-14.wav</td>\n",
       "      <td>3-181132-A-14</td>\n",
       "    </tr>\n",
       "    <tr>\n",
       "      <th>3</th>\n",
       "      <td>../sound_files/bird/bird025.wav</td>\n",
       "      <td>bird025</td>\n",
       "    </tr>\n",
       "    <tr>\n",
       "      <th>4</th>\n",
       "      <td>../sound_files/cat/cat_10.wav</td>\n",
       "      <td>cat_10</td>\n",
       "    </tr>\n",
       "    <tr>\n",
       "      <th>...</th>\n",
       "      <td>...</td>\n",
       "      <td>...</td>\n",
       "    </tr>\n",
       "    <tr>\n",
       "      <th>467</th>\n",
       "      <td>../sound_files/shout/parkseongyoung_shout_86.wav</td>\n",
       "      <td>parkseongyoung_shout_86</td>\n",
       "    </tr>\n",
       "    <tr>\n",
       "      <th>468</th>\n",
       "      <td>../sound_files/shout/parkseongyoung_shout_87.wav</td>\n",
       "      <td>parkseongyoung_shout_87</td>\n",
       "    </tr>\n",
       "    <tr>\n",
       "      <th>469</th>\n",
       "      <td>../sound_files/shout/parkseongyoung_shout_89.wav</td>\n",
       "      <td>parkseongyoung_shout_89</td>\n",
       "    </tr>\n",
       "    <tr>\n",
       "      <th>470</th>\n",
       "      <td>../sound_files/shout/parkseongyoung_shout_9.wav</td>\n",
       "      <td>parkseongyoung_shout_9</td>\n",
       "    </tr>\n",
       "    <tr>\n",
       "      <th>471</th>\n",
       "      <td>../sound_files/shout/parkseongyoung_shout_92.wav</td>\n",
       "      <td>parkseongyoung_shout_92</td>\n",
       "    </tr>\n",
       "  </tbody>\n",
       "</table>\n",
       "<p>472 rows × 2 columns</p>\n",
       "</div>"
      ],
      "text/plain": [
       "                                                 path                     name\n",
       "0                 ../sound_files/dog/2-122104-B-0.wav             2-122104-B-0\n",
       "1                ../sound_files/bird/2-72547-C-14.wav             2-72547-C-14\n",
       "2               ../sound_files/bird/3-181132-A-14.wav            3-181132-A-14\n",
       "3                     ../sound_files/bird/bird025.wav                  bird025\n",
       "4                       ../sound_files/cat/cat_10.wav                   cat_10\n",
       "..                                                ...                      ...\n",
       "467  ../sound_files/shout/parkseongyoung_shout_86.wav  parkseongyoung_shout_86\n",
       "468  ../sound_files/shout/parkseongyoung_shout_87.wav  parkseongyoung_shout_87\n",
       "469  ../sound_files/shout/parkseongyoung_shout_89.wav  parkseongyoung_shout_89\n",
       "470   ../sound_files/shout/parkseongyoung_shout_9.wav   parkseongyoung_shout_9\n",
       "471  ../sound_files/shout/parkseongyoung_shout_92.wav  parkseongyoung_shout_92\n",
       "\n",
       "[472 rows x 2 columns]"
      ]
     },
     "execution_count": 2,
     "metadata": {},
     "output_type": "execute_result"
    }
   ],
   "source": [
    "mmp.info_df"
   ]
  },
  {
   "cell_type": "code",
   "execution_count": 3,
   "id": "e2c1ab46",
   "metadata": {},
   "outputs": [
    {
     "name": "stderr",
     "output_type": "stream",
     "text": [
      "100%|██████████| 6/6 [00:06<00:00,  1.08s/it]\n"
     ]
    },
    {
     "name": "stdout",
     "output_type": "stream",
     "text": [
      "이 소리는 90.0의 확률로 'dog' 로 추정됩니다.\n",
      "이 소리는 88.0의 확률로 'dog' 로 추정됩니다.\n",
      "----------------\n",
      "이 소리는 100.0의 확률로 'bird' 로 추정됩니다.\n",
      "이 소리는 82.0의 확률로 'bird' 로 추정됩니다.\n",
      "----------------\n",
      "이 소리는 80.0의 확률로 'bird' 로 추정됩니다.\n",
      "이 소리는 86.0의 확률로 'bird' 로 추정됩니다.\n",
      "----------------\n",
      "이 소리는 80.0의 확률로 'bird' 로 추정됩니다.\n",
      "이 소리는 90.0의 확률로 'bird' 로 추정됩니다.\n",
      "----------------\n",
      "이 소리는 90.0의 확률로 'cat' 로 추정됩니다.\n",
      "이 소리는 84.0의 확률로 'cat' 로 추정됩니다.\n",
      "----------------\n",
      "이 소리는 80.0의 확률로 'cat' 로 추정됩니다.\n",
      "이 소리는 80.0의 확률로 'cat' 로 추정됩니다.\n",
      "----------------\n",
      "'2-122104-B-0' 은 89.0% 의 확률로 dog로 추정 됩니다.\n",
      "'2-72547-C-14' 은 90.99999999999999% 의 확률로 bird로 추정 됩니다.\n",
      "'3-181132-A-14' 은 83.0% 의 확률로 bird로 추정 됩니다.\n",
      "'bird025' 은 85.00000000000001% 의 확률로 bird로 추정 됩니다.\n",
      "'cat_10' 은 87.0% 의 확률로 cat로 추정 됩니다.\n",
      "'cat_100' 은 80.0% 의 확률로 cat로 추정 됩니다.\n"
     ]
    }
   ],
   "source": [
    "count_df = mmp.predict_check_result(end=6)"
   ]
  },
  {
   "cell_type": "markdown",
   "id": "d4a86a70",
   "metadata": {},
   "source": [
    "## json 만들기"
   ]
  },
  {
   "cell_type": "code",
   "execution_count": null,
   "id": "800c7bd0",
   "metadata": {},
   "outputs": [],
   "source": []
  },
  {
   "cell_type": "code",
   "execution_count": 29,
   "id": "ec9ab938",
   "metadata": {},
   "outputs": [
    {
     "data": {
      "text/html": [
       "<div>\n",
       "<style scoped>\n",
       "    .dataframe tbody tr th:only-of-type {\n",
       "        vertical-align: middle;\n",
       "    }\n",
       "\n",
       "    .dataframe tbody tr th {\n",
       "        vertical-align: top;\n",
       "    }\n",
       "\n",
       "    .dataframe thead th {\n",
       "        text-align: right;\n",
       "    }\n",
       "</style>\n",
       "<table border=\"1\" class=\"dataframe\">\n",
       "  <thead>\n",
       "    <tr style=\"text-align: right;\">\n",
       "      <th></th>\n",
       "      <th>label</th>\n",
       "      <th>bird</th>\n",
       "      <th>cat</th>\n",
       "      <th>clap</th>\n",
       "      <th>dog</th>\n",
       "      <th>drum</th>\n",
       "      <th>horse</th>\n",
       "      <th>lion</th>\n",
       "      <th>shout</th>\n",
       "    </tr>\n",
       "    <tr>\n",
       "      <th>name</th>\n",
       "      <th></th>\n",
       "      <th></th>\n",
       "      <th></th>\n",
       "      <th></th>\n",
       "      <th></th>\n",
       "      <th></th>\n",
       "      <th></th>\n",
       "      <th></th>\n",
       "      <th></th>\n",
       "    </tr>\n",
       "  </thead>\n",
       "  <tbody>\n",
       "    <tr>\n",
       "      <th>hanseungsu_bird_1</th>\n",
       "      <td>bird</td>\n",
       "      <td>85</td>\n",
       "      <td>5</td>\n",
       "      <td>0</td>\n",
       "      <td>0</td>\n",
       "      <td>5</td>\n",
       "      <td>0</td>\n",
       "      <td>0</td>\n",
       "      <td>5</td>\n",
       "    </tr>\n",
       "    <tr>\n",
       "      <th>hanseungsu_bird_104</th>\n",
       "      <td>bird</td>\n",
       "      <td>95</td>\n",
       "      <td>0</td>\n",
       "      <td>0</td>\n",
       "      <td>0</td>\n",
       "      <td>0</td>\n",
       "      <td>0</td>\n",
       "      <td>0</td>\n",
       "      <td>0</td>\n",
       "    </tr>\n",
       "    <tr>\n",
       "      <th>hanseungsu_bird_108</th>\n",
       "      <td>bird</td>\n",
       "      <td>90</td>\n",
       "      <td>0</td>\n",
       "      <td>0</td>\n",
       "      <td>0</td>\n",
       "      <td>10</td>\n",
       "      <td>0</td>\n",
       "      <td>0</td>\n",
       "      <td>0</td>\n",
       "    </tr>\n",
       "    <tr>\n",
       "      <th>hanseungsu_bird_118</th>\n",
       "      <td>bird</td>\n",
       "      <td>80</td>\n",
       "      <td>5</td>\n",
       "      <td>5</td>\n",
       "      <td>0</td>\n",
       "      <td>0</td>\n",
       "      <td>0</td>\n",
       "      <td>5</td>\n",
       "      <td>0</td>\n",
       "    </tr>\n",
       "    <tr>\n",
       "      <th>hanseungsu_bird_18</th>\n",
       "      <td>bird</td>\n",
       "      <td>90</td>\n",
       "      <td>5</td>\n",
       "      <td>0</td>\n",
       "      <td>0</td>\n",
       "      <td>0</td>\n",
       "      <td>0</td>\n",
       "      <td>0</td>\n",
       "      <td>0</td>\n",
       "    </tr>\n",
       "    <tr>\n",
       "      <th>...</th>\n",
       "      <td>...</td>\n",
       "      <td>...</td>\n",
       "      <td>...</td>\n",
       "      <td>...</td>\n",
       "      <td>...</td>\n",
       "      <td>...</td>\n",
       "      <td>...</td>\n",
       "      <td>...</td>\n",
       "      <td>...</td>\n",
       "    </tr>\n",
       "    <tr>\n",
       "      <th>parkseongyoung_shout_86</th>\n",
       "      <td>shout</td>\n",
       "      <td>0</td>\n",
       "      <td>5</td>\n",
       "      <td>0</td>\n",
       "      <td>5</td>\n",
       "      <td>0</td>\n",
       "      <td>0</td>\n",
       "      <td>0</td>\n",
       "      <td>90</td>\n",
       "    </tr>\n",
       "    <tr>\n",
       "      <th>parkseongyoung_shout_87</th>\n",
       "      <td>shout</td>\n",
       "      <td>0</td>\n",
       "      <td>5</td>\n",
       "      <td>0</td>\n",
       "      <td>0</td>\n",
       "      <td>0</td>\n",
       "      <td>0</td>\n",
       "      <td>0</td>\n",
       "      <td>95</td>\n",
       "    </tr>\n",
       "    <tr>\n",
       "      <th>parkseongyoung_shout_89</th>\n",
       "      <td>shout</td>\n",
       "      <td>0</td>\n",
       "      <td>0</td>\n",
       "      <td>0</td>\n",
       "      <td>0</td>\n",
       "      <td>0</td>\n",
       "      <td>0</td>\n",
       "      <td>0</td>\n",
       "      <td>100</td>\n",
       "    </tr>\n",
       "    <tr>\n",
       "      <th>parkseongyoung_shout_9</th>\n",
       "      <td>shout</td>\n",
       "      <td>5</td>\n",
       "      <td>0</td>\n",
       "      <td>0</td>\n",
       "      <td>5</td>\n",
       "      <td>0</td>\n",
       "      <td>10</td>\n",
       "      <td>0</td>\n",
       "      <td>80</td>\n",
       "    </tr>\n",
       "    <tr>\n",
       "      <th>parkseongyoung_shout_92</th>\n",
       "      <td>shout</td>\n",
       "      <td>0</td>\n",
       "      <td>0</td>\n",
       "      <td>0</td>\n",
       "      <td>0</td>\n",
       "      <td>0</td>\n",
       "      <td>0</td>\n",
       "      <td>5</td>\n",
       "      <td>95</td>\n",
       "    </tr>\n",
       "  </tbody>\n",
       "</table>\n",
       "<p>476 rows × 9 columns</p>\n",
       "</div>"
      ],
      "text/plain": [
       "                         label  bird  cat  clap  dog  drum  horse  lion  shout\n",
       "name                                                                          \n",
       "hanseungsu_bird_1         bird    85    5     0    0     5      0     0      5\n",
       "hanseungsu_bird_104       bird    95    0     0    0     0      0     0      0\n",
       "hanseungsu_bird_108       bird    90    0     0    0    10      0     0      0\n",
       "hanseungsu_bird_118       bird    80    5     5    0     0      0     5      0\n",
       "hanseungsu_bird_18        bird    90    5     0    0     0      0     0      0\n",
       "...                        ...   ...  ...   ...  ...   ...    ...   ...    ...\n",
       "parkseongyoung_shout_86  shout     0    5     0    5     0      0     0     90\n",
       "parkseongyoung_shout_87  shout     0    5     0    0     0      0     0     95\n",
       "parkseongyoung_shout_89  shout     0    0     0    0     0      0     0    100\n",
       "parkseongyoung_shout_9   shout     5    0     0    5     0     10     0     80\n",
       "parkseongyoung_shout_92  shout     0    0     0    0     0      0     5     95\n",
       "\n",
       "[476 rows x 9 columns]"
      ]
     },
     "execution_count": 29,
     "metadata": {},
     "output_type": "execute_result"
    }
   ],
   "source": [
    "import pandas as pd\n",
    "o_data = pd.read_csv(\"../sound_files/RF_accuracy100_prob_over80.csv\")\n",
    "o_data.drop(['Unnamed: 0', 'max_score'], axis=1, inplace=True)\n",
    "o_data.set_index(['name'], inplace=True)\n",
    "o_data"
   ]
  },
  {
   "cell_type": "code",
   "execution_count": 43,
   "id": "dcf06a4b",
   "metadata": {},
   "outputs": [],
   "source": [
    "song_ls = [\n",
    "\"cat_33\",\n",
    "\"hanseungsu_dog_84\",\n",
    "\"cat_38\",\n",
    "\"2-122104-B-0\",\n",
    "\"2-122104-B-0\", \n",
    "\"dog_barking_9\", \n",
    "\"dog_barking_9\", \n",
    "\"cat_7\", \n",
    "\"dog_barking_3\", \n",
    "\"dog_barking_8\", \n",
    "\"dog_barking_10\",\n",
    "\"dog_barking_10\",\n",
    "\"cat_10\",\n",
    "\"dog_barking_4\",\n",
    "\"cat_64\"\n",
    "]"
   ]
  },
  {
   "cell_type": "code",
   "execution_count": 44,
   "id": "559f7378",
   "metadata": {},
   "outputs": [
    {
     "data": {
      "text/html": [
       "<div>\n",
       "<style scoped>\n",
       "    .dataframe tbody tr th:only-of-type {\n",
       "        vertical-align: middle;\n",
       "    }\n",
       "\n",
       "    .dataframe tbody tr th {\n",
       "        vertical-align: top;\n",
       "    }\n",
       "\n",
       "    .dataframe thead th {\n",
       "        text-align: right;\n",
       "    }\n",
       "</style>\n",
       "<table border=\"1\" class=\"dataframe\">\n",
       "  <thead>\n",
       "    <tr style=\"text-align: right;\">\n",
       "      <th></th>\n",
       "      <th>bird</th>\n",
       "      <th>cat</th>\n",
       "      <th>clap</th>\n",
       "      <th>dog</th>\n",
       "      <th>drum</th>\n",
       "      <th>horse</th>\n",
       "      <th>lion</th>\n",
       "      <th>shout</th>\n",
       "    </tr>\n",
       "    <tr>\n",
       "      <th>name</th>\n",
       "      <th></th>\n",
       "      <th></th>\n",
       "      <th></th>\n",
       "      <th></th>\n",
       "      <th></th>\n",
       "      <th></th>\n",
       "      <th></th>\n",
       "      <th></th>\n",
       "    </tr>\n",
       "  </thead>\n",
       "  <tbody>\n",
       "    <tr>\n",
       "      <th>cat_33</th>\n",
       "      <td>0</td>\n",
       "      <td>90</td>\n",
       "      <td>0</td>\n",
       "      <td>5</td>\n",
       "      <td>0</td>\n",
       "      <td>0</td>\n",
       "      <td>0</td>\n",
       "      <td>0</td>\n",
       "    </tr>\n",
       "    <tr>\n",
       "      <th>hanseungsu_dog_84</th>\n",
       "      <td>5</td>\n",
       "      <td>5</td>\n",
       "      <td>5</td>\n",
       "      <td>80</td>\n",
       "      <td>5</td>\n",
       "      <td>0</td>\n",
       "      <td>0</td>\n",
       "      <td>0</td>\n",
       "    </tr>\n",
       "    <tr>\n",
       "      <th>cat_38</th>\n",
       "      <td>0</td>\n",
       "      <td>90</td>\n",
       "      <td>0</td>\n",
       "      <td>5</td>\n",
       "      <td>0</td>\n",
       "      <td>0</td>\n",
       "      <td>0</td>\n",
       "      <td>0</td>\n",
       "    </tr>\n",
       "    <tr>\n",
       "      <th>2-122104-B-0</th>\n",
       "      <td>0</td>\n",
       "      <td>0</td>\n",
       "      <td>0</td>\n",
       "      <td>90</td>\n",
       "      <td>0</td>\n",
       "      <td>0</td>\n",
       "      <td>5</td>\n",
       "      <td>0</td>\n",
       "    </tr>\n",
       "    <tr>\n",
       "      <th>2-122104-B-0</th>\n",
       "      <td>0</td>\n",
       "      <td>0</td>\n",
       "      <td>0</td>\n",
       "      <td>90</td>\n",
       "      <td>0</td>\n",
       "      <td>0</td>\n",
       "      <td>5</td>\n",
       "      <td>0</td>\n",
       "    </tr>\n",
       "    <tr>\n",
       "      <th>dog_barking_9</th>\n",
       "      <td>5</td>\n",
       "      <td>10</td>\n",
       "      <td>0</td>\n",
       "      <td>80</td>\n",
       "      <td>0</td>\n",
       "      <td>0</td>\n",
       "      <td>0</td>\n",
       "      <td>5</td>\n",
       "    </tr>\n",
       "    <tr>\n",
       "      <th>dog_barking_9</th>\n",
       "      <td>5</td>\n",
       "      <td>10</td>\n",
       "      <td>0</td>\n",
       "      <td>80</td>\n",
       "      <td>0</td>\n",
       "      <td>0</td>\n",
       "      <td>0</td>\n",
       "      <td>5</td>\n",
       "    </tr>\n",
       "    <tr>\n",
       "      <th>cat_7</th>\n",
       "      <td>0</td>\n",
       "      <td>90</td>\n",
       "      <td>5</td>\n",
       "      <td>0</td>\n",
       "      <td>0</td>\n",
       "      <td>0</td>\n",
       "      <td>0</td>\n",
       "      <td>0</td>\n",
       "    </tr>\n",
       "    <tr>\n",
       "      <th>dog_barking_3</th>\n",
       "      <td>5</td>\n",
       "      <td>15</td>\n",
       "      <td>0</td>\n",
       "      <td>80</td>\n",
       "      <td>0</td>\n",
       "      <td>0</td>\n",
       "      <td>5</td>\n",
       "      <td>0</td>\n",
       "    </tr>\n",
       "    <tr>\n",
       "      <th>dog_barking_8</th>\n",
       "      <td>0</td>\n",
       "      <td>15</td>\n",
       "      <td>0</td>\n",
       "      <td>80</td>\n",
       "      <td>0</td>\n",
       "      <td>5</td>\n",
       "      <td>0</td>\n",
       "      <td>0</td>\n",
       "    </tr>\n",
       "    <tr>\n",
       "      <th>dog_barking_10</th>\n",
       "      <td>0</td>\n",
       "      <td>0</td>\n",
       "      <td>0</td>\n",
       "      <td>95</td>\n",
       "      <td>0</td>\n",
       "      <td>0</td>\n",
       "      <td>0</td>\n",
       "      <td>5</td>\n",
       "    </tr>\n",
       "    <tr>\n",
       "      <th>dog_barking_10</th>\n",
       "      <td>0</td>\n",
       "      <td>0</td>\n",
       "      <td>0</td>\n",
       "      <td>95</td>\n",
       "      <td>0</td>\n",
       "      <td>0</td>\n",
       "      <td>0</td>\n",
       "      <td>5</td>\n",
       "    </tr>\n",
       "    <tr>\n",
       "      <th>cat_10</th>\n",
       "      <td>5</td>\n",
       "      <td>85</td>\n",
       "      <td>0</td>\n",
       "      <td>0</td>\n",
       "      <td>0</td>\n",
       "      <td>5</td>\n",
       "      <td>0</td>\n",
       "      <td>0</td>\n",
       "    </tr>\n",
       "    <tr>\n",
       "      <th>dog_barking_4</th>\n",
       "      <td>0</td>\n",
       "      <td>0</td>\n",
       "      <td>0</td>\n",
       "      <td>100</td>\n",
       "      <td>0</td>\n",
       "      <td>0</td>\n",
       "      <td>0</td>\n",
       "      <td>0</td>\n",
       "    </tr>\n",
       "    <tr>\n",
       "      <th>cat_64</th>\n",
       "      <td>0</td>\n",
       "      <td>95</td>\n",
       "      <td>0</td>\n",
       "      <td>0</td>\n",
       "      <td>0</td>\n",
       "      <td>0</td>\n",
       "      <td>0</td>\n",
       "      <td>0</td>\n",
       "    </tr>\n",
       "  </tbody>\n",
       "</table>\n",
       "</div>"
      ],
      "text/plain": [
       "                   bird  cat  clap  dog  drum  horse  lion  shout\n",
       "name                                                             \n",
       "cat_33                0   90     0    5     0      0     0      0\n",
       "hanseungsu_dog_84     5    5     5   80     5      0     0      0\n",
       "cat_38                0   90     0    5     0      0     0      0\n",
       "2-122104-B-0          0    0     0   90     0      0     5      0\n",
       "2-122104-B-0          0    0     0   90     0      0     5      0\n",
       "dog_barking_9         5   10     0   80     0      0     0      5\n",
       "dog_barking_9         5   10     0   80     0      0     0      5\n",
       "cat_7                 0   90     5    0     0      0     0      0\n",
       "dog_barking_3         5   15     0   80     0      0     5      0\n",
       "dog_barking_8         0   15     0   80     0      5     0      0\n",
       "dog_barking_10        0    0     0   95     0      0     0      5\n",
       "dog_barking_10        0    0     0   95     0      0     0      5\n",
       "cat_10                5   85     0    0     0      5     0      0\n",
       "dog_barking_4         0    0     0  100     0      0     0      0\n",
       "cat_64                0   95     0    0     0      0     0      0"
      ]
     },
     "execution_count": 44,
     "metadata": {},
     "output_type": "execute_result"
    }
   ],
   "source": [
    "target_df = o_data.loc[song_ls]\n",
    "# target_df.reset_index(inplace=True)\n",
    "target_df"
   ]
  },
  {
   "cell_type": "code",
   "execution_count": 49,
   "id": "3774d384",
   "metadata": {},
   "outputs": [
    {
     "data": {
      "text/plain": [
       "[[['bird', '0.0'],\n",
       "  ['cat', '90.0'],\n",
       "  ['clap', '0.0'],\n",
       "  ['dog', '5.0'],\n",
       "  ['drum', '0.0'],\n",
       "  ['horse', '0.0'],\n",
       "  ['lion', '0.0'],\n",
       "  ['shout', '0.0']],\n",
       " [['bird', '5.0'],\n",
       "  ['cat', '5.0'],\n",
       "  ['clap', '5.0'],\n",
       "  ['dog', '80.0'],\n",
       "  ['drum', '5.0'],\n",
       "  ['horse', '0.0'],\n",
       "  ['lion', '0.0'],\n",
       "  ['shout', '0.0']],\n",
       " [['bird', '0.0'],\n",
       "  ['cat', '90.0'],\n",
       "  ['clap', '0.0'],\n",
       "  ['dog', '5.0'],\n",
       "  ['drum', '0.0'],\n",
       "  ['horse', '0.0'],\n",
       "  ['lion', '0.0'],\n",
       "  ['shout', '0.0']],\n",
       " [['bird', '0.0'],\n",
       "  ['cat', '0.0'],\n",
       "  ['clap', '0.0'],\n",
       "  ['dog', '90.0'],\n",
       "  ['drum', '0.0'],\n",
       "  ['horse', '0.0'],\n",
       "  ['lion', '5.0'],\n",
       "  ['shout', '0.0']],\n",
       " [['bird', '0.0'],\n",
       "  ['cat', '0.0'],\n",
       "  ['clap', '0.0'],\n",
       "  ['dog', '90.0'],\n",
       "  ['drum', '0.0'],\n",
       "  ['horse', '0.0'],\n",
       "  ['lion', '5.0'],\n",
       "  ['shout', '0.0']],\n",
       " [['bird', '5.0'],\n",
       "  ['cat', '10.0'],\n",
       "  ['clap', '0.0'],\n",
       "  ['dog', '80.0'],\n",
       "  ['drum', '0.0'],\n",
       "  ['horse', '0.0'],\n",
       "  ['lion', '0.0'],\n",
       "  ['shout', '5.0']],\n",
       " [['bird', '5.0'],\n",
       "  ['cat', '10.0'],\n",
       "  ['clap', '0.0'],\n",
       "  ['dog', '80.0'],\n",
       "  ['drum', '0.0'],\n",
       "  ['horse', '0.0'],\n",
       "  ['lion', '0.0'],\n",
       "  ['shout', '5.0']],\n",
       " [['bird', '0.0'],\n",
       "  ['cat', '90.0'],\n",
       "  ['clap', '5.0'],\n",
       "  ['dog', '0.0'],\n",
       "  ['drum', '0.0'],\n",
       "  ['horse', '0.0'],\n",
       "  ['lion', '0.0'],\n",
       "  ['shout', '0.0']],\n",
       " [['bird', '5.0'],\n",
       "  ['cat', '15.0'],\n",
       "  ['clap', '0.0'],\n",
       "  ['dog', '80.0'],\n",
       "  ['drum', '0.0'],\n",
       "  ['horse', '0.0'],\n",
       "  ['lion', '5.0'],\n",
       "  ['shout', '0.0']],\n",
       " [['bird', '0.0'],\n",
       "  ['cat', '15.0'],\n",
       "  ['clap', '0.0'],\n",
       "  ['dog', '80.0'],\n",
       "  ['drum', '0.0'],\n",
       "  ['horse', '5.0'],\n",
       "  ['lion', '0.0'],\n",
       "  ['shout', '0.0']],\n",
       " [['bird', '0.0'],\n",
       "  ['cat', '0.0'],\n",
       "  ['clap', '0.0'],\n",
       "  ['dog', '95.0'],\n",
       "  ['drum', '0.0'],\n",
       "  ['horse', '0.0'],\n",
       "  ['lion', '0.0'],\n",
       "  ['shout', '5.0']],\n",
       " [['bird', '0.0'],\n",
       "  ['cat', '0.0'],\n",
       "  ['clap', '0.0'],\n",
       "  ['dog', '95.0'],\n",
       "  ['drum', '0.0'],\n",
       "  ['horse', '0.0'],\n",
       "  ['lion', '0.0'],\n",
       "  ['shout', '5.0']],\n",
       " [['bird', '5.0'],\n",
       "  ['cat', '85.0'],\n",
       "  ['clap', '0.0'],\n",
       "  ['dog', '0.0'],\n",
       "  ['drum', '0.0'],\n",
       "  ['horse', '5.0'],\n",
       "  ['lion', '0.0'],\n",
       "  ['shout', '0.0']],\n",
       " [['bird', '0.0'],\n",
       "  ['cat', '0.0'],\n",
       "  ['clap', '0.0'],\n",
       "  ['dog', '100.0'],\n",
       "  ['drum', '0.0'],\n",
       "  ['horse', '0.0'],\n",
       "  ['lion', '0.0'],\n",
       "  ['shout', '0.0']],\n",
       " [['bird', '0.0'],\n",
       "  ['cat', '95.0'],\n",
       "  ['clap', '0.0'],\n",
       "  ['dog', '0.0'],\n",
       "  ['drum', '0.0'],\n",
       "  ['horse', '0.0'],\n",
       "  ['lion', '0.0'],\n",
       "  ['shout', '0.0']]]"
      ]
     },
     "execution_count": 49,
     "metadata": {},
     "output_type": "execute_result"
    }
   ],
   "source": [
    "total = []\n",
    "a_ls = target_df.columns.tolist()\n",
    "\n",
    "for i in range(len(target_df)):\n",
    "    row = target_df.iloc[i].tolist()\n",
    "    new = []\n",
    "    for idx in range(len(a_ls)):\n",
    "        new.append([f\"{a_ls[idx]}\", f\"{float(row[idx])}\"])\n",
    "    total.append(new)\n",
    "total"
   ]
  },
  {
   "cell_type": "code",
   "execution_count": null,
   "id": "be9c3e47",
   "metadata": {},
   "outputs": [],
   "source": [
    "total"
   ]
  },
  {
   "cell_type": "code",
   "execution_count": 50,
   "id": "842a42be",
   "metadata": {},
   "outputs": [],
   "source": [
    "import json\n",
    "\n",
    "with open(\"sound_1_34.json\", \"w\") as json_file:\n",
    "    json.dump(total, json_file, indent=True)"
   ]
  },
  {
   "cell_type": "code",
   "execution_count": null,
   "id": "47e2a61e",
   "metadata": {},
   "outputs": [],
   "source": []
  },
  {
   "cell_type": "code",
   "execution_count": 30,
   "id": "615b32b5",
   "metadata": {},
   "outputs": [
    {
     "data": {
      "text/html": [
       "<div>\n",
       "<style scoped>\n",
       "    .dataframe tbody tr th:only-of-type {\n",
       "        vertical-align: middle;\n",
       "    }\n",
       "\n",
       "    .dataframe tbody tr th {\n",
       "        vertical-align: top;\n",
       "    }\n",
       "\n",
       "    .dataframe thead th {\n",
       "        text-align: right;\n",
       "    }\n",
       "</style>\n",
       "<table border=\"1\" class=\"dataframe\">\n",
       "  <thead>\n",
       "    <tr style=\"text-align: right;\">\n",
       "      <th></th>\n",
       "      <th>최종 mp4 이름</th>\n",
       "      <th>label</th>\n",
       "    </tr>\n",
       "    <tr>\n",
       "      <th>음원 이름</th>\n",
       "      <th></th>\n",
       "      <th></th>\n",
       "    </tr>\n",
       "  </thead>\n",
       "  <tbody>\n",
       "    <tr>\n",
       "      <th>hanseungsu_horse_21</th>\n",
       "      <td>horse_4</td>\n",
       "      <td>horse</td>\n",
       "    </tr>\n",
       "    <tr>\n",
       "      <th>parkseongyoung_lion_1</th>\n",
       "      <td>lion_1</td>\n",
       "      <td>lion</td>\n",
       "    </tr>\n",
       "    <tr>\n",
       "      <th>parkseongyoung_lion_6</th>\n",
       "      <td>lion_2</td>\n",
       "      <td>lion</td>\n",
       "    </tr>\n",
       "    <tr>\n",
       "      <th>parkseongyoung_lion_7</th>\n",
       "      <td>lion_3</td>\n",
       "      <td>lion</td>\n",
       "    </tr>\n",
       "    <tr>\n",
       "      <th>parkseongyoung_lion_13</th>\n",
       "      <td>lion_4</td>\n",
       "      <td>lion</td>\n",
       "    </tr>\n",
       "  </tbody>\n",
       "</table>\n",
       "</div>"
      ],
      "text/plain": [
       "                       최종 mp4 이름  label\n",
       "음원 이름                                  \n",
       "hanseungsu_horse_21      horse_4  horse\n",
       "parkseongyoung_lion_1     lion_1   lion\n",
       "parkseongyoung_lion_6     lion_2   lion\n",
       "parkseongyoung_lion_7     lion_3   lion\n",
       "parkseongyoung_lion_13    lion_4   lion"
      ]
     },
     "execution_count": 30,
     "metadata": {},
     "output_type": "execute_result"
    }
   ],
   "source": [
    "song_df = pd.read_csv(\"../sound_files/mp4_list.csv\", encoding='utf-8')\n",
    "song_df.drop(['No.'], axis=1, inplace=True)\n",
    "song_df.set_index(['음원 이름'], inplace=True)\n",
    "song_df.tail()"
   ]
  },
  {
   "cell_type": "code",
   "execution_count": 34,
   "id": "ddedfa0b",
   "metadata": {},
   "outputs": [
    {
     "data": {
      "text/html": [
       "<div>\n",
       "<style scoped>\n",
       "    .dataframe tbody tr th:only-of-type {\n",
       "        vertical-align: middle;\n",
       "    }\n",
       "\n",
       "    .dataframe tbody tr th {\n",
       "        vertical-align: top;\n",
       "    }\n",
       "\n",
       "    .dataframe thead th {\n",
       "        text-align: right;\n",
       "    }\n",
       "</style>\n",
       "<table border=\"1\" class=\"dataframe\">\n",
       "  <thead>\n",
       "    <tr style=\"text-align: right;\">\n",
       "      <th></th>\n",
       "      <th>label</th>\n",
       "      <th>bird</th>\n",
       "      <th>cat</th>\n",
       "      <th>clap</th>\n",
       "      <th>dog</th>\n",
       "      <th>drum</th>\n",
       "      <th>horse</th>\n",
       "      <th>lion</th>\n",
       "      <th>shout</th>\n",
       "    </tr>\n",
       "    <tr>\n",
       "      <th>name</th>\n",
       "      <th></th>\n",
       "      <th></th>\n",
       "      <th></th>\n",
       "      <th></th>\n",
       "      <th></th>\n",
       "      <th></th>\n",
       "      <th></th>\n",
       "      <th></th>\n",
       "      <th></th>\n",
       "    </tr>\n",
       "  </thead>\n",
       "  <tbody>\n",
       "    <tr>\n",
       "      <th>hanseungsu_dog_84</th>\n",
       "      <td>dog</td>\n",
       "      <td>5</td>\n",
       "      <td>5</td>\n",
       "      <td>5</td>\n",
       "      <td>80</td>\n",
       "      <td>5</td>\n",
       "      <td>0</td>\n",
       "      <td>0</td>\n",
       "      <td>0</td>\n",
       "    </tr>\n",
       "    <tr>\n",
       "      <th>junghaeun_dog_20</th>\n",
       "      <td>dog</td>\n",
       "      <td>0</td>\n",
       "      <td>5</td>\n",
       "      <td>0</td>\n",
       "      <td>80</td>\n",
       "      <td>0</td>\n",
       "      <td>0</td>\n",
       "      <td>0</td>\n",
       "      <td>10</td>\n",
       "    </tr>\n",
       "    <tr>\n",
       "      <th>junghaeun_dog_68</th>\n",
       "      <td>dog</td>\n",
       "      <td>0</td>\n",
       "      <td>0</td>\n",
       "      <td>5</td>\n",
       "      <td>80</td>\n",
       "      <td>0</td>\n",
       "      <td>0</td>\n",
       "      <td>10</td>\n",
       "      <td>0</td>\n",
       "    </tr>\n",
       "    <tr>\n",
       "      <th>junghaeun_dog_71</th>\n",
       "      <td>dog</td>\n",
       "      <td>5</td>\n",
       "      <td>0</td>\n",
       "      <td>0</td>\n",
       "      <td>85</td>\n",
       "      <td>0</td>\n",
       "      <td>5</td>\n",
       "      <td>0</td>\n",
       "      <td>5</td>\n",
       "    </tr>\n",
       "    <tr>\n",
       "      <th>junghaeun_dog_85</th>\n",
       "      <td>dog</td>\n",
       "      <td>0</td>\n",
       "      <td>0</td>\n",
       "      <td>0</td>\n",
       "      <td>95</td>\n",
       "      <td>0</td>\n",
       "      <td>0</td>\n",
       "      <td>0</td>\n",
       "      <td>0</td>\n",
       "    </tr>\n",
       "    <tr>\n",
       "      <th>...</th>\n",
       "      <td>...</td>\n",
       "      <td>...</td>\n",
       "      <td>...</td>\n",
       "      <td>...</td>\n",
       "      <td>...</td>\n",
       "      <td>...</td>\n",
       "      <td>...</td>\n",
       "      <td>...</td>\n",
       "      <td>...</td>\n",
       "    </tr>\n",
       "    <tr>\n",
       "      <th>dog_barking_9</th>\n",
       "      <td>dog</td>\n",
       "      <td>5</td>\n",
       "      <td>10</td>\n",
       "      <td>0</td>\n",
       "      <td>80</td>\n",
       "      <td>0</td>\n",
       "      <td>0</td>\n",
       "      <td>0</td>\n",
       "      <td>5</td>\n",
       "    </tr>\n",
       "    <tr>\n",
       "      <th>dog_barking_91</th>\n",
       "      <td>dog</td>\n",
       "      <td>0</td>\n",
       "      <td>0</td>\n",
       "      <td>0</td>\n",
       "      <td>90</td>\n",
       "      <td>0</td>\n",
       "      <td>0</td>\n",
       "      <td>0</td>\n",
       "      <td>5</td>\n",
       "    </tr>\n",
       "    <tr>\n",
       "      <th>dog_barking_92</th>\n",
       "      <td>dog</td>\n",
       "      <td>0</td>\n",
       "      <td>0</td>\n",
       "      <td>0</td>\n",
       "      <td>90</td>\n",
       "      <td>0</td>\n",
       "      <td>0</td>\n",
       "      <td>0</td>\n",
       "      <td>5</td>\n",
       "    </tr>\n",
       "    <tr>\n",
       "      <th>dog_barking_96</th>\n",
       "      <td>dog</td>\n",
       "      <td>0</td>\n",
       "      <td>0</td>\n",
       "      <td>0</td>\n",
       "      <td>90</td>\n",
       "      <td>5</td>\n",
       "      <td>0</td>\n",
       "      <td>0</td>\n",
       "      <td>0</td>\n",
       "    </tr>\n",
       "    <tr>\n",
       "      <th>dog_barking_97</th>\n",
       "      <td>dog</td>\n",
       "      <td>0</td>\n",
       "      <td>0</td>\n",
       "      <td>0</td>\n",
       "      <td>90</td>\n",
       "      <td>0</td>\n",
       "      <td>0</td>\n",
       "      <td>5</td>\n",
       "      <td>5</td>\n",
       "    </tr>\n",
       "  </tbody>\n",
       "</table>\n",
       "<p>67 rows × 9 columns</p>\n",
       "</div>"
      ],
      "text/plain": [
       "                  label  bird  cat  clap  dog  drum  horse  lion  shout\n",
       "name                                                                   \n",
       "hanseungsu_dog_84   dog     5    5     5   80     5      0     0      0\n",
       "junghaeun_dog_20    dog     0    5     0   80     0      0     0     10\n",
       "junghaeun_dog_68    dog     0    0     5   80     0      0    10      0\n",
       "junghaeun_dog_71    dog     5    0     0   85     0      5     0      5\n",
       "junghaeun_dog_85    dog     0    0     0   95     0      0     0      0\n",
       "...                 ...   ...  ...   ...  ...   ...    ...   ...    ...\n",
       "dog_barking_9       dog     5   10     0   80     0      0     0      5\n",
       "dog_barking_91      dog     0    0     0   90     0      0     0      5\n",
       "dog_barking_92      dog     0    0     0   90     0      0     0      5\n",
       "dog_barking_96      dog     0    0     0   90     5      0     0      0\n",
       "dog_barking_97      dog     0    0     0   90     0      0     5      5\n",
       "\n",
       "[67 rows x 9 columns]"
      ]
     },
     "execution_count": 34,
     "metadata": {},
     "output_type": "execute_result"
    }
   ],
   "source": [
    "cat_df = o_data[o_data['label']=='dog']\n",
    "cat_df"
   ]
  },
  {
   "cell_type": "code",
   "execution_count": null,
   "id": "7b666b65",
   "metadata": {},
   "outputs": [],
   "source": [
    "do_df = o_data[o_data['label']=='cat']\n",
    "cat_df"
   ]
  },
  {
   "cell_type": "code",
   "execution_count": 88,
   "id": "f0810ab0",
   "metadata": {},
   "outputs": [
    {
     "data": {
      "text/plain": [
       "['label', 'bird', 'cat', 'clap', 'dog', 'drum', 'horse', 'lion', 'shout']"
      ]
     },
     "execution_count": 88,
     "metadata": {},
     "output_type": "execute_result"
    }
   ],
   "source": [
    "a_ls"
   ]
  },
  {
   "cell_type": "code",
   "execution_count": 35,
   "id": "17495979",
   "metadata": {},
   "outputs": [
    {
     "name": "stderr",
     "output_type": "stream",
     "text": [
      "100%|██████████| 1/1 [00:02<00:00,  2.61s/it]\n",
      "  0%|          | 0/1 [00:00<?, ?it/s]"
     ]
    },
    {
     "name": "stdout",
     "output_type": "stream",
     "text": [
      "이 소리는 70.0의 확률로 'dog' 로 추정됩니다.\n",
      "이 소리는 86.0의 확률로 'dog' 로 추정됩니다.\n",
      "----------------\n",
      "'hanseungsu_dog_84' 은 78.0% 의 확률로 dog로 추정됩니다.\n"
     ]
    },
    {
     "name": "stderr",
     "output_type": "stream",
     "text": [
      "100%|██████████| 1/1 [00:00<00:00,  1.94it/s]\n",
      "  0%|          | 0/1 [00:00<?, ?it/s]"
     ]
    },
    {
     "name": "stdout",
     "output_type": "stream",
     "text": [
      "이 소리는 80.0의 확률로 'dog' 로 추정됩니다.\n",
      "이 소리는 76.0의 확률로 'dog' 로 추정됩니다.\n",
      "----------------\n",
      "'junghaeun_dog_20' 은 78.0% 의 확률로 dog로 추정됩니다.\n"
     ]
    },
    {
     "name": "stderr",
     "output_type": "stream",
     "text": [
      "100%|██████████| 1/1 [00:02<00:00,  2.05s/it]\n",
      "  0%|          | 0/1 [00:00<?, ?it/s]"
     ]
    },
    {
     "name": "stdout",
     "output_type": "stream",
     "text": [
      "이 소리는 80.0의 확률로 'dog' 로 추정됩니다.\n",
      "이 소리는 82.0의 확률로 'dog' 로 추정됩니다.\n",
      "----------------\n",
      "'junghaeun_dog_68' 은 81.0% 의 확률로 dog로 추정됩니다.\n"
     ]
    },
    {
     "name": "stderr",
     "output_type": "stream",
     "text": [
      "100%|██████████| 1/1 [00:00<00:00,  1.12it/s]\n",
      "  0%|          | 0/1 [00:00<?, ?it/s]"
     ]
    },
    {
     "name": "stdout",
     "output_type": "stream",
     "text": [
      "이 소리는 90.0의 확률로 'dog' 로 추정됩니다.\n",
      "이 소리는 78.0의 확률로 'dog' 로 추정됩니다.\n",
      "----------------\n",
      "'junghaeun_dog_71' 은 84.0% 의 확률로 dog로 추정됩니다.\n"
     ]
    },
    {
     "name": "stderr",
     "output_type": "stream",
     "text": [
      "100%|██████████| 1/1 [00:01<00:00,  1.83s/it]\n",
      "  0%|          | 0/1 [00:00<?, ?it/s]"
     ]
    },
    {
     "name": "stdout",
     "output_type": "stream",
     "text": [
      "이 소리는 100.0의 확률로 'dog' 로 추정됩니다.\n",
      "이 소리는 90.0의 확률로 'dog' 로 추정됩니다.\n",
      "----------------\n",
      "'junghaeun_dog_85' 은 95.0% 의 확률로 dog로 추정됩니다.\n"
     ]
    },
    {
     "name": "stderr",
     "output_type": "stream",
     "text": [
      "100%|██████████| 1/1 [00:00<00:00,  1.31it/s]\n",
      "  0%|          | 0/1 [00:00<?, ?it/s]"
     ]
    },
    {
     "name": "stdout",
     "output_type": "stream",
     "text": [
      "이 소리는 90.0의 확률로 'dog' 로 추정됩니다.\n",
      "이 소리는 70.0의 확률로 'dog' 로 추정됩니다.\n",
      "----------------\n",
      "'junghaeun_dog_95' 은 80.0% 의 확률로 dog로 추정됩니다.\n"
     ]
    },
    {
     "name": "stderr",
     "output_type": "stream",
     "text": [
      "100%|██████████| 1/1 [00:00<00:00,  1.26it/s]\n",
      "  0%|          | 0/1 [00:00<?, ?it/s]"
     ]
    },
    {
     "name": "stdout",
     "output_type": "stream",
     "text": [
      "이 소리는 100.0의 확률로 'dog' 로 추정됩니다.\n",
      "이 소리는 86.0의 확률로 'dog' 로 추정됩니다.\n",
      "----------------\n",
      "'junghaeun_dog_96' 은 93.0% 의 확률로 dog로 추정됩니다.\n"
     ]
    },
    {
     "name": "stderr",
     "output_type": "stream",
     "text": [
      "100%|██████████| 1/1 [00:01<00:00,  1.54s/it]\n",
      "  0%|          | 0/1 [00:00<?, ?it/s]"
     ]
    },
    {
     "name": "stdout",
     "output_type": "stream",
     "text": [
      "이 소리는 90.0의 확률로 'dog' 로 추정됩니다.\n",
      "이 소리는 66.0의 확률로 'dog' 로 추정됩니다.\n",
      "----------------\n",
      "'junghaeun_dog_98' 은 78.0% 의 확률로 dog로 추정됩니다.\n"
     ]
    },
    {
     "name": "stderr",
     "output_type": "stream",
     "text": [
      "100%|██████████| 1/1 [00:01<00:00,  1.33s/it]\n",
      "  0%|          | 0/1 [00:00<?, ?it/s]"
     ]
    },
    {
     "name": "stdout",
     "output_type": "stream",
     "text": [
      "이 소리는 80.0의 확률로 'dog' 로 추정됩니다.\n",
      "이 소리는 76.0의 확률로 'dog' 로 추정됩니다.\n",
      "----------------\n",
      "'leehyein_dog_10' 은 78.0% 의 확률로 dog로 추정됩니다.\n"
     ]
    },
    {
     "name": "stderr",
     "output_type": "stream",
     "text": [
      "100%|██████████| 1/1 [00:01<00:00,  1.18s/it]"
     ]
    },
    {
     "name": "stdout",
     "output_type": "stream",
     "text": [
      "이 소리는 80.0의 확률로 'dog' 로 추정됩니다.\n",
      "이 소리는 82.0의 확률로 'dog' 로 추정됩니다.\n",
      "----------------\n",
      "'leehyein_dog_29' 은 81.0% 의 확률로 dog로 추정됩니다.\n"
     ]
    },
    {
     "name": "stderr",
     "output_type": "stream",
     "text": [
      "\n"
     ]
    }
   ],
   "source": [
    "song_ls = cat_df.index[:10]\n",
    "for idx, song in enumerate(song_ls):\n",
    "    mmp.predict_check_result(song)\n",
    "    \n",
    "#     try:\n",
    "#         os.rename(f\"{path}{song}.json\", f\"{path}{song_ls[idx]}_1.json\")\n",
    "#     except:\n",
    "#         pass"
   ]
  },
  {
   "cell_type": "code",
   "execution_count": 25,
   "id": "99198d52",
   "metadata": {},
   "outputs": [
    {
     "ename": "NameError",
     "evalue": "name 'song_df' is not defined",
     "output_type": "error",
     "traceback": [
      "\u001b[0;31m---------------------------------------------------------------------------\u001b[0m",
      "\u001b[0;31mNameError\u001b[0m                                 Traceback (most recent call last)",
      "\u001b[0;32m<ipython-input-25-6c7dd5568963>\u001b[0m in \u001b[0;36m<module>\u001b[0;34m\u001b[0m\n\u001b[0;32m----> 1\u001b[0;31m \u001b[0msong_ls\u001b[0m \u001b[0;34m=\u001b[0m \u001b[0msong_df\u001b[0m\u001b[0;34m.\u001b[0m\u001b[0mindex\u001b[0m\u001b[0;34m.\u001b[0m\u001b[0mtolist\u001b[0m\u001b[0;34m(\u001b[0m\u001b[0;34m)\u001b[0m\u001b[0;34m[\u001b[0m\u001b[0;36m15\u001b[0m\u001b[0;34m:\u001b[0m\u001b[0;34m]\u001b[0m\u001b[0;34m\u001b[0m\u001b[0;34m\u001b[0m\u001b[0m\n\u001b[0m\u001b[1;32m      2\u001b[0m \u001b[0mmp4_ls\u001b[0m \u001b[0;34m=\u001b[0m \u001b[0msong_df\u001b[0m\u001b[0;34m[\u001b[0m\u001b[0;34m'최종 mp4 이름'\u001b[0m\u001b[0;34m]\u001b[0m\u001b[0;34m.\u001b[0m\u001b[0mtolist\u001b[0m\u001b[0;34m(\u001b[0m\u001b[0;34m)\u001b[0m\u001b[0;34m[\u001b[0m\u001b[0;36m15\u001b[0m\u001b[0;34m:\u001b[0m\u001b[0;34m]\u001b[0m\u001b[0;34m\u001b[0m\u001b[0;34m\u001b[0m\u001b[0m\n\u001b[1;32m      3\u001b[0m \u001b[0ma_ls\u001b[0m \u001b[0;34m=\u001b[0m \u001b[0;34m[\u001b[0m\u001b[0;34m'bird'\u001b[0m\u001b[0;34m,\u001b[0m \u001b[0;34m'cat'\u001b[0m\u001b[0;34m,\u001b[0m \u001b[0;34m'clap'\u001b[0m\u001b[0;34m,\u001b[0m \u001b[0;34m'dog'\u001b[0m\u001b[0;34m,\u001b[0m \u001b[0;34m'drum'\u001b[0m\u001b[0;34m,\u001b[0m \u001b[0;34m'horse'\u001b[0m\u001b[0;34m,\u001b[0m \u001b[0;34m'lion'\u001b[0m\u001b[0;34m,\u001b[0m \u001b[0;34m'shout'\u001b[0m\u001b[0;34m]\u001b[0m\u001b[0;34m\u001b[0m\u001b[0;34m\u001b[0m\u001b[0m\n\u001b[1;32m      4\u001b[0m \u001b[0;34m\u001b[0m\u001b[0m\n\u001b[1;32m      5\u001b[0m \u001b[0;31m# total = [] #쌓기코드\u001b[0m\u001b[0;34m\u001b[0m\u001b[0;34m\u001b[0m\u001b[0;34m\u001b[0m\u001b[0m\n",
      "\u001b[0;31mNameError\u001b[0m: name 'song_df' is not defined"
     ]
    }
   ],
   "source": [
    "song_ls = song_df.index.tolist()[15:]\n",
    "mp4_ls = song_df['최종 mp4 이름'].tolist()[15:]\n",
    "a_ls = ['bird', 'cat', 'clap', 'dog', 'drum', 'horse', 'lion', 'shout']\n",
    "\n",
    "# total = [] #쌓기코드\n",
    "\n",
    "for idx, song in enumerate(song_ls):\n",
    "    new = []\n",
    "    row = o_data.drop('label',axis=1).loc[song]\n",
    "    for idx in range(len(a_ls)):\n",
    "        new.append([f\"{a_ls[idx]}\", f\"{float(row[idx])}\"])\n",
    "#     total.append(new) #쌓기코드\n",
    "    \n",
    "    with open(f\"../json/{mp4_ls[idx]}.json\", \"w\") as json_file:\n",
    "        json.dump(new, json_file, indent=True)"
   ]
  },
  {
   "cell_type": "code",
   "execution_count": null,
   "id": "5a631019",
   "metadata": {},
   "outputs": [],
   "source": []
  },
  {
   "cell_type": "code",
   "execution_count": 97,
   "id": "274bc835",
   "metadata": {},
   "outputs": [
    {
     "data": {
      "text/plain": [
       "['bird_1',\n",
       " 'bird_2',\n",
       " 'bird_3',\n",
       " 'bird_4',\n",
       " 'bird_5',\n",
       " 'bird_6',\n",
       " 'bird_7',\n",
       " 'bird_8',\n",
       " 'dog_1',\n",
       " 'dog_2',\n",
       " 'dog_3',\n",
       " 'dog_4',\n",
       " 'drum_1',\n",
       " 'drum_2',\n",
       " 'drum_3',\n",
       " 'drum_4',\n",
       " 'cat_1',\n",
       " 'cat_2',\n",
       " 'cat_3',\n",
       " 'clap_1',\n",
       " 'clap_2',\n",
       " 'clap_3',\n",
       " 'clap_4',\n",
       " 'shout_1',\n",
       " 'shout_2',\n",
       " 'shout_3',\n",
       " 'shout_4',\n",
       " 'horse_1',\n",
       " 'horse_2',\n",
       " 'horse_3',\n",
       " 'horse_4',\n",
       " 'lion_1',\n",
       " 'lion_2',\n",
       " 'lion_3',\n",
       " 'lion_4']"
      ]
     },
     "execution_count": 97,
     "metadata": {},
     "output_type": "execute_result"
    }
   ],
   "source": [
    "mp4_ls"
   ]
  },
  {
   "cell_type": "code",
   "execution_count": 2,
   "id": "da16fae3",
   "metadata": {},
   "outputs": [
    {
     "name": "stderr",
     "output_type": "stream",
     "text": [
      "100%|██████████| 1/1 [00:02<00:00,  2.48s/it]"
     ]
    },
    {
     "name": "stdout",
     "output_type": "stream",
     "text": [
      "이 소리는 40.0의 확률로 'bird' 로 추정됩니다.\n",
      "이 소리는 38.0의 확률로 'drum' 로 추정됩니다.\n",
      "----------------\n",
      "'none' 은 37.0% 의 확률로 bird로 추정됩니다.\n"
     ]
    },
    {
     "name": "stderr",
     "output_type": "stream",
     "text": [
      "\n"
     ]
    }
   ],
   "source": [
    "none_df = mmp.predict_check_result(\"none\")"
   ]
  },
  {
   "cell_type": "code",
   "execution_count": 3,
   "id": "eba01748",
   "metadata": {},
   "outputs": [
    {
     "data": {
      "text/html": [
       "<div>\n",
       "<style scoped>\n",
       "    .dataframe tbody tr th:only-of-type {\n",
       "        vertical-align: middle;\n",
       "    }\n",
       "\n",
       "    .dataframe tbody tr th {\n",
       "        vertical-align: top;\n",
       "    }\n",
       "\n",
       "    .dataframe thead th {\n",
       "        text-align: right;\n",
       "    }\n",
       "</style>\n",
       "<table border=\"1\" class=\"dataframe\">\n",
       "  <thead>\n",
       "    <tr style=\"text-align: right;\">\n",
       "      <th></th>\n",
       "      <th>bird</th>\n",
       "      <th>cat</th>\n",
       "      <th>clap</th>\n",
       "      <th>dog</th>\n",
       "      <th>drum</th>\n",
       "      <th>horse</th>\n",
       "      <th>lion</th>\n",
       "      <th>shout</th>\n",
       "    </tr>\n",
       "    <tr>\n",
       "      <th>name</th>\n",
       "      <th></th>\n",
       "      <th></th>\n",
       "      <th></th>\n",
       "      <th></th>\n",
       "      <th></th>\n",
       "      <th></th>\n",
       "      <th></th>\n",
       "      <th></th>\n",
       "    </tr>\n",
       "  </thead>\n",
       "  <tbody>\n",
       "    <tr>\n",
       "      <th>none</th>\n",
       "      <td>0.37</td>\n",
       "      <td>0.06</td>\n",
       "      <td>0.12</td>\n",
       "      <td>0.09</td>\n",
       "      <td>0.24</td>\n",
       "      <td>0.11</td>\n",
       "      <td>0.01</td>\n",
       "      <td>0.0</td>\n",
       "    </tr>\n",
       "  </tbody>\n",
       "</table>\n",
       "</div>"
      ],
      "text/plain": [
       "      bird   cat  clap   dog  drum  horse  lion  shout\n",
       "name                                                  \n",
       "none  0.37  0.06  0.12  0.09  0.24   0.11  0.01    0.0"
      ]
     },
     "execution_count": 3,
     "metadata": {},
     "output_type": "execute_result"
    }
   ],
   "source": [
    "none_df"
   ]
  },
  {
   "cell_type": "code",
   "execution_count": 11,
   "id": "7714eb09",
   "metadata": {},
   "outputs": [
    {
     "data": {
      "text/plain": [
       "bird     0.37\n",
       "cat      0.06\n",
       "clap     0.12\n",
       "dog      0.09\n",
       "drum     0.24\n",
       "horse    0.11\n",
       "lion     0.01\n",
       "shout    0.00\n",
       "Name: none, dtype: float64"
      ]
     },
     "execution_count": 11,
     "metadata": {},
     "output_type": "execute_result"
    }
   ],
   "source": [
    "none_df.iloc[0]"
   ]
  },
  {
   "cell_type": "code",
   "execution_count": 13,
   "id": "bc019445",
   "metadata": {},
   "outputs": [],
   "source": [
    "a_ls = ['bird', 'cat', 'clap', 'dog', 'drum', 'horse', 'lion', 'shout']"
   ]
  },
  {
   "cell_type": "code",
   "execution_count": 20,
   "id": "494fc0aa",
   "metadata": {},
   "outputs": [],
   "source": [
    "new = []\n",
    "for idx in range(len(a_ls)):\n",
    "    new.append([f\"{a_ls[idx]}\", f\"{round(none_df.iloc[0][idx]*100,2)}\"])"
   ]
  },
  {
   "cell_type": "code",
   "execution_count": 21,
   "id": "50ecc94f",
   "metadata": {},
   "outputs": [
    {
     "data": {
      "text/plain": [
       "[['bird', '37.0'],\n",
       " ['cat', '6.0'],\n",
       " ['clap', '12.0'],\n",
       " ['dog', '9.0'],\n",
       " ['drum', '24.0'],\n",
       " ['horse', '11.0'],\n",
       " ['lion', '1.0'],\n",
       " ['shout', '0.0']]"
      ]
     },
     "execution_count": 21,
     "metadata": {},
     "output_type": "execute_result"
    }
   ],
   "source": [
    "new"
   ]
  },
  {
   "cell_type": "code",
   "execution_count": 23,
   "id": "e2509d36",
   "metadata": {},
   "outputs": [],
   "source": [
    "import json\n",
    "with open(f\"../json/None.json\", \"w\") as json_file:\n",
    "    json.dump(new, json_file, indent=True)"
   ]
  },
  {
   "cell_type": "code",
   "execution_count": null,
   "id": "3787458b",
   "metadata": {},
   "outputs": [],
   "source": [
    "for idx, song in enumerate(song_ls):\n",
    "    new = []\n",
    "    row = o_data.drop('label',axis=1).loc[song]\n",
    "    for idx in range(len(a_ls)):\n",
    "        new.append([f\"{a_ls[idx]}\", f\"{float(row[idx])}\"])\n",
    "#     total.append(new) #쌓기코드\n",
    "    \n",
    "    with open(f\"../json/{mp4_ls[idx]}.json\", \"w\") as json_file:\n",
    "        json.dump(new, json_file, indent=True)"
   ]
  },
  {
   "cell_type": "code",
   "execution_count": 103,
   "id": "ddeb35be",
   "metadata": {},
   "outputs": [
    {
     "name": "stderr",
     "output_type": "stream",
     "text": [
      "100%|██████████| 1/1 [00:00<00:00,  1.06it/s]"
     ]
    },
    {
     "name": "stdout",
     "output_type": "stream",
     "text": [
      "이 소리는 90.0의 확률로 'dog' 로 추정됩니다.\n",
      "이 소리는 88.0의 확률로 'dog' 로 추정됩니다.\n",
      "----------------\n",
      "'2-122104-B-0' 은 89.0% 의 확률로 dog로 추정 됩니다.\n"
     ]
    },
    {
     "name": "stderr",
     "output_type": "stream",
     "text": [
      "\n"
     ]
    },
    {
     "data": {
      "text/html": [
       "<div>\n",
       "<style scoped>\n",
       "    .dataframe tbody tr th:only-of-type {\n",
       "        vertical-align: middle;\n",
       "    }\n",
       "\n",
       "    .dataframe tbody tr th {\n",
       "        vertical-align: top;\n",
       "    }\n",
       "\n",
       "    .dataframe thead th {\n",
       "        text-align: right;\n",
       "    }\n",
       "</style>\n",
       "<table border=\"1\" class=\"dataframe\">\n",
       "  <thead>\n",
       "    <tr style=\"text-align: right;\">\n",
       "      <th></th>\n",
       "      <th>bird</th>\n",
       "      <th>cat</th>\n",
       "      <th>clap</th>\n",
       "      <th>dog</th>\n",
       "      <th>drum</th>\n",
       "      <th>horse</th>\n",
       "      <th>lion</th>\n",
       "      <th>shout</th>\n",
       "    </tr>\n",
       "    <tr>\n",
       "      <th>name</th>\n",
       "      <th></th>\n",
       "      <th></th>\n",
       "      <th></th>\n",
       "      <th></th>\n",
       "      <th></th>\n",
       "      <th></th>\n",
       "      <th></th>\n",
       "      <th></th>\n",
       "    </tr>\n",
       "  </thead>\n",
       "  <tbody>\n",
       "    <tr>\n",
       "      <th>2-122104-B-0</th>\n",
       "      <td>0.0</td>\n",
       "      <td>0.02</td>\n",
       "      <td>0.0</td>\n",
       "      <td>0.89</td>\n",
       "      <td>0.01</td>\n",
       "      <td>0.0</td>\n",
       "      <td>0.07</td>\n",
       "      <td>0.01</td>\n",
       "    </tr>\n",
       "  </tbody>\n",
       "</table>\n",
       "</div>"
      ],
      "text/plain": [
       "              bird   cat  clap   dog  drum  horse  lion  shout\n",
       "name                                                          \n",
       "2-122104-B-0   0.0  0.02   0.0  0.89  0.01    0.0  0.07   0.01"
      ]
     },
     "execution_count": 103,
     "metadata": {},
     "output_type": "execute_result"
    }
   ],
   "source": [
    "mmp.predict_check_result(\"2-122104-B-0\", 1,3)"
   ]
  },
  {
   "cell_type": "code",
   "execution_count": 7,
   "id": "4897ce99",
   "metadata": {},
   "outputs": [
    {
     "name": "stderr",
     "output_type": "stream",
     "text": [
      "100%|██████████| 2/2 [00:01<00:00,  1.03it/s]\n"
     ]
    },
    {
     "name": "stdout",
     "output_type": "stream",
     "text": [
      "이 소리는 82.0의 확률로 'bird' 로 추정됩니다.\n",
      "이 소리는 100.0의 확률로 'bird' 로 추정됩니다.\n",
      "----------------\n",
      "이 소리는 86.0의 확률로 'bird' 로 추정됩니다.\n",
      "이 소리는 80.0의 확률로 'bird' 로 추정됩니다.\n",
      "----------------\n",
      "'2-72547-C-14' 은 91.0% 의 확률로 bird로 추정됩니다.\n",
      "'3-181132-A-14' 은 83.0% 의 확률로 bird로 추정됩니다.\n"
     ]
    },
    {
     "data": {
      "text/html": [
       "<div>\n",
       "<style scoped>\n",
       "    .dataframe tbody tr th:only-of-type {\n",
       "        vertical-align: middle;\n",
       "    }\n",
       "\n",
       "    .dataframe tbody tr th {\n",
       "        vertical-align: top;\n",
       "    }\n",
       "\n",
       "    .dataframe thead th {\n",
       "        text-align: right;\n",
       "    }\n",
       "</style>\n",
       "<table border=\"1\" class=\"dataframe\">\n",
       "  <thead>\n",
       "    <tr style=\"text-align: right;\">\n",
       "      <th></th>\n",
       "      <th>bird</th>\n",
       "      <th>cat</th>\n",
       "      <th>clap</th>\n",
       "      <th>dog</th>\n",
       "      <th>drum</th>\n",
       "      <th>horse</th>\n",
       "      <th>lion</th>\n",
       "      <th>shout</th>\n",
       "    </tr>\n",
       "    <tr>\n",
       "      <th>name</th>\n",
       "      <th></th>\n",
       "      <th></th>\n",
       "      <th></th>\n",
       "      <th></th>\n",
       "      <th></th>\n",
       "      <th></th>\n",
       "      <th></th>\n",
       "      <th></th>\n",
       "    </tr>\n",
       "  </thead>\n",
       "  <tbody>\n",
       "    <tr>\n",
       "      <th>2-72547-C-14</th>\n",
       "      <td>0.91</td>\n",
       "      <td>0.01</td>\n",
       "      <td>0.04</td>\n",
       "      <td>0.00</td>\n",
       "      <td>0.03</td>\n",
       "      <td>0.01</td>\n",
       "      <td>0.0</td>\n",
       "      <td>0.0</td>\n",
       "    </tr>\n",
       "    <tr>\n",
       "      <th>3-181132-A-14</th>\n",
       "      <td>0.83</td>\n",
       "      <td>0.08</td>\n",
       "      <td>0.00</td>\n",
       "      <td>0.05</td>\n",
       "      <td>0.02</td>\n",
       "      <td>0.02</td>\n",
       "      <td>0.0</td>\n",
       "      <td>0.0</td>\n",
       "    </tr>\n",
       "  </tbody>\n",
       "</table>\n",
       "</div>"
      ],
      "text/plain": [
       "               bird   cat  clap   dog  drum  horse  lion  shout\n",
       "name                                                           \n",
       "2-72547-C-14   0.91  0.01  0.04  0.00  0.03   0.01   0.0    0.0\n",
       "3-181132-A-14  0.83  0.08  0.00  0.05  0.02   0.02   0.0    0.0"
      ]
     },
     "execution_count": 7,
     "metadata": {},
     "output_type": "execute_result"
    }
   ],
   "source": [
    "mmp.predict_check_result(start=1,end=3)"
   ]
  },
  {
   "cell_type": "code",
   "execution_count": 4,
   "id": "046d78fa",
   "metadata": {},
   "outputs": [
    {
     "name": "stderr",
     "output_type": "stream",
     "text": [
      "100%|██████████| 2/2 [00:01<00:00,  1.03it/s]\n"
     ]
    },
    {
     "name": "stdout",
     "output_type": "stream",
     "text": [
      "이 소리는 100.0의 확률로 'bird' 로 추정됩니다.\n",
      "이 소리는 82.0의 확률로 'bird' 로 추정됩니다.\n",
      "----------------\n",
      "이 소리는 80.0의 확률로 'bird' 로 추정됩니다.\n",
      "이 소리는 86.0의 확률로 'bird' 로 추정됩니다.\n",
      "----------------\n",
      "'2-72547-C-14' 은 91.0% 의 확률로 bird로 추정됩니다.\n",
      "'3-181132-A-14' 은 83.0% 의 확률로 bird로 추정됩니다.\n"
     ]
    },
    {
     "data": {
      "text/html": [
       "<div>\n",
       "<style scoped>\n",
       "    .dataframe tbody tr th:only-of-type {\n",
       "        vertical-align: middle;\n",
       "    }\n",
       "\n",
       "    .dataframe tbody tr th {\n",
       "        vertical-align: top;\n",
       "    }\n",
       "\n",
       "    .dataframe thead th {\n",
       "        text-align: right;\n",
       "    }\n",
       "</style>\n",
       "<table border=\"1\" class=\"dataframe\">\n",
       "  <thead>\n",
       "    <tr style=\"text-align: right;\">\n",
       "      <th></th>\n",
       "      <th>bird</th>\n",
       "      <th>cat</th>\n",
       "      <th>clap</th>\n",
       "      <th>dog</th>\n",
       "      <th>drum</th>\n",
       "      <th>horse</th>\n",
       "      <th>lion</th>\n",
       "      <th>shout</th>\n",
       "    </tr>\n",
       "    <tr>\n",
       "      <th>name</th>\n",
       "      <th></th>\n",
       "      <th></th>\n",
       "      <th></th>\n",
       "      <th></th>\n",
       "      <th></th>\n",
       "      <th></th>\n",
       "      <th></th>\n",
       "      <th></th>\n",
       "    </tr>\n",
       "  </thead>\n",
       "  <tbody>\n",
       "    <tr>\n",
       "      <th>2-72547-C-14</th>\n",
       "      <td>0.91</td>\n",
       "      <td>0.01</td>\n",
       "      <td>0.04</td>\n",
       "      <td>0.00</td>\n",
       "      <td>0.03</td>\n",
       "      <td>0.01</td>\n",
       "      <td>0.0</td>\n",
       "      <td>0.0</td>\n",
       "    </tr>\n",
       "    <tr>\n",
       "      <th>3-181132-A-14</th>\n",
       "      <td>0.83</td>\n",
       "      <td>0.08</td>\n",
       "      <td>0.00</td>\n",
       "      <td>0.05</td>\n",
       "      <td>0.02</td>\n",
       "      <td>0.02</td>\n",
       "      <td>0.0</td>\n",
       "      <td>0.0</td>\n",
       "    </tr>\n",
       "  </tbody>\n",
       "</table>\n",
       "</div>"
      ],
      "text/plain": [
       "               bird   cat  clap   dog  drum  horse  lion  shout\n",
       "name                                                           \n",
       "2-72547-C-14   0.91  0.01  0.04  0.00  0.03   0.01   0.0    0.0\n",
       "3-181132-A-14  0.83  0.08  0.00  0.05  0.02   0.02   0.0    0.0"
      ]
     },
     "execution_count": 4,
     "metadata": {},
     "output_type": "execute_result"
    }
   ],
   "source": [
    "mmp.predict_check_result(start=1,end=3)"
   ]
  },
  {
   "cell_type": "code",
   "execution_count": 4,
   "id": "efe92ffb",
   "metadata": {},
   "outputs": [
    {
     "data": {
      "text/html": [
       "<div>\n",
       "<style scoped>\n",
       "    .dataframe tbody tr th:only-of-type {\n",
       "        vertical-align: middle;\n",
       "    }\n",
       "\n",
       "    .dataframe tbody tr th {\n",
       "        vertical-align: top;\n",
       "    }\n",
       "\n",
       "    .dataframe thead th {\n",
       "        text-align: right;\n",
       "    }\n",
       "</style>\n",
       "<table border=\"1\" class=\"dataframe\">\n",
       "  <thead>\n",
       "    <tr style=\"text-align: right;\">\n",
       "      <th></th>\n",
       "      <th>title</th>\n",
       "      <th>o_name</th>\n",
       "      <th>s_time</th>\n",
       "      <th>e_time</th>\n",
       "    </tr>\n",
       "  </thead>\n",
       "  <tbody>\n",
       "    <tr>\n",
       "      <th>0</th>\n",
       "      <td>ai_best_final_0</td>\n",
       "      <td>cat_33</td>\n",
       "      <td>0.5</td>\n",
       "      <td>4.0</td>\n",
       "    </tr>\n",
       "    <tr>\n",
       "      <th>1</th>\n",
       "      <td>ai_best_final_1</td>\n",
       "      <td>hanseungsu_dog_84</td>\n",
       "      <td>2.0</td>\n",
       "      <td>11.5</td>\n",
       "    </tr>\n",
       "    <tr>\n",
       "      <th>2</th>\n",
       "      <td>ai_best_final_2</td>\n",
       "      <td>cat_38</td>\n",
       "      <td>0.5</td>\n",
       "      <td>5.5</td>\n",
       "    </tr>\n",
       "    <tr>\n",
       "      <th>3</th>\n",
       "      <td>ai_best_final_3</td>\n",
       "      <td>2-122104-B-0</td>\n",
       "      <td>0.5</td>\n",
       "      <td>4.0</td>\n",
       "    </tr>\n",
       "    <tr>\n",
       "      <th>4</th>\n",
       "      <td>ai_best_final_4</td>\n",
       "      <td>2-122104-B-0</td>\n",
       "      <td>0.5</td>\n",
       "      <td>4.0</td>\n",
       "    </tr>\n",
       "    <tr>\n",
       "      <th>...</th>\n",
       "      <td>...</td>\n",
       "      <td>...</td>\n",
       "      <td>...</td>\n",
       "      <td>...</td>\n",
       "    </tr>\n",
       "    <tr>\n",
       "      <th>58</th>\n",
       "      <td>horse_4</td>\n",
       "      <td>hanseungsu_horse_21</td>\n",
       "      <td>1.0</td>\n",
       "      <td>2.0</td>\n",
       "    </tr>\n",
       "    <tr>\n",
       "      <th>59</th>\n",
       "      <td>lion_1</td>\n",
       "      <td>parkseongyoung_lion_1</td>\n",
       "      <td>1.0</td>\n",
       "      <td>2.0</td>\n",
       "    </tr>\n",
       "    <tr>\n",
       "      <th>60</th>\n",
       "      <td>lion_2</td>\n",
       "      <td>parkseongyoung_lion_6</td>\n",
       "      <td>1.0</td>\n",
       "      <td>6.0</td>\n",
       "    </tr>\n",
       "    <tr>\n",
       "      <th>61</th>\n",
       "      <td>lion_3</td>\n",
       "      <td>parkseongyoung_lion_7</td>\n",
       "      <td>1.0</td>\n",
       "      <td>4.0</td>\n",
       "    </tr>\n",
       "    <tr>\n",
       "      <th>62</th>\n",
       "      <td>lion_04</td>\n",
       "      <td>parkseongyoung_lion_13</td>\n",
       "      <td>1.0</td>\n",
       "      <td>3.0</td>\n",
       "    </tr>\n",
       "  </tbody>\n",
       "</table>\n",
       "<p>63 rows × 4 columns</p>\n",
       "</div>"
      ],
      "text/plain": [
       "              title                  o_name  s_time  e_time\n",
       "0   ai_best_final_0                  cat_33     0.5     4.0\n",
       "1   ai_best_final_1       hanseungsu_dog_84     2.0    11.5\n",
       "2   ai_best_final_2                  cat_38     0.5     5.5\n",
       "3   ai_best_final_3            2-122104-B-0     0.5     4.0\n",
       "4   ai_best_final_4            2-122104-B-0     0.5     4.0\n",
       "..              ...                     ...     ...     ...\n",
       "58          horse_4     hanseungsu_horse_21     1.0     2.0\n",
       "59           lion_1   parkseongyoung_lion_1     1.0     2.0\n",
       "60           lion_2   parkseongyoung_lion_6     1.0     6.0\n",
       "61           lion_3   parkseongyoung_lion_7     1.0     4.0\n",
       "62          lion_04  parkseongyoung_lion_13     1.0     3.0\n",
       "\n",
       "[63 rows x 4 columns]"
      ]
     },
     "execution_count": 4,
     "metadata": {},
     "output_type": "execute_result"
    }
   ],
   "source": [
    "import pandas as pd\n",
    "song_df = pd.read_excel(\"../files/영상_리스트_작성요청.xlsx\")\n",
    "song_df"
   ]
  },
  {
   "cell_type": "code",
   "execution_count": 17,
   "id": "7340c7cd",
   "metadata": {},
   "outputs": [],
   "source": [
    "song_ls = song_df.dropna(axis=0)['o_name'].tolist()"
   ]
  },
  {
   "cell_type": "code",
   "execution_count": 18,
   "id": "e9af04e3",
   "metadata": {},
   "outputs": [],
   "source": [
    "real_ls = song_df.dropna(axis=0)['title'].tolist()"
   ]
  },
  {
   "cell_type": "code",
   "execution_count": 26,
   "id": "bf0dd32e",
   "metadata": {},
   "outputs": [
    {
     "data": {
      "text/plain": [
       "['cat_33',\n",
       " 'hanseungsu_dog_84',\n",
       " 'cat_38',\n",
       " '2-122104-B-0',\n",
       " '2-122104-B-0',\n",
       " 'dog_barking_9',\n",
       " 'dog_barking_9',\n",
       " 'cat_7',\n",
       " 'dog_barking_3',\n",
       " 'dog_barking_10',\n",
       " 'dog_barking_10',\n",
       " 'cat_10',\n",
       " 'dog_barking_4',\n",
       " 'cat_64',\n",
       " 'parkseongyoung_bird_74',\n",
       " '3-181132-A-14',\n",
       " 'hanseungsu_bird_1',\n",
       " 'hanseungsu_bird_18',\n",
       " 'hanseungsu_bird_74',\n",
       " 'hanseungsu_bird_75',\n",
       " 'hanseungsu_bird_104',\n",
       " 'dog_barking_26',\n",
       " 'dog_barking_29',\n",
       " 'dog_barking_50',\n",
       " 'dog_barking_51',\n",
       " 'drum019',\n",
       " 'drum020',\n",
       " 'drum029',\n",
       " 'drum054',\n",
       " 'cat_18',\n",
       " 'cat_31',\n",
       " 'cat_33',\n",
       " 'hanseungsu_clap_21',\n",
       " 'hanseungsu_clap_23',\n",
       " 'hanseungsu_clap_45',\n",
       " 'hanseungsu_clap_46',\n",
       " 'hanseungsu_shout_16',\n",
       " 'hanseungsu_shout_20',\n",
       " 'hanseungsu_shout_36',\n",
       " 'hanseungsu_shout_62',\n",
       " 'hanseungsu_horse_9',\n",
       " 'hanseungsu_horse_12',\n",
       " 'hanseungsu_horse_13',\n",
       " 'hanseungsu_horse_21',\n",
       " 'parkseongyoung_lion_1',\n",
       " 'parkseongyoung_lion_6',\n",
       " 'parkseongyoung_lion_7',\n",
       " 'parkseongyoung_lion_13']"
      ]
     },
     "execution_count": 26,
     "metadata": {},
     "output_type": "execute_result"
    }
   ],
   "source": [
    "song_ls"
   ]
  },
  {
   "cell_type": "code",
   "execution_count": 20,
   "id": "c5ec070c",
   "metadata": {},
   "outputs": [
    {
     "data": {
      "text/plain": [
       "(48, 48)"
      ]
     },
     "execution_count": 20,
     "metadata": {},
     "output_type": "execute_result"
    }
   ],
   "source": [
    "len(real_ls), len(song_ls)"
   ]
  },
  {
   "cell_type": "code",
   "execution_count": 25,
   "id": "618f7164",
   "metadata": {},
   "outputs": [
    {
     "name": "stderr",
     "output_type": "stream",
     "text": [
      "100%|██████████| 1/1 [00:00<00:00,  1.51it/s]\n",
      "  0%|          | 0/1 [00:00<?, ?it/s]"
     ]
    },
    {
     "name": "stdout",
     "output_type": "stream",
     "text": [
      "이 소리는 100.0의 확률로 'cat' 로 추정됩니다.\n",
      "이 소리는 80.0의 확률로 'cat' 로 추정됩니다.\n",
      "----------------\n",
      "'cat_33' 은 90.0% 의 확률로 cat로 추정됩니다.\n"
     ]
    },
    {
     "name": "stderr",
     "output_type": "stream",
     "text": [
      "100%|██████████| 1/1 [00:02<00:00,  2.59s/it]\n",
      "  0%|          | 0/1 [00:00<?, ?it/s]"
     ]
    },
    {
     "name": "stdout",
     "output_type": "stream",
     "text": [
      "이 소리는 70.0의 확률로 'dog' 로 추정됩니다.\n",
      "이 소리는 86.0의 확률로 'dog' 로 추정됩니다.\n",
      "----------------\n",
      "'hanseungsu_dog_84' 은 78.0% 의 확률로 dog로 추정됩니다.\n"
     ]
    },
    {
     "name": "stderr",
     "output_type": "stream",
     "text": [
      "100%|██████████| 1/1 [00:00<00:00,  1.01it/s]\n",
      "  0%|          | 0/1 [00:00<?, ?it/s]"
     ]
    },
    {
     "name": "stdout",
     "output_type": "stream",
     "text": [
      "이 소리는 90.0의 확률로 'cat' 로 추정됩니다.\n",
      "이 소리는 88.0의 확률로 'cat' 로 추정됩니다.\n",
      "----------------\n",
      "'cat_38' 은 89.0% 의 확률로 cat로 추정됩니다.\n"
     ]
    },
    {
     "name": "stderr",
     "output_type": "stream",
     "text": [
      "100%|██████████| 1/1 [00:00<00:00,  1.08it/s]\n",
      "  0%|          | 0/1 [00:00<?, ?it/s]"
     ]
    },
    {
     "name": "stdout",
     "output_type": "stream",
     "text": [
      "이 소리는 90.0의 확률로 'dog' 로 추정됩니다.\n",
      "이 소리는 88.0의 확률로 'dog' 로 추정됩니다.\n",
      "----------------\n",
      "'2-122104-B-0' 은 89.0% 의 확률로 dog로 추정됩니다.\n"
     ]
    },
    {
     "name": "stderr",
     "output_type": "stream",
     "text": [
      "100%|██████████| 1/1 [00:00<00:00,  1.09it/s]\n",
      "  0%|          | 0/1 [00:00<?, ?it/s]"
     ]
    },
    {
     "name": "stdout",
     "output_type": "stream",
     "text": [
      "이 소리는 90.0의 확률로 'dog' 로 추정됩니다.\n",
      "이 소리는 88.0의 확률로 'dog' 로 추정됩니다.\n",
      "----------------\n",
      "'2-122104-B-0' 은 89.0% 의 확률로 dog로 추정됩니다.\n"
     ]
    },
    {
     "name": "stderr",
     "output_type": "stream",
     "text": [
      "100%|██████████| 1/1 [00:00<00:00,  3.55it/s]\n",
      "  0%|          | 0/1 [00:00<?, ?it/s]"
     ]
    },
    {
     "name": "stdout",
     "output_type": "stream",
     "text": [
      "이 소리는 70.0의 확률로 'dog' 로 추정됩니다.\n",
      "이 소리는 88.0의 확률로 'dog' 로 추정됩니다.\n",
      "----------------\n",
      "'dog_barking_9' 은 79.0% 의 확률로 dog로 추정됩니다.\n"
     ]
    },
    {
     "name": "stderr",
     "output_type": "stream",
     "text": [
      "100%|██████████| 1/1 [00:00<00:00,  3.43it/s]\n",
      "  0%|          | 0/1 [00:00<?, ?it/s]"
     ]
    },
    {
     "name": "stdout",
     "output_type": "stream",
     "text": [
      "이 소리는 70.0의 확률로 'dog' 로 추정됩니다.\n",
      "이 소리는 88.0의 확률로 'dog' 로 추정됩니다.\n",
      "----------------\n",
      "'dog_barking_9' 은 79.0% 의 확률로 dog로 추정됩니다.\n"
     ]
    },
    {
     "name": "stderr",
     "output_type": "stream",
     "text": [
      "100%|██████████| 1/1 [00:01<00:00,  1.83s/it]\n",
      "  0%|          | 0/1 [00:00<?, ?it/s]"
     ]
    },
    {
     "name": "stdout",
     "output_type": "stream",
     "text": [
      "이 소리는 90.0의 확률로 'cat' 로 추정됩니다.\n",
      "이 소리는 94.0의 확률로 'cat' 로 추정됩니다.\n",
      "----------------\n",
      "'cat_7' 은 92.0% 의 확률로 cat로 추정됩니다.\n"
     ]
    },
    {
     "name": "stderr",
     "output_type": "stream",
     "text": [
      "100%|██████████| 1/1 [00:00<00:00,  1.86it/s]\n",
      "  0%|          | 0/1 [00:00<?, ?it/s]"
     ]
    },
    {
     "name": "stdout",
     "output_type": "stream",
     "text": [
      "이 소리는 90.0의 확률로 'dog' 로 추정됩니다.\n",
      "이 소리는 66.0의 확률로 'dog' 로 추정됩니다.\n",
      "----------------\n",
      "'dog_barking_3' 은 78.0% 의 확률로 dog로 추정됩니다.\n"
     ]
    },
    {
     "name": "stderr",
     "output_type": "stream",
     "text": [
      "100%|██████████| 1/1 [00:00<00:00,  2.50it/s]\n",
      "  0%|          | 0/1 [00:00<?, ?it/s]"
     ]
    },
    {
     "name": "stdout",
     "output_type": "stream",
     "text": [
      "이 소리는 100.0의 확률로 'dog' 로 추정됩니다.\n",
      "이 소리는 88.0의 확률로 'dog' 로 추정됩니다.\n",
      "----------------\n",
      "'dog_barking_10' 은 94.0% 의 확률로 dog로 추정됩니다.\n"
     ]
    },
    {
     "name": "stderr",
     "output_type": "stream",
     "text": [
      "100%|██████████| 1/1 [00:00<00:00,  2.56it/s]\n",
      "  0%|          | 0/1 [00:00<?, ?it/s]"
     ]
    },
    {
     "name": "stdout",
     "output_type": "stream",
     "text": [
      "이 소리는 100.0의 확률로 'dog' 로 추정됩니다.\n",
      "이 소리는 88.0의 확률로 'dog' 로 추정됩니다.\n",
      "----------------\n",
      "'dog_barking_10' 은 94.0% 의 확률로 dog로 추정됩니다.\n"
     ]
    },
    {
     "name": "stderr",
     "output_type": "stream",
     "text": [
      "100%|██████████| 1/1 [00:01<00:00,  1.40s/it]\n",
      "  0%|          | 0/1 [00:00<?, ?it/s]"
     ]
    },
    {
     "name": "stdout",
     "output_type": "stream",
     "text": [
      "이 소리는 90.0의 확률로 'cat' 로 추정됩니다.\n",
      "이 소리는 84.0의 확률로 'cat' 로 추정됩니다.\n",
      "----------------\n",
      "'cat_10' 은 87.0% 의 확률로 cat로 추정됩니다.\n"
     ]
    },
    {
     "name": "stderr",
     "output_type": "stream",
     "text": [
      "100%|██████████| 1/1 [00:01<00:00,  1.09s/it]\n",
      "  0%|          | 0/1 [00:00<?, ?it/s]"
     ]
    },
    {
     "name": "stdout",
     "output_type": "stream",
     "text": [
      "이 소리는 100.0의 확률로 'dog' 로 추정됩니다.\n",
      "이 소리는 98.0의 확률로 'dog' 로 추정됩니다.\n",
      "----------------\n",
      "'dog_barking_4' 은 99.0% 의 확률로 dog로 추정됩니다.\n"
     ]
    },
    {
     "name": "stderr",
     "output_type": "stream",
     "text": [
      "100%|██████████| 1/1 [00:01<00:00,  1.88s/it]\n",
      "  0%|          | 0/1 [00:00<?, ?it/s]"
     ]
    },
    {
     "name": "stdout",
     "output_type": "stream",
     "text": [
      "이 소리는 100.0의 확률로 'cat' 로 추정됩니다.\n",
      "이 소리는 92.0의 확률로 'cat' 로 추정됩니다.\n",
      "----------------\n",
      "'cat_64' 은 96.0% 의 확률로 cat로 추정됩니다.\n"
     ]
    },
    {
     "name": "stderr",
     "output_type": "stream",
     "text": [
      "100%|██████████| 1/1 [00:01<00:00,  1.15s/it]\n",
      "  0%|          | 0/1 [00:00<?, ?it/s]"
     ]
    },
    {
     "name": "stdout",
     "output_type": "stream",
     "text": [
      "이 소리는 90.0의 확률로 'bird' 로 추정됩니다.\n",
      "이 소리는 76.0의 확률로 'bird' 로 추정됩니다.\n",
      "----------------\n",
      "'parkseongyoung_bird_74' 은 83.0% 의 확률로 bird로 추정됩니다.\n"
     ]
    },
    {
     "name": "stderr",
     "output_type": "stream",
     "text": [
      "100%|██████████| 1/1 [00:00<00:00,  1.09it/s]\n",
      "  0%|          | 0/1 [00:00<?, ?it/s]"
     ]
    },
    {
     "name": "stdout",
     "output_type": "stream",
     "text": [
      "이 소리는 80.0의 확률로 'bird' 로 추정됩니다.\n",
      "이 소리는 86.0의 확률로 'bird' 로 추정됩니다.\n",
      "----------------\n",
      "'3-181132-A-14' 은 83.0% 의 확률로 bird로 추정됩니다.\n"
     ]
    },
    {
     "name": "stderr",
     "output_type": "stream",
     "text": [
      "100%|██████████| 1/1 [00:01<00:00,  1.69s/it]\n",
      "  0%|          | 0/1 [00:00<?, ?it/s]"
     ]
    },
    {
     "name": "stdout",
     "output_type": "stream",
     "text": [
      "이 소리는 80.0의 확률로 'bird' 로 추정됩니다.\n",
      "이 소리는 94.0의 확률로 'bird' 로 추정됩니다.\n",
      "----------------\n",
      "'hanseungsu_bird_1' 은 87.0% 의 확률로 bird로 추정됩니다.\n"
     ]
    },
    {
     "name": "stderr",
     "output_type": "stream",
     "text": [
      "100%|██████████| 1/1 [00:02<00:00,  2.62s/it]\n",
      "  0%|          | 0/1 [00:00<?, ?it/s]"
     ]
    },
    {
     "name": "stdout",
     "output_type": "stream",
     "text": [
      "이 소리는 100.0의 확률로 'bird' 로 추정됩니다.\n",
      "이 소리는 78.0의 확률로 'bird' 로 추정됩니다.\n",
      "----------------\n",
      "'hanseungsu_bird_18' 은 89.0% 의 확률로 bird로 추정됩니다.\n"
     ]
    },
    {
     "name": "stderr",
     "output_type": "stream",
     "text": [
      "100%|██████████| 1/1 [00:02<00:00,  2.35s/it]\n",
      "  0%|          | 0/1 [00:00<?, ?it/s]"
     ]
    },
    {
     "name": "stdout",
     "output_type": "stream",
     "text": [
      "이 소리는 90.0의 확률로 'bird' 로 추정됩니다.\n",
      "이 소리는 88.0의 확률로 'bird' 로 추정됩니다.\n",
      "----------------\n",
      "'hanseungsu_bird_74' 은 89.0% 의 확률로 bird로 추정됩니다.\n"
     ]
    },
    {
     "name": "stderr",
     "output_type": "stream",
     "text": [
      "100%|██████████| 1/1 [00:02<00:00,  2.46s/it]\n",
      "  0%|          | 0/1 [00:00<?, ?it/s]"
     ]
    },
    {
     "name": "stdout",
     "output_type": "stream",
     "text": [
      "이 소리는 90.0의 확률로 'bird' 로 추정됩니다.\n",
      "이 소리는 90.0의 확률로 'bird' 로 추정됩니다.\n",
      "----------------\n",
      "'hanseungsu_bird_75' 은 90.0% 의 확률로 bird로 추정됩니다.\n"
     ]
    },
    {
     "name": "stderr",
     "output_type": "stream",
     "text": [
      "100%|██████████| 1/1 [00:01<00:00,  1.83s/it]\n",
      "  0%|          | 0/1 [00:00<?, ?it/s]"
     ]
    },
    {
     "name": "stdout",
     "output_type": "stream",
     "text": [
      "이 소리는 100.0의 확률로 'bird' 로 추정됩니다.\n",
      "이 소리는 94.0의 확률로 'bird' 로 추정됩니다.\n",
      "----------------\n",
      "'hanseungsu_bird_104' 은 97.0% 의 확률로 bird로 추정됩니다.\n"
     ]
    },
    {
     "name": "stderr",
     "output_type": "stream",
     "text": [
      "100%|██████████| 1/1 [00:01<00:00,  1.36s/it]\n",
      "  0%|          | 0/1 [00:00<?, ?it/s]"
     ]
    },
    {
     "name": "stdout",
     "output_type": "stream",
     "text": [
      "이 소리는 80.0의 확률로 'dog' 로 추정됩니다.\n",
      "이 소리는 86.0의 확률로 'dog' 로 추정됩니다.\n",
      "----------------\n",
      "'dog_barking_26' 은 83.0% 의 확률로 dog로 추정됩니다.\n"
     ]
    },
    {
     "name": "stderr",
     "output_type": "stream",
     "text": [
      "100%|██████████| 1/1 [00:01<00:00,  1.04s/it]\n",
      "  0%|          | 0/1 [00:00<?, ?it/s]"
     ]
    },
    {
     "name": "stdout",
     "output_type": "stream",
     "text": [
      "이 소리는 100.0의 확률로 'dog' 로 추정됩니다.\n",
      "이 소리는 96.0의 확률로 'dog' 로 추정됩니다.\n",
      "----------------\n",
      "'dog_barking_29' 은 98.0% 의 확률로 dog로 추정됩니다.\n"
     ]
    },
    {
     "name": "stderr",
     "output_type": "stream",
     "text": [
      "100%|██████████| 1/1 [00:00<00:00,  2.48it/s]\n",
      "  0%|          | 0/1 [00:00<?, ?it/s]"
     ]
    },
    {
     "name": "stdout",
     "output_type": "stream",
     "text": [
      "이 소리는 100.0의 확률로 'dog' 로 추정됩니다.\n",
      "이 소리는 100.0의 확률로 'dog' 로 추정됩니다.\n",
      "----------------\n",
      "'dog_barking_50' 은 100.0% 의 확률로 dog로 추정됩니다.\n"
     ]
    },
    {
     "name": "stderr",
     "output_type": "stream",
     "text": [
      "100%|██████████| 1/1 [00:00<00:00,  1.64it/s]\n",
      "  0%|          | 0/1 [00:00<?, ?it/s]"
     ]
    },
    {
     "name": "stdout",
     "output_type": "stream",
     "text": [
      "이 소리는 90.0의 확률로 'dog' 로 추정됩니다.\n",
      "이 소리는 92.0의 확률로 'dog' 로 추정됩니다.\n",
      "----------------\n",
      "'dog_barking_51' 은 91.0% 의 확률로 dog로 추정됩니다.\n"
     ]
    },
    {
     "name": "stderr",
     "output_type": "stream",
     "text": [
      "100%|██████████| 1/1 [00:00<00:00,  1.31it/s]\n",
      "  0%|          | 0/1 [00:00<?, ?it/s]"
     ]
    },
    {
     "name": "stdout",
     "output_type": "stream",
     "text": [
      "이 소리는 100.0의 확률로 'drum' 로 추정됩니다.\n",
      "이 소리는 98.0의 확률로 'drum' 로 추정됩니다.\n",
      "----------------\n",
      "'drum019' 은 99.0% 의 확률로 drum로 추정됩니다.\n"
     ]
    },
    {
     "name": "stderr",
     "output_type": "stream",
     "text": [
      "100%|██████████| 1/1 [00:03<00:00,  3.51s/it]\n",
      "  0%|          | 0/1 [00:00<?, ?it/s]"
     ]
    },
    {
     "name": "stdout",
     "output_type": "stream",
     "text": [
      "이 소리는 90.0의 확률로 'drum' 로 추정됩니다.\n",
      "이 소리는 96.0의 확률로 'drum' 로 추정됩니다.\n",
      "----------------\n",
      "'drum020' 은 93.0% 의 확률로 drum로 추정됩니다.\n"
     ]
    },
    {
     "name": "stderr",
     "output_type": "stream",
     "text": [
      "100%|██████████| 1/1 [00:03<00:00,  3.80s/it]\n",
      "  0%|          | 0/1 [00:00<?, ?it/s]"
     ]
    },
    {
     "name": "stdout",
     "output_type": "stream",
     "text": [
      "이 소리는 100.0의 확률로 'drum' 로 추정됩니다.\n",
      "이 소리는 84.0의 확률로 'drum' 로 추정됩니다.\n",
      "----------------\n",
      "'drum029' 은 92.0% 의 확률로 drum로 추정됩니다.\n"
     ]
    },
    {
     "name": "stderr",
     "output_type": "stream",
     "text": [
      "100%|██████████| 1/1 [00:03<00:00,  3.61s/it]\n",
      "  0%|          | 0/1 [00:00<?, ?it/s]"
     ]
    },
    {
     "name": "stdout",
     "output_type": "stream",
     "text": [
      "이 소리는 100.0의 확률로 'drum' 로 추정됩니다.\n",
      "이 소리는 80.0의 확률로 'drum' 로 추정됩니다.\n",
      "----------------\n",
      "'drum054' 은 90.0% 의 확률로 drum로 추정됩니다.\n"
     ]
    },
    {
     "name": "stderr",
     "output_type": "stream",
     "text": [
      "100%|██████████| 1/1 [00:00<00:00,  4.43it/s]\n",
      "  0%|          | 0/1 [00:00<?, ?it/s]"
     ]
    },
    {
     "name": "stdout",
     "output_type": "stream",
     "text": [
      "이 소리는 80.0의 확률로 'cat' 로 추정됩니다.\n",
      "이 소리는 78.0의 확률로 'cat' 로 추정됩니다.\n",
      "----------------\n",
      "'cat_18' 은 79.0% 의 확률로 cat로 추정됩니다.\n"
     ]
    },
    {
     "name": "stderr",
     "output_type": "stream",
     "text": [
      "100%|██████████| 1/1 [00:02<00:00,  2.03s/it]\n",
      "  0%|          | 0/1 [00:00<?, ?it/s]"
     ]
    },
    {
     "name": "stdout",
     "output_type": "stream",
     "text": [
      "이 소리는 90.0의 확률로 'cat' 로 추정됩니다.\n",
      "이 소리는 88.0의 확률로 'cat' 로 추정됩니다.\n",
      "----------------\n",
      "'cat_31' 은 89.0% 의 확률로 cat로 추정됩니다.\n"
     ]
    },
    {
     "name": "stderr",
     "output_type": "stream",
     "text": [
      "100%|██████████| 1/1 [00:00<00:00,  1.50it/s]\n",
      "  0%|          | 0/1 [00:00<?, ?it/s]"
     ]
    },
    {
     "name": "stdout",
     "output_type": "stream",
     "text": [
      "이 소리는 100.0의 확률로 'cat' 로 추정됩니다.\n",
      "이 소리는 80.0의 확률로 'cat' 로 추정됩니다.\n",
      "----------------\n",
      "'cat_33' 은 90.0% 의 확률로 cat로 추정됩니다.\n"
     ]
    },
    {
     "name": "stderr",
     "output_type": "stream",
     "text": [
      "100%|██████████| 1/1 [00:00<00:00,  1.24it/s]\n",
      "  0%|          | 0/1 [00:00<?, ?it/s]"
     ]
    },
    {
     "name": "stdout",
     "output_type": "stream",
     "text": [
      "이 소리는 90.0의 확률로 'clap' 로 추정됩니다.\n",
      "이 소리는 84.0의 확률로 'clap' 로 추정됩니다.\n",
      "----------------\n",
      "'hanseungsu_clap_21' 은 87.0% 의 확률로 clap로 추정됩니다.\n"
     ]
    },
    {
     "name": "stderr",
     "output_type": "stream",
     "text": [
      "100%|██████████| 1/1 [00:01<00:00,  1.76s/it]\n",
      "  0%|          | 0/1 [00:00<?, ?it/s]"
     ]
    },
    {
     "name": "stdout",
     "output_type": "stream",
     "text": [
      "이 소리는 90.0의 확률로 'clap' 로 추정됩니다.\n",
      "이 소리는 90.0의 확률로 'clap' 로 추정됩니다.\n",
      "----------------\n",
      "'hanseungsu_clap_23' 은 90.0% 의 확률로 clap로 추정됩니다.\n"
     ]
    },
    {
     "name": "stderr",
     "output_type": "stream",
     "text": [
      "100%|██████████| 1/1 [00:02<00:00,  2.25s/it]\n",
      "  0%|          | 0/1 [00:00<?, ?it/s]"
     ]
    },
    {
     "name": "stdout",
     "output_type": "stream",
     "text": [
      "이 소리는 80.0의 확률로 'clap' 로 추정됩니다.\n",
      "이 소리는 86.0의 확률로 'clap' 로 추정됩니다.\n",
      "----------------\n",
      "'hanseungsu_clap_45' 은 83.0% 의 확률로 clap로 추정됩니다.\n"
     ]
    },
    {
     "name": "stderr",
     "output_type": "stream",
     "text": [
      "100%|██████████| 1/1 [00:01<00:00,  1.96s/it]\n",
      "  0%|          | 0/1 [00:00<?, ?it/s]"
     ]
    },
    {
     "name": "stdout",
     "output_type": "stream",
     "text": [
      "이 소리는 100.0의 확률로 'clap' 로 추정됩니다.\n",
      "이 소리는 94.0의 확률로 'clap' 로 추정됩니다.\n",
      "----------------\n",
      "'hanseungsu_clap_46' 은 97.0% 의 확률로 clap로 추정됩니다.\n"
     ]
    },
    {
     "name": "stderr",
     "output_type": "stream",
     "text": [
      "100%|██████████| 1/1 [00:01<00:00,  1.45s/it]\n",
      "  0%|          | 0/1 [00:00<?, ?it/s]"
     ]
    },
    {
     "name": "stdout",
     "output_type": "stream",
     "text": [
      "이 소리는 90.0의 확률로 'shout' 로 추정됩니다.\n",
      "이 소리는 76.0의 확률로 'shout' 로 추정됩니다.\n",
      "----------------\n",
      "'hanseungsu_shout_16' 은 83.0% 의 확률로 shout로 추정됩니다.\n"
     ]
    },
    {
     "name": "stderr",
     "output_type": "stream",
     "text": [
      "100%|██████████| 1/1 [00:01<00:00,  1.17s/it]\n",
      "  0%|          | 0/1 [00:00<?, ?it/s]"
     ]
    },
    {
     "name": "stdout",
     "output_type": "stream",
     "text": [
      "이 소리는 90.0의 확률로 'shout' 로 추정됩니다.\n",
      "이 소리는 82.0의 확률로 'shout' 로 추정됩니다.\n",
      "----------------\n",
      "'hanseungsu_shout_20' 은 86.0% 의 확률로 shout로 추정됩니다.\n"
     ]
    },
    {
     "name": "stderr",
     "output_type": "stream",
     "text": [
      "100%|██████████| 1/1 [00:02<00:00,  2.06s/it]\n",
      "  0%|          | 0/1 [00:00<?, ?it/s]"
     ]
    },
    {
     "name": "stdout",
     "output_type": "stream",
     "text": [
      "이 소리는 80.0의 확률로 'shout' 로 추정됩니다.\n",
      "이 소리는 82.0의 확률로 'shout' 로 추정됩니다.\n",
      "----------------\n",
      "'hanseungsu_shout_36' 은 81.0% 의 확률로 shout로 추정됩니다.\n"
     ]
    },
    {
     "name": "stderr",
     "output_type": "stream",
     "text": [
      "100%|██████████| 1/1 [00:01<00:00,  1.19s/it]\n",
      "  0%|          | 0/1 [00:00<?, ?it/s]"
     ]
    },
    {
     "name": "stdout",
     "output_type": "stream",
     "text": [
      "이 소리는 80.0의 확률로 'shout' 로 추정됩니다.\n",
      "이 소리는 84.0의 확률로 'shout' 로 추정됩니다.\n",
      "----------------\n",
      "'hanseungsu_shout_62' 은 82.0% 의 확률로 shout로 추정됩니다.\n"
     ]
    },
    {
     "name": "stderr",
     "output_type": "stream",
     "text": [
      "100%|██████████| 1/1 [00:01<00:00,  1.04s/it]\n",
      "  0%|          | 0/1 [00:00<?, ?it/s]"
     ]
    },
    {
     "name": "stdout",
     "output_type": "stream",
     "text": [
      "이 소리는 80.0의 확률로 'horse' 로 추정됩니다.\n",
      "이 소리는 82.0의 확률로 'horse' 로 추정됩니다.\n",
      "----------------\n",
      "'hanseungsu_horse_9' 은 81.0% 의 확률로 horse로 추정됩니다.\n"
     ]
    },
    {
     "name": "stderr",
     "output_type": "stream",
     "text": [
      "100%|██████████| 1/1 [00:00<00:00,  1.30it/s]\n",
      "  0%|          | 0/1 [00:00<?, ?it/s]"
     ]
    },
    {
     "name": "stdout",
     "output_type": "stream",
     "text": [
      "이 소리는 90.0의 확률로 'horse' 로 추정됩니다.\n",
      "이 소리는 80.0의 확률로 'horse' 로 추정됩니다.\n",
      "----------------\n",
      "'hanseungsu_horse_12' 은 85.0% 의 확률로 horse로 추정됩니다.\n"
     ]
    },
    {
     "name": "stderr",
     "output_type": "stream",
     "text": [
      "100%|██████████| 1/1 [00:01<00:00,  1.65s/it]\n",
      "  0%|          | 0/1 [00:00<?, ?it/s]"
     ]
    },
    {
     "name": "stdout",
     "output_type": "stream",
     "text": [
      "이 소리는 80.0의 확률로 'horse' 로 추정됩니다.\n",
      "이 소리는 78.0의 확률로 'horse' 로 추정됩니다.\n",
      "----------------\n",
      "'hanseungsu_horse_13' 은 79.0% 의 확률로 horse로 추정됩니다.\n"
     ]
    },
    {
     "name": "stderr",
     "output_type": "stream",
     "text": [
      "100%|██████████| 1/1 [00:00<00:00,  1.49it/s]\n",
      "  0%|          | 0/1 [00:00<?, ?it/s]"
     ]
    },
    {
     "name": "stdout",
     "output_type": "stream",
     "text": [
      "이 소리는 90.0의 확률로 'horse' 로 추정됩니다.\n",
      "이 소리는 84.0의 확률로 'horse' 로 추정됩니다.\n",
      "----------------\n",
      "'hanseungsu_horse_21' 은 87.0% 의 확률로 horse로 추정됩니다.\n"
     ]
    },
    {
     "name": "stderr",
     "output_type": "stream",
     "text": [
      "100%|██████████| 1/1 [00:00<00:00,  1.90it/s]\n",
      "  0%|          | 0/1 [00:00<?, ?it/s]"
     ]
    },
    {
     "name": "stdout",
     "output_type": "stream",
     "text": [
      "이 소리는 100.0의 확률로 'lion' 로 추정됩니다.\n",
      "이 소리는 92.0의 확률로 'lion' 로 추정됩니다.\n",
      "----------------\n",
      "'parkseongyoung_lion_1' 은 96.0% 의 확률로 lion로 추정됩니다.\n"
     ]
    },
    {
     "name": "stderr",
     "output_type": "stream",
     "text": [
      "100%|██████████| 1/1 [00:01<00:00,  1.39s/it]\n",
      "  0%|          | 0/1 [00:00<?, ?it/s]"
     ]
    },
    {
     "name": "stdout",
     "output_type": "stream",
     "text": [
      "이 소리는 100.0의 확률로 'lion' 로 추정됩니다.\n",
      "이 소리는 74.0의 확률로 'lion' 로 추정됩니다.\n",
      "----------------\n",
      "'parkseongyoung_lion_6' 은 87.0% 의 확률로 lion로 추정됩니다.\n"
     ]
    },
    {
     "name": "stderr",
     "output_type": "stream",
     "text": [
      "100%|██████████| 1/1 [00:00<00:00,  1.19it/s]\n",
      "  0%|          | 0/1 [00:00<?, ?it/s]"
     ]
    },
    {
     "name": "stdout",
     "output_type": "stream",
     "text": [
      "이 소리는 90.0의 확률로 'lion' 로 추정됩니다.\n",
      "이 소리는 92.0의 확률로 'lion' 로 추정됩니다.\n",
      "----------------\n",
      "'parkseongyoung_lion_7' 은 91.0% 의 확률로 lion로 추정됩니다.\n"
     ]
    },
    {
     "name": "stderr",
     "output_type": "stream",
     "text": [
      "100%|██████████| 1/1 [00:00<00:00,  1.32it/s]"
     ]
    },
    {
     "name": "stdout",
     "output_type": "stream",
     "text": [
      "이 소리는 100.0의 확률로 'lion' 로 추정됩니다.\n",
      "이 소리는 100.0의 확률로 'lion' 로 추정됩니다.\n",
      "----------------\n",
      "'parkseongyoung_lion_13' 은 100.0% 의 확률로 lion로 추정됩니다.\n"
     ]
    },
    {
     "name": "stderr",
     "output_type": "stream",
     "text": [
      "\n"
     ]
    }
   ],
   "source": [
    "for idx, song in enumerate(song_ls):\n",
    "    mmp.predict_check_result(song)\n",
    "    try:\n",
    "        os.rename(f\"{path}{song}.json\", f\"{path}{real_ls[idx]}_1.json\")\n",
    "    except:\n",
    "        pass"
   ]
  },
  {
   "cell_type": "code",
   "execution_count": null,
   "id": "c5b2ec0f",
   "metadata": {},
   "outputs": [],
   "source": [
    "np.unique(song_ls)"
   ]
  },
  {
   "cell_type": "code",
   "execution_count": null,
   "id": "7e2c6076",
   "metadata": {},
   "outputs": [],
   "source": [
    "import os\n",
    "import numpy as np\n",
    "path = \"./jsons/\"\n",
    "for idx, song in enumerate(song_ls):\n",
    "    try:\n",
    "        os.rename(f\"{path}{song}.json\", f\"{path}{real_ls[idx]}_1.json\")\n",
    "    except:\n",
    "        pass"
   ]
  },
  {
   "cell_type": "markdown",
   "id": "ed915865",
   "metadata": {},
   "source": [
    "### mp4 to wav test"
   ]
  },
  {
   "cell_type": "code",
   "execution_count": 24,
   "id": "11f296e8",
   "metadata": {},
   "outputs": [],
   "source": [
    "import subprocess\n",
    "import glob, sys, os"
   ]
  },
  {
   "cell_type": "code",
   "execution_count": 33,
   "id": "ab22a4ba",
   "metadata": {},
   "outputs": [
    {
     "data": {
      "text/plain": [
       "['../sound_files/videos/cat_neutral1.mp4',\n",
       " '../sound_files/videos/cat_sad_11.mp4',\n",
       " '../sound_files/videos/drum1.mp4',\n",
       " '../sound_files/videos/cat_sad_9.mp4']"
      ]
     },
     "execution_count": 33,
     "metadata": {},
     "output_type": "execute_result"
    }
   ],
   "source": [
    "local_path = \"../sound_files/\"\n",
    "video_path = \"../sound_files/videos/\"\n",
    "wav_path = \"../sound_files/wav_from_videos/\"\n",
    "mp4_ls = [file for file in glob.glob(f'{video_path}*') if file.endswith(\".mp4\")]\n",
    "mp4_ls"
   ]
  },
  {
   "cell_type": "code",
   "execution_count": 34,
   "id": "c106464e",
   "metadata": {},
   "outputs": [
    {
     "name": "stdout",
     "output_type": "stream",
     "text": [
      "['../sound_files/cat_sad_9.wav', '../sound_files/cat_sad_11.wav', '../sound_files/drum1.wav', '../sound_files/cat_neutral1.wav']\n"
     ]
    }
   ],
   "source": [
    "for mp4_name in mp4_ls:\n",
    "    command = \"ffmpeg -i {} -ab 160k -ac 2 -ar 44100 -vn {}{}.wav\".format(mp4_name, wav_path, os.path.basename(mp4_name)[:-4])\n",
    "    subprocess.call(command, shell=True)\n",
    "print([file for file in glob.glob(f'{local_path}*') if file.endswith(\".wav\")])"
   ]
  },
  {
   "cell_type": "code",
   "execution_count": 22,
   "id": "e32dad36",
   "metadata": {},
   "outputs": [
    {
     "name": "stdout",
     "output_type": "stream",
     "text": [
      "ffmpeg -i ../sound_files/cat_neutral(1).mp4 -ab 160k -ac 2 -ar 44100 -vn ../sound_files/cat_neutral(1).wav\n"
     ]
    }
   ],
   "source": [
    "print(command)"
   ]
  },
  {
   "cell_type": "code",
   "execution_count": 21,
   "id": "2ead86bc",
   "metadata": {},
   "outputs": [
    {
     "data": {
      "text/plain": [
       "2"
      ]
     },
     "execution_count": 21,
     "metadata": {},
     "output_type": "execute_result"
    }
   ],
   "source": [
    "mp4_name = '../sound_files/cat_neutral(1).mp4'\n",
    "command = \"ffmpeg -i {} -ab 160k -ac 2 -ar 44100 -vn {}.wav\".format(mp4_name, mp4_name[:-4])\n",
    "subprocess.call(command, shell=True)"
   ]
  },
  {
   "cell_type": "code",
   "execution_count": null,
   "id": "b7d62ddd",
   "metadata": {},
   "outputs": [],
   "source": []
  }
 ],
 "metadata": {
  "kernelspec": {
   "display_name": "nlp",
   "language": "python",
   "name": "nlp"
  },
  "language_info": {
   "codemirror_mode": {
    "name": "ipython",
    "version": 3
   },
   "file_extension": ".py",
   "mimetype": "text/x-python",
   "name": "python",
   "nbconvert_exporter": "python",
   "pygments_lexer": "ipython3",
   "version": "3.8.8"
  }
 },
 "nbformat": 4,
 "nbformat_minor": 5
}
