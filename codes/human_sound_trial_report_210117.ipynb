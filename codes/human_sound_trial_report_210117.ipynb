{
 "cells": [
  {
   "cell_type": "code",
   "execution_count": 1,
   "id": "221c469f",
   "metadata": {},
   "outputs": [
    {
     "data": {
      "text/html": [
       "        <script type=\"text/javascript\">\n",
       "        window.PlotlyConfig = {MathJaxConfig: 'local'};\n",
       "        if (window.MathJax) {MathJax.Hub.Config({SVG: {font: \"STIX-Web\"}});}\n",
       "        if (typeof require !== 'undefined') {\n",
       "        require.undef(\"plotly\");\n",
       "        requirejs.config({\n",
       "            paths: {\n",
       "                'plotly': ['https://cdn.plot.ly/plotly-latest.min']\n",
       "            }\n",
       "        });\n",
       "        require(['plotly'], function(Plotly) {\n",
       "            window._Plotly = Plotly;\n",
       "        });\n",
       "        }\n",
       "        </script>\n",
       "        "
      ]
     },
     "metadata": {},
     "output_type": "display_data"
    }
   ],
   "source": [
    "import pandas as pd\n",
    "import numpy as np\n",
    "import librosa\n",
    "import cv2\n",
    "import os\n",
    "import glob\n",
    "import seaborn as sns\n",
    "from tqdm import tqdm\n",
    "import IPython.display\n",
    "import matplotlib.pyplot as plt\n",
    "import plotly.express as px\n",
    "from plotly.offline import plot, iplot, init_notebook_mode\n",
    "import plotly.io as pio\n",
    "init_notebook_mode(connected=True)\n",
    "pio.renderers.default = \"notebook_connected\"\n",
    "import warnings\n",
    "warnings.simplefilter(\"ignore\")\n",
    "\n",
    "import cosine_similarity as cs\n",
    "import freq_dataset as fd\n",
    "cos = cs.CosineSimilarity()\n",
    "freq = fd.MakeFreqDataset()\n",
    "\n",
    "s_path = \"../../sounds/\""
   ]
  },
  {
   "cell_type": "code",
   "execution_count": 5,
   "id": "9d236d95",
   "metadata": {},
   "outputs": [
    {
     "data": {
      "text/html": [
       "<div>\n",
       "<style scoped>\n",
       "    .dataframe tbody tr th:only-of-type {\n",
       "        vertical-align: middle;\n",
       "    }\n",
       "\n",
       "    .dataframe tbody tr th {\n",
       "        vertical-align: top;\n",
       "    }\n",
       "\n",
       "    .dataframe thead th {\n",
       "        text-align: right;\n",
       "    }\n",
       "</style>\n",
       "<table border=\"1\" class=\"dataframe\">\n",
       "  <thead>\n",
       "    <tr style=\"text-align: right;\">\n",
       "      <th></th>\n",
       "      <th>path</th>\n",
       "      <th>label</th>\n",
       "      <th>name</th>\n",
       "    </tr>\n",
       "  </thead>\n",
       "  <tbody>\n",
       "    <tr>\n",
       "      <th>0</th>\n",
       "      <td>../../sounds/human_voice/read_women/3_4368.wav</td>\n",
       "      <td>human_voice</td>\n",
       "      <td>3_4368</td>\n",
       "    </tr>\n",
       "    <tr>\n",
       "      <th>1</th>\n",
       "      <td>../../sounds/human_voice/read_women/2_1018.wav</td>\n",
       "      <td>human_voice</td>\n",
       "      <td>2_1018</td>\n",
       "    </tr>\n",
       "    <tr>\n",
       "      <th>3</th>\n",
       "      <td>../../sounds/human_voice/read_women/3_3540.wav</td>\n",
       "      <td>human_voice</td>\n",
       "      <td>3_3540</td>\n",
       "    </tr>\n",
       "    <tr>\n",
       "      <th>4</th>\n",
       "      <td>../../sounds/human_voice/read_men/bM32LJFpAus....</td>\n",
       "      <td>human_voice</td>\n",
       "      <td>bM32LJFpAus.0206</td>\n",
       "    </tr>\n",
       "    <tr>\n",
       "      <th>5</th>\n",
       "      <td>../../sounds/song/Hip-hop_Pop_Cool_gold vinyl_...</td>\n",
       "      <td>song</td>\n",
       "      <td>57_60</td>\n",
       "    </tr>\n",
       "    <tr>\n",
       "      <th>...</th>\n",
       "      <td>...</td>\n",
       "      <td>...</td>\n",
       "      <td>...</td>\n",
       "    </tr>\n",
       "    <tr>\n",
       "      <th>29562</th>\n",
       "      <td>../../sounds/human_voice/read_men/nVToV-zn_C4....</td>\n",
       "      <td>human_voice</td>\n",
       "      <td>nVToV-zn_C4.0578</td>\n",
       "    </tr>\n",
       "    <tr>\n",
       "      <th>29563</th>\n",
       "      <td>../../sounds/human_voice/read_men/bM32LJFpAus....</td>\n",
       "      <td>human_voice</td>\n",
       "      <td>bM32LJFpAus.0893</td>\n",
       "    </tr>\n",
       "    <tr>\n",
       "      <th>29564</th>\n",
       "      <td>../../sounds/human_voice/read_women/4_0459.wav</td>\n",
       "      <td>human_voice</td>\n",
       "      <td>4_0459</td>\n",
       "    </tr>\n",
       "    <tr>\n",
       "      <th>29565</th>\n",
       "      <td>../../sounds/song/Hip-hop_Pop_Crucial_Unforgiv...</td>\n",
       "      <td>song</td>\n",
       "      <td>27_30</td>\n",
       "    </tr>\n",
       "    <tr>\n",
       "      <th>29566</th>\n",
       "      <td>../../sounds/human_voice/read_women/4_2954.wav</td>\n",
       "      <td>human_voice</td>\n",
       "      <td>4_2954</td>\n",
       "    </tr>\n",
       "  </tbody>\n",
       "</table>\n",
       "<p>24461 rows × 3 columns</p>\n",
       "</div>"
      ],
      "text/plain": [
       "                                                    path        label  \\\n",
       "0         ../../sounds/human_voice/read_women/3_4368.wav  human_voice   \n",
       "1         ../../sounds/human_voice/read_women/2_1018.wav  human_voice   \n",
       "3         ../../sounds/human_voice/read_women/3_3540.wav  human_voice   \n",
       "4      ../../sounds/human_voice/read_men/bM32LJFpAus....  human_voice   \n",
       "5      ../../sounds/song/Hip-hop_Pop_Cool_gold vinyl_...         song   \n",
       "...                                                  ...          ...   \n",
       "29562  ../../sounds/human_voice/read_men/nVToV-zn_C4....  human_voice   \n",
       "29563  ../../sounds/human_voice/read_men/bM32LJFpAus....  human_voice   \n",
       "29564     ../../sounds/human_voice/read_women/4_0459.wav  human_voice   \n",
       "29565  ../../sounds/song/Hip-hop_Pop_Crucial_Unforgiv...         song   \n",
       "29566     ../../sounds/human_voice/read_women/4_2954.wav  human_voice   \n",
       "\n",
       "                   name  \n",
       "0                3_4368  \n",
       "1                2_1018  \n",
       "3                3_3540  \n",
       "4      bM32LJFpAus.0206  \n",
       "5                 57_60  \n",
       "...                 ...  \n",
       "29562  nVToV-zn_C4.0578  \n",
       "29563  bM32LJFpAus.0893  \n",
       "29564            4_0459  \n",
       "29565             27_30  \n",
       "29566            4_2954  \n",
       "\n",
       "[24461 rows x 3 columns]"
      ]
     },
     "execution_count": 5,
     "metadata": {},
     "output_type": "execute_result"
    }
   ],
   "source": [
    "o_path = list(set(glob.glob(f'{s_path}*/*/*')))\n",
    "path_ls = [file for file in o_path if file.endswith(\".mp3\") or file.endswith(\".wav\")]\n",
    "name_ls = [name.split('/')[-1][:-4] for name in path_ls]\n",
    "label_ls = [name.split('/')[-3] for name in path_ls]\n",
    "info_df = pd.DataFrame()\n",
    "info_df['path'] = path_ls\n",
    "info_df['label'] = label_ls\n",
    "info_df['name'] = name_ls\n",
    "info_df.drop(info_df[info_df['label']=='1213'].index, inplace=True)\n",
    "info_df.drop(info_df[info_df['label']=='animal'].index, inplace=True)\n",
    "info_df"
   ]
  },
  {
   "cell_type": "code",
   "execution_count": 6,
   "id": "cfe509fb",
   "metadata": {},
   "outputs": [
    {
     "data": {
      "text/html": [
       "<div>\n",
       "<style scoped>\n",
       "    .dataframe tbody tr th:only-of-type {\n",
       "        vertical-align: middle;\n",
       "    }\n",
       "\n",
       "    .dataframe tbody tr th {\n",
       "        vertical-align: top;\n",
       "    }\n",
       "\n",
       "    .dataframe thead th {\n",
       "        text-align: right;\n",
       "    }\n",
       "</style>\n",
       "<table border=\"1\" class=\"dataframe\">\n",
       "  <thead>\n",
       "    <tr style=\"text-align: right;\">\n",
       "      <th></th>\n",
       "      <th>path</th>\n",
       "      <th>name</th>\n",
       "    </tr>\n",
       "    <tr>\n",
       "      <th>label</th>\n",
       "      <th></th>\n",
       "      <th></th>\n",
       "    </tr>\n",
       "  </thead>\n",
       "  <tbody>\n",
       "    <tr>\n",
       "      <th>human</th>\n",
       "      <td>909</td>\n",
       "      <td>909</td>\n",
       "    </tr>\n",
       "    <tr>\n",
       "      <th>human_voice</th>\n",
       "      <td>17746</td>\n",
       "      <td>17746</td>\n",
       "    </tr>\n",
       "    <tr>\n",
       "      <th>life</th>\n",
       "      <td>1312</td>\n",
       "      <td>1312</td>\n",
       "    </tr>\n",
       "    <tr>\n",
       "      <th>nature</th>\n",
       "      <td>216</td>\n",
       "      <td>216</td>\n",
       "    </tr>\n",
       "    <tr>\n",
       "      <th>song</th>\n",
       "      <td>4278</td>\n",
       "      <td>4278</td>\n",
       "    </tr>\n",
       "  </tbody>\n",
       "</table>\n",
       "</div>"
      ],
      "text/plain": [
       "              path   name\n",
       "label                    \n",
       "human          909    909\n",
       "human_voice  17746  17746\n",
       "life          1312   1312\n",
       "nature         216    216\n",
       "song          4278   4278"
      ]
     },
     "execution_count": 6,
     "metadata": {},
     "output_type": "execute_result"
    }
   ],
   "source": [
    "info_df.groupby('label').count()"
   ]
  },
  {
   "cell_type": "code",
   "execution_count": 7,
   "id": "a80c471a",
   "metadata": {},
   "outputs": [
    {
     "name": "stdout",
     "output_type": "stream",
     "text": [
      "총 2 개의 모델이 있습니다.\n",
      "['models/RF_under3s_oversampling_91.pkl', 'models/RF_under3s_89.pkl']\n"
     ]
    }
   ],
   "source": [
    "import model_predict as mp\n",
    "self = mp.ModelPredict()"
   ]
  },
  {
   "cell_type": "code",
   "execution_count": 8,
   "id": "65fda67e",
   "metadata": {},
   "outputs": [
    {
     "data": {
      "text/html": [
       "<div>\n",
       "<style scoped>\n",
       "    .dataframe tbody tr th:only-of-type {\n",
       "        vertical-align: middle;\n",
       "    }\n",
       "\n",
       "    .dataframe tbody tr th {\n",
       "        vertical-align: top;\n",
       "    }\n",
       "\n",
       "    .dataframe thead th {\n",
       "        text-align: right;\n",
       "    }\n",
       "</style>\n",
       "<table border=\"1\" class=\"dataframe\">\n",
       "  <thead>\n",
       "    <tr style=\"text-align: right;\">\n",
       "      <th></th>\n",
       "      <th>name</th>\n",
       "      <th>path</th>\n",
       "      <th>duration</th>\n",
       "      <th>chroma_stft_mean</th>\n",
       "      <th>chroma_stft_var</th>\n",
       "      <th>rms_mean</th>\n",
       "      <th>rms_var</th>\n",
       "      <th>spectral_centroid_mean</th>\n",
       "      <th>spectral_centroid_var</th>\n",
       "      <th>spectral_bandwidth_mean</th>\n",
       "      <th>...</th>\n",
       "      <th>mfcc17_mean</th>\n",
       "      <th>mfcc17_var</th>\n",
       "      <th>mfcc18_mean</th>\n",
       "      <th>mfcc18_var</th>\n",
       "      <th>mfcc19_mean</th>\n",
       "      <th>mfcc19_var</th>\n",
       "      <th>mfcc20_mean</th>\n",
       "      <th>mfcc20_var</th>\n",
       "      <th>cate1</th>\n",
       "      <th>cate2</th>\n",
       "    </tr>\n",
       "  </thead>\n",
       "  <tbody>\n",
       "    <tr>\n",
       "      <th>0</th>\n",
       "      <td>2-81731-A-10</td>\n",
       "      <td>../../sounds/nature/비 소리/2-81731-A-10.wav</td>\n",
       "      <td>5.000000</td>\n",
       "      <td>0.674077</td>\n",
       "      <td>0.040070</td>\n",
       "      <td>0.017677</td>\n",
       "      <td>0.000137</td>\n",
       "      <td>4827.324299</td>\n",
       "      <td>3.555906e+05</td>\n",
       "      <td>2919.121853</td>\n",
       "      <td>...</td>\n",
       "      <td>-8.264300</td>\n",
       "      <td>10.656216</td>\n",
       "      <td>-0.129912</td>\n",
       "      <td>18.339109</td>\n",
       "      <td>-6.612656</td>\n",
       "      <td>13.652373</td>\n",
       "      <td>-1.414367</td>\n",
       "      <td>12.971899</td>\n",
       "      <td>nature</td>\n",
       "      <td>비 소리</td>\n",
       "    </tr>\n",
       "    <tr>\n",
       "      <th>1</th>\n",
       "      <td>dr0shorse</td>\n",
       "      <td>../../sounds/animal/말 소리/dr0shorse.wav</td>\n",
       "      <td>1.353651</td>\n",
       "      <td>0.374280</td>\n",
       "      <td>0.095735</td>\n",
       "      <td>0.181595</td>\n",
       "      <td>0.006819</td>\n",
       "      <td>1492.603731</td>\n",
       "      <td>8.567513e+04</td>\n",
       "      <td>955.614463</td>\n",
       "      <td>...</td>\n",
       "      <td>12.378535</td>\n",
       "      <td>56.651711</td>\n",
       "      <td>-10.243791</td>\n",
       "      <td>28.035650</td>\n",
       "      <td>-3.035161</td>\n",
       "      <td>78.115898</td>\n",
       "      <td>1.781476</td>\n",
       "      <td>150.969696</td>\n",
       "      <td>animal</td>\n",
       "      <td>말 소리</td>\n",
       "    </tr>\n",
       "    <tr>\n",
       "      <th>2</th>\n",
       "      <td>4_5154</td>\n",
       "      <td>../../sounds/human_voice/read_women/4_5154.wav</td>\n",
       "      <td>3.204354</td>\n",
       "      <td>0.377328</td>\n",
       "      <td>0.119002</td>\n",
       "      <td>0.069964</td>\n",
       "      <td>0.005218</td>\n",
       "      <td>2189.041640</td>\n",
       "      <td>1.608823e+06</td>\n",
       "      <td>2243.653289</td>\n",
       "      <td>...</td>\n",
       "      <td>2.432036</td>\n",
       "      <td>255.817642</td>\n",
       "      <td>3.523569</td>\n",
       "      <td>398.191986</td>\n",
       "      <td>0.841104</td>\n",
       "      <td>213.776505</td>\n",
       "      <td>2.741883</td>\n",
       "      <td>295.803833</td>\n",
       "      <td>human_voice</td>\n",
       "      <td>read_women</td>\n",
       "    </tr>\n",
       "    <tr>\n",
       "      <th>3</th>\n",
       "      <td>3_4279</td>\n",
       "      <td>../../sounds/human_voice/read_women/3_4279.wav</td>\n",
       "      <td>4.226032</td>\n",
       "      <td>0.377279</td>\n",
       "      <td>0.117431</td>\n",
       "      <td>0.058191</td>\n",
       "      <td>0.002676</td>\n",
       "      <td>2218.915986</td>\n",
       "      <td>1.447482e+06</td>\n",
       "      <td>2197.490037</td>\n",
       "      <td>...</td>\n",
       "      <td>-5.125973</td>\n",
       "      <td>63.898540</td>\n",
       "      <td>-6.929226</td>\n",
       "      <td>80.169434</td>\n",
       "      <td>-4.769005</td>\n",
       "      <td>110.494026</td>\n",
       "      <td>1.924304</td>\n",
       "      <td>226.392563</td>\n",
       "      <td>human_voice</td>\n",
       "      <td>read_women</td>\n",
       "    </tr>\n",
       "    <tr>\n",
       "      <th>4</th>\n",
       "      <td>4_1533</td>\n",
       "      <td>../../sounds/human_voice/read_women/4_1533.wav</td>\n",
       "      <td>4.272472</td>\n",
       "      <td>0.388765</td>\n",
       "      <td>0.123725</td>\n",
       "      <td>0.067390</td>\n",
       "      <td>0.003615</td>\n",
       "      <td>2191.427527</td>\n",
       "      <td>1.798857e+06</td>\n",
       "      <td>2152.787600</td>\n",
       "      <td>...</td>\n",
       "      <td>-1.863418</td>\n",
       "      <td>78.053566</td>\n",
       "      <td>-4.694167</td>\n",
       "      <td>90.259575</td>\n",
       "      <td>-2.291460</td>\n",
       "      <td>137.207687</td>\n",
       "      <td>2.808920</td>\n",
       "      <td>252.813812</td>\n",
       "      <td>human_voice</td>\n",
       "      <td>read_women</td>\n",
       "    </tr>\n",
       "    <tr>\n",
       "      <th>...</th>\n",
       "      <td>...</td>\n",
       "      <td>...</td>\n",
       "      <td>...</td>\n",
       "      <td>...</td>\n",
       "      <td>...</td>\n",
       "      <td>...</td>\n",
       "      <td>...</td>\n",
       "      <td>...</td>\n",
       "      <td>...</td>\n",
       "      <td>...</td>\n",
       "      <td>...</td>\n",
       "      <td>...</td>\n",
       "      <td>...</td>\n",
       "      <td>...</td>\n",
       "      <td>...</td>\n",
       "      <td>...</td>\n",
       "      <td>...</td>\n",
       "      <td>...</td>\n",
       "      <td>...</td>\n",
       "      <td>...</td>\n",
       "      <td>...</td>\n",
       "    </tr>\n",
       "    <tr>\n",
       "      <th>22481</th>\n",
       "      <td>4_2959</td>\n",
       "      <td>../../sounds/human_voice/read_women/4_2959.wav</td>\n",
       "      <td>3.761633</td>\n",
       "      <td>0.388875</td>\n",
       "      <td>0.119760</td>\n",
       "      <td>0.063077</td>\n",
       "      <td>0.003298</td>\n",
       "      <td>2089.093858</td>\n",
       "      <td>1.532779e+06</td>\n",
       "      <td>2285.782330</td>\n",
       "      <td>...</td>\n",
       "      <td>0.489883</td>\n",
       "      <td>122.209114</td>\n",
       "      <td>2.708911</td>\n",
       "      <td>241.759460</td>\n",
       "      <td>-0.110318</td>\n",
       "      <td>289.090881</td>\n",
       "      <td>2.229165</td>\n",
       "      <td>200.966660</td>\n",
       "      <td>human_voice</td>\n",
       "      <td>read_women</td>\n",
       "    </tr>\n",
       "    <tr>\n",
       "      <th>22482</th>\n",
       "      <td>4_4776</td>\n",
       "      <td>../../sounds/human_voice/read_women/4_4776.wav</td>\n",
       "      <td>4.922630</td>\n",
       "      <td>0.389376</td>\n",
       "      <td>0.120424</td>\n",
       "      <td>0.060283</td>\n",
       "      <td>0.003562</td>\n",
       "      <td>2252.431213</td>\n",
       "      <td>1.408227e+06</td>\n",
       "      <td>2346.968945</td>\n",
       "      <td>...</td>\n",
       "      <td>1.021378</td>\n",
       "      <td>140.763046</td>\n",
       "      <td>2.365548</td>\n",
       "      <td>340.905365</td>\n",
       "      <td>3.520751</td>\n",
       "      <td>258.813538</td>\n",
       "      <td>6.935609</td>\n",
       "      <td>340.995605</td>\n",
       "      <td>human_voice</td>\n",
       "      <td>read_women</td>\n",
       "    </tr>\n",
       "    <tr>\n",
       "      <th>22484</th>\n",
       "      <td>3_0223</td>\n",
       "      <td>../../sounds/human_voice/read_women/3_0223.wav</td>\n",
       "      <td>3.962404</td>\n",
       "      <td>0.386296</td>\n",
       "      <td>0.117008</td>\n",
       "      <td>0.053361</td>\n",
       "      <td>0.002600</td>\n",
       "      <td>1734.906713</td>\n",
       "      <td>7.306648e+05</td>\n",
       "      <td>2028.096522</td>\n",
       "      <td>...</td>\n",
       "      <td>-2.970492</td>\n",
       "      <td>110.530266</td>\n",
       "      <td>0.416982</td>\n",
       "      <td>121.866516</td>\n",
       "      <td>-3.993134</td>\n",
       "      <td>216.351456</td>\n",
       "      <td>4.490475</td>\n",
       "      <td>311.396759</td>\n",
       "      <td>human_voice</td>\n",
       "      <td>read_women</td>\n",
       "    </tr>\n",
       "    <tr>\n",
       "      <th>22485</th>\n",
       "      <td>4_2431</td>\n",
       "      <td>../../sounds/human_voice/read_women/4_2431.wav</td>\n",
       "      <td>3.760544</td>\n",
       "      <td>0.382402</td>\n",
       "      <td>0.119962</td>\n",
       "      <td>0.066770</td>\n",
       "      <td>0.005187</td>\n",
       "      <td>2450.133809</td>\n",
       "      <td>1.635438e+06</td>\n",
       "      <td>2485.182914</td>\n",
       "      <td>...</td>\n",
       "      <td>-4.707453</td>\n",
       "      <td>52.939587</td>\n",
       "      <td>-3.391080</td>\n",
       "      <td>99.376076</td>\n",
       "      <td>-2.319468</td>\n",
       "      <td>124.156250</td>\n",
       "      <td>4.927099</td>\n",
       "      <td>332.130829</td>\n",
       "      <td>human_voice</td>\n",
       "      <td>read_women</td>\n",
       "    </tr>\n",
       "    <tr>\n",
       "      <th>22486</th>\n",
       "      <td>nVToV-zn_C4.0192</td>\n",
       "      <td>../../sounds/human_voice/read_men/nVToV-zn_C4....</td>\n",
       "      <td>5.040000</td>\n",
       "      <td>0.448015</td>\n",
       "      <td>0.103788</td>\n",
       "      <td>0.065832</td>\n",
       "      <td>0.003780</td>\n",
       "      <td>1838.578239</td>\n",
       "      <td>1.004062e+06</td>\n",
       "      <td>2196.511606</td>\n",
       "      <td>...</td>\n",
       "      <td>-0.473669</td>\n",
       "      <td>39.497807</td>\n",
       "      <td>0.362469</td>\n",
       "      <td>39.868610</td>\n",
       "      <td>-3.961087</td>\n",
       "      <td>54.048313</td>\n",
       "      <td>-1.095754</td>\n",
       "      <td>36.411785</td>\n",
       "      <td>human_voice</td>\n",
       "      <td>read_men</td>\n",
       "    </tr>\n",
       "  </tbody>\n",
       "</table>\n",
       "<p>21659 rows × 62 columns</p>\n",
       "</div>"
      ],
      "text/plain": [
       "                   name                                               path  \\\n",
       "0          2-81731-A-10          ../../sounds/nature/비 소리/2-81731-A-10.wav   \n",
       "1             dr0shorse             ../../sounds/animal/말 소리/dr0shorse.wav   \n",
       "2                4_5154     ../../sounds/human_voice/read_women/4_5154.wav   \n",
       "3                3_4279     ../../sounds/human_voice/read_women/3_4279.wav   \n",
       "4                4_1533     ../../sounds/human_voice/read_women/4_1533.wav   \n",
       "...                 ...                                                ...   \n",
       "22481            4_2959     ../../sounds/human_voice/read_women/4_2959.wav   \n",
       "22482            4_4776     ../../sounds/human_voice/read_women/4_4776.wav   \n",
       "22484            3_0223     ../../sounds/human_voice/read_women/3_0223.wav   \n",
       "22485            4_2431     ../../sounds/human_voice/read_women/4_2431.wav   \n",
       "22486  nVToV-zn_C4.0192  ../../sounds/human_voice/read_men/nVToV-zn_C4....   \n",
       "\n",
       "       duration  chroma_stft_mean  chroma_stft_var  rms_mean   rms_var  \\\n",
       "0      5.000000          0.674077         0.040070  0.017677  0.000137   \n",
       "1      1.353651          0.374280         0.095735  0.181595  0.006819   \n",
       "2      3.204354          0.377328         0.119002  0.069964  0.005218   \n",
       "3      4.226032          0.377279         0.117431  0.058191  0.002676   \n",
       "4      4.272472          0.388765         0.123725  0.067390  0.003615   \n",
       "...         ...               ...              ...       ...       ...   \n",
       "22481  3.761633          0.388875         0.119760  0.063077  0.003298   \n",
       "22482  4.922630          0.389376         0.120424  0.060283  0.003562   \n",
       "22484  3.962404          0.386296         0.117008  0.053361  0.002600   \n",
       "22485  3.760544          0.382402         0.119962  0.066770  0.005187   \n",
       "22486  5.040000          0.448015         0.103788  0.065832  0.003780   \n",
       "\n",
       "       spectral_centroid_mean  spectral_centroid_var  spectral_bandwidth_mean  \\\n",
       "0                 4827.324299           3.555906e+05              2919.121853   \n",
       "1                 1492.603731           8.567513e+04               955.614463   \n",
       "2                 2189.041640           1.608823e+06              2243.653289   \n",
       "3                 2218.915986           1.447482e+06              2197.490037   \n",
       "4                 2191.427527           1.798857e+06              2152.787600   \n",
       "...                       ...                    ...                      ...   \n",
       "22481             2089.093858           1.532779e+06              2285.782330   \n",
       "22482             2252.431213           1.408227e+06              2346.968945   \n",
       "22484             1734.906713           7.306648e+05              2028.096522   \n",
       "22485             2450.133809           1.635438e+06              2485.182914   \n",
       "22486             1838.578239           1.004062e+06              2196.511606   \n",
       "\n",
       "       ...  mfcc17_mean  mfcc17_var  mfcc18_mean  mfcc18_var  mfcc19_mean  \\\n",
       "0      ...    -8.264300   10.656216    -0.129912   18.339109    -6.612656   \n",
       "1      ...    12.378535   56.651711   -10.243791   28.035650    -3.035161   \n",
       "2      ...     2.432036  255.817642     3.523569  398.191986     0.841104   \n",
       "3      ...    -5.125973   63.898540    -6.929226   80.169434    -4.769005   \n",
       "4      ...    -1.863418   78.053566    -4.694167   90.259575    -2.291460   \n",
       "...    ...          ...         ...          ...         ...          ...   \n",
       "22481  ...     0.489883  122.209114     2.708911  241.759460    -0.110318   \n",
       "22482  ...     1.021378  140.763046     2.365548  340.905365     3.520751   \n",
       "22484  ...    -2.970492  110.530266     0.416982  121.866516    -3.993134   \n",
       "22485  ...    -4.707453   52.939587    -3.391080   99.376076    -2.319468   \n",
       "22486  ...    -0.473669   39.497807     0.362469   39.868610    -3.961087   \n",
       "\n",
       "       mfcc19_var  mfcc20_mean  mfcc20_var        cate1       cate2  \n",
       "0       13.652373    -1.414367   12.971899       nature        비 소리  \n",
       "1       78.115898     1.781476  150.969696       animal        말 소리  \n",
       "2      213.776505     2.741883  295.803833  human_voice  read_women  \n",
       "3      110.494026     1.924304  226.392563  human_voice  read_women  \n",
       "4      137.207687     2.808920  252.813812  human_voice  read_women  \n",
       "...           ...          ...         ...          ...         ...  \n",
       "22481  289.090881     2.229165  200.966660  human_voice  read_women  \n",
       "22482  258.813538     6.935609  340.995605  human_voice  read_women  \n",
       "22484  216.351456     4.490475  311.396759  human_voice  read_women  \n",
       "22485  124.156250     4.927099  332.130829  human_voice  read_women  \n",
       "22486   54.048313    -1.095754   36.411785  human_voice    read_men  \n",
       "\n",
       "[21659 rows x 62 columns]"
      ]
     },
     "execution_count": 8,
     "metadata": {},
     "output_type": "execute_result"
    }
   ],
   "source": [
    "result_df = pd.read_csv(\"../files/freq_dataset_1113.csv\", encoding='utf-8-sig')\n",
    "result_df.drop([\"Unnamed: 0\", \"label\"], axis=1, inplace=True)\n",
    "result_df['cate1'] = [p.split('/')[-3] for p in result_df['path']]\n",
    "result_df['cate2'] = [p.split('/')[-1][:3] if p.split('/')[-2] == 'cats_dogs' else p.split('/')[-2] for p in result_df['path']]\n",
    "result_df.drop(result_df[result_df['cate2']=='cats_dog_add_noise'].index, axis=0, inplace=True)\n",
    "result_df"
   ]
  },
  {
   "cell_type": "code",
   "execution_count": 18,
   "id": "0acf3635",
   "metadata": {},
   "outputs": [
    {
     "data": {
      "text/html": [
       "<div>\n",
       "<style scoped>\n",
       "    .dataframe tbody tr th:only-of-type {\n",
       "        vertical-align: middle;\n",
       "    }\n",
       "\n",
       "    .dataframe tbody tr th {\n",
       "        vertical-align: top;\n",
       "    }\n",
       "\n",
       "    .dataframe thead th {\n",
       "        text-align: right;\n",
       "    }\n",
       "</style>\n",
       "<table border=\"1\" class=\"dataframe\">\n",
       "  <thead>\n",
       "    <tr style=\"text-align: right;\">\n",
       "      <th></th>\n",
       "      <th>path</th>\n",
       "      <th>name_x</th>\n",
       "      <th>name_y</th>\n",
       "      <th>duration</th>\n",
       "      <th>chroma_stft_mean</th>\n",
       "      <th>chroma_stft_var</th>\n",
       "      <th>rms_mean</th>\n",
       "      <th>rms_var</th>\n",
       "      <th>spectral_centroid_mean</th>\n",
       "      <th>spectral_centroid_var</th>\n",
       "      <th>...</th>\n",
       "      <th>mfcc17_mean</th>\n",
       "      <th>mfcc17_var</th>\n",
       "      <th>mfcc18_mean</th>\n",
       "      <th>mfcc18_var</th>\n",
       "      <th>mfcc19_mean</th>\n",
       "      <th>mfcc19_var</th>\n",
       "      <th>mfcc20_mean</th>\n",
       "      <th>mfcc20_var</th>\n",
       "      <th>cate1</th>\n",
       "      <th>cate2</th>\n",
       "    </tr>\n",
       "    <tr>\n",
       "      <th>label</th>\n",
       "      <th></th>\n",
       "      <th></th>\n",
       "      <th></th>\n",
       "      <th></th>\n",
       "      <th></th>\n",
       "      <th></th>\n",
       "      <th></th>\n",
       "      <th></th>\n",
       "      <th></th>\n",
       "      <th></th>\n",
       "      <th></th>\n",
       "      <th></th>\n",
       "      <th></th>\n",
       "      <th></th>\n",
       "      <th></th>\n",
       "      <th></th>\n",
       "      <th></th>\n",
       "      <th></th>\n",
       "      <th></th>\n",
       "      <th></th>\n",
       "      <th></th>\n",
       "    </tr>\n",
       "  </thead>\n",
       "  <tbody>\n",
       "    <tr>\n",
       "      <th>song</th>\n",
       "      <td>4278</td>\n",
       "      <td>4278</td>\n",
       "      <td>0</td>\n",
       "      <td>0</td>\n",
       "      <td>0</td>\n",
       "      <td>0</td>\n",
       "      <td>0</td>\n",
       "      <td>0</td>\n",
       "      <td>0</td>\n",
       "      <td>0</td>\n",
       "      <td>...</td>\n",
       "      <td>0</td>\n",
       "      <td>0</td>\n",
       "      <td>0</td>\n",
       "      <td>0</td>\n",
       "      <td>0</td>\n",
       "      <td>0</td>\n",
       "      <td>0</td>\n",
       "      <td>0</td>\n",
       "      <td>0</td>\n",
       "      <td>0</td>\n",
       "    </tr>\n",
       "  </tbody>\n",
       "</table>\n",
       "<p>1 rows × 63 columns</p>\n",
       "</div>"
      ],
      "text/plain": [
       "       path  name_x  name_y  duration  chroma_stft_mean  chroma_stft_var  \\\n",
       "label                                                                      \n",
       "song   4278    4278       0         0                 0                0   \n",
       "\n",
       "       rms_mean  rms_var  spectral_centroid_mean  spectral_centroid_var  ...  \\\n",
       "label                                                                    ...   \n",
       "song          0        0                       0                      0  ...   \n",
       "\n",
       "       mfcc17_mean  mfcc17_var  mfcc18_mean  mfcc18_var  mfcc19_mean  \\\n",
       "label                                                                  \n",
       "song             0           0            0           0            0   \n",
       "\n",
       "       mfcc19_var  mfcc20_mean  mfcc20_var  cate1  cate2  \n",
       "label                                                     \n",
       "song            0            0           0      0      0  \n",
       "\n",
       "[1 rows x 63 columns]"
      ]
     },
     "execution_count": 18,
     "metadata": {},
     "output_type": "execute_result"
    }
   ],
   "source": [
    "merge_df = info_df.merge(result_df, how='left', on='path')\n",
    "merge_df[merge_df['name_y'].isnull()].groupby(['label']).count()"
   ]
  },
  {
   "cell_type": "code",
   "execution_count": 19,
   "id": "68a786b1",
   "metadata": {},
   "outputs": [
    {
     "name": "stderr",
     "output_type": "stream",
     "text": [
      "100%|██████████| 4278/4278 [40:26<00:00,  1.76it/s]\n"
     ]
    }
   ],
   "source": [
    "song_freq_df = freq.make_frequency_df(info_df[info_df['label']=='song'])"
   ]
  },
  {
   "cell_type": "code",
   "execution_count": null,
   "id": "813928f3",
   "metadata": {},
   "outputs": [],
   "source": []
  },
  {
   "cell_type": "code",
   "execution_count": null,
   "id": "9cb7a067",
   "metadata": {},
   "outputs": [],
   "source": []
  },
  {
   "cell_type": "code",
   "execution_count": null,
   "id": "8e7cfd82",
   "metadata": {},
   "outputs": [],
   "source": []
  },
  {
   "cell_type": "code",
   "execution_count": 4,
   "id": "9c8a85e1",
   "metadata": {},
   "outputs": [
    {
     "data": {
      "text/plain": [
       "count    21659.000000\n",
       "mean         4.072488\n",
       "std          2.465144\n",
       "min          0.121043\n",
       "25%          2.925714\n",
       "50%          3.761633\n",
       "75%          4.924875\n",
       "max         84.177007\n",
       "Name: duration, dtype: float64"
      ]
     },
     "execution_count": 4,
     "metadata": {},
     "output_type": "execute_result"
    }
   ],
   "source": [
    "result_df['duration'].describe()"
   ]
  },
  {
   "cell_type": "code",
   "execution_count": 5,
   "id": "bd833819",
   "metadata": {
    "scrolled": false
   },
   "outputs": [
    {
     "data": {
      "text/html": [
       "<div>\n",
       "<style scoped>\n",
       "    .dataframe tbody tr th:only-of-type {\n",
       "        vertical-align: middle;\n",
       "    }\n",
       "\n",
       "    .dataframe tbody tr th {\n",
       "        vertical-align: top;\n",
       "    }\n",
       "\n",
       "    .dataframe thead th {\n",
       "        text-align: right;\n",
       "    }\n",
       "</style>\n",
       "<table border=\"1\" class=\"dataframe\">\n",
       "  <thead>\n",
       "    <tr style=\"text-align: right;\">\n",
       "      <th></th>\n",
       "      <th>name</th>\n",
       "      <th>path</th>\n",
       "      <th>duration</th>\n",
       "      <th>chroma_stft_mean</th>\n",
       "      <th>chroma_stft_var</th>\n",
       "      <th>rms_mean</th>\n",
       "      <th>rms_var</th>\n",
       "      <th>spectral_centroid_mean</th>\n",
       "      <th>spectral_centroid_var</th>\n",
       "      <th>spectral_bandwidth_mean</th>\n",
       "      <th>...</th>\n",
       "      <th>mfcc16_var</th>\n",
       "      <th>mfcc17_mean</th>\n",
       "      <th>mfcc17_var</th>\n",
       "      <th>mfcc18_mean</th>\n",
       "      <th>mfcc18_var</th>\n",
       "      <th>mfcc19_mean</th>\n",
       "      <th>mfcc19_var</th>\n",
       "      <th>mfcc20_mean</th>\n",
       "      <th>mfcc20_var</th>\n",
       "      <th>cate2</th>\n",
       "    </tr>\n",
       "    <tr>\n",
       "      <th>cate1</th>\n",
       "      <th></th>\n",
       "      <th></th>\n",
       "      <th></th>\n",
       "      <th></th>\n",
       "      <th></th>\n",
       "      <th></th>\n",
       "      <th></th>\n",
       "      <th></th>\n",
       "      <th></th>\n",
       "      <th></th>\n",
       "      <th></th>\n",
       "      <th></th>\n",
       "      <th></th>\n",
       "      <th></th>\n",
       "      <th></th>\n",
       "      <th></th>\n",
       "      <th></th>\n",
       "      <th></th>\n",
       "      <th></th>\n",
       "      <th></th>\n",
       "      <th></th>\n",
       "    </tr>\n",
       "  </thead>\n",
       "  <tbody>\n",
       "    <tr>\n",
       "      <th>animal</th>\n",
       "      <td>32</td>\n",
       "      <td>32</td>\n",
       "      <td>32</td>\n",
       "      <td>32</td>\n",
       "      <td>32</td>\n",
       "      <td>32</td>\n",
       "      <td>32</td>\n",
       "      <td>32</td>\n",
       "      <td>32</td>\n",
       "      <td>32</td>\n",
       "      <td>...</td>\n",
       "      <td>32</td>\n",
       "      <td>32</td>\n",
       "      <td>32</td>\n",
       "      <td>32</td>\n",
       "      <td>32</td>\n",
       "      <td>32</td>\n",
       "      <td>32</td>\n",
       "      <td>32</td>\n",
       "      <td>32</td>\n",
       "      <td>32</td>\n",
       "    </tr>\n",
       "    <tr>\n",
       "      <th>human</th>\n",
       "      <td>4</td>\n",
       "      <td>4</td>\n",
       "      <td>4</td>\n",
       "      <td>4</td>\n",
       "      <td>4</td>\n",
       "      <td>4</td>\n",
       "      <td>4</td>\n",
       "      <td>4</td>\n",
       "      <td>4</td>\n",
       "      <td>4</td>\n",
       "      <td>...</td>\n",
       "      <td>4</td>\n",
       "      <td>4</td>\n",
       "      <td>4</td>\n",
       "      <td>4</td>\n",
       "      <td>4</td>\n",
       "      <td>4</td>\n",
       "      <td>4</td>\n",
       "      <td>4</td>\n",
       "      <td>4</td>\n",
       "      <td>4</td>\n",
       "    </tr>\n",
       "    <tr>\n",
       "      <th>life</th>\n",
       "      <td>21</td>\n",
       "      <td>21</td>\n",
       "      <td>21</td>\n",
       "      <td>21</td>\n",
       "      <td>21</td>\n",
       "      <td>21</td>\n",
       "      <td>21</td>\n",
       "      <td>21</td>\n",
       "      <td>21</td>\n",
       "      <td>21</td>\n",
       "      <td>...</td>\n",
       "      <td>21</td>\n",
       "      <td>21</td>\n",
       "      <td>21</td>\n",
       "      <td>21</td>\n",
       "      <td>21</td>\n",
       "      <td>21</td>\n",
       "      <td>21</td>\n",
       "      <td>21</td>\n",
       "      <td>21</td>\n",
       "      <td>21</td>\n",
       "    </tr>\n",
       "    <tr>\n",
       "      <th>nature</th>\n",
       "      <td>10</td>\n",
       "      <td>10</td>\n",
       "      <td>10</td>\n",
       "      <td>10</td>\n",
       "      <td>10</td>\n",
       "      <td>10</td>\n",
       "      <td>10</td>\n",
       "      <td>10</td>\n",
       "      <td>10</td>\n",
       "      <td>10</td>\n",
       "      <td>...</td>\n",
       "      <td>10</td>\n",
       "      <td>10</td>\n",
       "      <td>10</td>\n",
       "      <td>10</td>\n",
       "      <td>10</td>\n",
       "      <td>10</td>\n",
       "      <td>10</td>\n",
       "      <td>10</td>\n",
       "      <td>10</td>\n",
       "      <td>10</td>\n",
       "    </tr>\n",
       "  </tbody>\n",
       "</table>\n",
       "<p>4 rows × 61 columns</p>\n",
       "</div>"
      ],
      "text/plain": [
       "        name  path  duration  chroma_stft_mean  chroma_stft_var  rms_mean  \\\n",
       "cate1                                                                       \n",
       "animal    32    32        32                32               32        32   \n",
       "human      4     4         4                 4                4         4   \n",
       "life      21    21        21                21               21        21   \n",
       "nature    10    10        10                10               10        10   \n",
       "\n",
       "        rms_var  spectral_centroid_mean  spectral_centroid_var  \\\n",
       "cate1                                                            \n",
       "animal       32                      32                     32   \n",
       "human         4                       4                      4   \n",
       "life         21                      21                     21   \n",
       "nature       10                      10                     10   \n",
       "\n",
       "        spectral_bandwidth_mean  ...  mfcc16_var  mfcc17_mean  mfcc17_var  \\\n",
       "cate1                            ...                                        \n",
       "animal                       32  ...          32           32          32   \n",
       "human                         4  ...           4            4           4   \n",
       "life                         21  ...          21           21          21   \n",
       "nature                       10  ...          10           10          10   \n",
       "\n",
       "        mfcc18_mean  mfcc18_var  mfcc19_mean  mfcc19_var  mfcc20_mean  \\\n",
       "cate1                                                                   \n",
       "animal           32          32           32          32           32   \n",
       "human             4           4            4           4            4   \n",
       "life             21          21           21          21           21   \n",
       "nature           10          10           10          10           10   \n",
       "\n",
       "        mfcc20_var  cate2  \n",
       "cate1                      \n",
       "animal          32     32  \n",
       "human            4      4  \n",
       "life            21     21  \n",
       "nature          10     10  \n",
       "\n",
       "[4 rows x 61 columns]"
      ]
     },
     "execution_count": 5,
     "metadata": {},
     "output_type": "execute_result"
    }
   ],
   "source": [
    "result_df[result_df['duration']>20].groupby('cate1').count()"
   ]
  },
  {
   "cell_type": "code",
   "execution_count": 21,
   "id": "52326f01",
   "metadata": {},
   "outputs": [
    {
     "data": {
      "image/png": "[encoded data removed]",
      "text/plain": [
       "<Figure size 432x288 with 1 Axes>"
      ]
     },
     "metadata": {
      "needs_background": "light"
     },
     "output_type": "display_data"
    }
   ],
   "source": [
    "sns.boxplot(data=result_df, x='cate1', y='duration');"
   ]
  },
  {
   "cell_type": "code",
   "execution_count": 25,
   "id": "123e568e",
   "metadata": {},
   "outputs": [
    {
     "data": {
      "image/png": "[encoded data removed]",
      "text/plain": [
       "<Figure size 432x288 with 1 Axes>"
      ]
     },
     "metadata": {
      "needs_background": "light"
     },
     "output_type": "display_data"
    }
   ],
   "source": [
    "sns.boxplot(data=result_df[result_df['duration']<20][result_df['duration']>1], x='cate1', y='duration');"
   ]
  },
  {
   "cell_type": "code",
   "execution_count": 6,
   "id": "371aca00",
   "metadata": {},
   "outputs": [
    {
     "data": {
      "text/html": [
       "<div>\n",
       "<style scoped>\n",
       "    .dataframe tbody tr th:only-of-type {\n",
       "        vertical-align: middle;\n",
       "    }\n",
       "\n",
       "    .dataframe tbody tr th {\n",
       "        vertical-align: top;\n",
       "    }\n",
       "\n",
       "    .dataframe thead th {\n",
       "        text-align: right;\n",
       "    }\n",
       "</style>\n",
       "<table border=\"1\" class=\"dataframe\">\n",
       "  <thead>\n",
       "    <tr style=\"text-align: right;\">\n",
       "      <th></th>\n",
       "      <th>duration</th>\n",
       "      <th>chroma_stft_mean</th>\n",
       "      <th>chroma_stft_var</th>\n",
       "      <th>rms_mean</th>\n",
       "      <th>rms_var</th>\n",
       "      <th>spectral_centroid_mean</th>\n",
       "      <th>spectral_centroid_var</th>\n",
       "      <th>spectral_bandwidth_mean</th>\n",
       "      <th>spectral_bandwidth_var</th>\n",
       "      <th>rolloff_mean</th>\n",
       "      <th>...</th>\n",
       "      <th>mfcc16_mean</th>\n",
       "      <th>mfcc16_var</th>\n",
       "      <th>mfcc17_mean</th>\n",
       "      <th>mfcc17_var</th>\n",
       "      <th>mfcc18_mean</th>\n",
       "      <th>mfcc18_var</th>\n",
       "      <th>mfcc19_mean</th>\n",
       "      <th>mfcc19_var</th>\n",
       "      <th>mfcc20_mean</th>\n",
       "      <th>mfcc20_var</th>\n",
       "    </tr>\n",
       "    <tr>\n",
       "      <th>cate1</th>\n",
       "      <th></th>\n",
       "      <th></th>\n",
       "      <th></th>\n",
       "      <th></th>\n",
       "      <th></th>\n",
       "      <th></th>\n",
       "      <th></th>\n",
       "      <th></th>\n",
       "      <th></th>\n",
       "      <th></th>\n",
       "      <th></th>\n",
       "      <th></th>\n",
       "      <th></th>\n",
       "      <th></th>\n",
       "      <th></th>\n",
       "      <th></th>\n",
       "      <th></th>\n",
       "      <th></th>\n",
       "      <th></th>\n",
       "      <th></th>\n",
       "      <th></th>\n",
       "    </tr>\n",
       "  </thead>\n",
       "  <tbody>\n",
       "    <tr>\n",
       "      <th>animal</th>\n",
       "      <td>6.127727</td>\n",
       "      <td>0.388857</td>\n",
       "      <td>0.092428</td>\n",
       "      <td>0.090176</td>\n",
       "      <td>0.006496</td>\n",
       "      <td>1875.329031</td>\n",
       "      <td>3.503684e+05</td>\n",
       "      <td>1596.249710</td>\n",
       "      <td>167690.134487</td>\n",
       "      <td>3345.425925</td>\n",
       "      <td>...</td>\n",
       "      <td>-1.789334</td>\n",
       "      <td>75.627094</td>\n",
       "      <td>-0.194609</td>\n",
       "      <td>69.662531</td>\n",
       "      <td>-1.460799</td>\n",
       "      <td>65.601995</td>\n",
       "      <td>-1.090840</td>\n",
       "      <td>70.670183</td>\n",
       "      <td>0.419428</td>\n",
       "      <td>75.626683</td>\n",
       "    </tr>\n",
       "    <tr>\n",
       "      <th>human</th>\n",
       "      <td>3.788468</td>\n",
       "      <td>0.459507</td>\n",
       "      <td>0.086172</td>\n",
       "      <td>0.041938</td>\n",
       "      <td>0.004188</td>\n",
       "      <td>2011.173185</td>\n",
       "      <td>6.433066e+05</td>\n",
       "      <td>1821.638875</td>\n",
       "      <td>230282.064195</td>\n",
       "      <td>3930.944736</td>\n",
       "      <td>...</td>\n",
       "      <td>-3.054786</td>\n",
       "      <td>80.558525</td>\n",
       "      <td>2.480808</td>\n",
       "      <td>65.614724</td>\n",
       "      <td>-2.010526</td>\n",
       "      <td>68.535233</td>\n",
       "      <td>0.434484</td>\n",
       "      <td>61.183435</td>\n",
       "      <td>0.654939</td>\n",
       "      <td>61.014285</td>\n",
       "    </tr>\n",
       "    <tr>\n",
       "      <th>human_voice</th>\n",
       "      <td>3.817196</td>\n",
       "      <td>0.394654</td>\n",
       "      <td>0.112838</td>\n",
       "      <td>0.060850</td>\n",
       "      <td>0.003488</td>\n",
       "      <td>2021.143759</td>\n",
       "      <td>1.224849e+06</td>\n",
       "      <td>2152.011420</td>\n",
       "      <td>454517.494139</td>\n",
       "      <td>4049.586490</td>\n",
       "      <td>...</td>\n",
       "      <td>-3.433572</td>\n",
       "      <td>92.702714</td>\n",
       "      <td>-0.492309</td>\n",
       "      <td>103.638538</td>\n",
       "      <td>-1.384088</td>\n",
       "      <td>149.992550</td>\n",
       "      <td>-1.328569</td>\n",
       "      <td>150.492476</td>\n",
       "      <td>2.953969</td>\n",
       "      <td>179.365668</td>\n",
       "    </tr>\n",
       "    <tr>\n",
       "      <th>life</th>\n",
       "      <td>5.059129</td>\n",
       "      <td>0.480956</td>\n",
       "      <td>0.074706</td>\n",
       "      <td>0.068472</td>\n",
       "      <td>0.003638</td>\n",
       "      <td>2473.136027</td>\n",
       "      <td>9.850764e+05</td>\n",
       "      <td>2131.587310</td>\n",
       "      <td>373203.942804</td>\n",
       "      <td>4743.353308</td>\n",
       "      <td>...</td>\n",
       "      <td>1.915560</td>\n",
       "      <td>31.103690</td>\n",
       "      <td>-1.150211</td>\n",
       "      <td>30.254837</td>\n",
       "      <td>2.145917</td>\n",
       "      <td>30.355996</td>\n",
       "      <td>-1.252533</td>\n",
       "      <td>33.453104</td>\n",
       "      <td>2.179815</td>\n",
       "      <td>30.956517</td>\n",
       "    </tr>\n",
       "    <tr>\n",
       "      <th>nature</th>\n",
       "      <td>6.204728</td>\n",
       "      <td>0.559353</td>\n",
       "      <td>0.060110</td>\n",
       "      <td>0.068749</td>\n",
       "      <td>0.002420</td>\n",
       "      <td>2632.020838</td>\n",
       "      <td>1.941603e+05</td>\n",
       "      <td>2088.877403</td>\n",
       "      <td>102033.395547</td>\n",
       "      <td>4735.111962</td>\n",
       "      <td>...</td>\n",
       "      <td>-1.191501</td>\n",
       "      <td>21.908848</td>\n",
       "      <td>-0.463164</td>\n",
       "      <td>20.680098</td>\n",
       "      <td>-1.070060</td>\n",
       "      <td>21.029369</td>\n",
       "      <td>-1.618563</td>\n",
       "      <td>21.766757</td>\n",
       "      <td>1.090146</td>\n",
       "      <td>20.124232</td>\n",
       "    </tr>\n",
       "  </tbody>\n",
       "</table>\n",
       "<p>5 rows × 58 columns</p>\n",
       "</div>"
      ],
      "text/plain": [
       "             duration  chroma_stft_mean  chroma_stft_var  rms_mean   rms_var  \\\n",
       "cate1                                                                          \n",
       "animal       6.127727          0.388857         0.092428  0.090176  0.006496   \n",
       "human        3.788468          0.459507         0.086172  0.041938  0.004188   \n",
       "human_voice  3.817196          0.394654         0.112838  0.060850  0.003488   \n",
       "life         5.059129          0.480956         0.074706  0.068472  0.003638   \n",
       "nature       6.204728          0.559353         0.060110  0.068749  0.002420   \n",
       "\n",
       "             spectral_centroid_mean  spectral_centroid_var  \\\n",
       "cate1                                                        \n",
       "animal                  1875.329031           3.503684e+05   \n",
       "human                   2011.173185           6.433066e+05   \n",
       "human_voice             2021.143759           1.224849e+06   \n",
       "life                    2473.136027           9.850764e+05   \n",
       "nature                  2632.020838           1.941603e+05   \n",
       "\n",
       "             spectral_bandwidth_mean  spectral_bandwidth_var  rolloff_mean  \\\n",
       "cate1                                                                        \n",
       "animal                   1596.249710           167690.134487   3345.425925   \n",
       "human                    1821.638875           230282.064195   3930.944736   \n",
       "human_voice              2152.011420           454517.494139   4049.586490   \n",
       "life                     2131.587310           373203.942804   4743.353308   \n",
       "nature                   2088.877403           102033.395547   4735.111962   \n",
       "\n",
       "             ...  mfcc16_mean  mfcc16_var  mfcc17_mean  mfcc17_var  \\\n",
       "cate1        ...                                                     \n",
       "animal       ...    -1.789334   75.627094    -0.194609   69.662531   \n",
       "human        ...    -3.054786   80.558525     2.480808   65.614724   \n",
       "human_voice  ...    -3.433572   92.702714    -0.492309  103.638538   \n",
       "life         ...     1.915560   31.103690    -1.150211   30.254837   \n",
       "nature       ...    -1.191501   21.908848    -0.463164   20.680098   \n",
       "\n",
       "             mfcc18_mean  mfcc18_var  mfcc19_mean  mfcc19_var  mfcc20_mean  \\\n",
       "cate1                                                                        \n",
       "animal         -1.460799   65.601995    -1.090840   70.670183     0.419428   \n",
       "human          -2.010526   68.535233     0.434484   61.183435     0.654939   \n",
       "human_voice    -1.384088  149.992550    -1.328569  150.492476     2.953969   \n",
       "life            2.145917   30.355996    -1.252533   33.453104     2.179815   \n",
       "nature         -1.070060   21.029369    -1.618563   21.766757     1.090146   \n",
       "\n",
       "             mfcc20_var  \n",
       "cate1                    \n",
       "animal        75.626683  \n",
       "human         61.014285  \n",
       "human_voice  179.365668  \n",
       "life          30.956517  \n",
       "nature        20.124232  \n",
       "\n",
       "[5 rows x 58 columns]"
      ]
     },
     "execution_count": 6,
     "metadata": {},
     "output_type": "execute_result"
    }
   ],
   "source": [
    "result_df.groupby('cate1').mean()"
   ]
  },
  {
   "cell_type": "code",
   "execution_count": 7,
   "id": "d544e4fe",
   "metadata": {},
   "outputs": [
    {
     "data": {
      "text/html": [
       "<div>\n",
       "<style scoped>\n",
       "    .dataframe tbody tr th:only-of-type {\n",
       "        vertical-align: middle;\n",
       "    }\n",
       "\n",
       "    .dataframe tbody tr th {\n",
       "        vertical-align: top;\n",
       "    }\n",
       "\n",
       "    .dataframe thead th {\n",
       "        text-align: right;\n",
       "    }\n",
       "</style>\n",
       "<table border=\"1\" class=\"dataframe\">\n",
       "  <thead>\n",
       "    <tr style=\"text-align: right;\">\n",
       "      <th></th>\n",
       "      <th>name</th>\n",
       "      <th>path</th>\n",
       "      <th>duration</th>\n",
       "      <th>chroma_stft_mean</th>\n",
       "      <th>chroma_stft_var</th>\n",
       "      <th>rms_mean</th>\n",
       "      <th>rms_var</th>\n",
       "      <th>spectral_centroid_mean</th>\n",
       "      <th>spectral_centroid_var</th>\n",
       "      <th>spectral_bandwidth_mean</th>\n",
       "      <th>...</th>\n",
       "      <th>mfcc16_var</th>\n",
       "      <th>mfcc17_mean</th>\n",
       "      <th>mfcc17_var</th>\n",
       "      <th>mfcc18_mean</th>\n",
       "      <th>mfcc18_var</th>\n",
       "      <th>mfcc19_mean</th>\n",
       "      <th>mfcc19_var</th>\n",
       "      <th>mfcc20_mean</th>\n",
       "      <th>mfcc20_var</th>\n",
       "      <th>cate2</th>\n",
       "    </tr>\n",
       "    <tr>\n",
       "      <th>cate1</th>\n",
       "      <th></th>\n",
       "      <th></th>\n",
       "      <th></th>\n",
       "      <th></th>\n",
       "      <th></th>\n",
       "      <th></th>\n",
       "      <th></th>\n",
       "      <th></th>\n",
       "      <th></th>\n",
       "      <th></th>\n",
       "      <th></th>\n",
       "      <th></th>\n",
       "      <th></th>\n",
       "      <th></th>\n",
       "      <th></th>\n",
       "      <th></th>\n",
       "      <th></th>\n",
       "      <th></th>\n",
       "      <th></th>\n",
       "      <th></th>\n",
       "      <th></th>\n",
       "    </tr>\n",
       "  </thead>\n",
       "  <tbody>\n",
       "    <tr>\n",
       "      <th>animal</th>\n",
       "      <td>32</td>\n",
       "      <td>32</td>\n",
       "      <td>32</td>\n",
       "      <td>32</td>\n",
       "      <td>32</td>\n",
       "      <td>32</td>\n",
       "      <td>32</td>\n",
       "      <td>32</td>\n",
       "      <td>32</td>\n",
       "      <td>32</td>\n",
       "      <td>...</td>\n",
       "      <td>32</td>\n",
       "      <td>32</td>\n",
       "      <td>32</td>\n",
       "      <td>32</td>\n",
       "      <td>32</td>\n",
       "      <td>32</td>\n",
       "      <td>32</td>\n",
       "      <td>32</td>\n",
       "      <td>32</td>\n",
       "      <td>32</td>\n",
       "    </tr>\n",
       "    <tr>\n",
       "      <th>human</th>\n",
       "      <td>4</td>\n",
       "      <td>4</td>\n",
       "      <td>4</td>\n",
       "      <td>4</td>\n",
       "      <td>4</td>\n",
       "      <td>4</td>\n",
       "      <td>4</td>\n",
       "      <td>4</td>\n",
       "      <td>4</td>\n",
       "      <td>4</td>\n",
       "      <td>...</td>\n",
       "      <td>4</td>\n",
       "      <td>4</td>\n",
       "      <td>4</td>\n",
       "      <td>4</td>\n",
       "      <td>4</td>\n",
       "      <td>4</td>\n",
       "      <td>4</td>\n",
       "      <td>4</td>\n",
       "      <td>4</td>\n",
       "      <td>4</td>\n",
       "    </tr>\n",
       "    <tr>\n",
       "      <th>life</th>\n",
       "      <td>21</td>\n",
       "      <td>21</td>\n",
       "      <td>21</td>\n",
       "      <td>21</td>\n",
       "      <td>21</td>\n",
       "      <td>21</td>\n",
       "      <td>21</td>\n",
       "      <td>21</td>\n",
       "      <td>21</td>\n",
       "      <td>21</td>\n",
       "      <td>...</td>\n",
       "      <td>21</td>\n",
       "      <td>21</td>\n",
       "      <td>21</td>\n",
       "      <td>21</td>\n",
       "      <td>21</td>\n",
       "      <td>21</td>\n",
       "      <td>21</td>\n",
       "      <td>21</td>\n",
       "      <td>21</td>\n",
       "      <td>21</td>\n",
       "    </tr>\n",
       "    <tr>\n",
       "      <th>nature</th>\n",
       "      <td>10</td>\n",
       "      <td>10</td>\n",
       "      <td>10</td>\n",
       "      <td>10</td>\n",
       "      <td>10</td>\n",
       "      <td>10</td>\n",
       "      <td>10</td>\n",
       "      <td>10</td>\n",
       "      <td>10</td>\n",
       "      <td>10</td>\n",
       "      <td>...</td>\n",
       "      <td>10</td>\n",
       "      <td>10</td>\n",
       "      <td>10</td>\n",
       "      <td>10</td>\n",
       "      <td>10</td>\n",
       "      <td>10</td>\n",
       "      <td>10</td>\n",
       "      <td>10</td>\n",
       "      <td>10</td>\n",
       "      <td>10</td>\n",
       "    </tr>\n",
       "  </tbody>\n",
       "</table>\n",
       "<p>4 rows × 61 columns</p>\n",
       "</div>"
      ],
      "text/plain": [
       "        name  path  duration  chroma_stft_mean  chroma_stft_var  rms_mean  \\\n",
       "cate1                                                                       \n",
       "animal    32    32        32                32               32        32   \n",
       "human      4     4         4                 4                4         4   \n",
       "life      21    21        21                21               21        21   \n",
       "nature    10    10        10                10               10        10   \n",
       "\n",
       "        rms_var  spectral_centroid_mean  spectral_centroid_var  \\\n",
       "cate1                                                            \n",
       "animal       32                      32                     32   \n",
       "human         4                       4                      4   \n",
       "life         21                      21                     21   \n",
       "nature       10                      10                     10   \n",
       "\n",
       "        spectral_bandwidth_mean  ...  mfcc16_var  mfcc17_mean  mfcc17_var  \\\n",
       "cate1                            ...                                        \n",
       "animal                       32  ...          32           32          32   \n",
       "human                         4  ...           4            4           4   \n",
       "life                         21  ...          21           21          21   \n",
       "nature                       10  ...          10           10          10   \n",
       "\n",
       "        mfcc18_mean  mfcc18_var  mfcc19_mean  mfcc19_var  mfcc20_mean  \\\n",
       "cate1                                                                   \n",
       "animal           32          32           32          32           32   \n",
       "human             4           4            4           4            4   \n",
       "life             21          21           21          21           21   \n",
       "nature           10          10           10          10           10   \n",
       "\n",
       "        mfcc20_var  cate2  \n",
       "cate1                      \n",
       "animal          32     32  \n",
       "human            4      4  \n",
       "life            21     21  \n",
       "nature          10     10  \n",
       "\n",
       "[4 rows x 61 columns]"
      ]
     },
     "execution_count": 7,
     "metadata": {},
     "output_type": "execute_result"
    }
   ],
   "source": [
    "result_df[result_df['duration']>20].groupby('cate1').count()"
   ]
  },
  {
   "cell_type": "code",
   "execution_count": 8,
   "id": "573223d2",
   "metadata": {},
   "outputs": [
    {
     "data": {
      "text/html": [
       "<div>\n",
       "<style scoped>\n",
       "    .dataframe tbody tr th:only-of-type {\n",
       "        vertical-align: middle;\n",
       "    }\n",
       "\n",
       "    .dataframe tbody tr th {\n",
       "        vertical-align: top;\n",
       "    }\n",
       "\n",
       "    .dataframe thead th {\n",
       "        text-align: right;\n",
       "    }\n",
       "</style>\n",
       "<table border=\"1\" class=\"dataframe\">\n",
       "  <thead>\n",
       "    <tr style=\"text-align: right;\">\n",
       "      <th></th>\n",
       "      <th>name</th>\n",
       "      <th>path</th>\n",
       "      <th>duration</th>\n",
       "      <th>chroma_stft_mean</th>\n",
       "      <th>chroma_stft_var</th>\n",
       "      <th>rms_mean</th>\n",
       "      <th>rms_var</th>\n",
       "      <th>spectral_centroid_mean</th>\n",
       "      <th>spectral_centroid_var</th>\n",
       "      <th>spectral_bandwidth_mean</th>\n",
       "      <th>...</th>\n",
       "      <th>mfcc16_var</th>\n",
       "      <th>mfcc17_mean</th>\n",
       "      <th>mfcc17_var</th>\n",
       "      <th>mfcc18_mean</th>\n",
       "      <th>mfcc18_var</th>\n",
       "      <th>mfcc19_mean</th>\n",
       "      <th>mfcc19_var</th>\n",
       "      <th>mfcc20_mean</th>\n",
       "      <th>mfcc20_var</th>\n",
       "      <th>cate2</th>\n",
       "    </tr>\n",
       "    <tr>\n",
       "      <th>cate1</th>\n",
       "      <th></th>\n",
       "      <th></th>\n",
       "      <th></th>\n",
       "      <th></th>\n",
       "      <th></th>\n",
       "      <th></th>\n",
       "      <th></th>\n",
       "      <th></th>\n",
       "      <th></th>\n",
       "      <th></th>\n",
       "      <th></th>\n",
       "      <th></th>\n",
       "      <th></th>\n",
       "      <th></th>\n",
       "      <th></th>\n",
       "      <th></th>\n",
       "      <th></th>\n",
       "      <th></th>\n",
       "      <th></th>\n",
       "      <th></th>\n",
       "      <th></th>\n",
       "    </tr>\n",
       "  </thead>\n",
       "  <tbody>\n",
       "    <tr>\n",
       "      <th>animal</th>\n",
       "      <td>85</td>\n",
       "      <td>85</td>\n",
       "      <td>85</td>\n",
       "      <td>85</td>\n",
       "      <td>85</td>\n",
       "      <td>85</td>\n",
       "      <td>85</td>\n",
       "      <td>85</td>\n",
       "      <td>85</td>\n",
       "      <td>85</td>\n",
       "      <td>...</td>\n",
       "      <td>85</td>\n",
       "      <td>85</td>\n",
       "      <td>85</td>\n",
       "      <td>85</td>\n",
       "      <td>85</td>\n",
       "      <td>85</td>\n",
       "      <td>85</td>\n",
       "      <td>85</td>\n",
       "      <td>85</td>\n",
       "      <td>85</td>\n",
       "    </tr>\n",
       "    <tr>\n",
       "      <th>human_voice</th>\n",
       "      <td>21</td>\n",
       "      <td>21</td>\n",
       "      <td>21</td>\n",
       "      <td>21</td>\n",
       "      <td>21</td>\n",
       "      <td>21</td>\n",
       "      <td>21</td>\n",
       "      <td>21</td>\n",
       "      <td>21</td>\n",
       "      <td>21</td>\n",
       "      <td>...</td>\n",
       "      <td>21</td>\n",
       "      <td>21</td>\n",
       "      <td>21</td>\n",
       "      <td>21</td>\n",
       "      <td>21</td>\n",
       "      <td>21</td>\n",
       "      <td>21</td>\n",
       "      <td>21</td>\n",
       "      <td>21</td>\n",
       "      <td>21</td>\n",
       "    </tr>\n",
       "    <tr>\n",
       "      <th>life</th>\n",
       "      <td>82</td>\n",
       "      <td>82</td>\n",
       "      <td>82</td>\n",
       "      <td>82</td>\n",
       "      <td>82</td>\n",
       "      <td>82</td>\n",
       "      <td>82</td>\n",
       "      <td>82</td>\n",
       "      <td>82</td>\n",
       "      <td>82</td>\n",
       "      <td>...</td>\n",
       "      <td>82</td>\n",
       "      <td>82</td>\n",
       "      <td>82</td>\n",
       "      <td>82</td>\n",
       "      <td>82</td>\n",
       "      <td>82</td>\n",
       "      <td>82</td>\n",
       "      <td>82</td>\n",
       "      <td>82</td>\n",
       "      <td>82</td>\n",
       "    </tr>\n",
       "  </tbody>\n",
       "</table>\n",
       "<p>3 rows × 61 columns</p>\n",
       "</div>"
      ],
      "text/plain": [
       "             name  path  duration  chroma_stft_mean  chroma_stft_var  \\\n",
       "cate1                                                                  \n",
       "animal         85    85        85                85               85   \n",
       "human_voice    21    21        21                21               21   \n",
       "life           82    82        82                82               82   \n",
       "\n",
       "             rms_mean  rms_var  spectral_centroid_mean  spectral_centroid_var  \\\n",
       "cate1                                                                           \n",
       "animal             85       85                      85                     85   \n",
       "human_voice        21       21                      21                     21   \n",
       "life               82       82                      82                     82   \n",
       "\n",
       "             spectral_bandwidth_mean  ...  mfcc16_var  mfcc17_mean  \\\n",
       "cate1                                 ...                            \n",
       "animal                            85  ...          85           85   \n",
       "human_voice                       21  ...          21           21   \n",
       "life                              82  ...          82           82   \n",
       "\n",
       "             mfcc17_var  mfcc18_mean  mfcc18_var  mfcc19_mean  mfcc19_var  \\\n",
       "cate1                                                                       \n",
       "animal               85           85          85           85          85   \n",
       "human_voice          21           21          21           21          21   \n",
       "life                 82           82          82           82          82   \n",
       "\n",
       "             mfcc20_mean  mfcc20_var  cate2  \n",
       "cate1                                        \n",
       "animal                85          85     85  \n",
       "human_voice           21          21     21  \n",
       "life                  82          82     82  \n",
       "\n",
       "[3 rows x 61 columns]"
      ]
     },
     "execution_count": 8,
     "metadata": {},
     "output_type": "execute_result"
    }
   ],
   "source": [
    "result_df[result_df['duration']<1].groupby('cate1').count()"
   ]
  },
  {
   "cell_type": "code",
   "execution_count": 9,
   "id": "68d7a0d0",
   "metadata": {},
   "outputs": [
    {
     "name": "stdout",
     "output_type": "stream",
     "text": [
      "너무 긴 outlier 제외:  67\n",
      "너무 짧은 outlier 제외:  188\n"
     ]
    }
   ],
   "source": [
    "long_out = result_df[result_df['duration']>20].index.tolist()\n",
    "short_out = result_df[result_df['duration']<1].index.tolist()\n",
    "print(\"너무 긴 outlier 제외: \", len(long_out))\n",
    "print(\"너무 짧은 outlier 제외: \", len(short_out))"
   ]
  },
  {
   "cell_type": "code",
   "execution_count": 10,
   "id": "bf5f2580",
   "metadata": {},
   "outputs": [
    {
     "data": {
      "text/html": [
       "<div>\n",
       "<style scoped>\n",
       "    .dataframe tbody tr th:only-of-type {\n",
       "        vertical-align: middle;\n",
       "    }\n",
       "\n",
       "    .dataframe tbody tr th {\n",
       "        vertical-align: top;\n",
       "    }\n",
       "\n",
       "    .dataframe thead th {\n",
       "        text-align: right;\n",
       "    }\n",
       "</style>\n",
       "<table border=\"1\" class=\"dataframe\">\n",
       "  <thead>\n",
       "    <tr style=\"text-align: right;\">\n",
       "      <th></th>\n",
       "      <th>name</th>\n",
       "      <th>path</th>\n",
       "      <th>duration</th>\n",
       "      <th>chroma_stft_mean</th>\n",
       "      <th>chroma_stft_var</th>\n",
       "      <th>rms_mean</th>\n",
       "      <th>rms_var</th>\n",
       "      <th>spectral_centroid_mean</th>\n",
       "      <th>spectral_centroid_var</th>\n",
       "      <th>spectral_bandwidth_mean</th>\n",
       "      <th>...</th>\n",
       "      <th>mfcc17_mean</th>\n",
       "      <th>mfcc17_var</th>\n",
       "      <th>mfcc18_mean</th>\n",
       "      <th>mfcc18_var</th>\n",
       "      <th>mfcc19_mean</th>\n",
       "      <th>mfcc19_var</th>\n",
       "      <th>mfcc20_mean</th>\n",
       "      <th>mfcc20_var</th>\n",
       "      <th>cate1</th>\n",
       "      <th>cate2</th>\n",
       "    </tr>\n",
       "  </thead>\n",
       "  <tbody>\n",
       "    <tr>\n",
       "      <th>0</th>\n",
       "      <td>2-81731-A-10</td>\n",
       "      <td>../../sounds/nature/비 소리/2-81731-A-10.wav</td>\n",
       "      <td>5.000000</td>\n",
       "      <td>0.674077</td>\n",
       "      <td>0.040070</td>\n",
       "      <td>0.017677</td>\n",
       "      <td>0.000137</td>\n",
       "      <td>4827.324299</td>\n",
       "      <td>3.555906e+05</td>\n",
       "      <td>2919.121853</td>\n",
       "      <td>...</td>\n",
       "      <td>-8.264300</td>\n",
       "      <td>10.656216</td>\n",
       "      <td>-0.129912</td>\n",
       "      <td>18.339109</td>\n",
       "      <td>-6.612656</td>\n",
       "      <td>13.652373</td>\n",
       "      <td>-1.414367</td>\n",
       "      <td>12.971899</td>\n",
       "      <td>nature</td>\n",
       "      <td>비 소리</td>\n",
       "    </tr>\n",
       "    <tr>\n",
       "      <th>1</th>\n",
       "      <td>dr0shorse</td>\n",
       "      <td>../../sounds/animal/말 소리/dr0shorse.wav</td>\n",
       "      <td>1.353651</td>\n",
       "      <td>0.374280</td>\n",
       "      <td>0.095735</td>\n",
       "      <td>0.181595</td>\n",
       "      <td>0.006819</td>\n",
       "      <td>1492.603731</td>\n",
       "      <td>8.567513e+04</td>\n",
       "      <td>955.614463</td>\n",
       "      <td>...</td>\n",
       "      <td>12.378535</td>\n",
       "      <td>56.651711</td>\n",
       "      <td>-10.243791</td>\n",
       "      <td>28.035650</td>\n",
       "      <td>-3.035161</td>\n",
       "      <td>78.115898</td>\n",
       "      <td>1.781476</td>\n",
       "      <td>150.969696</td>\n",
       "      <td>animal</td>\n",
       "      <td>말 소리</td>\n",
       "    </tr>\n",
       "    <tr>\n",
       "      <th>2</th>\n",
       "      <td>4_5154</td>\n",
       "      <td>../../sounds/human_voice/read_women/4_5154.wav</td>\n",
       "      <td>3.204354</td>\n",
       "      <td>0.377328</td>\n",
       "      <td>0.119002</td>\n",
       "      <td>0.069964</td>\n",
       "      <td>0.005218</td>\n",
       "      <td>2189.041640</td>\n",
       "      <td>1.608823e+06</td>\n",
       "      <td>2243.653289</td>\n",
       "      <td>...</td>\n",
       "      <td>2.432036</td>\n",
       "      <td>255.817642</td>\n",
       "      <td>3.523569</td>\n",
       "      <td>398.191986</td>\n",
       "      <td>0.841104</td>\n",
       "      <td>213.776505</td>\n",
       "      <td>2.741883</td>\n",
       "      <td>295.803833</td>\n",
       "      <td>human_voice</td>\n",
       "      <td>read_women</td>\n",
       "    </tr>\n",
       "    <tr>\n",
       "      <th>3</th>\n",
       "      <td>3_4279</td>\n",
       "      <td>../../sounds/human_voice/read_women/3_4279.wav</td>\n",
       "      <td>4.226032</td>\n",
       "      <td>0.377279</td>\n",
       "      <td>0.117431</td>\n",
       "      <td>0.058191</td>\n",
       "      <td>0.002676</td>\n",
       "      <td>2218.915986</td>\n",
       "      <td>1.447482e+06</td>\n",
       "      <td>2197.490037</td>\n",
       "      <td>...</td>\n",
       "      <td>-5.125973</td>\n",
       "      <td>63.898540</td>\n",
       "      <td>-6.929226</td>\n",
       "      <td>80.169434</td>\n",
       "      <td>-4.769005</td>\n",
       "      <td>110.494026</td>\n",
       "      <td>1.924304</td>\n",
       "      <td>226.392563</td>\n",
       "      <td>human_voice</td>\n",
       "      <td>read_women</td>\n",
       "    </tr>\n",
       "    <tr>\n",
       "      <th>4</th>\n",
       "      <td>4_1533</td>\n",
       "      <td>../../sounds/human_voice/read_women/4_1533.wav</td>\n",
       "      <td>4.272472</td>\n",
       "      <td>0.388765</td>\n",
       "      <td>0.123725</td>\n",
       "      <td>0.067390</td>\n",
       "      <td>0.003615</td>\n",
       "      <td>2191.427527</td>\n",
       "      <td>1.798857e+06</td>\n",
       "      <td>2152.787600</td>\n",
       "      <td>...</td>\n",
       "      <td>-1.863418</td>\n",
       "      <td>78.053566</td>\n",
       "      <td>-4.694167</td>\n",
       "      <td>90.259575</td>\n",
       "      <td>-2.291460</td>\n",
       "      <td>137.207687</td>\n",
       "      <td>2.808920</td>\n",
       "      <td>252.813812</td>\n",
       "      <td>human_voice</td>\n",
       "      <td>read_women</td>\n",
       "    </tr>\n",
       "    <tr>\n",
       "      <th>...</th>\n",
       "      <td>...</td>\n",
       "      <td>...</td>\n",
       "      <td>...</td>\n",
       "      <td>...</td>\n",
       "      <td>...</td>\n",
       "      <td>...</td>\n",
       "      <td>...</td>\n",
       "      <td>...</td>\n",
       "      <td>...</td>\n",
       "      <td>...</td>\n",
       "      <td>...</td>\n",
       "      <td>...</td>\n",
       "      <td>...</td>\n",
       "      <td>...</td>\n",
       "      <td>...</td>\n",
       "      <td>...</td>\n",
       "      <td>...</td>\n",
       "      <td>...</td>\n",
       "      <td>...</td>\n",
       "      <td>...</td>\n",
       "      <td>...</td>\n",
       "    </tr>\n",
       "    <tr>\n",
       "      <th>22481</th>\n",
       "      <td>4_2959</td>\n",
       "      <td>../../sounds/human_voice/read_women/4_2959.wav</td>\n",
       "      <td>3.761633</td>\n",
       "      <td>0.388875</td>\n",
       "      <td>0.119760</td>\n",
       "      <td>0.063077</td>\n",
       "      <td>0.003298</td>\n",
       "      <td>2089.093858</td>\n",
       "      <td>1.532779e+06</td>\n",
       "      <td>2285.782330</td>\n",
       "      <td>...</td>\n",
       "      <td>0.489883</td>\n",
       "      <td>122.209114</td>\n",
       "      <td>2.708911</td>\n",
       "      <td>241.759460</td>\n",
       "      <td>-0.110318</td>\n",
       "      <td>289.090881</td>\n",
       "      <td>2.229165</td>\n",
       "      <td>200.966660</td>\n",
       "      <td>human_voice</td>\n",
       "      <td>read_women</td>\n",
       "    </tr>\n",
       "    <tr>\n",
       "      <th>22482</th>\n",
       "      <td>4_4776</td>\n",
       "      <td>../../sounds/human_voice/read_women/4_4776.wav</td>\n",
       "      <td>4.922630</td>\n",
       "      <td>0.389376</td>\n",
       "      <td>0.120424</td>\n",
       "      <td>0.060283</td>\n",
       "      <td>0.003562</td>\n",
       "      <td>2252.431213</td>\n",
       "      <td>1.408227e+06</td>\n",
       "      <td>2346.968945</td>\n",
       "      <td>...</td>\n",
       "      <td>1.021378</td>\n",
       "      <td>140.763046</td>\n",
       "      <td>2.365548</td>\n",
       "      <td>340.905365</td>\n",
       "      <td>3.520751</td>\n",
       "      <td>258.813538</td>\n",
       "      <td>6.935609</td>\n",
       "      <td>340.995605</td>\n",
       "      <td>human_voice</td>\n",
       "      <td>read_women</td>\n",
       "    </tr>\n",
       "    <tr>\n",
       "      <th>22484</th>\n",
       "      <td>3_0223</td>\n",
       "      <td>../../sounds/human_voice/read_women/3_0223.wav</td>\n",
       "      <td>3.962404</td>\n",
       "      <td>0.386296</td>\n",
       "      <td>0.117008</td>\n",
       "      <td>0.053361</td>\n",
       "      <td>0.002600</td>\n",
       "      <td>1734.906713</td>\n",
       "      <td>7.306648e+05</td>\n",
       "      <td>2028.096522</td>\n",
       "      <td>...</td>\n",
       "      <td>-2.970492</td>\n",
       "      <td>110.530266</td>\n",
       "      <td>0.416982</td>\n",
       "      <td>121.866516</td>\n",
       "      <td>-3.993134</td>\n",
       "      <td>216.351456</td>\n",
       "      <td>4.490475</td>\n",
       "      <td>311.396759</td>\n",
       "      <td>human_voice</td>\n",
       "      <td>read_women</td>\n",
       "    </tr>\n",
       "    <tr>\n",
       "      <th>22485</th>\n",
       "      <td>4_2431</td>\n",
       "      <td>../../sounds/human_voice/read_women/4_2431.wav</td>\n",
       "      <td>3.760544</td>\n",
       "      <td>0.382402</td>\n",
       "      <td>0.119962</td>\n",
       "      <td>0.066770</td>\n",
       "      <td>0.005187</td>\n",
       "      <td>2450.133809</td>\n",
       "      <td>1.635438e+06</td>\n",
       "      <td>2485.182914</td>\n",
       "      <td>...</td>\n",
       "      <td>-4.707453</td>\n",
       "      <td>52.939587</td>\n",
       "      <td>-3.391080</td>\n",
       "      <td>99.376076</td>\n",
       "      <td>-2.319468</td>\n",
       "      <td>124.156250</td>\n",
       "      <td>4.927099</td>\n",
       "      <td>332.130829</td>\n",
       "      <td>human_voice</td>\n",
       "      <td>read_women</td>\n",
       "    </tr>\n",
       "    <tr>\n",
       "      <th>22486</th>\n",
       "      <td>nVToV-zn_C4.0192</td>\n",
       "      <td>../../sounds/human_voice/read_men/nVToV-zn_C4....</td>\n",
       "      <td>5.040000</td>\n",
       "      <td>0.448015</td>\n",
       "      <td>0.103788</td>\n",
       "      <td>0.065832</td>\n",
       "      <td>0.003780</td>\n",
       "      <td>1838.578239</td>\n",
       "      <td>1.004062e+06</td>\n",
       "      <td>2196.511606</td>\n",
       "      <td>...</td>\n",
       "      <td>-0.473669</td>\n",
       "      <td>39.497807</td>\n",
       "      <td>0.362469</td>\n",
       "      <td>39.868610</td>\n",
       "      <td>-3.961087</td>\n",
       "      <td>54.048313</td>\n",
       "      <td>-1.095754</td>\n",
       "      <td>36.411785</td>\n",
       "      <td>human_voice</td>\n",
       "      <td>read_men</td>\n",
       "    </tr>\n",
       "  </tbody>\n",
       "</table>\n",
       "<p>21404 rows × 62 columns</p>\n",
       "</div>"
      ],
      "text/plain": [
       "                   name                                               path  \\\n",
       "0          2-81731-A-10          ../../sounds/nature/비 소리/2-81731-A-10.wav   \n",
       "1             dr0shorse             ../../sounds/animal/말 소리/dr0shorse.wav   \n",
       "2                4_5154     ../../sounds/human_voice/read_women/4_5154.wav   \n",
       "3                3_4279     ../../sounds/human_voice/read_women/3_4279.wav   \n",
       "4                4_1533     ../../sounds/human_voice/read_women/4_1533.wav   \n",
       "...                 ...                                                ...   \n",
       "22481            4_2959     ../../sounds/human_voice/read_women/4_2959.wav   \n",
       "22482            4_4776     ../../sounds/human_voice/read_women/4_4776.wav   \n",
       "22484            3_0223     ../../sounds/human_voice/read_women/3_0223.wav   \n",
       "22485            4_2431     ../../sounds/human_voice/read_women/4_2431.wav   \n",
       "22486  nVToV-zn_C4.0192  ../../sounds/human_voice/read_men/nVToV-zn_C4....   \n",
       "\n",
       "       duration  chroma_stft_mean  chroma_stft_var  rms_mean   rms_var  \\\n",
       "0      5.000000          0.674077         0.040070  0.017677  0.000137   \n",
       "1      1.353651          0.374280         0.095735  0.181595  0.006819   \n",
       "2      3.204354          0.377328         0.119002  0.069964  0.005218   \n",
       "3      4.226032          0.377279         0.117431  0.058191  0.002676   \n",
       "4      4.272472          0.388765         0.123725  0.067390  0.003615   \n",
       "...         ...               ...              ...       ...       ...   \n",
       "22481  3.761633          0.388875         0.119760  0.063077  0.003298   \n",
       "22482  4.922630          0.389376         0.120424  0.060283  0.003562   \n",
       "22484  3.962404          0.386296         0.117008  0.053361  0.002600   \n",
       "22485  3.760544          0.382402         0.119962  0.066770  0.005187   \n",
       "22486  5.040000          0.448015         0.103788  0.065832  0.003780   \n",
       "\n",
       "       spectral_centroid_mean  spectral_centroid_var  spectral_bandwidth_mean  \\\n",
       "0                 4827.324299           3.555906e+05              2919.121853   \n",
       "1                 1492.603731           8.567513e+04               955.614463   \n",
       "2                 2189.041640           1.608823e+06              2243.653289   \n",
       "3                 2218.915986           1.447482e+06              2197.490037   \n",
       "4                 2191.427527           1.798857e+06              2152.787600   \n",
       "...                       ...                    ...                      ...   \n",
       "22481             2089.093858           1.532779e+06              2285.782330   \n",
       "22482             2252.431213           1.408227e+06              2346.968945   \n",
       "22484             1734.906713           7.306648e+05              2028.096522   \n",
       "22485             2450.133809           1.635438e+06              2485.182914   \n",
       "22486             1838.578239           1.004062e+06              2196.511606   \n",
       "\n",
       "       ...  mfcc17_mean  mfcc17_var  mfcc18_mean  mfcc18_var  mfcc19_mean  \\\n",
       "0      ...    -8.264300   10.656216    -0.129912   18.339109    -6.612656   \n",
       "1      ...    12.378535   56.651711   -10.243791   28.035650    -3.035161   \n",
       "2      ...     2.432036  255.817642     3.523569  398.191986     0.841104   \n",
       "3      ...    -5.125973   63.898540    -6.929226   80.169434    -4.769005   \n",
       "4      ...    -1.863418   78.053566    -4.694167   90.259575    -2.291460   \n",
       "...    ...          ...         ...          ...         ...          ...   \n",
       "22481  ...     0.489883  122.209114     2.708911  241.759460    -0.110318   \n",
       "22482  ...     1.021378  140.763046     2.365548  340.905365     3.520751   \n",
       "22484  ...    -2.970492  110.530266     0.416982  121.866516    -3.993134   \n",
       "22485  ...    -4.707453   52.939587    -3.391080   99.376076    -2.319468   \n",
       "22486  ...    -0.473669   39.497807     0.362469   39.868610    -3.961087   \n",
       "\n",
       "       mfcc19_var  mfcc20_mean  mfcc20_var        cate1       cate2  \n",
       "0       13.652373    -1.414367   12.971899       nature        비 소리  \n",
       "1       78.115898     1.781476  150.969696       animal        말 소리  \n",
       "2      213.776505     2.741883  295.803833  human_voice  read_women  \n",
       "3      110.494026     1.924304  226.392563  human_voice  read_women  \n",
       "4      137.207687     2.808920  252.813812  human_voice  read_women  \n",
       "...           ...          ...         ...          ...         ...  \n",
       "22481  289.090881     2.229165  200.966660  human_voice  read_women  \n",
       "22482  258.813538     6.935609  340.995605  human_voice  read_women  \n",
       "22484  216.351456     4.490475  311.396759  human_voice  read_women  \n",
       "22485  124.156250     4.927099  332.130829  human_voice  read_women  \n",
       "22486   54.048313    -1.095754   36.411785  human_voice    read_men  \n",
       "\n",
       "[21404 rows x 62 columns]"
      ]
     },
     "execution_count": 10,
     "metadata": {},
     "output_type": "execute_result"
    }
   ],
   "source": [
    "final_df = result_df.drop(long_out+short_out, axis=0)\n",
    "final_df"
   ]
  },
  {
   "cell_type": "code",
   "execution_count": 11,
   "id": "64bdc8a3",
   "metadata": {},
   "outputs": [
    {
     "name": "stdout",
     "output_type": "stream",
     "text": [
      "count    21404.000000\n",
      "mean         4.015808\n",
      "std          1.753654\n",
      "min          1.000590\n",
      "25%          2.940000\n",
      "50%          3.780000\n",
      "75%          4.922744\n",
      "max         19.957551\n",
      "Name: duration, dtype: float64\n"
     ]
    },
    {
     "data": {
      "image/png": "[encoded data removed]",
      "text/plain": [
       "<Figure size 432x288 with 1 Axes>"
      ]
     },
     "metadata": {
      "needs_background": "light"
     },
     "output_type": "display_data"
    }
   ],
   "source": [
    "print(final_df['duration'].describe())\n",
    "sns.boxplot(data=final_df, x='cate1', y='duration');"
   ]
  },
  {
   "cell_type": "markdown",
   "id": "383b94c1",
   "metadata": {},
   "source": [
    "---\n",
    "# 분류"
   ]
  },
  {
   "cell_type": "code",
   "execution_count": 12,
   "id": "9432def0",
   "metadata": {},
   "outputs": [],
   "source": [
    "from sklearn.model_selection import train_test_split, StratifiedKFold, KFold, RepeatedStratifiedKFold, cross_val_score \n",
    "from sklearn.metrics import accuracy_score, confusion_matrix, ConfusionMatrixDisplay, plot_confusion_matrix, precision_score, recall_score, f1_score\n",
    "from sklearn.linear_model import LogisticRegression\n",
    "from sklearn.svm import LinearSVC\n",
    "from sklearn.ensemble import RandomForestClassifier\n",
    "from sklearn.tree import DecisionTreeClassifier\n",
    "from xgboost import XGBClassifier\n",
    "from imblearn.over_sampling import RandomOverSampler, SMOTE, ADASYN\n",
    "from imblearn.under_sampling import RandomUnderSampler\n",
    "import pickle\n",
    "import joblib\n",
    "import seaborn as sns"
   ]
  },
  {
   "cell_type": "code",
   "execution_count": 13,
   "id": "59c3fb12",
   "metadata": {},
   "outputs": [],
   "source": [
    "def play_song(path):\n",
    "    (file_dir, file_id) = os.path.split(path)\n",
    "    print(file_id[:-4])\n",
    "    print(IPython.display.display(IPython.display.Audio(path)))\n",
    "def play_song_ls(cm_lr_df):\n",
    "    for idx, path in enumerate(cm_lr_df['path']):\n",
    "        print(cm_lr_df['pred'].iloc[idx])\n",
    "        play_song(path)"
   ]
  },
  {
   "cell_type": "code",
   "execution_count": 14,
   "id": "3fbb1865",
   "metadata": {},
   "outputs": [],
   "source": [
    "def make_train_test(df):\n",
    "    df = df.sample(frac=1)\n",
    "    X = df.set_index('path').drop(['name','cate1','cate2','duration'], axis=1)\n",
    "    y = df.set_index('path')[['cate1']].copy()\n",
    "    print(f\"X 개수:{len(X)}, y 개수:{len(y)}\")\n",
    "    print(df.groupby('cate1').count().sort_values('name')[['name']])\n",
    "    return X, y"
   ]
  },
  {
   "cell_type": "code",
   "execution_count": 15,
   "id": "43ef2ba8",
   "metadata": {},
   "outputs": [],
   "source": [
    "def model_fit_kfold(model):\n",
    "    model.fit(X_train, y_train)\n",
    "    y_pred = model.predict(X_test)\n",
    "    cf = confusion_matrix(y_test, y_pred)\n",
    "    kfold = StratifiedKFold(n_splits=5, shuffle=True, random_state=13)\n",
    "    print(\"accuracy:\", round(accuracy_score(y_test, y_pred),6))\n",
    "    print(\"recall:\", round(recall_score(y_test, y_pred, labels=np.unique(y_test), average='macro'),6))\n",
    "    print(\"f1 score:\", round(f1_score(y_test, y_pred, labels=np.unique(y_test), average='macro'),6))\n",
    "#     print(\"Cross Validation Score:\", cross_val_score(model, pd.concat([X_train, X_test]), pd.concat([y_train, y_test]), cv=kfold))\n",
    "    ax = sns.heatmap(cf, annot=True, xticklabels=np.unique(y), yticklabels=np.unique(y), fmt=\"d\", cmap=\"Blues\")\n",
    "    plt.title(str(model).split('(')[0])\n",
    "    plt.show()\n",
    "    return model, y_pred"
   ]
  },
  {
   "cell_type": "code",
   "execution_count": 16,
   "id": "26c46e01",
   "metadata": {},
   "outputs": [],
   "source": [
    "def check_false_pred(y_pred):\n",
    "    cm_lr_df = pd.DataFrame()\n",
    "    cm_lr_df['answer'] = y_test['cate1'].tolist()\n",
    "    cm_lr_df['pred'] = y_pred\n",
    "    cm_lr_df['result'] = cm_lr_df['answer'] == cm_lr_df['pred']\n",
    "    cm_lr_df['path'] = X_test.index\n",
    "    cm_lr_df['cate1'] = [result_df[result_df['path']== p]['cate1'].iloc[0] for p in cm_lr_df['path']]\n",
    "#     cm_lr_df['noise'] = [result_df[result_df['path']== p]['noise'].iloc[0] for p in cm_lr_df['path']]\n",
    "#     cm_lr_df['name'] = [f\"{p.split('/')[-2]}__{p.split('/')[-1][:-4]}\" for p in cm_lr_df['path']]\n",
    "#     [l.split('/')[-1]for l in cm_lr_df['path']]\n",
    "    cm_lr_df = cm_lr_df[cm_lr_df['result']==False].sort_values(['answer', 'cate1'])\n",
    "    return cm_lr_df"
   ]
  },
  {
   "cell_type": "markdown",
   "id": "d6c7ee64",
   "metadata": {},
   "source": [
    "---\n",
    "# Total songs"
   ]
  },
  {
   "cell_type": "markdown",
   "id": "560b183f",
   "metadata": {},
   "source": [
    "### Test dataset 만들기"
   ]
  },
  {
   "cell_type": "code",
   "execution_count": 17,
   "id": "40133771",
   "metadata": {},
   "outputs": [
    {
     "data": {
      "text/html": [
       "<div>\n",
       "<style scoped>\n",
       "    .dataframe tbody tr th:only-of-type {\n",
       "        vertical-align: middle;\n",
       "    }\n",
       "\n",
       "    .dataframe tbody tr th {\n",
       "        vertical-align: top;\n",
       "    }\n",
       "\n",
       "    .dataframe thead th {\n",
       "        text-align: right;\n",
       "    }\n",
       "</style>\n",
       "<table border=\"1\" class=\"dataframe\">\n",
       "  <thead>\n",
       "    <tr style=\"text-align: right;\">\n",
       "      <th></th>\n",
       "      <th>name</th>\n",
       "    </tr>\n",
       "    <tr>\n",
       "      <th>cate1</th>\n",
       "      <th></th>\n",
       "    </tr>\n",
       "  </thead>\n",
       "  <tbody>\n",
       "    <tr>\n",
       "      <th>animal</th>\n",
       "      <td>100</td>\n",
       "    </tr>\n",
       "    <tr>\n",
       "      <th>human</th>\n",
       "      <td>100</td>\n",
       "    </tr>\n",
       "    <tr>\n",
       "      <th>human_voice</th>\n",
       "      <td>100</td>\n",
       "    </tr>\n",
       "    <tr>\n",
       "      <th>life</th>\n",
       "      <td>100</td>\n",
       "    </tr>\n",
       "    <tr>\n",
       "      <th>nature</th>\n",
       "      <td>100</td>\n",
       "    </tr>\n",
       "  </tbody>\n",
       "</table>\n",
       "</div>"
      ],
      "text/plain": [
       "             name\n",
       "cate1            \n",
       "animal        100\n",
       "human         100\n",
       "human_voice   100\n",
       "life          100\n",
       "nature        100"
      ]
     },
     "execution_count": 17,
     "metadata": {},
     "output_type": "execute_result"
    }
   ],
   "source": [
    "### random samping으로 라벨별 test 데이터 뽑아두기\n",
    "test_df = result_df.copy()\n",
    "test_nature = test_df[test_df['cate1']=='nature'].sample(n=100, random_state=1)\n",
    "test_human = test_df[test_df['cate1']=='human'].sample(n=100, random_state=13)\n",
    "test_life = test_df[test_df['cate1']=='life'].sample(n=100, random_state=13)\n",
    "test_animal = test_df[test_df['cate1']=='animal'].sample(n=100, random_state=13)\n",
    "test_human_voice = test_df[test_df['cate1']=='human_voice'].sample(n=100, random_state=13)\n",
    "test_df = pd.concat([test_nature, test_human,test_life, test_animal, test_human_voice])\n",
    "test_df.groupby('cate1').count().sort_values('name')[['name']]"
   ]
  },
  {
   "cell_type": "code",
   "execution_count": 18,
   "id": "45b488c1",
   "metadata": {},
   "outputs": [
    {
     "name": "stdout",
     "output_type": "stream",
     "text": [
      "X 개수:500, y 개수:500\n",
      "             name\n",
      "cate1            \n",
      "animal        100\n",
      "human         100\n",
      "human_voice   100\n",
      "life          100\n",
      "nature        100\n"
     ]
    }
   ],
   "source": [
    "X_test, y_test = make_train_test(test_df)"
   ]
  },
  {
   "cell_type": "code",
   "execution_count": 19,
   "id": "cb5bee3d",
   "metadata": {},
   "outputs": [
    {
     "data": {
      "text/html": [
       "<div>\n",
       "<style scoped>\n",
       "    .dataframe tbody tr th:only-of-type {\n",
       "        vertical-align: middle;\n",
       "    }\n",
       "\n",
       "    .dataframe tbody tr th {\n",
       "        vertical-align: top;\n",
       "    }\n",
       "\n",
       "    .dataframe thead th {\n",
       "        text-align: right;\n",
       "    }\n",
       "</style>\n",
       "<table border=\"1\" class=\"dataframe\">\n",
       "  <thead>\n",
       "    <tr style=\"text-align: right;\">\n",
       "      <th></th>\n",
       "      <th>name</th>\n",
       "    </tr>\n",
       "    <tr>\n",
       "      <th>cate1</th>\n",
       "      <th></th>\n",
       "    </tr>\n",
       "  </thead>\n",
       "  <tbody>\n",
       "    <tr>\n",
       "      <th>nature</th>\n",
       "      <td>116</td>\n",
       "    </tr>\n",
       "    <tr>\n",
       "      <th>human</th>\n",
       "      <td>809</td>\n",
       "    </tr>\n",
       "    <tr>\n",
       "      <th>life</th>\n",
       "      <td>1212</td>\n",
       "    </tr>\n",
       "    <tr>\n",
       "      <th>animal</th>\n",
       "      <td>1376</td>\n",
       "    </tr>\n",
       "    <tr>\n",
       "      <th>human_voice</th>\n",
       "      <td>17646</td>\n",
       "    </tr>\n",
       "  </tbody>\n",
       "</table>\n",
       "</div>"
      ],
      "text/plain": [
       "              name\n",
       "cate1             \n",
       "nature         116\n",
       "human          809\n",
       "life          1212\n",
       "animal        1376\n",
       "human_voice  17646"
      ]
     },
     "execution_count": 19,
     "metadata": {},
     "output_type": "execute_result"
    }
   ],
   "source": [
    "train_df = result_df.drop(test_df.index, axis=0)\n",
    "train_df.groupby('cate1').count().sort_values('name')[['name']]"
   ]
  },
  {
   "cell_type": "code",
   "execution_count": 92,
   "id": "7be392c5",
   "metadata": {},
   "outputs": [
    {
     "name": "stdout",
     "output_type": "stream",
     "text": [
      "X 개수:21159, y 개수:21159\n",
      "              name\n",
      "cate1             \n",
      "nature         116\n",
      "human          809\n",
      "life          1212\n",
      "animal        1376\n",
      "human_voice  17646\n",
      "---------LogisticRegression---------------\n",
      "accuracy: 0.234\n",
      "recall: 0.234\n",
      "f1 score: 0.116616\n"
     ]
    },
    {
     "data": {
      "image/png": "[encoded data removed]",
      "text/plain": [
       "<Figure size 432x288 with 2 Axes>"
      ]
     },
     "metadata": {
      "needs_background": "light"
     },
     "output_type": "display_data"
    },
    {
     "name": "stdout",
     "output_type": "stream",
     "text": [
      "---------DecisionTreeClassifier---------------\n",
      "accuracy: 0.648\n",
      "recall: 0.648\n",
      "f1 score: 0.639966\n"
     ]
    },
    {
     "data": {
      "image/png": "[encoded data removed]",
      "text/plain": [
       "<Figure size 432x288 with 2 Axes>"
      ]
     },
     "metadata": {
      "needs_background": "light"
     },
     "output_type": "display_data"
    },
    {
     "name": "stdout",
     "output_type": "stream",
     "text": [
      "---------XGBClassifier---------------\n",
      "accuracy: 0.772\n",
      "recall: 0.772\n",
      "f1 score: 0.76173\n"
     ]
    },
    {
     "data": {
      "image/png": "[encoded data removed]",
      "text/plain": [
       "<Figure size 432x288 with 2 Axes>"
      ]
     },
     "metadata": {
      "needs_background": "light"
     },
     "output_type": "display_data"
    },
    {
     "name": "stdout",
     "output_type": "stream",
     "text": [
      "---------RandomForestClassifier---------------\n",
      "accuracy: 0.692\n",
      "recall: 0.692\n",
      "f1 score: 0.674863\n"
     ]
    },
    {
     "data": {
      "image/png": "[encoded data removed]",
      "text/plain": [
       "<Figure size 432x288 with 2 Axes>"
      ]
     },
     "metadata": {
      "needs_background": "light"
     },
     "output_type": "display_data"
    }
   ],
   "source": [
    "X_train, y_train = make_train_test(train_df)\n",
    "print(\"---------LogisticRegression---------------\")\n",
    "lr_model, lr_y_pred = model_fit_kfold(LogisticRegression())\n",
    "print(\"---------DecisionTreeClassifier---------------\")\n",
    "dt_model, dt_y_pred = model_fit_kfold(DecisionTreeClassifier())\n",
    "print(\"---------XGBClassifier---------------\")\n",
    "xgb_model, xgb_y_pred = model_fit_kfold(XGBClassifier(num_class=5,\n",
    "                                           learning_rate=0.1,\n",
    "                                           eval_metric='mlogloss'))\n",
    "print(\"---------RandomForestClassifier---------------\")\n",
    "rf_model, rf_y_pred = model_fit_kfold(RandomForestClassifier(n_estimators=10, random_state=13, oob_score=True))"
   ]
  },
  {
   "cell_type": "markdown",
   "id": "c07f933a",
   "metadata": {},
   "source": [
    "### 1. 5개의 라벨을 모두 같은 개수로 맞춰서 테스트\n",
    "- groupby().sample\n",
    "- RandomUnderSampler"
   ]
  },
  {
   "cell_type": "code",
   "execution_count": 57,
   "id": "f9708625",
   "metadata": {},
   "outputs": [
    {
     "name": "stdout",
     "output_type": "stream",
     "text": [
      "X 개수:580, y 개수:580\n",
      "             name\n",
      "cate1            \n",
      "animal        116\n",
      "human         116\n",
      "human_voice   116\n",
      "life          116\n",
      "nature        116\n",
      "------------------------\n",
      "X 개수:1080, y 개수:1080\n",
      "             name\n",
      "cate1            \n",
      "animal        216\n",
      "human         216\n",
      "human_voice   216\n",
      "life          216\n",
      "nature        216\n"
     ]
    }
   ],
   "source": [
    "# 방법1: pandas의 groupby().sample으로 라벨별 개수 맞추기\n",
    "try1_df = train_df.groupby('cate1').sample(n=116, random_state=13)\n",
    "X_train, y_train = make_train_test(try1_df)\n",
    "print('------------------------')\n",
    "X, y = make_train_test(pd.concat([test_df, try1_df]))"
   ]
  },
  {
   "cell_type": "code",
   "execution_count": 58,
   "id": "9d200038",
   "metadata": {
    "scrolled": false
   },
   "outputs": [
    {
     "name": "stdout",
     "output_type": "stream",
     "text": [
      "---------LogisticRegression---------------\n",
      "accuracy: 0.462\n",
      "recall: 0.462\n",
      "f1 score: 0.412682\n",
      "Cross Validation Score: [0.43055556 0.43055556 0.35185185 0.41203704 0.47685185]\n"
     ]
    },
    {
     "data": {
      "image/png": "[encoded data removed]",
      "text/plain": [
       "<Figure size 432x288 with 2 Axes>"
      ]
     },
     "metadata": {
      "needs_background": "light"
     },
     "output_type": "display_data"
    },
    {
     "name": "stdout",
     "output_type": "stream",
     "text": [
      "---------DecisionTreeClassifier---------------\n",
      "accuracy: 0.596\n",
      "recall: 0.596\n",
      "f1 score: 0.598199\n",
      "Cross Validation Score: [0.59722222 0.60648148 0.63425926 0.66666667 0.60185185]\n"
     ]
    },
    {
     "data": {
      "image/png": "[encoded data removed]",
      "text/plain": [
       "<Figure size 432x288 with 2 Axes>"
      ]
     },
     "metadata": {
      "needs_background": "light"
     },
     "output_type": "display_data"
    },
    {
     "name": "stdout",
     "output_type": "stream",
     "text": [
      "---------XGBClassifier---------------\n",
      "accuracy: 0.758\n",
      "recall: 0.758\n",
      "f1 score: 0.756813\n",
      "Cross Validation Score: [0.75925926 0.78240741 0.80555556 0.76388889 0.81481481]\n"
     ]
    },
    {
     "data": {
      "image/png": "[encoded data removed]",
      "text/plain": [
       "<Figure size 432x288 with 2 Axes>"
      ]
     },
     "metadata": {
      "needs_background": "light"
     },
     "output_type": "display_data"
    },
    {
     "name": "stdout",
     "output_type": "stream",
     "text": [
      "---------RandomForestClassifier---------------\n",
      "accuracy: 0.708\n",
      "recall: 0.708\n",
      "f1 score: 0.710423\n",
      "Cross Validation Score: [0.68055556 0.70833333 0.71759259 0.68055556 0.73611111]\n"
     ]
    },
    {
     "data": {
      "image/png": "[encoded data removed]",
      "text/plain": [
       "<Figure size 432x288 with 2 Axes>"
      ]
     },
     "metadata": {
      "needs_background": "light"
     },
     "output_type": "display_data"
    }
   ],
   "source": [
    "print(\"---------LogisticRegression---------------\")\n",
    "lr_model, lr_y_pred = model_fit_kfold(LogisticRegression())\n",
    "print(\"---------DecisionTreeClassifier---------------\")\n",
    "dt_model, dt_y_pred = model_fit_kfold(DecisionTreeClassifier())\n",
    "print(\"---------XGBClassifier---------------\")\n",
    "xgb_model, xgb_y_pred = model_fit_kfold(XGBClassifier(num_class=5,\n",
    "                                           learning_rate=0.1,\n",
    "                                           eval_metric='mlogloss'))\n",
    "print(\"---------RandomForestClassifier---------------\")\n",
    "rf_model, rf_y_pred = model_fit_kfold(RandomForestClassifier(n_estimators=10, random_state=13, oob_score=True))"
   ]
  },
  {
   "cell_type": "markdown",
   "id": "efbd74fe",
   "metadata": {},
   "source": [
    "### 2. 모델 파라미터에 weights 적용하기\n",
    "- abnomal 데이터에서 oversamping, undersamping 같은 개념으로 class_weights를 주어 라벨별 불균형을 맞출 수 있음\n",
    "- 샘플링을 하지 않고, 개수가 제일 많은 human_voice을 기준점으로 두고 weights 적용\n",
    "- life\t99\n",
    "animal\t341\n",
    "human\t513\n",
    "human_voice\t9548\n",
    "- oversampling, undersampling 대비 정확도가 대체로 낮으므로 테스트 대상에서 제외"
   ]
  },
  {
   "cell_type": "code",
   "execution_count": 61,
   "id": "da97a803",
   "metadata": {},
   "outputs": [
    {
     "name": "stdout",
     "output_type": "stream",
     "text": [
      "X 개수:21659, y 개수:21659\n",
      "              name\n",
      "cate1             \n",
      "nature         216\n",
      "human          909\n",
      "life          1312\n",
      "animal        1476\n",
      "human_voice  17746\n",
      "X 개수:500, y 개수:500\n",
      "             name\n",
      "cate1            \n",
      "animal        100\n",
      "human         100\n",
      "human_voice   100\n",
      "life          100\n",
      "nature        100\n"
     ]
    }
   ],
   "source": [
    "weights = {'animal': 5, 'human': 4, 'life': 6, 'nature': 20}\n",
    "X, y = make_train_test(result_df)\n",
    "X_test, y_test = make_train_test(test_df)\n",
    "train_df = result_df.drop(test_df.index, axis=0)\n",
    "print(\"---------LogisticRegression---------------\")\n",
    "lr_model, lr_y_pred = model_fit_kfold(LogisticRegression(class_weight=weights))\n",
    "print(\"---------DecisionTreeClassifier---------------\")\n",
    "dt_model, dt_y_pred = model_fit_kfold(DecisionTreeClassifier(class_weight=weights))\n",
    "print(\"---------XGBClassifier---------------\")\n",
    "xgb_model, xgb_y_pred = model_fit_kfold(XGBClassifier(num_class=5,\n",
    "                                           learning_rate=0.1,\n",
    "                                           eval_metric='mlogloss',\n",
    "                                           scale_pos_weight=10))\n",
    "print(\"---------RandomForestClassifier---------------\")\n",
    "rf_model, rf_y_pred = model_fit_kfold(RandomForestClassifier(class_weight=weights,\n",
    "                                                             n_estimators=10, random_state=13, oob_score=True))"
   ]
  },
  {
   "cell_type": "markdown",
   "id": "20da7194",
   "metadata": {},
   "source": [
    "### 3. oversamping - imblearn.ADASYN\n",
    "- SMOTE에 비해 ADASYN이 조금 더 사실적으로 데이터 간의 분산을 넣어 오버샘플링해준다 함"
   ]
  },
  {
   "cell_type": "code",
   "execution_count": 63,
   "id": "e3da84fb",
   "metadata": {},
   "outputs": [
    {
     "name": "stdout",
     "output_type": "stream",
     "text": [
      "X 개수:500, y 개수:500\n",
      "             name\n",
      "cate1            \n",
      "animal        100\n",
      "human         100\n",
      "human_voice   100\n",
      "life          100\n",
      "nature        100\n",
      "X 개수:21159, y 개수:21159\n",
      "              name\n",
      "cate1             \n",
      "nature         116\n",
      "human          809\n",
      "life          1212\n",
      "animal        1376\n",
      "human_voice  17646\n"
     ]
    },
    {
     "data": {
      "text/html": [
       "<div>\n",
       "<style scoped>\n",
       "    .dataframe tbody tr th:only-of-type {\n",
       "        vertical-align: middle;\n",
       "    }\n",
       "\n",
       "    .dataframe tbody tr th {\n",
       "        vertical-align: top;\n",
       "    }\n",
       "\n",
       "    .dataframe thead th {\n",
       "        text-align: right;\n",
       "    }\n",
       "</style>\n",
       "<table border=\"1\" class=\"dataframe\">\n",
       "  <thead>\n",
       "    <tr style=\"text-align: right;\">\n",
       "      <th></th>\n",
       "      <th>index</th>\n",
       "    </tr>\n",
       "    <tr>\n",
       "      <th>cate1</th>\n",
       "      <th></th>\n",
       "    </tr>\n",
       "  </thead>\n",
       "  <tbody>\n",
       "    <tr>\n",
       "      <th>animal</th>\n",
       "      <td>17611</td>\n",
       "    </tr>\n",
       "    <tr>\n",
       "      <th>human</th>\n",
       "      <td>17564</td>\n",
       "    </tr>\n",
       "    <tr>\n",
       "      <th>human_voice</th>\n",
       "      <td>17646</td>\n",
       "    </tr>\n",
       "    <tr>\n",
       "      <th>life</th>\n",
       "      <td>17972</td>\n",
       "    </tr>\n",
       "    <tr>\n",
       "      <th>nature</th>\n",
       "      <td>17622</td>\n",
       "    </tr>\n",
       "  </tbody>\n",
       "</table>\n",
       "</div>"
      ],
      "text/plain": [
       "             index\n",
       "cate1             \n",
       "animal       17611\n",
       "human        17564\n",
       "human_voice  17646\n",
       "life         17972\n",
       "nature       17622"
      ]
     },
     "execution_count": 63,
     "metadata": {},
     "output_type": "execute_result"
    }
   ],
   "source": [
    "X_test, y_test = make_train_test(test_df)\n",
    "train_df = result_df.drop(test_df.index, axis=0)\n",
    "X_train, y_train = make_train_test(train_df)\n",
    "X_train, y_train = ADASYN(random_state=13).fit_resample(X_train, y_train) # oversamping\n",
    "y_train.reset_index().groupby('cate1').count()"
   ]
  },
  {
   "cell_type": "code",
   "execution_count": 66,
   "id": "b7ee6192",
   "metadata": {
    "scrolled": false
   },
   "outputs": [
    {
     "name": "stdout",
     "output_type": "stream",
     "text": [
      "---------LogisticRegression---------------\n",
      "accuracy: 0.478\n",
      "recall: 0.478\n",
      "f1 score: 0.422574\n"
     ]
    },
    {
     "data": {
      "image/png": "[encoded data removed]",
      "text/plain": [
       "<Figure size 432x288 with 2 Axes>"
      ]
     },
     "metadata": {
      "needs_background": "light"
     },
     "output_type": "display_data"
    },
    {
     "name": "stdout",
     "output_type": "stream",
     "text": [
      "---------DecisionTreeClassifier---------------\n",
      "accuracy: 0.682\n",
      "recall: 0.682\n",
      "f1 score: 0.669602\n"
     ]
    },
    {
     "data": {
      "image/png": "[encoded data removed]",
      "text/plain": [
       "<Figure size 432x288 with 2 Axes>"
      ]
     },
     "metadata": {
      "needs_background": "light"
     },
     "output_type": "display_data"
    },
    {
     "name": "stdout",
     "output_type": "stream",
     "text": [
      "---------XGBClassifier---------------\n",
      "accuracy: 0.838\n",
      "recall: 0.838\n",
      "f1 score: 0.838473\n"
     ]
    },
    {
     "data": {
      "image/png": "[encoded data removed]",
      "text/plain": [
       "<Figure size 432x288 with 2 Axes>"
      ]
     },
     "metadata": {
      "needs_background": "light"
     },
     "output_type": "display_data"
    },
    {
     "name": "stdout",
     "output_type": "stream",
     "text": [
      "---------RandomForestClassifier---------------\n",
      "accuracy: 0.748\n",
      "recall: 0.748\n",
      "f1 score: 0.740926\n"
     ]
    },
    {
     "data": {
      "image/png": "[encoded data removed]",
      "text/plain": [
       "<Figure size 432x288 with 2 Axes>"
      ]
     },
     "metadata": {
      "needs_background": "light"
     },
     "output_type": "display_data"
    }
   ],
   "source": [
    "print(\"---------LogisticRegression---------------\")\n",
    "lr_model, lr_y_pred = model_fit_kfold(LogisticRegression())\n",
    "print(\"---------DecisionTreeClassifier---------------\")\n",
    "dt_model, dt_y_pred = model_fit_kfold(DecisionTreeClassifier())\n",
    "print(\"---------XGBClassifier---------------\")\n",
    "xgb_model, xgb_y_pred = model_fit_kfold(XGBClassifier(num_class=5,\n",
    "                                           learning_rate=0.1,\n",
    "                                           eval_metric='mlogloss'))\n",
    "print(\"---------RandomForestClassifier---------------\")\n",
    "rf_model, rf_y_pred = model_fit_kfold(RandomForestClassifier(n_estimators=10, random_state=13, oob_score=True))"
   ]
  },
  {
   "cell_type": "markdown",
   "id": "4c6ba456",
   "metadata": {},
   "source": [
    "---\n",
    "# short_df\n",
    "- 노래 길이 백분위 50% 미만 데이터 기준"
   ]
  },
  {
   "cell_type": "code",
   "execution_count": 21,
   "id": "2e6f4253",
   "metadata": {},
   "outputs": [
    {
     "name": "stdout",
     "output_type": "stream",
     "text": [
      "10701\n",
      "cate1\n",
      "animal          391\n",
      "human           563\n",
      "human_voice    9598\n",
      "life            149\n",
      "Name: duration, dtype: int64\n",
      "count    10701.000000\n",
      "mean         2.852067\n",
      "std          0.632534\n",
      "min          1.000590\n",
      "25%          2.422540\n",
      "50%          2.940000\n",
      "75%          3.389025\n",
      "max          3.779002\n",
      "Name: duration, dtype: float64\n"
     ]
    },
    {
     "data": {
      "image/png": "[encoded data removed]",
      "text/plain": [
       "<Figure size 432x288 with 1 Axes>"
      ]
     },
     "metadata": {
      "needs_background": "light"
     },
     "output_type": "display_data"
    }
   ],
   "source": [
    "short_df = final_df[final_df['duration']<np.percentile(final_df['duration'], 50)]#[final_df['duration']>np.percentile(final_df['duration'], 25)]\n",
    "print(len(short_df))\n",
    "print(short_df.groupby('cate1')['duration'].count())\n",
    "print(short_df['duration'].describe())\n",
    "sns.boxplot(data=short_df, x='cate1', y='duration');"
   ]
  },
  {
   "cell_type": "markdown",
   "id": "372bdd2a",
   "metadata": {},
   "source": [
    "## Test dataset 만들기"
   ]
  },
  {
   "cell_type": "code",
   "execution_count": 22,
   "id": "0981dd9e",
   "metadata": {},
   "outputs": [
    {
     "data": {
      "text/html": [
       "<div>\n",
       "<style scoped>\n",
       "    .dataframe tbody tr th:only-of-type {\n",
       "        vertical-align: middle;\n",
       "    }\n",
       "\n",
       "    .dataframe tbody tr th {\n",
       "        vertical-align: top;\n",
       "    }\n",
       "\n",
       "    .dataframe thead th {\n",
       "        text-align: right;\n",
       "    }\n",
       "</style>\n",
       "<table border=\"1\" class=\"dataframe\">\n",
       "  <thead>\n",
       "    <tr style=\"text-align: right;\">\n",
       "      <th></th>\n",
       "      <th>name</th>\n",
       "    </tr>\n",
       "    <tr>\n",
       "      <th>cate1</th>\n",
       "      <th></th>\n",
       "    </tr>\n",
       "  </thead>\n",
       "  <tbody>\n",
       "    <tr>\n",
       "      <th>animal</th>\n",
       "      <td>50</td>\n",
       "    </tr>\n",
       "    <tr>\n",
       "      <th>human</th>\n",
       "      <td>50</td>\n",
       "    </tr>\n",
       "    <tr>\n",
       "      <th>human_voice</th>\n",
       "      <td>50</td>\n",
       "    </tr>\n",
       "    <tr>\n",
       "      <th>life</th>\n",
       "      <td>50</td>\n",
       "    </tr>\n",
       "  </tbody>\n",
       "</table>\n",
       "</div>"
      ],
      "text/plain": [
       "             name\n",
       "cate1            \n",
       "animal         50\n",
       "human          50\n",
       "human_voice    50\n",
       "life           50"
      ]
     },
     "execution_count": 22,
     "metadata": {},
     "output_type": "execute_result"
    }
   ],
   "source": [
    "### random samping으로 라벨별 test 데이터 뽑아두기\n",
    "test_df = short_df.copy()\n",
    "# test_df.drop(result_df[result_df['cate2']=='영어리딩'].index, axis=0, inplace=True)\n",
    "# test_nature = test_df[test_df['cate1']=='nature'].sample(n=80, random_state=1)\n",
    "test_human = test_df[test_df['cate1']=='human'].sample(n=50, random_state=13)\n",
    "test_life = test_df[test_df['cate1']=='life'].sample(n=50, random_state=13)\n",
    "test_animal = test_df[test_df['cate1']=='animal'].sample(n=50, random_state=13)\n",
    "test_human_voice = test_df[test_df['cate1']=='human_voice'].sample(n=50, random_state=13)\n",
    "test_df = pd.concat([test_human,test_life, test_animal, test_human_voice]) #test_nature \n",
    "test_df.groupby('cate1').count().sort_values('name')[['name']]"
   ]
  },
  {
   "cell_type": "code",
   "execution_count": 23,
   "id": "7cb536bc",
   "metadata": {},
   "outputs": [
    {
     "name": "stdout",
     "output_type": "stream",
     "text": [
      "X 개수:200, y 개수:200\n",
      "             name\n",
      "cate1            \n",
      "animal         50\n",
      "human          50\n",
      "human_voice    50\n",
      "life           50\n"
     ]
    }
   ],
   "source": [
    "X_test, y_test = make_train_test(test_df)"
   ]
  },
  {
   "cell_type": "code",
   "execution_count": 24,
   "id": "155edad2",
   "metadata": {},
   "outputs": [
    {
     "data": {
      "text/html": [
       "<div>\n",
       "<style scoped>\n",
       "    .dataframe tbody tr th:only-of-type {\n",
       "        vertical-align: middle;\n",
       "    }\n",
       "\n",
       "    .dataframe tbody tr th {\n",
       "        vertical-align: top;\n",
       "    }\n",
       "\n",
       "    .dataframe thead th {\n",
       "        text-align: right;\n",
       "    }\n",
       "</style>\n",
       "<table border=\"1\" class=\"dataframe\">\n",
       "  <thead>\n",
       "    <tr style=\"text-align: right;\">\n",
       "      <th></th>\n",
       "      <th>name</th>\n",
       "    </tr>\n",
       "    <tr>\n",
       "      <th>cate1</th>\n",
       "      <th></th>\n",
       "    </tr>\n",
       "  </thead>\n",
       "  <tbody>\n",
       "    <tr>\n",
       "      <th>life</th>\n",
       "      <td>99</td>\n",
       "    </tr>\n",
       "    <tr>\n",
       "      <th>animal</th>\n",
       "      <td>341</td>\n",
       "    </tr>\n",
       "    <tr>\n",
       "      <th>human</th>\n",
       "      <td>513</td>\n",
       "    </tr>\n",
       "    <tr>\n",
       "      <th>human_voice</th>\n",
       "      <td>9548</td>\n",
       "    </tr>\n",
       "  </tbody>\n",
       "</table>\n",
       "</div>"
      ],
      "text/plain": [
       "             name\n",
       "cate1            \n",
       "life           99\n",
       "animal        341\n",
       "human         513\n",
       "human_voice  9548"
      ]
     },
     "execution_count": 24,
     "metadata": {},
     "output_type": "execute_result"
    }
   ],
   "source": [
    "train_df = short_df.drop(test_df.index, axis=0)\n",
    "train_df.groupby('cate1').count().sort_values('name')[['name']]"
   ]
  },
  {
   "cell_type": "markdown",
   "id": "4bc721d3",
   "metadata": {},
   "source": [
    "### 1. 5개의 라벨을 모두 같은 개수로 맞춰서 테스트\n",
    "- groupby().sample\n",
    "- RandomUnderSampler"
   ]
  },
  {
   "cell_type": "code",
   "execution_count": 25,
   "id": "10423dcd",
   "metadata": {},
   "outputs": [
    {
     "name": "stdout",
     "output_type": "stream",
     "text": [
      "X 개수:328, y 개수:328\n",
      "             name\n",
      "cate1            \n",
      "animal         82\n",
      "human          82\n",
      "human_voice    82\n",
      "life           82\n",
      "------------------------\n",
      "X 개수:528, y 개수:528\n",
      "             name\n",
      "cate1            \n",
      "animal        132\n",
      "human         132\n",
      "human_voice   132\n",
      "life          132\n"
     ]
    }
   ],
   "source": [
    "# 방법1: pandas의 groupby().sample으로 라벨별 개수 맞추기\n",
    "try1_df = train_df.groupby('cate1').sample(n=82, random_state=13)\n",
    "X_train, y_train = make_train_test(try1_df)\n",
    "print('------------------------')\n",
    "X, y = make_train_test(pd.concat([test_df, try1_df]))"
   ]
  },
  {
   "cell_type": "code",
   "execution_count": 112,
   "id": "1dfc534d",
   "metadata": {
    "scrolled": false
   },
   "outputs": [
    {
     "name": "stdout",
     "output_type": "stream",
     "text": [
      "---------LogisticRegression---------------\n",
      "accuracy: 0.47\n",
      "recall: 0.47\n",
      "f1 score: 0.429884\n"
     ]
    },
    {
     "data": {
      "image/png": "[encoded data removed]",
      "text/plain": [
       "<Figure size 432x288 with 2 Axes>"
      ]
     },
     "metadata": {
      "needs_background": "light"
     },
     "output_type": "display_data"
    },
    {
     "name": "stdout",
     "output_type": "stream",
     "text": [
      "---------DecisionTreeClassifier---------------\n",
      "accuracy: 0.78\n",
      "recall: 0.78\n",
      "f1 score: 0.780586\n"
     ]
    },
    {
     "data": {
      "image/png": "[encoded data removed]",
      "text/plain": [
       "<Figure size 432x288 with 2 Axes>"
      ]
     },
     "metadata": {
      "needs_background": "light"
     },
     "output_type": "display_data"
    },
    {
     "name": "stdout",
     "output_type": "stream",
     "text": [
      "---------XGBClassifier---------------\n",
      "accuracy: 0.93\n",
      "recall: 0.93\n",
      "f1 score: 0.930028\n"
     ]
    },
    {
     "data": {
      "image/png": "[encoded data removed]",
      "text/plain": [
       "<Figure size 432x288 with 2 Axes>"
      ]
     },
     "metadata": {
      "needs_background": "light"
     },
     "output_type": "display_data"
    },
    {
     "name": "stdout",
     "output_type": "stream",
     "text": [
      "---------RandomForestClassifier---------------\n",
      "accuracy: 0.89\n",
      "recall: 0.89\n",
      "f1 score: 0.890247\n"
     ]
    },
    {
     "data": {
      "image/png": "[encoded data removed]",
      "text/plain": [
       "<Figure size 432x288 with 2 Axes>"
      ]
     },
     "metadata": {
      "needs_background": "light"
     },
     "output_type": "display_data"
    }
   ],
   "source": [
    "print(\"---------LogisticRegression---------------\")\n",
    "lr_model, lr_y_pred = model_fit_kfold(LogisticRegression())\n",
    "print(\"---------DecisionTreeClassifier---------------\")\n",
    "dt_model, dt_y_pred = model_fit_kfold(DecisionTreeClassifier())\n",
    "print(\"---------XGBClassifier---------------\")\n",
    "xgb_model, xgb_y_pred = model_fit_kfold(XGBClassifier(num_class=5,\n",
    "                                           learning_rate=0.1,\n",
    "                                           eval_metric='mlogloss'))\n",
    "print(\"---------RandomForestClassifier---------------\")\n",
    "rf_model, rf_y_pred = model_fit_kfold(RandomForestClassifier(n_estimators=10, random_state=13, oob_score=True))"
   ]
  },
  {
   "cell_type": "code",
   "execution_count": 27,
   "id": "9d764413",
   "metadata": {},
   "outputs": [
    {
     "name": "stdout",
     "output_type": "stream",
     "text": [
      "---------RandomForestClassifier---------------\n",
      "accuracy: 0.89\n",
      "recall: 0.89\n",
      "f1 score: 0.890178\n"
     ]
    },
    {
     "data": {
      "image/png": "[encoded data removed]",
      "text/plain": [
       "<Figure size 432x288 with 2 Axes>"
      ]
     },
     "metadata": {
      "needs_background": "light"
     },
     "output_type": "display_data"
    },
    {
     "data": {
      "text/plain": [
       "['models/RF_under3s_89.pkl']"
      ]
     },
     "execution_count": 27,
     "metadata": {},
     "output_type": "execute_result"
    }
   ],
   "source": [
    "print(\"---------RandomForestClassifier---------------\")\n",
    "rf_model, rf_y_pred = model_fit_kfold(RandomForestClassifier(n_estimators=10, random_state=13, oob_score=True))\n",
    "# 모델 저장\n",
    "joblib.dump(rf_model, 'models/RF_under3s_89.pkl')"
   ]
  },
  {
   "cell_type": "markdown",
   "id": "313d4396",
   "metadata": {},
   "source": [
    "### 2. 모델 파라미터에 weights 적용하기\n",
    "- abnomal 데이터에서 oversamping, undersamping 같은 개념으로 class_weights를 주어 라벨별 불균형을 맞출 수 있음\n",
    "- 샘플링을 하지 않고, 개수가 제일 많은 human_voice을 기준점으로 두고 weights 적용\n",
    "- life\t99\n",
    "animal\t341\n",
    "human\t513\n",
    "human_voice\t9548"
   ]
  },
  {
   "cell_type": "code",
   "execution_count": 49,
   "id": "b5fde2c6",
   "metadata": {},
   "outputs": [
    {
     "name": "stdout",
     "output_type": "stream",
     "text": [
      "X 개수:10701, y 개수:10701\n",
      "             name\n",
      "cate1            \n",
      "life          149\n",
      "animal        391\n",
      "human         563\n",
      "human_voice  9598\n",
      "X 개수:200, y 개수:200\n",
      "             name\n",
      "cate1            \n",
      "animal         50\n",
      "human          50\n",
      "human_voice    50\n",
      "life           50\n"
     ]
    }
   ],
   "source": [
    "weights = {'animal': 5, 'human': 4, 'life': 6} #, 'nature': 20}\n",
    "X, y = make_train_test(short_df)\n",
    "X_test, y_test = make_train_test(test_df)\n",
    "train_df = result_df.drop(test_df.index, axis=0)\n",
    "\n",
    "print(\"---------LogisticRegression---------------\")\n",
    "lr_model, lr_y_pred = model_fit_kfold(LogisticRegression(class_weight=weights))\n",
    "print(\"---------DecisionTreeClassifier---------------\")\n",
    "dt_model, dt_y_pred = model_fit_kfold(DecisionTreeClassifier(class_weight=weights))\n",
    "print(\"---------XGBClassifier---------------\")\n",
    "xgb_model, xgb_y_pred = model_fit_kfold(XGBClassifier(num_class=5,\n",
    "                                           learning_rate=0.1,\n",
    "                                           eval_metric='mlogloss',\n",
    "                                           scale_pos_weight=10))\n",
    "print(\"---------RandomForestClassifier---------------\")\n",
    "rf_model, rf_y_pred = model_fit_kfold(RandomForestClassifier(class_weight=weights,\n",
    "                                                             n_estimators=10, random_state=13, oob_score=True))"
   ]
  },
  {
   "cell_type": "markdown",
   "id": "abb553eb",
   "metadata": {},
   "source": [
    "### 3. oversamping - imblearn.ADASYN\n",
    "- SMOTE에 비해 ADASYN이 조금 더 사실적으로 데이터 간의 분산을 넣어 오버샘플링해준다 함"
   ]
  },
  {
   "cell_type": "code",
   "execution_count": 32,
   "id": "dfdd1196",
   "metadata": {},
   "outputs": [
    {
     "name": "stdout",
     "output_type": "stream",
     "text": [
      "X 개수:200, y 개수:200\n",
      "             name\n",
      "cate1            \n",
      "animal         50\n",
      "human          50\n",
      "human_voice    50\n",
      "life           50\n",
      "X 개수:10501, y 개수:10501\n",
      "             name\n",
      "cate1            \n",
      "life           99\n",
      "animal        341\n",
      "human         513\n",
      "human_voice  9548\n"
     ]
    },
    {
     "data": {
      "text/html": [
       "<div>\n",
       "<style scoped>\n",
       "    .dataframe tbody tr th:only-of-type {\n",
       "        vertical-align: middle;\n",
       "    }\n",
       "\n",
       "    .dataframe tbody tr th {\n",
       "        vertical-align: top;\n",
       "    }\n",
       "\n",
       "    .dataframe thead th {\n",
       "        text-align: right;\n",
       "    }\n",
       "</style>\n",
       "<table border=\"1\" class=\"dataframe\">\n",
       "  <thead>\n",
       "    <tr style=\"text-align: right;\">\n",
       "      <th></th>\n",
       "      <th>index</th>\n",
       "    </tr>\n",
       "    <tr>\n",
       "      <th>cate1</th>\n",
       "      <th></th>\n",
       "    </tr>\n",
       "  </thead>\n",
       "  <tbody>\n",
       "    <tr>\n",
       "      <th>animal</th>\n",
       "      <td>9485</td>\n",
       "    </tr>\n",
       "    <tr>\n",
       "      <th>human</th>\n",
       "      <td>9533</td>\n",
       "    </tr>\n",
       "    <tr>\n",
       "      <th>human_voice</th>\n",
       "      <td>9548</td>\n",
       "    </tr>\n",
       "    <tr>\n",
       "      <th>life</th>\n",
       "      <td>9528</td>\n",
       "    </tr>\n",
       "  </tbody>\n",
       "</table>\n",
       "</div>"
      ],
      "text/plain": [
       "             index\n",
       "cate1             \n",
       "animal        9485\n",
       "human         9533\n",
       "human_voice   9548\n",
       "life          9528"
      ]
     },
     "execution_count": 32,
     "metadata": {},
     "output_type": "execute_result"
    }
   ],
   "source": [
    "X_test, y_test = make_train_test(test_df)\n",
    "train_df = short_df.drop(test_df.index, axis=0)\n",
    "X_train, y_train = make_train_test(train_df)\n",
    "X_train, y_train = ADASYN(random_state=1).fit_resample(X_train, y_train) # oversamping\n",
    "y_train.reset_index().groupby('cate1').count()"
   ]
  },
  {
   "cell_type": "code",
   "execution_count": 52,
   "id": "e97554e8",
   "metadata": {
    "scrolled": false
   },
   "outputs": [
    {
     "name": "stdout",
     "output_type": "stream",
     "text": [
      "---------LogisticRegression---------------\n",
      "accuracy: 0.5\n",
      "recall: 0.5\n",
      "f1 score: 0.422563\n",
      "Cross Validation Score: [0.52526439 0.51142447 0.52696174 0.53936545 0.54557326]\n"
     ]
    },
    {
     "data": {
      "image/png": "[encoded data removed]",
      "text/plain": [
       "<Figure size 432x288 with 2 Axes>"
      ]
     },
     "metadata": {
      "needs_background": "light"
     },
     "output_type": "display_data"
    },
    {
     "name": "stdout",
     "output_type": "stream",
     "text": [
      "---------DecisionTreeClassifier---------------\n",
      "accuracy: 0.79\n",
      "recall: 0.79\n",
      "f1 score: 0.785935\n",
      "Cross Validation Score: [0.98746573 0.98890195 0.98733516 0.9872046  0.98916166]\n"
     ]
    },
    {
     "data": {
      "image/png": "[encoded data removed]",
      "text/plain": [
       "<Figure size 432x288 with 2 Axes>"
      ]
     },
     "metadata": {
      "needs_background": "light"
     },
     "output_type": "display_data"
    },
    {
     "name": "stdout",
     "output_type": "stream",
     "text": [
      "---------XGBClassifier---------------\n",
      "accuracy: 0.965\n",
      "recall: 0.965\n",
      "f1 score: 0.964677\n",
      "Cross Validation Score: [0.99869435 0.99895548 0.99778039 0.99895548 0.99882476]\n"
     ]
    },
    {
     "data": {
      "image/png": "[encoded data removed]",
      "text/plain": [
       "<Figure size 432x288 with 2 Axes>"
      ]
     },
     "metadata": {
      "needs_background": "light"
     },
     "output_type": "display_data"
    },
    {
     "name": "stdout",
     "output_type": "stream",
     "text": [
      "---------RandomForestClassifier---------------\n",
      "accuracy: 0.915\n",
      "recall: 0.915\n",
      "f1 score: 0.913763\n",
      "Cross Validation Score: [0.99686643 0.99738869 0.9966053  0.99725813 0.99764952]\n"
     ]
    },
    {
     "data": {
      "image/png": "[encoded data removed]",
      "text/plain": [
       "<Figure size 432x288 with 2 Axes>"
      ]
     },
     "metadata": {
      "needs_background": "light"
     },
     "output_type": "display_data"
    }
   ],
   "source": [
    "print(\"---------LogisticRegression---------------\")\n",
    "lr_model, lr_y_pred = model_fit_kfold(LogisticRegression())\n",
    "print(\"---------DecisionTreeClassifier---------------\")\n",
    "dt_model, dt_y_pred = model_fit_kfold(DecisionTreeClassifier())\n",
    "print(\"---------XGBClassifier---------------\")\n",
    "xgb_model, xgb_y_pred = model_fit_kfold(XGBClassifier(num_class=5,\n",
    "                                           learning_rate=0.1,\n",
    "                                           eval_metric='mlogloss'))\n",
    "print(\"---------RandomForestClassifier---------------\")\n",
    "rf_model, rf_y_pred = model_fit_kfold(RandomForestClassifier(n_estimators=10, random_state=13, oob_score=True))"
   ]
  },
  {
   "cell_type": "code",
   "execution_count": 34,
   "id": "7e2f4c19",
   "metadata": {},
   "outputs": [
    {
     "name": "stdout",
     "output_type": "stream",
     "text": [
      "---------RandomForestClassifier---------------\n",
      "accuracy: 0.93\n",
      "recall: 0.93\n",
      "f1 score: 0.929704\n"
     ]
    },
    {
     "data": {
      "image/png": "[encoded data removed]",
      "text/plain": [
       "<Figure size 432x288 with 2 Axes>"
      ]
     },
     "metadata": {
      "needs_background": "light"
     },
     "output_type": "display_data"
    },
    {
     "data": {
      "text/plain": [
       "['models/RF_under3s_oversampling_93.pkl']"
      ]
     },
     "execution_count": 34,
     "metadata": {},
     "output_type": "execute_result"
    }
   ],
   "source": [
    "print(\"---------RandomForestClassifier---------------\")\n",
    "rf_model, rf_y_pred = model_fit_kfold(RandomForestClassifier(n_estimators=10, random_state=13, oob_score=True))\n",
    "# 모델 저장: 정확도 88~93\n",
    "joblib.dump(rf_model, 'models/RF_under3s_oversampling_93.pkl')"
   ]
  },
  {
   "cell_type": "code",
   "execution_count": null,
   "id": "9adf3d46",
   "metadata": {},
   "outputs": [],
   "source": []
  },
  {
   "cell_type": "markdown",
   "id": "642f49d8",
   "metadata": {},
   "source": [
    "---\n",
    "# long_df\n",
    "- 노래 길이 백분위 50% 이상 데이터 기준"
   ]
  },
  {
   "cell_type": "code",
   "execution_count": 35,
   "id": "3fec0cfd",
   "metadata": {},
   "outputs": [
    {
     "name": "stdout",
     "output_type": "stream",
     "text": [
      "10703\n",
      "cate1\n",
      "animal          968\n",
      "human           342\n",
      "human_voice    8127\n",
      "life           1060\n",
      "nature          206\n",
      "Name: duration, dtype: int64\n",
      "count    10703.000000\n",
      "mean         5.179331\n",
      "std          1.744195\n",
      "min          3.780000\n",
      "25%          4.272472\n",
      "50%          4.922630\n",
      "75%          5.220000\n",
      "max         19.957551\n",
      "Name: duration, dtype: float64\n"
     ]
    },
    {
     "data": {
      "image/png": "[encoded data removed]",
      "text/plain": [
       "<Figure size 432x288 with 1 Axes>"
      ]
     },
     "metadata": {
      "needs_background": "light"
     },
     "output_type": "display_data"
    }
   ],
   "source": [
    "long_df = final_df[final_df['duration']>=np.percentile(final_df['duration'], 50)]#[final_df['duration']<=np.percentile(final_df['duration'], 75)]\n",
    "print(len(long_df))\n",
    "print(long_df.groupby('cate1')['duration'].count())\n",
    "print(long_df['duration'].describe())\n",
    "sns.boxplot(data=long_df, x='cate1', y='duration');"
   ]
  },
  {
   "cell_type": "code",
   "execution_count": 36,
   "id": "902f3af6",
   "metadata": {
    "scrolled": true
   },
   "outputs": [
    {
     "name": "stdout",
     "output_type": "stream",
     "text": [
      "X 개수:10703, y 개수:10703\n",
      "             name\n",
      "cate1            \n",
      "nature        206\n",
      "human         342\n",
      "animal        968\n",
      "life         1060\n",
      "human_voice  8127\n"
     ]
    }
   ],
   "source": [
    "X, y = make_train_test(long_df)"
   ]
  },
  {
   "cell_type": "markdown",
   "id": "e503cf82",
   "metadata": {},
   "source": [
    "## Test dataset 만들기"
   ]
  },
  {
   "cell_type": "code",
   "execution_count": 37,
   "id": "e250e939",
   "metadata": {},
   "outputs": [
    {
     "data": {
      "text/html": [
       "<div>\n",
       "<style scoped>\n",
       "    .dataframe tbody tr th:only-of-type {\n",
       "        vertical-align: middle;\n",
       "    }\n",
       "\n",
       "    .dataframe tbody tr th {\n",
       "        vertical-align: top;\n",
       "    }\n",
       "\n",
       "    .dataframe thead th {\n",
       "        text-align: right;\n",
       "    }\n",
       "</style>\n",
       "<table border=\"1\" class=\"dataframe\">\n",
       "  <thead>\n",
       "    <tr style=\"text-align: right;\">\n",
       "      <th></th>\n",
       "      <th>name</th>\n",
       "    </tr>\n",
       "    <tr>\n",
       "      <th>cate1</th>\n",
       "      <th></th>\n",
       "    </tr>\n",
       "  </thead>\n",
       "  <tbody>\n",
       "    <tr>\n",
       "      <th>animal</th>\n",
       "      <td>100</td>\n",
       "    </tr>\n",
       "    <tr>\n",
       "      <th>human</th>\n",
       "      <td>100</td>\n",
       "    </tr>\n",
       "    <tr>\n",
       "      <th>human_voice</th>\n",
       "      <td>100</td>\n",
       "    </tr>\n",
       "    <tr>\n",
       "      <th>life</th>\n",
       "      <td>100</td>\n",
       "    </tr>\n",
       "  </tbody>\n",
       "</table>\n",
       "</div>"
      ],
      "text/plain": [
       "             name\n",
       "cate1            \n",
       "animal        100\n",
       "human         100\n",
       "human_voice   100\n",
       "life          100"
      ]
     },
     "execution_count": 37,
     "metadata": {},
     "output_type": "execute_result"
    }
   ],
   "source": [
    "### random samping으로 라벨별 test 데이터 뽑아두기\n",
    "test_df = long_df.copy()\n",
    "# test_df.drop(result_df[result_df['cate2']=='영어리딩'].index, axis=0, inplace=True)\n",
    "# test_nature = test_df[test_df['cate1']=='nature'].sample(n=10, random_state=1)\n",
    "test_human = test_df[test_df['cate1']=='human'].sample(n=100, random_state=1)\n",
    "test_life = test_df[test_df['cate1']=='life'].sample(n=100, random_state=1)\n",
    "test_animal = test_df[test_df['cate1']=='animal'].sample(n=100, random_state=1)\n",
    "test_human_voice = test_df[test_df['cate1']=='human_voice'].sample(n=100, random_state=1)\n",
    "test_df = pd.concat([test_human, test_life, test_animal, test_human_voice]) #test_nature, \n",
    "test_df.groupby('cate1').count().sort_values('name')[['name']]"
   ]
  },
  {
   "cell_type": "code",
   "execution_count": 38,
   "id": "3e30cd37",
   "metadata": {},
   "outputs": [
    {
     "name": "stdout",
     "output_type": "stream",
     "text": [
      "X 개수:400, y 개수:400\n",
      "             name\n",
      "cate1            \n",
      "animal        100\n",
      "human         100\n",
      "human_voice   100\n",
      "life          100\n"
     ]
    }
   ],
   "source": [
    "X_test, y_test = make_train_test(test_df)"
   ]
  },
  {
   "cell_type": "code",
   "execution_count": 39,
   "id": "60aa0fdb",
   "metadata": {},
   "outputs": [
    {
     "data": {
      "text/html": [
       "<div>\n",
       "<style scoped>\n",
       "    .dataframe tbody tr th:only-of-type {\n",
       "        vertical-align: middle;\n",
       "    }\n",
       "\n",
       "    .dataframe tbody tr th {\n",
       "        vertical-align: top;\n",
       "    }\n",
       "\n",
       "    .dataframe thead th {\n",
       "        text-align: right;\n",
       "    }\n",
       "</style>\n",
       "<table border=\"1\" class=\"dataframe\">\n",
       "  <thead>\n",
       "    <tr style=\"text-align: right;\">\n",
       "      <th></th>\n",
       "      <th>name</th>\n",
       "    </tr>\n",
       "    <tr>\n",
       "      <th>cate1</th>\n",
       "      <th></th>\n",
       "    </tr>\n",
       "  </thead>\n",
       "  <tbody>\n",
       "    <tr>\n",
       "      <th>nature</th>\n",
       "      <td>206</td>\n",
       "    </tr>\n",
       "    <tr>\n",
       "      <th>human</th>\n",
       "      <td>242</td>\n",
       "    </tr>\n",
       "    <tr>\n",
       "      <th>animal</th>\n",
       "      <td>868</td>\n",
       "    </tr>\n",
       "    <tr>\n",
       "      <th>life</th>\n",
       "      <td>960</td>\n",
       "    </tr>\n",
       "    <tr>\n",
       "      <th>human_voice</th>\n",
       "      <td>8027</td>\n",
       "    </tr>\n",
       "  </tbody>\n",
       "</table>\n",
       "</div>"
      ],
      "text/plain": [
       "             name\n",
       "cate1            \n",
       "nature        206\n",
       "human         242\n",
       "animal        868\n",
       "life          960\n",
       "human_voice  8027"
      ]
     },
     "execution_count": 39,
     "metadata": {},
     "output_type": "execute_result"
    }
   ],
   "source": [
    "train_df = long_df.drop(test_df.index, axis=0)\n",
    "train_df.groupby('cate1').count().sort_values('name')[['name']]"
   ]
  },
  {
   "cell_type": "markdown",
   "id": "cf05a363",
   "metadata": {},
   "source": [
    "### 1. 5개의 라벨을 모두 같은 개수로 맞춰서 테스트\n",
    "- groupby().sample\n",
    "- RandomUnderSampler"
   ]
  },
  {
   "cell_type": "code",
   "execution_count": 40,
   "id": "44f47c0e",
   "metadata": {},
   "outputs": [
    {
     "name": "stdout",
     "output_type": "stream",
     "text": [
      "X 개수:1030, y 개수:1030\n",
      "             name\n",
      "cate1            \n",
      "animal        206\n",
      "human         206\n",
      "human_voice   206\n",
      "life          206\n",
      "nature        206\n",
      "------------------------\n",
      "X 개수:1430, y 개수:1430\n",
      "             name\n",
      "cate1            \n",
      "nature        206\n",
      "animal        306\n",
      "human         306\n",
      "human_voice   306\n",
      "life          306\n"
     ]
    }
   ],
   "source": [
    "# 방법1: pandas의 groupby().sample으로 라벨별 개수 맞추기\n",
    "try1_df = train_df.groupby('cate1').sample(n=206, random_state=13)\n",
    "X_train, y_train = make_train_test(try1_df)\n",
    "print('------------------------')\n",
    "X, y = make_train_test(pd.concat([test_df, try1_df]))"
   ]
  },
  {
   "cell_type": "code",
   "execution_count": 140,
   "id": "aeeb634f",
   "metadata": {
    "scrolled": false
   },
   "outputs": [
    {
     "name": "stdout",
     "output_type": "stream",
     "text": [
      "---------LogisticRegression---------------\n",
      "accuracy: 0.39\n",
      "recall: 0.39\n",
      "f1 score: 0.342917\n"
     ]
    },
    {
     "data": {
      "image/png": "[encoded data removed]",
      "text/plain": [
       "<Figure size 432x288 with 2 Axes>"
      ]
     },
     "metadata": {
      "needs_background": "light"
     },
     "output_type": "display_data"
    },
    {
     "name": "stdout",
     "output_type": "stream",
     "text": [
      "---------DecisionTreeClassifier---------------\n",
      "accuracy: 0.6325\n",
      "recall: 0.6325\n",
      "f1 score: 0.65291\n"
     ]
    },
    {
     "data": {
      "image/png": "[encoded data removed]",
      "text/plain": [
       "<Figure size 432x288 with 2 Axes>"
      ]
     },
     "metadata": {
      "needs_background": "light"
     },
     "output_type": "display_data"
    },
    {
     "name": "stdout",
     "output_type": "stream",
     "text": [
      "---------XGBClassifier---------------\n",
      "accuracy: 0.7125\n",
      "recall: 0.7125\n",
      "f1 score: 0.72857\n"
     ]
    },
    {
     "data": {
      "image/png": "[encoded data removed]",
      "text/plain": [
       "<Figure size 432x288 with 2 Axes>"
      ]
     },
     "metadata": {
      "needs_background": "light"
     },
     "output_type": "display_data"
    },
    {
     "name": "stdout",
     "output_type": "stream",
     "text": [
      "---------RandomForestClassifier---------------\n",
      "accuracy: 0.6375\n",
      "recall: 0.6375\n",
      "f1 score: 0.654289\n"
     ]
    },
    {
     "data": {
      "image/png": "[encoded data removed]",
      "text/plain": [
       "<Figure size 432x288 with 2 Axes>"
      ]
     },
     "metadata": {
      "needs_background": "light"
     },
     "output_type": "display_data"
    }
   ],
   "source": [
    "print(\"---------LogisticRegression---------------\")\n",
    "lr_model, lr_y_pred = model_fit_kfold(LogisticRegression())\n",
    "print(\"---------DecisionTreeClassifier---------------\")\n",
    "dt_model, dt_y_pred = model_fit_kfold(DecisionTreeClassifier())\n",
    "print(\"---------XGBClassifier---------------\")\n",
    "xgb_model, xgb_y_pred = model_fit_kfold(XGBClassifier(num_class=5,\n",
    "                                           learning_rate=0.1,\n",
    "                                           eval_metric='mlogloss'))\n",
    "print(\"---------RandomForestClassifier---------------\")\n",
    "rf_model, rf_y_pred = model_fit_kfold(RandomForestClassifier(n_estimators=10, random_state=13, oob_score=True))"
   ]
  },
  {
   "cell_type": "code",
   "execution_count": 42,
   "id": "cdd31f04",
   "metadata": {},
   "outputs": [
    {
     "name": "stdout",
     "output_type": "stream",
     "text": [
      "---------RandomForestClassifier---------------\n",
      "accuracy: 0.64\n",
      "recall: 0.64\n",
      "f1 score: 0.658059\n"
     ]
    },
    {
     "data": {
      "image/png": "[encoded data removed]",
      "text/plain": [
       "<Figure size 432x288 with 2 Axes>"
      ]
     },
     "metadata": {
      "needs_background": "light"
     },
     "output_type": "display_data"
    },
    {
     "data": {
      "text/plain": [
       "['models/RF_over3s_64.pkl']"
      ]
     },
     "execution_count": 42,
     "metadata": {},
     "output_type": "execute_result"
    }
   ],
   "source": [
    "print(\"---------RandomForestClassifier---------------\")\n",
    "rf_model, rf_y_pred = model_fit_kfold(RandomForestClassifier(n_estimators=10, random_state=13, oob_score=True))\n",
    "# 모델 저장: 정확도 64\n",
    "joblib.dump(rf_model, 'models/RF_over3s_64.pkl')"
   ]
  },
  {
   "cell_type": "markdown",
   "id": "a038c276",
   "metadata": {},
   "source": [
    "### 2. 모델 파라미터에 weights 적용하기\n",
    "- abnomal 데이터에서 oversamping, undersamping 같은 개념으로 class_weights를 주어 라벨별 불균형을 맞출 수 있음\n",
    "- 샘플링을 하지 않고, 개수가 제일 많은 human_voice을 기준점으로 두고 weights 적용\n",
    "- life\t91\n",
    "human\t308\n",
    "animal\t521\n",
    "human_voice\t10870"
   ]
  },
  {
   "cell_type": "code",
   "execution_count": 187,
   "id": "6fefe251",
   "metadata": {},
   "outputs": [
    {
     "name": "stdout",
     "output_type": "stream",
     "text": [
      "X 개수:10020, y 개수:10020\n",
      "             name\n",
      "cate1            \n",
      "nature        206\n",
      "human         404\n",
      "life          995\n",
      "animal       1371\n",
      "human_voice  7044\n",
      "X 개수:450, y 개수:450\n",
      "             name\n",
      "cate1            \n",
      "life           50\n",
      "animal        100\n",
      "human_voice   100\n",
      "human         200\n"
     ]
    }
   ],
   "source": [
    "# weights = {'animal': 3, 'human': 4, 'life': 2.5} #, 'nature': 20}\n",
    "# X, y = make_train_test(long_df)\n",
    "# X_test, y_test = make_train_test(test_df)\n",
    "# train_df = result_df.drop(test_df.index, axis=0)\n",
    "\n",
    "# print(\"---------LogisticRegression---------------\")\n",
    "# lr_model, lr_y_pred = model_fit_kfold(LogisticRegression(class_weight=weights))\n",
    "# print(\"---------DecisionTreeClassifier---------------\")\n",
    "# dt_model, dt_y_pred = model_fit_kfold(DecisionTreeClassifier(class_weight=weights))\n",
    "# print(\"---------XGBClassifier---------------\")\n",
    "# xgb_model, xgb_y_pred = model_fit_kfold(XGBClassifier(num_class=5,\n",
    "#                                            learning_rate=0.1,\n",
    "#                                            eval_metric='mlogloss',\n",
    "#                                            scale_pos_weight=10))\n",
    "# print(\"---------RandomForestClassifier---------------\")\n",
    "# rf_model, rf_y_pred = model_fit_kfold(RandomForestClassifier(class_weight=weights,\n",
    "#                                                              n_estimators=10, random_state=13, oob_score=True))"
   ]
  },
  {
   "cell_type": "markdown",
   "id": "bca3a99e",
   "metadata": {},
   "source": [
    "### 3. oversamping - imblearn.ADASYN\n",
    "- SMOTE에 비해 ADASYN이 조금 더 사실적으로 데이터 간의 분산을 넣어 오버샘플링해준다 함"
   ]
  },
  {
   "cell_type": "code",
   "execution_count": 43,
   "id": "a8275cc6",
   "metadata": {},
   "outputs": [
    {
     "name": "stdout",
     "output_type": "stream",
     "text": [
      "X 개수:400, y 개수:400\n",
      "             name\n",
      "cate1            \n",
      "animal        100\n",
      "human         100\n",
      "human_voice   100\n",
      "life          100\n",
      "X 개수:10303, y 개수:10303\n",
      "             name\n",
      "cate1            \n",
      "nature        206\n",
      "human         242\n",
      "animal        868\n",
      "life          960\n",
      "human_voice  8027\n"
     ]
    },
    {
     "data": {
      "text/html": [
       "<div>\n",
       "<style scoped>\n",
       "    .dataframe tbody tr th:only-of-type {\n",
       "        vertical-align: middle;\n",
       "    }\n",
       "\n",
       "    .dataframe tbody tr th {\n",
       "        vertical-align: top;\n",
       "    }\n",
       "\n",
       "    .dataframe thead th {\n",
       "        text-align: right;\n",
       "    }\n",
       "</style>\n",
       "<table border=\"1\" class=\"dataframe\">\n",
       "  <thead>\n",
       "    <tr style=\"text-align: right;\">\n",
       "      <th></th>\n",
       "      <th>index</th>\n",
       "    </tr>\n",
       "    <tr>\n",
       "      <th>cate1</th>\n",
       "      <th></th>\n",
       "    </tr>\n",
       "  </thead>\n",
       "  <tbody>\n",
       "    <tr>\n",
       "      <th>animal</th>\n",
       "      <td>8073</td>\n",
       "    </tr>\n",
       "    <tr>\n",
       "      <th>human</th>\n",
       "      <td>8083</td>\n",
       "    </tr>\n",
       "    <tr>\n",
       "      <th>human_voice</th>\n",
       "      <td>8027</td>\n",
       "    </tr>\n",
       "    <tr>\n",
       "      <th>life</th>\n",
       "      <td>7941</td>\n",
       "    </tr>\n",
       "    <tr>\n",
       "      <th>nature</th>\n",
       "      <td>8058</td>\n",
       "    </tr>\n",
       "  </tbody>\n",
       "</table>\n",
       "</div>"
      ],
      "text/plain": [
       "             index\n",
       "cate1             \n",
       "animal        8073\n",
       "human         8083\n",
       "human_voice   8027\n",
       "life          7941\n",
       "nature        8058"
      ]
     },
     "execution_count": 43,
     "metadata": {},
     "output_type": "execute_result"
    }
   ],
   "source": [
    "X_test, y_test = make_train_test(test_df)\n",
    "train_df = long_df.drop(test_df.index, axis=0)\n",
    "X_train, y_train = make_train_test(train_df)\n",
    "X_train, y_train = ADASYN(random_state=13).fit_resample(X_train, y_train) # oversamping\n",
    "y_train.reset_index().groupby('cate1').count()"
   ]
  },
  {
   "cell_type": "code",
   "execution_count": 142,
   "id": "68a5d5d7",
   "metadata": {
    "scrolled": false
   },
   "outputs": [
    {
     "name": "stdout",
     "output_type": "stream",
     "text": [
      "---------LogisticRegression---------------\n",
      "accuracy: 0.375\n",
      "recall: 0.375\n",
      "f1 score: 0.338722\n"
     ]
    },
    {
     "data": {
      "image/png": "[encoded data removed]",
      "text/plain": [
       "<Figure size 432x288 with 2 Axes>"
      ]
     },
     "metadata": {
      "needs_background": "light"
     },
     "output_type": "display_data"
    },
    {
     "name": "stdout",
     "output_type": "stream",
     "text": [
      "---------DecisionTreeClassifier---------------\n",
      "accuracy: 0.6775\n",
      "recall: 0.6775\n",
      "f1 score: 0.680958\n"
     ]
    },
    {
     "data": {
      "image/png": "[encoded data removed]",
      "text/plain": [
       "<Figure size 432x288 with 2 Axes>"
      ]
     },
     "metadata": {
      "needs_background": "light"
     },
     "output_type": "display_data"
    },
    {
     "name": "stdout",
     "output_type": "stream",
     "text": [
      "---------XGBClassifier---------------\n",
      "accuracy: 0.8025\n",
      "recall: 0.8025\n",
      "f1 score: 0.808005\n"
     ]
    },
    {
     "data": {
      "image/png": "[encoded data removed]",
      "text/plain": [
       "<Figure size 432x288 with 2 Axes>"
      ]
     },
     "metadata": {
      "needs_background": "light"
     },
     "output_type": "display_data"
    },
    {
     "name": "stdout",
     "output_type": "stream",
     "text": [
      "---------RandomForestClassifier---------------\n",
      "accuracy: 0.75\n",
      "recall: 0.75\n",
      "f1 score: 0.755178\n"
     ]
    },
    {
     "data": {
      "image/png": "[encoded data removed]",
      "text/plain": [
       "<Figure size 432x288 with 2 Axes>"
      ]
     },
     "metadata": {
      "needs_background": "light"
     },
     "output_type": "display_data"
    }
   ],
   "source": [
    "print(\"---------LogisticRegression---------------\")\n",
    "lr_model, lr_y_pred = model_fit_kfold(LogisticRegression())\n",
    "print(\"---------DecisionTreeClassifier---------------\")\n",
    "dt_model, dt_y_pred = model_fit_kfold(DecisionTreeClassifier())\n",
    "print(\"---------XGBClassifier---------------\")\n",
    "xgb_model, xgb_y_pred = model_fit_kfold(XGBClassifier(num_class=5,\n",
    "                                           learning_rate=0.1,\n",
    "                                           eval_metric='mlogloss'))\n",
    "print(\"---------RandomForestClassifier---------------\")\n",
    "rf_model, rf_y_pred = model_fit_kfold(RandomForestClassifier(n_estimators=10, random_state=13, oob_score=True))"
   ]
  },
  {
   "cell_type": "code",
   "execution_count": 44,
   "id": "1c743e77",
   "metadata": {},
   "outputs": [
    {
     "name": "stdout",
     "output_type": "stream",
     "text": [
      "---------RandomForestClassifier---------------\n",
      "accuracy: 0.7575\n",
      "recall: 0.7575\n",
      "f1 score: 0.764255\n"
     ]
    },
    {
     "data": {
      "image/png": "[encoded data removed]",
      "text/plain": [
       "<Figure size 432x288 with 2 Axes>"
      ]
     },
     "metadata": {
      "needs_background": "light"
     },
     "output_type": "display_data"
    },
    {
     "data": {
      "text/plain": [
       "['models/RF_over3s_oversampling_75.pkl']"
      ]
     },
     "execution_count": 44,
     "metadata": {},
     "output_type": "execute_result"
    }
   ],
   "source": [
    "print(\"---------RandomForestClassifier---------------\")\n",
    "rf_model, rf_y_pred = model_fit_kfold(RandomForestClassifier(n_estimators=10, random_state=13, oob_score=True))\n",
    "# 모델 저장: 정확도 75\n",
    "joblib.dump(rf_model, 'models/RF_over3s_oversampling_75.pkl')"
   ]
  },
  {
   "cell_type": "markdown",
   "id": "2126a13a",
   "metadata": {},
   "source": [
    "---\n",
    "## 모델 저장하기\n",
    "- short song\n",
    "- long song"
   ]
  }
 ],
 "metadata": {
  "kernelspec": {
   "display_name": "nlp",
   "language": "python",
   "name": "nlp"
  },
  "language_info": {
   "codemirror_mode": {
    "name": "ipython",
    "version": 3
   },
   "file_extension": ".py",
   "mimetype": "text/x-python",
   "name": "python",
   "nbconvert_exporter": "python",
   "pygments_lexer": "ipython3",
   "version": "3.8.8"
  }
 },
 "nbformat": 4,
 "nbformat_minor": 5
}
